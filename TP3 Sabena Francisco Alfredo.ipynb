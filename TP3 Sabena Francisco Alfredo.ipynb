{
 "cells": [
  {
   "cell_type": "markdown",
   "metadata": {},
   "source": [
    "### Checklist de evaluación\n",
    "Sugerencias para desarrollar el proyecto:\n",
    "\n",
    "La resolución del proyecto te puede enfrentar a desafíos que no trabajamos durante los encuentros. Es importante que desarrolles la capacidad de resolverlos. Para ello, consulta las bitácoras, las referencias, los notebooks vistos en clase, la documentación de la librería y, sobre todo, googlea.\n",
    "Los pasos deben estar correctamente justificados.\n",
    "Las preguntas que se respondan deben estar correctamente explicitadas.\n",
    "Imagina que este proyecto lo usarías para presentar en una entrevista de trabajo, o que lo debes presentar en tu trabajo. Presta mucha atención a la redacción, presentación de gráficos, etc.\n",
    "Antes de subir tu proyecto a la plataforma Acámica para que sea evaluado, verifica que el Notebook se ejecute sin errores. Además, asegúrate de cumplir con las siguientes condiciones (son las que los/as evaluadores/as tendrán en consideración al momento de corregir tu trabajo):\n",
    "\n",
    "#### Parte A - Exploración de Datos\n",
    "\n",
    "1- El Análisis Exploratorio de Datos debe servir para comprender el dataset y todo el flujo de trabajo que le siga.\n",
    "2- Debes responder al menos una pregunta original con este dataset. La pregunta debe estar correctamente explicitada.\n",
    "#### Parte B - Modelo de Machine Learning\n",
    "\n",
    "1- Debes evaluar correctamente el modelo que realices. Esto implica un correcto manejo de datos de Train y Test, elegir una métrica apropiada y justificar su elección, y comparar los resultados contra un modelo benchmark.\n",
    "\n",
    "2- Puedes aplicar más de una de las técnicas vistas para crear tus modelos. Pero ten en cuenta que es preferible un modelo bien hecho (apropiada transformación de datos, optimización de hiperparámetros y análisis de sus resultados) que muchos modelos a medias. En caso de entrenar más de un modelo, debes comparar sus resultados y justificar cuál elegirías.\n",
    "\n",
    "3- Si el modelo lo permite, debes explorar qué información utiliza para predecir e interpretar ese resultado. ¿Coincide con lo que esperabas a partir de tu experiencia con el dataset?\n",
    "#### Parte C - Investigación\n",
    "\n",
    "1- Debes explicar qué te gustaría probar, por qué y cómo lo harías. Si tienes referencias (por ejemplo, un artículo que hayas encontrado, capítulo de libro, etc.), debes mencionarlas.\n",
    "\n",
    "2- Debes comentar también qué resultados esperas encontrar. Por ejemplo, puedes implementar una prueba rápida y mostrar resultados preliminares, para ver si estás correctamente orientado."
   ]
  },
  {
   "cell_type": "code",
   "execution_count": 151,
   "metadata": {},
   "outputs": [],
   "source": [
    "import pandas as pd\n",
    "from pandas import DataFrame\n",
    "import numpy as np\n",
    "import matplotlib.pyplot as plt\n",
    "import statsmodels.api as sm\n",
    "import seaborn as sns\n",
    "import nltk\n",
    "from nltk.corpus import stopwords\n",
    "from nltk.stem import PorterStemmer\n",
    "from nltk.stem import WordNetLemmatizer\n",
    "import itertools"
   ]
  },
  {
   "cell_type": "code",
   "execution_count": 2,
   "metadata": {},
   "outputs": [],
   "source": [
    "data=pd.read_json(r'C:\\Users\\Alfredo\\Bitácoras\\dataset_es_dev.json',lines=True)"
   ]
  },
  {
   "cell_type": "code",
   "execution_count": 3,
   "metadata": {},
   "outputs": [
    {
     "data": {
      "text/html": [
       "<div>\n",
       "<style scoped>\n",
       "    .dataframe tbody tr th:only-of-type {\n",
       "        vertical-align: middle;\n",
       "    }\n",
       "\n",
       "    .dataframe tbody tr th {\n",
       "        vertical-align: top;\n",
       "    }\n",
       "\n",
       "    .dataframe thead th {\n",
       "        text-align: right;\n",
       "    }\n",
       "</style>\n",
       "<table border=\"1\" class=\"dataframe\">\n",
       "  <thead>\n",
       "    <tr style=\"text-align: right;\">\n",
       "      <th></th>\n",
       "      <th>review_id</th>\n",
       "      <th>product_id</th>\n",
       "      <th>reviewer_id</th>\n",
       "      <th>stars</th>\n",
       "      <th>review_body</th>\n",
       "      <th>review_title</th>\n",
       "      <th>language</th>\n",
       "      <th>product_category</th>\n",
       "    </tr>\n",
       "  </thead>\n",
       "  <tbody>\n",
       "    <tr>\n",
       "      <th>0</th>\n",
       "      <td>es_0417480</td>\n",
       "      <td>product_es_0873923</td>\n",
       "      <td>reviewer_es_0672978</td>\n",
       "      <td>1</td>\n",
       "      <td>Malisimo, muy grande demasiado aparatoso y mal...</td>\n",
       "      <td>Mala compra</td>\n",
       "      <td>es</td>\n",
       "      <td>wireless</td>\n",
       "    </tr>\n",
       "    <tr>\n",
       "      <th>1</th>\n",
       "      <td>es_0180432</td>\n",
       "      <td>product_es_0713146</td>\n",
       "      <td>reviewer_es_0100858</td>\n",
       "      <td>1</td>\n",
       "      <td>No he recibido el pedido no la devolución</td>\n",
       "      <td>No lo he recibido</td>\n",
       "      <td>es</td>\n",
       "      <td>apparel</td>\n",
       "    </tr>\n",
       "  </tbody>\n",
       "</table>\n",
       "</div>"
      ],
      "text/plain": [
       "    review_id          product_id          reviewer_id  stars  \\\n",
       "0  es_0417480  product_es_0873923  reviewer_es_0672978      1   \n",
       "1  es_0180432  product_es_0713146  reviewer_es_0100858      1   \n",
       "\n",
       "                                         review_body       review_title  \\\n",
       "0  Malisimo, muy grande demasiado aparatoso y mal...        Mala compra   \n",
       "1          No he recibido el pedido no la devolución  No lo he recibido   \n",
       "\n",
       "  language product_category  \n",
       "0       es         wireless  \n",
       "1       es          apparel  "
      ]
     },
     "execution_count": 3,
     "metadata": {},
     "output_type": "execute_result"
    }
   ],
   "source": [
    "data.head(2)"
   ]
  },
  {
   "cell_type": "code",
   "execution_count": 4,
   "metadata": {},
   "outputs": [],
   "source": [
    "data_train=pd.read_json(r'C:\\Users\\Alfredo\\Bitácoras\\dataset_es_train.json',lines=True)"
   ]
  },
  {
   "cell_type": "code",
   "execution_count": 5,
   "metadata": {},
   "outputs": [
    {
     "data": {
      "text/html": [
       "<div>\n",
       "<style scoped>\n",
       "    .dataframe tbody tr th:only-of-type {\n",
       "        vertical-align: middle;\n",
       "    }\n",
       "\n",
       "    .dataframe tbody tr th {\n",
       "        vertical-align: top;\n",
       "    }\n",
       "\n",
       "    .dataframe thead th {\n",
       "        text-align: right;\n",
       "    }\n",
       "</style>\n",
       "<table border=\"1\" class=\"dataframe\">\n",
       "  <thead>\n",
       "    <tr style=\"text-align: right;\">\n",
       "      <th></th>\n",
       "      <th>review_id</th>\n",
       "      <th>product_id</th>\n",
       "      <th>reviewer_id</th>\n",
       "      <th>stars</th>\n",
       "      <th>review_body</th>\n",
       "      <th>review_title</th>\n",
       "      <th>language</th>\n",
       "      <th>product_category</th>\n",
       "    </tr>\n",
       "  </thead>\n",
       "  <tbody>\n",
       "    <tr>\n",
       "      <th>0</th>\n",
       "      <td>es_0491108</td>\n",
       "      <td>product_es_0296024</td>\n",
       "      <td>reviewer_es_0999081</td>\n",
       "      <td>1</td>\n",
       "      <td>Nada bueno se me fue ka pantalla en menos de 8...</td>\n",
       "      <td>television Nevir</td>\n",
       "      <td>es</td>\n",
       "      <td>electronics</td>\n",
       "    </tr>\n",
       "    <tr>\n",
       "      <th>1</th>\n",
       "      <td>es_0869872</td>\n",
       "      <td>product_es_0922286</td>\n",
       "      <td>reviewer_es_0216771</td>\n",
       "      <td>1</td>\n",
       "      <td>Horrible, nos tuvimos que comprar otro porque ...</td>\n",
       "      <td>Dinero tirado a la basura con esta compra</td>\n",
       "      <td>es</td>\n",
       "      <td>electronics</td>\n",
       "    </tr>\n",
       "  </tbody>\n",
       "</table>\n",
       "</div>"
      ],
      "text/plain": [
       "    review_id          product_id          reviewer_id  stars  \\\n",
       "0  es_0491108  product_es_0296024  reviewer_es_0999081      1   \n",
       "1  es_0869872  product_es_0922286  reviewer_es_0216771      1   \n",
       "\n",
       "                                         review_body  \\\n",
       "0  Nada bueno se me fue ka pantalla en menos de 8...   \n",
       "1  Horrible, nos tuvimos que comprar otro porque ...   \n",
       "\n",
       "                                review_title language product_category  \n",
       "0                           television Nevir       es      electronics  \n",
       "1  Dinero tirado a la basura con esta compra       es      electronics  "
      ]
     },
     "execution_count": 5,
     "metadata": {},
     "output_type": "execute_result"
    }
   ],
   "source": [
    "data_train.head(2)"
   ]
  },
  {
   "cell_type": "code",
   "execution_count": 6,
   "metadata": {},
   "outputs": [],
   "source": [
    "data_test=pd.read_json(r'C:\\Users\\Alfredo\\Bitácoras\\dataset_es_test.json',lines=True)"
   ]
  },
  {
   "cell_type": "code",
   "execution_count": 7,
   "metadata": {},
   "outputs": [
    {
     "data": {
      "text/html": [
       "<div>\n",
       "<style scoped>\n",
       "    .dataframe tbody tr th:only-of-type {\n",
       "        vertical-align: middle;\n",
       "    }\n",
       "\n",
       "    .dataframe tbody tr th {\n",
       "        vertical-align: top;\n",
       "    }\n",
       "\n",
       "    .dataframe thead th {\n",
       "        text-align: right;\n",
       "    }\n",
       "</style>\n",
       "<table border=\"1\" class=\"dataframe\">\n",
       "  <thead>\n",
       "    <tr style=\"text-align: right;\">\n",
       "      <th></th>\n",
       "      <th>review_id</th>\n",
       "      <th>product_id</th>\n",
       "      <th>reviewer_id</th>\n",
       "      <th>stars</th>\n",
       "      <th>review_body</th>\n",
       "      <th>review_title</th>\n",
       "      <th>language</th>\n",
       "      <th>product_category</th>\n",
       "    </tr>\n",
       "  </thead>\n",
       "  <tbody>\n",
       "    <tr>\n",
       "      <th>0</th>\n",
       "      <td>es_0038754</td>\n",
       "      <td>product_es_0113523</td>\n",
       "      <td>reviewer_es_0580071</td>\n",
       "      <td>1</td>\n",
       "      <td>no me llego el articulo me lo mando por correo...</td>\n",
       "      <td>no me llego</td>\n",
       "      <td>es</td>\n",
       "      <td>wireless</td>\n",
       "    </tr>\n",
       "    <tr>\n",
       "      <th>1</th>\n",
       "      <td>es_0748979</td>\n",
       "      <td>product_es_0017036</td>\n",
       "      <td>reviewer_es_0819733</td>\n",
       "      <td>1</td>\n",
       "      <td>la mensajería horrible, no compro mas</td>\n",
       "      <td>amazon sigue sin cumplir en las entregas</td>\n",
       "      <td>es</td>\n",
       "      <td>home</td>\n",
       "    </tr>\n",
       "  </tbody>\n",
       "</table>\n",
       "</div>"
      ],
      "text/plain": [
       "    review_id          product_id          reviewer_id  stars  \\\n",
       "0  es_0038754  product_es_0113523  reviewer_es_0580071      1   \n",
       "1  es_0748979  product_es_0017036  reviewer_es_0819733      1   \n",
       "\n",
       "                                         review_body  \\\n",
       "0  no me llego el articulo me lo mando por correo...   \n",
       "1              la mensajería horrible, no compro mas   \n",
       "\n",
       "                               review_title language product_category  \n",
       "0                               no me llego       es         wireless  \n",
       "1  amazon sigue sin cumplir en las entregas       es             home  "
      ]
     },
     "execution_count": 7,
     "metadata": {},
     "output_type": "execute_result"
    }
   ],
   "source": [
    "data_test.head(2)"
   ]
  },
  {
   "cell_type": "code",
   "execution_count": 8,
   "metadata": {},
   "outputs": [
    {
     "name": "stdout",
     "output_type": "stream",
     "text": [
      "Cantidad de filas y columnas del data:  (5000, 8)\n",
      "Cantidad de filas y columnas del data test:  (5000, 8)\n",
      "Cantidad de filas y columnas del data train:  (200000, 8)\n"
     ]
    }
   ],
   "source": [
    "print('Cantidad de filas y columnas del data: ',data.shape)\n",
    "print('Cantidad de filas y columnas del data test: ',data_test.shape)\n",
    "print('Cantidad de filas y columnas del data train: ',data_train.shape)"
   ]
  },
  {
   "cell_type": "code",
   "execution_count": 9,
   "metadata": {},
   "outputs": [
    {
     "data": {
      "text/html": [
       "<div>\n",
       "<style scoped>\n",
       "    .dataframe tbody tr th:only-of-type {\n",
       "        vertical-align: middle;\n",
       "    }\n",
       "\n",
       "    .dataframe tbody tr th {\n",
       "        vertical-align: top;\n",
       "    }\n",
       "\n",
       "    .dataframe thead th {\n",
       "        text-align: right;\n",
       "    }\n",
       "</style>\n",
       "<table border=\"1\" class=\"dataframe\">\n",
       "  <thead>\n",
       "    <tr style=\"text-align: right;\">\n",
       "      <th></th>\n",
       "      <th>stars</th>\n",
       "    </tr>\n",
       "  </thead>\n",
       "  <tbody>\n",
       "    <tr>\n",
       "      <th>count</th>\n",
       "      <td>5000.000000</td>\n",
       "    </tr>\n",
       "    <tr>\n",
       "      <th>mean</th>\n",
       "      <td>3.000000</td>\n",
       "    </tr>\n",
       "    <tr>\n",
       "      <th>std</th>\n",
       "      <td>1.414355</td>\n",
       "    </tr>\n",
       "    <tr>\n",
       "      <th>min</th>\n",
       "      <td>1.000000</td>\n",
       "    </tr>\n",
       "    <tr>\n",
       "      <th>25%</th>\n",
       "      <td>2.000000</td>\n",
       "    </tr>\n",
       "    <tr>\n",
       "      <th>50%</th>\n",
       "      <td>3.000000</td>\n",
       "    </tr>\n",
       "    <tr>\n",
       "      <th>75%</th>\n",
       "      <td>4.000000</td>\n",
       "    </tr>\n",
       "    <tr>\n",
       "      <th>max</th>\n",
       "      <td>5.000000</td>\n",
       "    </tr>\n",
       "  </tbody>\n",
       "</table>\n",
       "</div>"
      ],
      "text/plain": [
       "             stars\n",
       "count  5000.000000\n",
       "mean      3.000000\n",
       "std       1.414355\n",
       "min       1.000000\n",
       "25%       2.000000\n",
       "50%       3.000000\n",
       "75%       4.000000\n",
       "max       5.000000"
      ]
     },
     "execution_count": 9,
     "metadata": {},
     "output_type": "execute_result"
    }
   ],
   "source": [
    "data.describe()"
   ]
  },
  {
   "cell_type": "markdown",
   "metadata": {},
   "source": [
    "### Are there missing values?"
   ]
  },
  {
   "cell_type": "code",
   "execution_count": 10,
   "metadata": {},
   "outputs": [
    {
     "name": "stdout",
     "output_type": "stream",
     "text": [
      "##--->  Datos faltantes de DATA: <---##\n",
      " review_id           0\n",
      "product_id          0\n",
      "reviewer_id         0\n",
      "stars               0\n",
      "review_body         0\n",
      "review_title        0\n",
      "language            0\n",
      "product_category    0\n",
      "dtype: int64\n",
      "##--->  Datos faltantes de DATA_TRAIN  <---##:\n",
      " review_id           0\n",
      "product_id          0\n",
      "reviewer_id         0\n",
      "stars               0\n",
      "review_body         0\n",
      "review_title        0\n",
      "language            0\n",
      "product_category    0\n",
      "dtype: int64\n",
      "##--->  Datos faltantes de DATA_TEST  <---##:\n",
      " review_id           0\n",
      "product_id          0\n",
      "reviewer_id         0\n",
      "stars               0\n",
      "review_body         0\n",
      "review_title        0\n",
      "language            0\n",
      "product_category    0\n",
      "dtype: int64\n"
     ]
    }
   ],
   "source": [
    "print(\"##--->  Datos faltantes de DATA: <---##\\n\",data.isna().sum())\n",
    "print(\"##--->  Datos faltantes de DATA_TRAIN  <---##:\\n\",data_train.isna().sum())\n",
    "print(\"##--->  Datos faltantes de DATA_TEST  <---##:\\n\",data_test.isna().sum())"
   ]
  },
  {
   "cell_type": "code",
   "execution_count": 11,
   "metadata": {},
   "outputs": [
    {
     "name": "stdout",
     "output_type": "stream",
     "text": [
      "##--->  INFO de DATA:  <---##\n",
      "\n",
      "<class 'pandas.core.frame.DataFrame'>\n",
      "RangeIndex: 5000 entries, 0 to 4999\n",
      "Data columns (total 8 columns):\n",
      " #   Column            Non-Null Count  Dtype \n",
      "---  ------            --------------  ----- \n",
      " 0   review_id         5000 non-null   object\n",
      " 1   product_id        5000 non-null   object\n",
      " 2   reviewer_id       5000 non-null   object\n",
      " 3   stars             5000 non-null   int64 \n",
      " 4   review_body       5000 non-null   object\n",
      " 5   review_title      5000 non-null   object\n",
      " 6   language          5000 non-null   object\n",
      " 7   product_category  5000 non-null   object\n",
      "dtypes: int64(1), object(7)\n",
      "memory usage: 312.6+ KB\n",
      "\n",
      "##--->  INFO de DATA_TRAIN  <---##:\n",
      "\n",
      "<class 'pandas.core.frame.DataFrame'>\n",
      "RangeIndex: 200000 entries, 0 to 199999\n",
      "Data columns (total 8 columns):\n",
      " #   Column            Non-Null Count   Dtype \n",
      "---  ------            --------------   ----- \n",
      " 0   review_id         200000 non-null  object\n",
      " 1   product_id        200000 non-null  object\n",
      " 2   reviewer_id       200000 non-null  object\n",
      " 3   stars             200000 non-null  int64 \n",
      " 4   review_body       200000 non-null  object\n",
      " 5   review_title      200000 non-null  object\n",
      " 6   language          200000 non-null  object\n",
      " 7   product_category  200000 non-null  object\n",
      "dtypes: int64(1), object(7)\n",
      "memory usage: 12.2+ MB\n",
      "\n",
      "##--->  INFO de DATA_TEST  <---##:\n",
      "\n",
      "<class 'pandas.core.frame.DataFrame'>\n",
      "RangeIndex: 5000 entries, 0 to 4999\n",
      "Data columns (total 8 columns):\n",
      " #   Column            Non-Null Count  Dtype \n",
      "---  ------            --------------  ----- \n",
      " 0   review_id         5000 non-null   object\n",
      " 1   product_id        5000 non-null   object\n",
      " 2   reviewer_id       5000 non-null   object\n",
      " 3   stars             5000 non-null   int64 \n",
      " 4   review_body       5000 non-null   object\n",
      " 5   review_title      5000 non-null   object\n",
      " 6   language          5000 non-null   object\n",
      " 7   product_category  5000 non-null   object\n",
      "dtypes: int64(1), object(7)\n",
      "memory usage: 312.6+ KB\n"
     ]
    }
   ],
   "source": [
    "print(\"##--->  INFO de DATA:  <---##\\n\")\n",
    "data.info()\n",
    "print(\"\\n##--->  INFO de DATA_TRAIN  <---##:\\n\")\n",
    "data_train.info()\n",
    "print(\"\\n##--->  INFO de DATA_TEST  <---##:\\n\")\n",
    "data_test.info()"
   ]
  },
  {
   "cell_type": "markdown",
   "metadata": {},
   "source": [
    "# Concatenating all data frames\n",
    "### Genero ademas un dataset que contenga el 30 porciento de cada uno de los puntajes, para no tener que trabajar con un data frame tan extenso, ni tan chico.\n",
    "<img src=https://www.analyticslane.com/wp-content/uploads/2018/08/t-1723941_1920-1536x974.jpg>\n"
   ]
  },
  {
   "cell_type": "code",
   "execution_count": 114,
   "metadata": {},
   "outputs": [
    {
     "data": {
      "text/html": [
       "<div>\n",
       "<style scoped>\n",
       "    .dataframe tbody tr th:only-of-type {\n",
       "        vertical-align: middle;\n",
       "    }\n",
       "\n",
       "    .dataframe tbody tr th {\n",
       "        vertical-align: top;\n",
       "    }\n",
       "\n",
       "    .dataframe thead th {\n",
       "        text-align: right;\n",
       "    }\n",
       "</style>\n",
       "<table border=\"1\" class=\"dataframe\">\n",
       "  <thead>\n",
       "    <tr style=\"text-align: right;\">\n",
       "      <th></th>\n",
       "      <th>review_id</th>\n",
       "      <th>product_id</th>\n",
       "      <th>reviewer_id</th>\n",
       "      <th>stars</th>\n",
       "      <th>review_body</th>\n",
       "      <th>review_title</th>\n",
       "      <th>language</th>\n",
       "      <th>product_category</th>\n",
       "      <th>Cat_product_category</th>\n",
       "    </tr>\n",
       "  </thead>\n",
       "  <tbody>\n",
       "    <tr>\n",
       "      <th>0</th>\n",
       "      <td>es_0417480</td>\n",
       "      <td>product_es_0873923</td>\n",
       "      <td>reviewer_es_0672978</td>\n",
       "      <td>1</td>\n",
       "      <td>Malisimo, muy grande demasiado aparatoso y mal...</td>\n",
       "      <td>Mala compra</td>\n",
       "      <td>es</td>\n",
       "      <td>wireless</td>\n",
       "      <td>29</td>\n",
       "    </tr>\n",
       "    <tr>\n",
       "      <th>1</th>\n",
       "      <td>es_0180432</td>\n",
       "      <td>product_es_0713146</td>\n",
       "      <td>reviewer_es_0100858</td>\n",
       "      <td>1</td>\n",
       "      <td>No he recibido el pedido no la devolución</td>\n",
       "      <td>No lo he recibido</td>\n",
       "      <td>es</td>\n",
       "      <td>apparel</td>\n",
       "      <td>0</td>\n",
       "    </tr>\n",
       "  </tbody>\n",
       "</table>\n",
       "</div>"
      ],
      "text/plain": [
       "    review_id          product_id          reviewer_id  stars  \\\n",
       "0  es_0417480  product_es_0873923  reviewer_es_0672978      1   \n",
       "1  es_0180432  product_es_0713146  reviewer_es_0100858      1   \n",
       "\n",
       "                                         review_body       review_title  \\\n",
       "0  Malisimo, muy grande demasiado aparatoso y mal...        Mala compra   \n",
       "1          No he recibido el pedido no la devolución  No lo he recibido   \n",
       "\n",
       "  language product_category  Cat_product_category  \n",
       "0       es         wireless                    29  \n",
       "1       es          apparel                     0  "
      ]
     },
     "execution_count": 114,
     "metadata": {},
     "output_type": "execute_result"
    }
   ],
   "source": [
    "frames = [data, data_test, data_train]\n",
    "datasets=[data_test, data]\n",
    "result = pd.concat(frames)\n",
    "porcientotreinta5=(result.stars==5)\n",
    "porcientotreinta5=result[porcientotreinta5][0:12600].copy()\n",
    "porcientotreinta4=(result.stars==4)\n",
    "porcientotreinta4=result[porcientotreinta4][0:12600].copy()\n",
    "porcientotreinta3=(result.stars==3)\n",
    "porcientotreinta3=result[porcientotreinta3][0:12600].copy()\n",
    "porcientotreinta2=(result.stars==2)\n",
    "porcientotreinta2=result[porcientotreinta2][0:12600].copy()\n",
    "porcientotreinta1=(result.stars==1)\n",
    "porcientotreinta1=result[porcientotreinta1][0:12600].copy()\n",
    "porcientotreinta=[porcientotreinta1,porcientotreinta2,porcientotreinta3,porcientotreinta4,porcientotreinta5]\n",
    "pc30=pd.concat(porcientotreinta)\n",
    "pc30.head(2)"
   ]
  },
  {
   "cell_type": "markdown",
   "metadata": {},
   "source": [
    "### En el siguiente countplot, vemos en orden descendente la cantidad de reseñas por categoría."
   ]
  },
  {
   "cell_type": "code",
   "execution_count": 13,
   "metadata": {},
   "outputs": [
    {
     "name": "stdout",
     "output_type": "stream",
     "text": [
      "home                        28328\n",
      "wireless                    27208\n",
      "toy                         14328\n",
      "sports                      13856\n",
      "pc                          11720\n",
      "home_improvement            11468\n",
      "electronics                 10899\n",
      "beauty                       7707\n",
      "automotive                   7495\n",
      "kitchen                      7028\n",
      "apparel                      6014\n",
      "drugstore                    5778\n",
      "book                         5528\n",
      "furniture                    5481\n",
      "baby_product                 5098\n",
      "office_product               5010\n",
      "lawn_and_garden              4449\n",
      "other                        4131\n",
      "pet_products                 3899\n",
      "personal_care_appliances     3735\n",
      "luggage                      3509\n",
      "camera                       3180\n",
      "shoes                        2886\n",
      "digital_ebook_purchase       1936\n",
      "video_games                  1818\n",
      "jewelry                      1677\n",
      "musical_instruments          1608\n",
      "watch                        1567\n",
      "industrial_supplies          1552\n",
      "grocery                      1107\n",
      "Name: product_category, dtype: int64\n"
     ]
    },
    {
     "data": {
      "image/png": "[encoded data removed]",
      "text/plain": [
       "<Figure size 720x432 with 1 Axes>"
      ]
     },
     "metadata": {
      "needs_background": "light"
     },
     "output_type": "display_data"
    }
   ],
   "source": [
    "categoria_productos=result['product_category'].value_counts()\n",
    "print(categoria_productos)\n",
    "plt.figure(figsize=(10,6))\n",
    "#tipologia.hist()\n",
    "plt.xticks(rotation=90)\n",
    "categoria_productos=result['product_category'].value_counts()\n",
    "categoria_productos\n",
    "#sns.set_theme(style=\"darkgrid\")\n",
    "ax = sns.countplot(x='product_category', data=result,order=result['product_category'].value_counts().index)#,ascending=True)\n",
    "plt.grid()"
   ]
  },
  {
   "cell_type": "code",
   "execution_count": 14,
   "metadata": {},
   "outputs": [
    {
     "data": {
      "text/html": [
       "<div>\n",
       "<style scoped>\n",
       "    .dataframe tbody tr th:only-of-type {\n",
       "        vertical-align: middle;\n",
       "    }\n",
       "\n",
       "    .dataframe tbody tr th {\n",
       "        vertical-align: top;\n",
       "    }\n",
       "\n",
       "    .dataframe thead th {\n",
       "        text-align: right;\n",
       "    }\n",
       "</style>\n",
       "<table border=\"1\" class=\"dataframe\">\n",
       "  <thead>\n",
       "    <tr style=\"text-align: right;\">\n",
       "      <th></th>\n",
       "      <th>product_category</th>\n",
       "    </tr>\n",
       "  </thead>\n",
       "  <tbody>\n",
       "    <tr>\n",
       "      <th>home</th>\n",
       "      <td>28328</td>\n",
       "    </tr>\n",
       "    <tr>\n",
       "      <th>wireless</th>\n",
       "      <td>27208</td>\n",
       "    </tr>\n",
       "    <tr>\n",
       "      <th>toy</th>\n",
       "      <td>14328</td>\n",
       "    </tr>\n",
       "    <tr>\n",
       "      <th>sports</th>\n",
       "      <td>13856</td>\n",
       "    </tr>\n",
       "    <tr>\n",
       "      <th>pc</th>\n",
       "      <td>11720</td>\n",
       "    </tr>\n",
       "    <tr>\n",
       "      <th>home_improvement</th>\n",
       "      <td>11468</td>\n",
       "    </tr>\n",
       "    <tr>\n",
       "      <th>electronics</th>\n",
       "      <td>10899</td>\n",
       "    </tr>\n",
       "    <tr>\n",
       "      <th>beauty</th>\n",
       "      <td>7707</td>\n",
       "    </tr>\n",
       "    <tr>\n",
       "      <th>automotive</th>\n",
       "      <td>7495</td>\n",
       "    </tr>\n",
       "    <tr>\n",
       "      <th>kitchen</th>\n",
       "      <td>7028</td>\n",
       "    </tr>\n",
       "    <tr>\n",
       "      <th>apparel</th>\n",
       "      <td>6014</td>\n",
       "    </tr>\n",
       "    <tr>\n",
       "      <th>drugstore</th>\n",
       "      <td>5778</td>\n",
       "    </tr>\n",
       "    <tr>\n",
       "      <th>book</th>\n",
       "      <td>5528</td>\n",
       "    </tr>\n",
       "    <tr>\n",
       "      <th>furniture</th>\n",
       "      <td>5481</td>\n",
       "    </tr>\n",
       "    <tr>\n",
       "      <th>baby_product</th>\n",
       "      <td>5098</td>\n",
       "    </tr>\n",
       "    <tr>\n",
       "      <th>office_product</th>\n",
       "      <td>5010</td>\n",
       "    </tr>\n",
       "    <tr>\n",
       "      <th>lawn_and_garden</th>\n",
       "      <td>4449</td>\n",
       "    </tr>\n",
       "    <tr>\n",
       "      <th>other</th>\n",
       "      <td>4131</td>\n",
       "    </tr>\n",
       "    <tr>\n",
       "      <th>pet_products</th>\n",
       "      <td>3899</td>\n",
       "    </tr>\n",
       "    <tr>\n",
       "      <th>personal_care_appliances</th>\n",
       "      <td>3735</td>\n",
       "    </tr>\n",
       "    <tr>\n",
       "      <th>luggage</th>\n",
       "      <td>3509</td>\n",
       "    </tr>\n",
       "    <tr>\n",
       "      <th>camera</th>\n",
       "      <td>3180</td>\n",
       "    </tr>\n",
       "    <tr>\n",
       "      <th>shoes</th>\n",
       "      <td>2886</td>\n",
       "    </tr>\n",
       "    <tr>\n",
       "      <th>digital_ebook_purchase</th>\n",
       "      <td>1936</td>\n",
       "    </tr>\n",
       "    <tr>\n",
       "      <th>video_games</th>\n",
       "      <td>1818</td>\n",
       "    </tr>\n",
       "    <tr>\n",
       "      <th>jewelry</th>\n",
       "      <td>1677</td>\n",
       "    </tr>\n",
       "    <tr>\n",
       "      <th>musical_instruments</th>\n",
       "      <td>1608</td>\n",
       "    </tr>\n",
       "    <tr>\n",
       "      <th>watch</th>\n",
       "      <td>1567</td>\n",
       "    </tr>\n",
       "    <tr>\n",
       "      <th>industrial_supplies</th>\n",
       "      <td>1552</td>\n",
       "    </tr>\n",
       "    <tr>\n",
       "      <th>grocery</th>\n",
       "      <td>1107</td>\n",
       "    </tr>\n",
       "  </tbody>\n",
       "</table>\n",
       "</div>"
      ],
      "text/plain": [
       "                          product_category\n",
       "home                                 28328\n",
       "wireless                             27208\n",
       "toy                                  14328\n",
       "sports                               13856\n",
       "pc                                   11720\n",
       "home_improvement                     11468\n",
       "electronics                          10899\n",
       "beauty                                7707\n",
       "automotive                            7495\n",
       "kitchen                               7028\n",
       "apparel                               6014\n",
       "drugstore                             5778\n",
       "book                                  5528\n",
       "furniture                             5481\n",
       "baby_product                          5098\n",
       "office_product                        5010\n",
       "lawn_and_garden                       4449\n",
       "other                                 4131\n",
       "pet_products                          3899\n",
       "personal_care_appliances              3735\n",
       "luggage                               3509\n",
       "camera                                3180\n",
       "shoes                                 2886\n",
       "digital_ebook_purchase                1936\n",
       "video_games                           1818\n",
       "jewelry                               1677\n",
       "musical_instruments                   1608\n",
       "watch                                 1567\n",
       "industrial_supplies                   1552\n",
       "grocery                               1107"
      ]
     },
     "execution_count": 14,
     "metadata": {},
     "output_type": "execute_result"
    }
   ],
   "source": [
    "lista_productos=categoria_productos.to_list()\n",
    "categoria_productos.to_frame()"
   ]
  },
  {
   "cell_type": "code",
   "execution_count": 15,
   "metadata": {},
   "outputs": [
    {
     "data": {
      "text/plain": [
       "30"
      ]
     },
     "execution_count": 15,
     "metadata": {},
     "output_type": "execute_result"
    }
   ],
   "source": [
    "lista_de_productos=result.product_category\n",
    "lista_de_productos.to_list()\n",
    "lista_de_productos=lista_de_productos.unique()\n",
    "lista_de_productos=['wireless', 'apparel', 'sports', 'home_improvement', 'beauty',\n",
    "       'home', 'baby_product', 'pc', 'toy', 'book',\n",
    "       'personal_care_appliances', 'kitchen', 'lawn_and_garden',\n",
    "       'pet_products', 'drugstore', 'office_product', 'furniture',\n",
    "       'electronics', 'automotive', 'shoes', 'jewelry', 'luggage',\n",
    "       'camera', 'industrial_supplies', 'other', 'musical_instruments',\n",
    "       'grocery', 'digital_ebook_purchase', 'video_games', 'watch']\n",
    "len(lista_de_productos)"
   ]
  },
  {
   "cell_type": "markdown",
   "metadata": {},
   "source": [
    "### In the following cell, we create a graphic with the stars distributions.\n",
    "#### It makes me feel a little bit unconfortable, because, how it could be the same ditribution for all of them?"
   ]
  },
  {
   "cell_type": "code",
   "execution_count": 16,
   "metadata": {
    "scrolled": true
   },
   "outputs": [
    {
     "name": "stdout",
     "output_type": "stream",
     "text": [
      "Cantidad de estrellas: 5\n",
      "[1 2 3 4 5]\n"
     ]
    },
    {
     "data": {
      "image/png": "[encoded data removed]",
      "text/plain": [
       "<Figure size 720x432 with 1 Axes>"
      ]
     },
     "metadata": {
      "needs_background": "light"
     },
     "output_type": "display_data"
    }
   ],
   "source": [
    "#Cuantos estrellas hay en este dataset?\n",
    "estrellas=result['stars']\n",
    "\n",
    "print(\"Cantidad de estrellas:\", len(result['stars'].unique()))\n",
    "print(result['stars'].unique())\n",
    "plt.figure(figsize=(10,6))\n",
    "#tipologia.hist()\n",
    "plt.xticks(rotation=0)\n",
    "cuento_estrellas=result['stars'].value_counts()\n",
    "cuento_estrellas\n",
    "#sns.set_theme(style=\"darkgrid\")\n",
    "ax = sns.countplot(x='stars', data=result)\n",
    "plt.grid()"
   ]
  },
  {
   "cell_type": "markdown",
   "metadata": {},
   "source": [
    "### In the next cell we are creating a identify number for each product category"
   ]
  },
  {
   "cell_type": "code",
   "execution_count": 17,
   "metadata": {},
   "outputs": [
    {
     "data": {
      "text/html": [
       "<div>\n",
       "<style scoped>\n",
       "    .dataframe tbody tr th:only-of-type {\n",
       "        vertical-align: middle;\n",
       "    }\n",
       "\n",
       "    .dataframe tbody tr th {\n",
       "        vertical-align: top;\n",
       "    }\n",
       "\n",
       "    .dataframe thead th {\n",
       "        text-align: right;\n",
       "    }\n",
       "</style>\n",
       "<table border=\"1\" class=\"dataframe\">\n",
       "  <thead>\n",
       "    <tr style=\"text-align: right;\">\n",
       "      <th></th>\n",
       "      <th>review_id</th>\n",
       "      <th>product_id</th>\n",
       "      <th>reviewer_id</th>\n",
       "      <th>stars</th>\n",
       "      <th>review_body</th>\n",
       "      <th>review_title</th>\n",
       "      <th>language</th>\n",
       "      <th>product_category</th>\n",
       "      <th>Cat_product_category</th>\n",
       "    </tr>\n",
       "  </thead>\n",
       "  <tbody>\n",
       "    <tr>\n",
       "      <th>0</th>\n",
       "      <td>es_0417480</td>\n",
       "      <td>product_es_0873923</td>\n",
       "      <td>reviewer_es_0672978</td>\n",
       "      <td>1</td>\n",
       "      <td>Malisimo, muy grande demasiado aparatoso y mal...</td>\n",
       "      <td>Mala compra</td>\n",
       "      <td>es</td>\n",
       "      <td>wireless</td>\n",
       "      <td>29</td>\n",
       "    </tr>\n",
       "    <tr>\n",
       "      <th>1</th>\n",
       "      <td>es_0180432</td>\n",
       "      <td>product_es_0713146</td>\n",
       "      <td>reviewer_es_0100858</td>\n",
       "      <td>1</td>\n",
       "      <td>No he recibido el pedido no la devolución</td>\n",
       "      <td>No lo he recibido</td>\n",
       "      <td>es</td>\n",
       "      <td>apparel</td>\n",
       "      <td>0</td>\n",
       "    </tr>\n",
       "  </tbody>\n",
       "</table>\n",
       "</div>"
      ],
      "text/plain": [
       "    review_id          product_id          reviewer_id  stars  \\\n",
       "0  es_0417480  product_es_0873923  reviewer_es_0672978      1   \n",
       "1  es_0180432  product_es_0713146  reviewer_es_0100858      1   \n",
       "\n",
       "                                         review_body       review_title  \\\n",
       "0  Malisimo, muy grande demasiado aparatoso y mal...        Mala compra   \n",
       "1          No he recibido el pedido no la devolución  No lo he recibido   \n",
       "\n",
       "  language product_category  Cat_product_category  \n",
       "0       es         wireless                    29  \n",
       "1       es          apparel                     0  "
      ]
     },
     "execution_count": 17,
     "metadata": {},
     "output_type": "execute_result"
    }
   ],
   "source": [
    "# converting type of columns to 'category'\n",
    "result['product_category']=result['product_category'].astype('category')\n",
    "# Assigning numerical values and storing in another column\n",
    "result['Cat_product_category'] = result['product_category'].cat.codes\n",
    "result.sort_values(by=['Cat_product_category'])\n",
    "result.head(2)"
   ]
  },
  {
   "cell_type": "code",
   "execution_count": 18,
   "metadata": {},
   "outputs": [
    {
     "data": {
      "text/html": [
       "<div>\n",
       "<style scoped>\n",
       "    .dataframe tbody tr th:only-of-type {\n",
       "        vertical-align: middle;\n",
       "    }\n",
       "\n",
       "    .dataframe tbody tr th {\n",
       "        vertical-align: top;\n",
       "    }\n",
       "\n",
       "    .dataframe thead th {\n",
       "        text-align: right;\n",
       "    }\n",
       "</style>\n",
       "<table border=\"1\" class=\"dataframe\">\n",
       "  <thead>\n",
       "    <tr style=\"text-align: right;\">\n",
       "      <th></th>\n",
       "      <th>review_id</th>\n",
       "      <th>product_id</th>\n",
       "      <th>reviewer_id</th>\n",
       "      <th>stars</th>\n",
       "      <th>review_body</th>\n",
       "      <th>review_title</th>\n",
       "      <th>language</th>\n",
       "      <th>product_category</th>\n",
       "    </tr>\n",
       "  </thead>\n",
       "  <tbody>\n",
       "    <tr>\n",
       "      <th>0</th>\n",
       "      <td>es_0417480</td>\n",
       "      <td>product_es_0873923</td>\n",
       "      <td>reviewer_es_0672978</td>\n",
       "      <td>1</td>\n",
       "      <td>Malisimo, muy grande demasiado aparatoso y mal...</td>\n",
       "      <td>Mala compra</td>\n",
       "      <td>es</td>\n",
       "      <td>wireless</td>\n",
       "    </tr>\n",
       "    <tr>\n",
       "      <th>1</th>\n",
       "      <td>es_0180432</td>\n",
       "      <td>product_es_0713146</td>\n",
       "      <td>reviewer_es_0100858</td>\n",
       "      <td>1</td>\n",
       "      <td>No he recibido el pedido no la devolución</td>\n",
       "      <td>No lo he recibido</td>\n",
       "      <td>es</td>\n",
       "      <td>apparel</td>\n",
       "    </tr>\n",
       "  </tbody>\n",
       "</table>\n",
       "</div>"
      ],
      "text/plain": [
       "    review_id          product_id          reviewer_id  stars  \\\n",
       "0  es_0417480  product_es_0873923  reviewer_es_0672978      1   \n",
       "1  es_0180432  product_es_0713146  reviewer_es_0100858      1   \n",
       "\n",
       "                                         review_body       review_title  \\\n",
       "0  Malisimo, muy grande demasiado aparatoso y mal...        Mala compra   \n",
       "1          No he recibido el pedido no la devolución  No lo he recibido   \n",
       "\n",
       "  language product_category  \n",
       "0       es         wireless  \n",
       "1       es          apparel  "
      ]
     },
     "execution_count": 18,
     "metadata": {},
     "output_type": "execute_result"
    }
   ],
   "source": [
    "data.head(2)"
   ]
  },
  {
   "cell_type": "code",
   "execution_count": 19,
   "metadata": {},
   "outputs": [
    {
     "data": {
      "text/html": [
       "<div>\n",
       "<style scoped>\n",
       "    .dataframe tbody tr th:only-of-type {\n",
       "        vertical-align: middle;\n",
       "    }\n",
       "\n",
       "    .dataframe tbody tr th {\n",
       "        vertical-align: top;\n",
       "    }\n",
       "\n",
       "    .dataframe thead th {\n",
       "        text-align: right;\n",
       "    }\n",
       "</style>\n",
       "<table border=\"1\" class=\"dataframe\">\n",
       "  <thead>\n",
       "    <tr style=\"text-align: right;\">\n",
       "      <th></th>\n",
       "      <th>review_id</th>\n",
       "      <th>product_id</th>\n",
       "      <th>reviewer_id</th>\n",
       "      <th>stars</th>\n",
       "      <th>review_body</th>\n",
       "      <th>review_title</th>\n",
       "      <th>language</th>\n",
       "      <th>product_category</th>\n",
       "      <th>Cat_product_category</th>\n",
       "    </tr>\n",
       "  </thead>\n",
       "  <tbody>\n",
       "    <tr>\n",
       "      <th>0</th>\n",
       "      <td>es_0491108</td>\n",
       "      <td>product_es_0296024</td>\n",
       "      <td>reviewer_es_0999081</td>\n",
       "      <td>1</td>\n",
       "      <td>Nada bueno se me fue ka pantalla en menos de 8...</td>\n",
       "      <td>television Nevir</td>\n",
       "      <td>es</td>\n",
       "      <td>electronics</td>\n",
       "      <td>8</td>\n",
       "    </tr>\n",
       "    <tr>\n",
       "      <th>1</th>\n",
       "      <td>es_0869872</td>\n",
       "      <td>product_es_0922286</td>\n",
       "      <td>reviewer_es_0216771</td>\n",
       "      <td>1</td>\n",
       "      <td>Horrible, nos tuvimos que comprar otro porque ...</td>\n",
       "      <td>Dinero tirado a la basura con esta compra</td>\n",
       "      <td>es</td>\n",
       "      <td>electronics</td>\n",
       "      <td>8</td>\n",
       "    </tr>\n",
       "  </tbody>\n",
       "</table>\n",
       "</div>"
      ],
      "text/plain": [
       "    review_id          product_id          reviewer_id  stars  \\\n",
       "0  es_0491108  product_es_0296024  reviewer_es_0999081      1   \n",
       "1  es_0869872  product_es_0922286  reviewer_es_0216771      1   \n",
       "\n",
       "                                         review_body  \\\n",
       "0  Nada bueno se me fue ka pantalla en menos de 8...   \n",
       "1  Horrible, nos tuvimos que comprar otro porque ...   \n",
       "\n",
       "                                review_title language product_category  \\\n",
       "0                           television Nevir       es      electronics   \n",
       "1  Dinero tirado a la basura con esta compra       es      electronics   \n",
       "\n",
       "   Cat_product_category  \n",
       "0                     8  \n",
       "1                     8  "
      ]
     },
     "execution_count": 19,
     "metadata": {},
     "output_type": "execute_result"
    }
   ],
   "source": [
    "# converting type of columns to 'category'\n",
    "data['product_category']=data['product_category'].astype('category')\n",
    "# Assigning numerical values and storing in another column\n",
    "data['Cat_product_category'] = data['product_category'].cat.codes\n",
    "data.sort_values(by=['Cat_product_category'])\n",
    "# converting type of columns to 'category'\n",
    "data_test['product_category']=data_test['product_category'].astype('category')\n",
    "# Assigning numerical values and storing in another column\n",
    "data_test['Cat_product_category'] = data_test['product_category'].cat.codes\n",
    "data_test.sort_values(by=['Cat_product_category'])\n",
    "# converting type of columns to 'category'\n",
    "data_train['product_category']=data_train['product_category'].astype('category')\n",
    "# Assigning numerical values and storing in another column\n",
    "data_train['Cat_product_category'] = data_train['product_category'].cat.codes\n",
    "data_train.sort_values(by=['Cat_product_category'])\n",
    "\n",
    "data.head(2)\n",
    "data_test.head(2)\n",
    "data_train.head(2)"
   ]
  },
  {
   "cell_type": "markdown",
   "metadata": {},
   "source": [
    "### Filtering by product type\n",
    "> In this loop, we first create an empty list, and then add each filter, and in the same loop, we give the dataset format to each mask."
   ]
  },
  {
   "cell_type": "code",
   "execution_count": 20,
   "metadata": {
    "scrolled": true
   },
   "outputs": [],
   "source": [
    "probando=[]\n",
    "lista_de_productos \n",
    "for i in lista_de_productos:\n",
    "    j=((result.product_category==i)&result.stars==1)|((result.product_category==i)&(result.stars==2))|((result.product_category==i)&(result.stars==3))|((result.product_category==i)&(result.stars==4))|((result.product_category==i)&(result.stars==5)).copy()     \n",
    "    k=result[j].copy()\n",
    "    probando.append(k)"
   ]
  },
  {
   "cell_type": "markdown",
   "metadata": {},
   "source": [
    "#### We check that the list has all 30 elements"
   ]
  },
  {
   "cell_type": "code",
   "execution_count": 21,
   "metadata": {},
   "outputs": [
    {
     "data": {
      "text/plain": [
       "30"
      ]
     },
     "execution_count": 21,
     "metadata": {},
     "output_type": "execute_result"
    }
   ],
   "source": [
    "len(probando)"
   ]
  },
  {
   "cell_type": "markdown",
   "metadata": {},
   "source": [
    "### Graphics of all categories\n",
    "> In this lists of graphics, i im explaining the distribution of de category scores. This can be useful for analize why diferents categories has more or less satisfactied with the product.\n",
    "\n",
    "> After seeing that, i am going to do a chart with the most frecuent words in the reviews of ONE star"
   ]
  },
  {
   "cell_type": "code",
   "execution_count": 22,
   "metadata": {},
   "outputs": [
    {
     "name": "stderr",
     "output_type": "stream",
     "text": [
      "C:\\Users\\Alfredo\\anaconda3\\lib\\site-packages\\ipykernel_launcher.py:12: RuntimeWarning: More than 20 figures have been opened. Figures created through the pyplot interface (`matplotlib.pyplot.figure`) are retained until explicitly closed and may consume too much memory. (To control this warning, see the rcParam `figure.max_open_warning`).\n",
      "  if sys.path[0] == '':\n"
     ]
    },
    {
     "data": {
      "image/png": "[encoded data removed]",
      "text/plain": [
       "<Figure size 576x288 with 1 Axes>"
      ]
     },
     "metadata": {
      "needs_background": "light"
     },
     "output_type": "display_data"
    },
    {
     "data": {
      "image/png": "[encoded data removed]",
      "text/plain": [
       "<Figure size 576x288 with 1 Axes>"
      ]
     },
     "metadata": {
      "needs_background": "light"
     },
     "output_type": "display_data"
    },
    {
     "data": {
      "image/png": "[encoded data removed]",
      "text/plain": [
       "<Figure size 576x288 with 1 Axes>"
      ]
     },
     "metadata": {
      "needs_background": "light"
     },
     "output_type": "display_data"
    },
    {
     "data": {
      "image/png": "[encoded data removed]",
      "text/plain": [
       "<Figure size 576x288 with 1 Axes>"
      ]
     },
     "metadata": {
      "needs_background": "light"
     },
     "output_type": "display_data"
    },
    {
     "data": {
      "image/png": "[encoded data removed]",
      "text/plain": [
       "<Figure size 576x288 with 1 Axes>"
      ]
     },
     "metadata": {
      "needs_background": "light"
     },
     "output_type": "display_data"
    },
    {
     "data": {
      "image/png": "[encoded data removed]",
      "text/plain": [
       "<Figure size 576x288 with 1 Axes>"
      ]
     },
     "metadata": {
      "needs_background": "light"
     },
     "output_type": "display_data"
    },
    {
     "data": {
      "image/png": "[encoded data removed]",
      "text/plain": [
       "<Figure size 576x288 with 1 Axes>"
      ]
     },
     "metadata": {
      "needs_background": "light"
     },
     "output_type": "display_data"
    },
    {
     "data": {
      "image/png": "[encoded data removed]",
      "text/plain": [
       "<Figure size 576x288 with 1 Axes>"
      ]
     },
     "metadata": {
      "needs_background": "light"
     },
     "output_type": "display_data"
    },
    {
     "data": {
      "image/png": "[encoded data removed]",
      "text/plain": [
       "<Figure size 576x288 with 1 Axes>"
      ]
     },
     "metadata": {
      "needs_background": "light"
     },
     "output_type": "display_data"
    },
    {
     "data": {
      "image/png": "[encoded data removed]",
      "text/plain": [
       "<Figure size 576x288 with 1 Axes>"
      ]
     },
     "metadata": {
      "needs_background": "light"
     },
     "output_type": "display_data"
    },
    {
     "data": {
      "image/png": "[encoded data removed]",
      "text/plain": [
       "<Figure size 576x288 with 1 Axes>"
      ]
     },
     "metadata": {
      "needs_background": "light"
     },
     "output_type": "display_data"
    },
    {
     "data": {
      "image/png": "[encoded data removed]",
      "text/plain": [
       "<Figure size 576x288 with 1 Axes>"
      ]
     },
     "metadata": {
      "needs_background": "light"
     },
     "output_type": "display_data"
    },
    {
     "data": {
      "image/png": "[encoded data removed]",
      "text/plain": [
       "<Figure size 576x288 with 1 Axes>"
      ]
     },
     "metadata": {
      "needs_background": "light"
     },
     "output_type": "display_data"
    },
    {
     "data": {
      "image/png": "[encoded data removed]",
      "text/plain": [
       "<Figure size 576x288 with 1 Axes>"
      ]
     },
     "metadata": {
      "needs_background": "light"
     },
     "output_type": "display_data"
    },
    {
     "data": {
      "image/png": "[encoded data removed]",
      "text/plain": [
       "<Figure size 576x288 with 1 Axes>"
      ]
     },
     "metadata": {
      "needs_background": "light"
     },
     "output_type": "display_data"
    },
    {
     "data": {
      "image/png": "[encoded data removed]",
      "text/plain": [
       "<Figure size 576x288 with 1 Axes>"
      ]
     },
     "metadata": {
      "needs_background": "light"
     },
     "output_type": "display_data"
    },
    {
     "data": {
      "image/png": "[encoded data removed]",
      "text/plain": [
       "<Figure size 576x288 with 1 Axes>"
      ]
     },
     "metadata": {
      "needs_background": "light"
     },
     "output_type": "display_data"
    },
    {
     "data": {
      "image/png": "[encoded data removed]",
      "text/plain": [
       "<Figure size 576x288 with 1 Axes>"
      ]
     },
     "metadata": {
      "needs_background": "light"
     },
     "output_type": "display_data"
    },
    {
     "data": {
      "image/png": "[encoded data removed]",
      "text/plain": [
       "<Figure size 576x288 with 1 Axes>"
      ]
     },
     "metadata": {
      "needs_background": "light"
     },
     "output_type": "display_data"
    },
    {
     "data": {
      "image/png": "[encoded data removed]",
      "text/plain": [
       "<Figure size 576x288 with 1 Axes>"
      ]
     },
     "metadata": {
      "needs_background": "light"
     },
     "output_type": "display_data"
    },
    {
     "data": {
      "image/png": "[encoded data removed]",
      "text/plain": [
       "<Figure size 576x288 with 1 Axes>"
      ]
     },
     "metadata": {
      "needs_background": "light"
     },
     "output_type": "display_data"
    },
    {
     "data": {
      "image/png": "[encoded data removed]",
      "text/plain": [
       "<Figure size 576x288 with 1 Axes>"
      ]
     },
     "metadata": {
      "needs_background": "light"
     },
     "output_type": "display_data"
    },
    {
     "data": {
      "image/png": "[encoded data removed]",
      "text/plain": [
       "<Figure size 576x288 with 1 Axes>"
      ]
     },
     "metadata": {
      "needs_background": "light"
     },
     "output_type": "display_data"
    },
    {
     "data": {
      "image/png": "[encoded data removed]",
      "text/plain": [
       "<Figure size 576x288 with 1 Axes>"
      ]
     },
     "metadata": {
      "needs_background": "light"
     },
     "output_type": "display_data"
    },
    {
     "data": {
      "image/png": "[encoded data removed]",
      "text/plain": [
       "<Figure size 576x288 with 1 Axes>"
      ]
     },
     "metadata": {
      "needs_background": "light"
     },
     "output_type": "display_data"
    },
    {
     "data": {
      "image/png": "[encoded data removed]",
      "text/plain": [
       "<Figure size 576x288 with 1 Axes>"
      ]
     },
     "metadata": {
      "needs_background": "light"
     },
     "output_type": "display_data"
    },
    {
     "data": {
      "image/png": "[encoded data removed]",
      "text/plain": [
       "<Figure size 576x288 with 1 Axes>"
      ]
     },
     "metadata": {
      "needs_background": "light"
     },
     "output_type": "display_data"
    },
    {
     "data": {
      "image/png": "[encoded data removed]",
      "text/plain": [
       "<Figure size 576x288 with 1 Axes>"
      ]
     },
     "metadata": {
      "needs_background": "light"
     },
     "output_type": "display_data"
    },
    {
     "data": {
      "image/png": "[encoded data removed]",
      "text/plain": [
       "<Figure size 576x288 with 1 Axes>"
      ]
     },
     "metadata": {
      "needs_background": "light"
     },
     "output_type": "display_data"
    },
    {
     "data": {
      "image/png": "[encoded data removed]",
      "text/plain": [
       "<Figure size 576x288 with 1 Axes>"
      ]
     },
     "metadata": {
      "needs_background": "light"
     },
     "output_type": "display_data"
    }
   ],
   "source": [
    "class Contador(object):\n",
    "  def __init__(self, inicial=-1):\n",
    "    self.numero = inicial\n",
    "  def siguiente(self):\n",
    "    self.numero += 1\n",
    "    return self.numero\n",
    "cuenta = Contador()\n",
    "for t in probando:\n",
    "    estrellas= t[\"stars\"]\n",
    "    len(t['stars'].unique())\n",
    "    t['stars'].unique()\n",
    "    plt.figure(figsize=(8,4))\n",
    "    plt.xticks(rotation=0)\n",
    "    cuento_estrellas=t['stars'].value_counts()\n",
    "    cuento_estrellas\n",
    "    ax = sns.countplot(x='stars', data=t)\n",
    "    plt.grid()\n",
    "    plt.title(lista_de_productos[cuenta.siguiente()],fontsize=20)"
   ]
  },
  {
   "cell_type": "markdown",
   "metadata": {},
   "source": [
    "### Análisis de gráficos:\n",
    "> Vemos que las categorías `wireless`, `lawn_and_garden`, `electronics` tienen un sesgo en la acumulación de estrellas. De todas las críticas que tiene, las que más se acumulan son las de 1 y 2 estrellas.\n",
    "\n",
    "> La categoría `book`, está muy bien punteada. Tiene muchas más puntuaciones de 5 estrellas que el resto. De hecho, las puntuaciones van claramente ascendiendo del 1 al 5 con un gran ascenso en 5. \n",
    "\n",
    "> Una categoría muy bien punteada es `digital_ebook_purchase`. \n",
    "\n",
    "> Otras categorías con buenos puntajes son `lugagge` y `musical_instrumens`. Las puntuaciones van en ascenso del 1 al 5. Acumulándose por igual en 4 y 5.\n",
    "\n",
    "> Dentro de la categoría `video_games`, el gráfico forma una especie de parábola, es decir, que en donde más se acumulan crítcas es en los extremos y en las categorías del medio (2,3 y 4) se ven aplanadas. Tiene un leve sesgo en las puntuaciones de 5 estrellas. \n",
    "\n",
    "> El resto de elementos de la lista;\n",
    "* ['apparel', 'sports', 'home_improvement', 'beauty', 'home', 'baby_product', 'pc', 'toy', 'personal_care_appliances', 'kitchen', 'pet_products', 'drugstore', 'office_product', 'furniture', 'automotive', 'shoes', 'jewelry', 'camera', 'industrial_supplies', 'other', 'grocery', 'watch'], mantienen un comportamiento equitativo entre las diferentes puntuaciones."
   ]
  },
  {
   "cell_type": "code",
   "execution_count": 23,
   "metadata": {},
   "outputs": [],
   "source": [
    "#data.to_excel(r'C:\\Users\\Alfredo\\Bitácoras\\example.xlsx', sheet_name='example')"
   ]
  },
  {
   "cell_type": "code",
   "execution_count": 24,
   "metadata": {},
   "outputs": [],
   "source": [
    "# lista_de_productos (es la lista que contiene a las categorias)\n",
    "# probando (es la lista que contiene a los dataframes) "
   ]
  },
  {
   "cell_type": "markdown",
   "metadata": {},
   "source": [
    "### Tokenizing the dataset according to One star\n",
    "> I want to see, what words were the most used in the reviews of a star. \n",
    "> We are a going to use, the dataset \"data\". Because, the \"result\" dataset is to heavy.\n",
    "\n",
    "> I also want to see, wich words are the most used un the reviews for home."
   ]
  },
  {
   "cell_type": "markdown",
   "metadata": {},
   "source": [
    "### La cantidad de palabaras usadas por reseña, influye en la calificación?"
   ]
  },
  {
   "cell_type": "code",
   "execution_count": 25,
   "metadata": {},
   "outputs": [
    {
     "name": "stdout",
     "output_type": "stream",
     "text": [
      "(42000, 9)\n",
      "(42000, 9)\n",
      "(42000, 9)\n",
      "(42000, 9)\n",
      "(42000, 9)\n"
     ]
    }
   ],
   "source": [
    "## ESTE DATA SET ESTÁ HECHO SOLAMENTE CON EL DATASET DATA\n",
    "malisimo_todo_prueba=(result.stars==1)\n",
    "malisimo_todo_prueba=result[malisimo_todo_prueba].copy()\n",
    "malo_todo_prueba=(result.stars==2)\n",
    "malo_todo_prueba=result[malo_todo_prueba].copy()\n",
    "bueno_todo_prueba=(result.stars==3)\n",
    "bueno_todo_prueba=result[bueno_todo_prueba].copy()\n",
    "Muy_bueno_todo_prueba=(result.stars==4)\n",
    "Muy_bueno_todo_prueba=result[Muy_bueno_todo_prueba].copy()\n",
    "Perfecto_todo_prueba=(result.stars==5)\n",
    "Perfecto_todo_prueba=result[Perfecto_todo_prueba].copy()\n",
    "print(malisimo_todo_prueba.shape)\n",
    "print(malo_todo_prueba.shape)\n",
    "print(bueno_todo_prueba.shape)\n",
    "print(Muy_bueno_todo_prueba.shape)\n",
    "print(Perfecto_todo_prueba.shape)\n",
    "#malo=((result.product_category==i)&(result.stars==1))\n",
    "#malo2=[]\n",
    "#for i in lista_de_productos:\n",
    "#    j=((data.product_category==i)&(data.stars==1)).copy()\n",
    "#    k=data[j].copy()\n",
    "#    malo2.append(k)"
   ]
  },
  {
   "cell_type": "code",
   "execution_count": 26,
   "metadata": {},
   "outputs": [
    {
     "name": "stdout",
     "output_type": "stream",
     "text": [
      "Cantidad de palabras en criticas malisimas:  1325111\n",
      "Cantidad de palabras en criticas malas:  1452134\n",
      "Cantidad de palabras en criticas buenas:  1337774\n",
      "Cantidad de palabras en criticas Muy Buenas:  1210119\n",
      "Cantidad de palabras en criticas Perfectas:  1153607\n"
     ]
    }
   ],
   "source": [
    "cantidad_criticasmalisimas=[]\n",
    "for i in malisimo_todo_prueba.review_body:\n",
    "    criticas=i\n",
    "    cantidad_criticasmalisimas.append(criticas)\n",
    "cantidad_criticasmalas=[]\n",
    "for i in malo_todo_prueba.review_body:\n",
    "    criticas=i\n",
    "    cantidad_criticasmalas.append(criticas)\n",
    "cantidad_criticasbuenas=[]    \n",
    "for i in bueno_todo_prueba.review_body:\n",
    "    criticas=i\n",
    "    cantidad_criticasbuenas.append(criticas)\n",
    "cantidad_criticasMuybuenas=[]\n",
    "for i in Muy_bueno_todo_prueba.review_body:\n",
    "    criticas=i\n",
    "    cantidad_criticasMuybuenas.append(criticas)    \n",
    "cantidad_criticasPerfectas=[]\n",
    "for i in Perfecto_todo_prueba.review_body:\n",
    "    criticas=i\n",
    "    cantidad_criticasPerfectas.append(criticas)    \n",
    "cantidad_criticasmalisimas_tokenizadas=[]\n",
    "for i in cantidad_criticasmalisimas:## Osea la lista entera de criticas\n",
    "    j=nltk.tokenize.word_tokenize(i)\n",
    "    cantidad_criticasmalisimas_tokenizadas.append(j)\n",
    "cantidad_criticasmalas_tokenizadas=[]\n",
    "for i in cantidad_criticasmalas:## Osea la lista entera de criticas\n",
    "    j=nltk.tokenize.word_tokenize(i)\n",
    "    cantidad_criticasmalas_tokenizadas.append(j)\n",
    "cantidad_criticasbuenas_tokenizadas=[]\n",
    "for i in cantidad_criticasbuenas:## Osea la lista entera de criticas\n",
    "    j=nltk.tokenize.word_tokenize(i)\n",
    "    cantidad_criticasbuenas_tokenizadas.append(j)\n",
    "cantidad_criticasMuybuenas_tokenizadas=[]\n",
    "for i in cantidad_criticasMuybuenas:## Osea la lista entera de criticas\n",
    "    j=nltk.tokenize.word_tokenize(i)\n",
    "    cantidad_criticasMuybuenas_tokenizadas.append(j)\n",
    "cantidad_criticasPerfectas_tokenizadas=[]\n",
    "for i in cantidad_criticasPerfectas:## Osea la lista entera de criticas\n",
    "    j=nltk.tokenize.word_tokenize(i)\n",
    "    cantidad_criticasPerfectas_tokenizadas.append(j)\n",
    "criticasmalisimas_data_tokenizadas_chain = list(itertools.chain(*cantidad_criticasmalisimas_tokenizadas))\n",
    "criticasmalas_data_tokenizadas_chain = list(itertools.chain(*cantidad_criticasmalas_tokenizadas))\n",
    "criticasbuenas_data_tokenizadas_chain = list(itertools.chain(*cantidad_criticasbuenas_tokenizadas))\n",
    "criticasMuybuenas_data_tokenizadas_chain = list(itertools.chain(*cantidad_criticasMuybuenas_tokenizadas))\n",
    "criticasPerfectas_data_tokenizadas_chain = list(itertools.chain(*cantidad_criticasPerfectas_tokenizadas))\n",
    "\n",
    "print(\"Cantidad de palabras en criticas malisimas: \",len(criticasmalisimas_data_tokenizadas_chain))\n",
    "print(\"Cantidad de palabras en criticas malas: \",len(criticasmalas_data_tokenizadas_chain))\n",
    "print(\"Cantidad de palabras en criticas buenas: \",len(criticasbuenas_data_tokenizadas_chain))\n",
    "print(\"Cantidad de palabras en criticas Muy Buenas: \",len(criticasMuybuenas_data_tokenizadas_chain))\n",
    "print(\"Cantidad de palabras en criticas Perfectas: \",len(criticasPerfectas_data_tokenizadas_chain))\n"
   ]
  },
  {
   "cell_type": "code",
   "execution_count": 27,
   "metadata": {},
   "outputs": [
    {
     "data": {
      "text/plain": [
       "6478745"
      ]
     },
     "execution_count": 27,
     "metadata": {},
     "output_type": "execute_result"
    }
   ],
   "source": [
    "opinionestotales=(len(criticasmalisimas_data_tokenizadas_chain)+\n",
    "len(criticasmalas_data_tokenizadas_chain)+\n",
    "len(criticasbuenas_data_tokenizadas_chain)+\n",
    "len(criticasMuybuenas_data_tokenizadas_chain)+\n",
    "len(criticasPerfectas_data_tokenizadas_chain))\n",
    "opinionestotales"
   ]
  },
  {
   "cell_type": "code",
   "execution_count": 28,
   "metadata": {},
   "outputs": [
    {
     "name": "stdout",
     "output_type": "stream",
     "text": [
      "Porcentaje del total criticas malisimas:  0.20453205057460974\n",
      "Porcentaje del total en criticas malas:  0.2241381625608046\n",
      "Porcentaje del total en criticas buenas:  0.206486595783597\n",
      "Porcentaje del total en criticas Muy Buenas:  0.18678293404046617\n",
      "Porcentaje del total en criticas Perfectas:  0.1780602570405225\n"
     ]
    }
   ],
   "source": [
    "print(\"Porcentaje del total criticas malisimas: \",len(criticasmalisimas_data_tokenizadas_chain)/opinionestotales)\n",
    "print(\"Porcentaje del total en criticas malas: \",len(criticasmalas_data_tokenizadas_chain)/opinionestotales)\n",
    "print(\"Porcentaje del total en criticas buenas: \",len(criticasbuenas_data_tokenizadas_chain)/opinionestotales)\n",
    "print(\"Porcentaje del total en criticas Muy Buenas: \",len(criticasMuybuenas_data_tokenizadas_chain)/opinionestotales)\n",
    "print(\"Porcentaje del total en criticas Perfectas: \",len(criticasPerfectas_data_tokenizadas_chain)/opinionestotales)"
   ]
  },
  {
   "cell_type": "markdown",
   "metadata": {},
   "source": [
    "### Bajo el calculo realizado, vemos que existe una relación entre la cantidad de palabras con la calificación del producto:\n",
    "> Para las criticas de 1,2 y 3 estrellas, vemos que los compradores tienden a usar más palabras, esto puede deberse a que explican cuanto les demoro, que es lo que estaba mal, cosas que deben mejorar, entre otras  cosas.\n",
    "\n",
    "> Mientras que en las críticas de 4 y 5 estrellas, vemos que los compradores usan criticas más cortas. Y esto puede deberse a que simplemente ponen \"Era lo que esperaba\" ó \"Buen producto\". Siendo mucho más concretos en el feedback del producto."
   ]
  },
  {
   "cell_type": "code",
   "execution_count": 29,
   "metadata": {},
   "outputs": [
    {
     "data": {
      "text/html": [
       "<div>\n",
       "<style scoped>\n",
       "    .dataframe tbody tr th:only-of-type {\n",
       "        vertical-align: middle;\n",
       "    }\n",
       "\n",
       "    .dataframe tbody tr th {\n",
       "        vertical-align: top;\n",
       "    }\n",
       "\n",
       "    .dataframe thead th {\n",
       "        text-align: right;\n",
       "    }\n",
       "</style>\n",
       "<table border=\"1\" class=\"dataframe\">\n",
       "  <thead>\n",
       "    <tr style=\"text-align: right;\">\n",
       "      <th></th>\n",
       "      <th>review_id</th>\n",
       "      <th>product_id</th>\n",
       "      <th>reviewer_id</th>\n",
       "      <th>stars</th>\n",
       "      <th>review_body</th>\n",
       "      <th>review_title</th>\n",
       "      <th>language</th>\n",
       "      <th>product_category</th>\n",
       "      <th>Cat_product_category</th>\n",
       "    </tr>\n",
       "  </thead>\n",
       "  <tbody>\n",
       "    <tr>\n",
       "      <th>0</th>\n",
       "      <td>es_0417480</td>\n",
       "      <td>product_es_0873923</td>\n",
       "      <td>reviewer_es_0672978</td>\n",
       "      <td>1</td>\n",
       "      <td>Malisimo, muy grande demasiado aparatoso y mal...</td>\n",
       "      <td>Mala compra</td>\n",
       "      <td>es</td>\n",
       "      <td>wireless</td>\n",
       "      <td>29</td>\n",
       "    </tr>\n",
       "    <tr>\n",
       "      <th>1</th>\n",
       "      <td>es_0180432</td>\n",
       "      <td>product_es_0713146</td>\n",
       "      <td>reviewer_es_0100858</td>\n",
       "      <td>1</td>\n",
       "      <td>No he recibido el pedido no la devolución</td>\n",
       "      <td>No lo he recibido</td>\n",
       "      <td>es</td>\n",
       "      <td>apparel</td>\n",
       "      <td>0</td>\n",
       "    </tr>\n",
       "  </tbody>\n",
       "</table>\n",
       "</div>"
      ],
      "text/plain": [
       "    review_id          product_id          reviewer_id  stars  \\\n",
       "0  es_0417480  product_es_0873923  reviewer_es_0672978      1   \n",
       "1  es_0180432  product_es_0713146  reviewer_es_0100858      1   \n",
       "\n",
       "                                         review_body       review_title  \\\n",
       "0  Malisimo, muy grande demasiado aparatoso y mal...        Mala compra   \n",
       "1          No he recibido el pedido no la devolución  No lo he recibido   \n",
       "\n",
       "  language product_category  Cat_product_category  \n",
       "0       es         wireless                    29  \n",
       "1       es          apparel                     0  "
      ]
     },
     "execution_count": 29,
     "metadata": {},
     "output_type": "execute_result"
    }
   ],
   "source": [
    "## Este es el dataframe que contiene todas las criticas de una estrella\n",
    "malisimo_todo_prueba.head(2)"
   ]
  },
  {
   "cell_type": "code",
   "execution_count": 30,
   "metadata": {},
   "outputs": [
    {
     "data": {
      "text/plain": [
       "(42000, 9)"
      ]
     },
     "execution_count": 30,
     "metadata": {},
     "output_type": "execute_result"
    }
   ],
   "source": [
    "malisimo_todo_prueba.shape"
   ]
  },
  {
   "cell_type": "markdown",
   "metadata": {},
   "source": [
    "## Fijarse después si esta celda de acá abajo la borramos."
   ]
  },
  {
   "cell_type": "code",
   "execution_count": 31,
   "metadata": {},
   "outputs": [],
   "source": [
    "malisimo_home=((result.product_category=='home')&(result.stars==1))\n",
    "malisimo_home=result[malisimo_home].copy()\n",
    "#malo=((result.product_category==i)&(result.stars==1))\n",
    "malo=[]\n",
    "for i in lista_de_productos:\n",
    "    j=((data.product_category==i)&(data.stars==1)).copy()\n",
    "    k=data[j].copy()\n",
    "    malo.append(k)"
   ]
  },
  {
   "cell_type": "code",
   "execution_count": 32,
   "metadata": {},
   "outputs": [
    {
     "data": {
      "text/plain": [
       "(5651, 9)"
      ]
     },
     "execution_count": 32,
     "metadata": {},
     "output_type": "execute_result"
    }
   ],
   "source": [
    "malisimo_home.head(2)\n",
    "malisimo_home.shape"
   ]
  },
  {
   "cell_type": "code",
   "execution_count": 33,
   "metadata": {},
   "outputs": [
    {
     "data": {
      "text/plain": [
       "(164, 9)"
      ]
     },
     "execution_count": 33,
     "metadata": {},
     "output_type": "execute_result"
    }
   ],
   "source": [
    "len(malo)\n",
    "malo[0].shape"
   ]
  },
  {
   "cell_type": "markdown",
   "metadata": {},
   "source": [
    "### Want to be sure about the dataset has the correctly stars filter"
   ]
  },
  {
   "cell_type": "code",
   "execution_count": 34,
   "metadata": {},
   "outputs": [
    {
     "name": "stdout",
     "output_type": "stream",
     "text": [
      "Cantidad de estrellas: 1\n",
      "[1]\n",
      "Cantidad de criticas de una estrella: 1    42000\n",
      "Name: stars, dtype: int64\n"
     ]
    },
    {
     "data": {
      "image/png": "[encoded data removed]",
      "text/plain": [
       "<Figure size 576x288 with 1 Axes>"
      ]
     },
     "metadata": {
      "needs_background": "light"
     },
     "output_type": "display_data"
    }
   ],
   "source": [
    "## Probando\n",
    "estrellas=malisimo_todo_prueba['stars']\n",
    "print(\"Cantidad de estrellas:\", len(malisimo_todo_prueba['stars'].unique()))\n",
    "print(malisimo_todo_prueba['stars'].unique())\n",
    "plt.figure(figsize=(8,4))\n",
    "#tipologia.hist()\n",
    "plt.xticks(rotation=0)\n",
    "cuento_estrellas=malisimo_todo_prueba['stars'].value_counts()\n",
    "print(\"Cantidad de criticas de una estrella:\",cuento_estrellas)\n",
    "#sns.set_theme(style=\"darkgrid\")\n",
    "ax = sns.countplot(x='stars', data=malisimo_todo_prueba)\n",
    "plt.grid()"
   ]
  },
  {
   "cell_type": "code",
   "execution_count": 35,
   "metadata": {},
   "outputs": [],
   "source": [
    "criticasmalisimas_prueba=[]\n",
    "for i in malisimo_todo_prueba.review_body:\n",
    "    criticas=i\n",
    "    criticasmalisimas_prueba.append(criticas)"
   ]
  },
  {
   "cell_type": "code",
   "execution_count": 36,
   "metadata": {},
   "outputs": [
    {
     "name": "stdout",
     "output_type": "stream",
     "text": [
      "La longitud de la lista criticasmalas es:  42000\n"
     ]
    }
   ],
   "source": [
    "print(\"La longitud de la lista criticasmalas es: \",len(criticasmalisimas_prueba))"
   ]
  },
  {
   "cell_type": "code",
   "execution_count": 38,
   "metadata": {},
   "outputs": [],
   "source": [
    "## Lista de listas\n",
    "#criticasmalisimas_prueba_tokenizadas"
   ]
  },
  {
   "cell_type": "code",
   "execution_count": 39,
   "metadata": {},
   "outputs": [],
   "source": [
    "stop_words=set(stopwords.words(\"spanish\"))"
   ]
  },
  {
   "cell_type": "markdown",
   "metadata": {},
   "source": [
    "### En la siguiente celda está dividio por las criticas de ''home\""
   ]
  },
  {
   "cell_type": "code",
   "execution_count": null,
   "metadata": {},
   "outputs": [],
   "source": [
    "estrellas=malisimo_home['stars']\n",
    "print(\"Cantidad de estrellas:\", len(malisimo_home['stars'].unique()))\n",
    "print(malisimo_home['stars'].unique())\n",
    "plt.figure(figsize=(8,4))\n",
    "#tipologia.hist()\n",
    "plt.xticks(rotation=0)\n",
    "cuento_estrellas=malisimo_home['stars'].value_counts()\n",
    "cuento_estrellas\n",
    "#sns.set_theme(style=\"darkgrid\")\n",
    "ax = sns.countplot(x='stars', data=malisimo_home)\n",
    "plt.grid()"
   ]
  },
  {
   "cell_type": "code",
   "execution_count": null,
   "metadata": {},
   "outputs": [],
   "source": [
    "## QUEDA CLARO QUE EL NUMERO DEL INDICE, SERÍA EL NÚMERO DE EL ELEMENTO EN LA LISTA\n",
    "frame_productos = DataFrame(lista_de_productos,columns=['lista_de_productos'])\n",
    "frame_productos"
   ]
  },
  {
   "cell_type": "markdown",
   "metadata": {},
   "source": [
    "### We create a list of lists from home category with reviews of one star "
   ]
  },
  {
   "cell_type": "code",
   "execution_count": null,
   "metadata": {},
   "outputs": [],
   "source": [
    "criticasmalas=[]\n",
    "for i in malisimo_home.review_body:\n",
    "    criticas=i\n",
    "    criticasmalas.append(criticas)"
   ]
  },
  {
   "cell_type": "code",
   "execution_count": null,
   "metadata": {},
   "outputs": [],
   "source": [
    "print(\"La longitud de la lista criticasmalas es: \",len(criticasmalas))\n",
    "## Es decir que hay 30 listas adentro de esa lista, si nosotros llamamos al df criticasmalas[0]\n",
    "## se imprime el primer dataframe\n",
    "#len(criticasmalas[0])\n",
    "#lista_criticas_malas=[]\n",
    "#for i in criticasmalas:\n",
    "#    lista=i.tolist()    \n",
    "#    lista_criticas_malas.append(lista)"
   ]
  },
  {
   "cell_type": "markdown",
   "metadata": {},
   "source": [
    "### The list \"criticasmalas\" has in lists the reviews"
   ]
  },
  {
   "cell_type": "code",
   "execution_count": null,
   "metadata": {},
   "outputs": [],
   "source": [
    "## Osea que esta lista de criticas malas, son las criticas malas de Wireless.\n",
    "## Porque recordar que la posicion uno es del articulo wireless.\n",
    "## Cada elemento de la lista, es un comentario\n",
    "#print(\"La longitud de la lista wireless es: \",len(lista_criticas_malas[0]),\"\\n\",lista_criticas_malas[0])\n",
    "#criticasmalas"
   ]
  },
  {
   "cell_type": "markdown",
   "metadata": {},
   "source": [
    "### In the following cell, is the list of bad reviews. What is going to be commented."
   ]
  },
  {
   "cell_type": "code",
   "execution_count": null,
   "metadata": {},
   "outputs": [],
   "source": [
    "#lista_criticas_malas_cadena"
   ]
  },
  {
   "cell_type": "markdown",
   "metadata": {},
   "source": [
    "### Tokenizing of list"
   ]
  },
  {
   "cell_type": "code",
   "execution_count": null,
   "metadata": {},
   "outputs": [],
   "source": [
    "criticas_malas_tokenizadas=[]\n",
    "for i in criticasmalas:## Osea la lista entera de criticas\n",
    "    j=nltk.tokenize.word_tokenize(i)\n",
    "    criticas_malas_tokenizadas.append(j)"
   ]
  },
  {
   "cell_type": "code",
   "execution_count": null,
   "metadata": {},
   "outputs": [],
   "source": [
    "len(criticas_malas_tokenizadas)\n",
    "#criticas_malas_tokenizadas"
   ]
  },
  {
   "cell_type": "markdown",
   "metadata": {},
   "source": [
    "### We convert the lists inside the list to a string"
   ]
  },
  {
   "cell_type": "code",
   "execution_count": null,
   "metadata": {},
   "outputs": [],
   "source": [
    "palabras_criticas_malas_tokenizadas = list(itertools.chain(*criticas_malas_tokenizadas))"
   ]
  },
  {
   "cell_type": "code",
   "execution_count": null,
   "metadata": {},
   "outputs": [],
   "source": [
    "#lista_criticas_malas_cadena ## En formato de lista"
   ]
  },
  {
   "cell_type": "markdown",
   "metadata": {},
   "source": [
    "### If we want to see the first reviews of the list, i mean the reviews of Wireless. The only thing we have to do is, put [0] next to the list. \n",
    "### The cell is left commented"
   ]
  },
  {
   "cell_type": "code",
   "execution_count": null,
   "metadata": {},
   "outputs": [],
   "source": [
    "## Recordar que la lista de wireless tiene 5651 comentarios, entonces:\n",
    "print(palabras_criticas_malas_tokenizadas[0]) ## Este sería el primer comentario de la lista de comentarios"
   ]
  },
  {
   "cell_type": "markdown",
   "metadata": {},
   "source": [
    "### We see stop words of Spanish"
   ]
  },
  {
   "cell_type": "code",
   "execution_count": 216,
   "metadata": {},
   "outputs": [],
   "source": [
    "stop_words=set(stopwords.words(\"spanish\"))\n",
    "#stop_words"
   ]
  },
  {
   "cell_type": "markdown",
   "metadata": {},
   "source": [
    "#### Agrego al stop words, elementos que se repiten mucho en las criticas"
   ]
  },
  {
   "cell_type": "code",
   "execution_count": 301,
   "metadata": {},
   "outputs": [],
   "source": [
    "stop_words.add('.')\n",
    "stop_words.add(',')\n",
    "stop_words.add('En')\n",
    "stop_words.add('La')\n",
    "stop_words.add('El')\n",
    "stop_words.add('La')\n",
    "stop_words.add('Es')\n",
    "stop_words.add('Lo')\n",
    "stop_words.add('Me')\n",
    "stop_words.add('Se')\n",
    "stop_words.add(')')\n",
    "stop_words.add('(')\n",
    "stop_words.add('por')"
   ]
  },
  {
   "cell_type": "code",
   "execution_count": 303,
   "metadata": {},
   "outputs": [],
   "source": [
    "#stop_words"
   ]
  },
  {
   "cell_type": "code",
   "execution_count": null,
   "metadata": {},
   "outputs": [],
   "source": [
    "#palabras_criticas_malas_tokenizadas"
   ]
  },
  {
   "cell_type": "code",
   "execution_count": null,
   "metadata": {},
   "outputs": [],
   "source": [
    "print(\"Cantidad de elementos dentro de la lista: \",len(palabras_criticas_malas_tokenizadas))\n",
    "#criticas_malas_tokenizadas"
   ]
  },
  {
   "cell_type": "code",
   "execution_count": null,
   "metadata": {},
   "outputs": [],
   "source": [
    "filtered_sentence_malisimo=[]\n",
    "for w in palabras_criticas_malas_tokenizadas:\n",
    "    if w not in stop_words:\n",
    "        filtered_sentence_malisimo.append(w)\n",
    "#filtered_sentence_malisimo"
   ]
  },
  {
   "cell_type": "markdown",
   "metadata": {},
   "source": [
    "### After filtering by \"stop words\", the length of the list is 98752, much more shorter than before."
   ]
  },
  {
   "cell_type": "code",
   "execution_count": null,
   "metadata": {},
   "outputs": [],
   "source": [
    "len(filtered_sentence_malisimo)"
   ]
  },
  {
   "cell_type": "code",
   "execution_count": null,
   "metadata": {},
   "outputs": [],
   "source": [
    "df_de_palabras_una_estrella = DataFrame(filtered_sentence_malisimo,columns=['Palabras'])\n",
    "df_de_palabras_una_estrella"
   ]
  },
  {
   "cell_type": "code",
   "execution_count": null,
   "metadata": {},
   "outputs": [],
   "source": [
    "df_de_palabras_una_estrella=df_de_palabras_una_estrella.groupby([\"Palabras\"]).size().reset_index(name=\"Frecuencia\")"
   ]
  },
  {
   "cell_type": "code",
   "execution_count": null,
   "metadata": {},
   "outputs": [],
   "source": [
    "df_de_palabras_una_estrella.sort_values(by=\"Frecuencia\",ascending=False).head(20)"
   ]
  },
  {
   "cell_type": "markdown",
   "metadata": {},
   "source": [
    "## Stemming"
   ]
  },
  {
   "cell_type": "code",
   "execution_count": null,
   "metadata": {},
   "outputs": [],
   "source": [
    "ps=PorterStemmer()\n",
    "# la lista es: filtered_sentence_malisimo\n",
    "filtered_sentence_malisimo_stemmizado=[]\n",
    "for w in filtered_sentence_malisimo:\n",
    "    j=ps.stem(w)\n",
    "    filtered_sentence_malisimo_stemmizado.append(j)"
   ]
  },
  {
   "cell_type": "code",
   "execution_count": null,
   "metadata": {},
   "outputs": [],
   "source": [
    "#filtered_sentence_malisimo_stemmizado"
   ]
  },
  {
   "cell_type": "code",
   "execution_count": null,
   "metadata": {},
   "outputs": [],
   "source": [
    "filtered_sentence_malisimo_stemmizado = DataFrame(filtered_sentence_malisimo_stemmizado,columns=['Palabras'])\n",
    "filtered_sentence_malisimo_stemmizado"
   ]
  },
  {
   "cell_type": "code",
   "execution_count": null,
   "metadata": {},
   "outputs": [],
   "source": [
    "df_filtered_sentence_malisimo_stemmizado=filtered_sentence_malisimo_stemmizado.groupby([\"Palabras\"]).size().reset_index(name=\"Frecuencia\")"
   ]
  },
  {
   "cell_type": "code",
   "execution_count": null,
   "metadata": {},
   "outputs": [],
   "source": [
    "df_filtered_sentence_malisimo_stemmizado=df_filtered_sentence_malisimo_stemmizado.sort_values(by=\"Frecuencia\",ascending=False)"
   ]
  },
  {
   "cell_type": "code",
   "execution_count": null,
   "metadata": {},
   "outputs": [],
   "source": [
    "df_filtered_sentence_malisimo_stemmizado.head(45)"
   ]
  },
  {
   "cell_type": "markdown",
   "metadata": {},
   "source": [
    "### Purging the words the stop words did not identify"
   ]
  },
  {
   "cell_type": "code",
   "execution_count": null,
   "metadata": {},
   "outputs": [],
   "source": [
    "df_filtered_sentence_malisimo_stemmizado=df_filtered_sentence_malisimo_stemmizado.drop([24,10,320,343,3247,322,345,349,373,5752,5556,162],axis=0)"
   ]
  },
  {
   "cell_type": "code",
   "execution_count": null,
   "metadata": {},
   "outputs": [],
   "source": [
    "df_filtered_sentence_malisimo_stemmizado.head(30)"
   ]
  },
  {
   "cell_type": "markdown",
   "metadata": {},
   "source": [
    "## Que palabras fueron las más usadas para las críticas de una estrella?"
   ]
  },
  {
   "cell_type": "code",
   "execution_count": null,
   "metadata": {},
   "outputs": [],
   "source": [
    "plt.figure(figsize = (15,8))\n",
    "plot = sns.barplot(x  = df_filtered_sentence_malisimo_stemmizado.iloc[:30].Palabras, y = df_filtered_sentence_malisimo_stemmizado.iloc[:30].Frecuencia)\n",
    "for item in plot.get_xticklabels():\n",
    "    item.set_rotation(90)\n",
    "plt.grid()\n",
    "plt.title('Palabras más usadas para reviews de 1 estrella',fontsize=20)\n",
    "plt.show()"
   ]
  },
  {
   "cell_type": "markdown",
   "metadata": {},
   "source": [
    "## Conclusiones:\n",
    "### After the exploratory analysis, we can see the most frecuent  words in the chart. \n",
    "> Obviusly the expression \"No\", is the first word in the graph. \n",
    " \n",
    "> Then, another thing interesting is the exclamation simbol \"!\", surely the people use it to enphasize angry.\n",
    "\n",
    "> One thing that i did not expect, are the \"...\" suspension points. I think people use it to explain disappointment.\n",
    "\n",
    "> En el grafico aparece la palabra \"si\", pero si uno la mira fuera de contexto puede parecer positivo. \n",
    "> Pero analizando el contexto del análisis, que son las reseñas negativas. La palabra si, funciona como condicionante.\"\n",
    "\n",
    "> Ejemplo: \"Si me hubieran avisado que era así, no lo compraba\",\"Si tenía más fotos no lo compraba\"\n",
    "\n",
    "> Otra cosa, es que el adjetivo bien es positivo, sin embargo está precedido por palabras negativas, por lo que hacen mutar su significado."
   ]
  },
  {
   "cell_type": "markdown",
   "metadata": {},
   "source": [
    "### Vemos la distribución de palabras para las criticas de 1 estrella."
   ]
  },
  {
   "cell_type": "code",
   "execution_count": 305,
   "metadata": {},
   "outputs": [
    {
     "data": {
      "text/plain": [
       "(12600, 9)"
      ]
     },
     "execution_count": 305,
     "metadata": {},
     "output_type": "execute_result"
    }
   ],
   "source": [
    "malisimo_10mil=((pc30.stars==1))\n",
    "malisimo_10mil=pc30[malisimo_10mil].copy()\n",
    "malisimo_10mil.shape"
   ]
  },
  {
   "cell_type": "code",
   "execution_count": 317,
   "metadata": {},
   "outputs": [
    {
     "name": "stdout",
     "output_type": "stream",
     "text": [
      "Cantidad de estrellas: 1\n",
      "[1]\n",
      "1    12600\n",
      "Name: stars, dtype: int64\n"
     ]
    },
    {
     "data": {
      "image/png": "[encoded data removed]",
      "text/plain": [
       "<Figure size 576x288 with 1 Axes>"
      ]
     },
     "metadata": {
      "needs_background": "light"
     },
     "output_type": "display_data"
    }
   ],
   "source": [
    "estrellas=malisimo_10mil['stars']\n",
    "print(\"Cantidad de estrellas:\", len(malisimo_10mil['stars'].unique()))\n",
    "print(malisimo_10mil['stars'].unique())\n",
    "plt.figure(figsize=(8,4))\n",
    "#tipologia.hist()\n",
    "plt.xticks(rotation=0)\n",
    "cuento_estrellas=malisimo_10mil['stars'].value_counts()\n",
    "print(cuento_estrellas)\n",
    "#sns.set_theme(style=\"darkgrid\")\n",
    "ax = sns.countplot(x='stars', data=malisimo_10mil)\n",
    "plt.grid()"
   ]
  },
  {
   "cell_type": "code",
   "execution_count": 316,
   "metadata": {},
   "outputs": [],
   "source": [
    "malisimo_criticas=[]\n",
    "for i in malisimo_10mil.review_body:\n",
    "    criticas=i\n",
    "    malisimo_criticas.append(criticas)\n",
    "#malisimo_criticas #(es la lista con todas las reviews)"
   ]
  },
  {
   "cell_type": "code",
   "execution_count": 318,
   "metadata": {},
   "outputs": [],
   "source": [
    "criticas_malisimo10mil_tokenizadas=[]\n",
    "for i in malisimo_criticas:## Osea la lista entera de criticas\n",
    "    j=nltk.tokenize.word_tokenize(i)\n",
    "    criticas_malisimo10mil_tokenizadas.append(j) "
   ]
  },
  {
   "cell_type": "code",
   "execution_count": 319,
   "metadata": {},
   "outputs": [],
   "source": [
    "palabras_criticas_malisimo10mil_tokenizadas = list(itertools.chain(*criticas_malisimo10mil_tokenizadas))"
   ]
  },
  {
   "cell_type": "code",
   "execution_count": 320,
   "metadata": {},
   "outputs": [
    {
     "data": {
      "text/plain": [
       "392980"
      ]
     },
     "execution_count": 320,
     "metadata": {},
     "output_type": "execute_result"
    }
   ],
   "source": [
    "len(palabras_criticas_malisimo10mil_tokenizadas)"
   ]
  },
  {
   "cell_type": "code",
   "execution_count": 321,
   "metadata": {},
   "outputs": [],
   "source": [
    "filtered_sentence_malisimo10mil=[]\n",
    "for w in palabras_criticas_malisimo10mil_tokenizadas:\n",
    "    if w not in stop_words:\n",
    "        filtered_sentence_malisimo10mil.append(w)"
   ]
  },
  {
   "cell_type": "code",
   "execution_count": 323,
   "metadata": {},
   "outputs": [
    {
     "data": {
      "text/plain": [
       "189728"
      ]
     },
     "execution_count": 323,
     "metadata": {},
     "output_type": "execute_result"
    }
   ],
   "source": [
    "len(filtered_sentence_malisimo10mil)"
   ]
  },
  {
   "cell_type": "code",
   "execution_count": 324,
   "metadata": {},
   "outputs": [],
   "source": [
    "ps=PorterStemmer()\n",
    "# la lista es: filtered_sentence_malisimo\n",
    "filtered_sentence_malisimo10mil_stemmizado=[]\n",
    "for w in filtered_sentence_malisimo10mil:\n",
    "    j=ps.stem(w)\n",
    "    filtered_sentence_malisimo10mil_stemmizado.append(j)"
   ]
  },
  {
   "cell_type": "code",
   "execution_count": 325,
   "metadata": {},
   "outputs": [
    {
     "data": {
      "text/html": [
       "<div>\n",
       "<style scoped>\n",
       "    .dataframe tbody tr th:only-of-type {\n",
       "        vertical-align: middle;\n",
       "    }\n",
       "\n",
       "    .dataframe tbody tr th {\n",
       "        vertical-align: top;\n",
       "    }\n",
       "\n",
       "    .dataframe thead th {\n",
       "        text-align: right;\n",
       "    }\n",
       "</style>\n",
       "<table border=\"1\" class=\"dataframe\">\n",
       "  <thead>\n",
       "    <tr style=\"text-align: right;\">\n",
       "      <th></th>\n",
       "      <th>Palabras</th>\n",
       "      <th>Frecuencia</th>\n",
       "    </tr>\n",
       "  </thead>\n",
       "  <tbody>\n",
       "    <tr>\n",
       "      <th>723</th>\n",
       "      <td>No</td>\n",
       "      <td>4298</td>\n",
       "    </tr>\n",
       "    <tr>\n",
       "      <th>11837</th>\n",
       "      <td>producto</td>\n",
       "      <td>2399</td>\n",
       "    </tr>\n",
       "    <tr>\n",
       "      <th>53</th>\n",
       "      <td>...</td>\n",
       "      <td>1855</td>\n",
       "    </tr>\n",
       "    <tr>\n",
       "      <th>0</th>\n",
       "      <td>!</td>\n",
       "      <td>1791</td>\n",
       "    </tr>\n",
       "    <tr>\n",
       "      <th>2394</th>\n",
       "      <td>bien</td>\n",
       "      <td>1383</td>\n",
       "    </tr>\n",
       "    <tr>\n",
       "      <th>2748</th>\n",
       "      <td>calidad</td>\n",
       "      <td>1280</td>\n",
       "    </tr>\n",
       "    <tr>\n",
       "      <th>13589</th>\n",
       "      <td>si</td>\n",
       "      <td>1246</td>\n",
       "    </tr>\n",
       "    <tr>\n",
       "      <th>5471</th>\n",
       "      <td>do</td>\n",
       "      <td>1070</td>\n",
       "    </tr>\n",
       "    <tr>\n",
       "      <th>5616</th>\n",
       "      <td>día</td>\n",
       "      <td>1070</td>\n",
       "    </tr>\n",
       "    <tr>\n",
       "      <th>9021</th>\n",
       "      <td>llegado</td>\n",
       "      <td>1002</td>\n",
       "    </tr>\n",
       "    <tr>\n",
       "      <th>12554</th>\n",
       "      <td>recomiendo</td>\n",
       "      <td>958</td>\n",
       "    </tr>\n",
       "    <tr>\n",
       "      <th>9268</th>\n",
       "      <td>mal</td>\n",
       "      <td>858</td>\n",
       "    </tr>\n",
       "    <tr>\n",
       "      <th>9273</th>\n",
       "      <td>mala</td>\n",
       "      <td>842</td>\n",
       "    </tr>\n",
       "    <tr>\n",
       "      <th>1499</th>\n",
       "      <td>amazon</td>\n",
       "      <td>835</td>\n",
       "    </tr>\n",
       "    <tr>\n",
       "      <th>5354</th>\n",
       "      <td>dinero</td>\n",
       "      <td>809</td>\n",
       "    </tr>\n",
       "    <tr>\n",
       "      <th>7252</th>\n",
       "      <td>funciona</td>\n",
       "      <td>808</td>\n",
       "    </tr>\n",
       "    <tr>\n",
       "      <th>15091</th>\n",
       "      <td>vendedor</td>\n",
       "      <td>786</td>\n",
       "    </tr>\n",
       "    <tr>\n",
       "      <th>13775</th>\n",
       "      <td>solo</td>\n",
       "      <td>741</td>\n",
       "    </tr>\n",
       "    <tr>\n",
       "      <th>10914</th>\n",
       "      <td>pedido</td>\n",
       "      <td>719</td>\n",
       "    </tr>\n",
       "    <tr>\n",
       "      <th>7715</th>\n",
       "      <td>hace</td>\n",
       "      <td>678</td>\n",
       "    </tr>\n",
       "    <tr>\n",
       "      <th>9057</th>\n",
       "      <td>llegó</td>\n",
       "      <td>650</td>\n",
       "    </tr>\n",
       "    <tr>\n",
       "      <th>10050</th>\n",
       "      <td>muy</td>\n",
       "      <td>641</td>\n",
       "    </tr>\n",
       "    <tr>\n",
       "      <th>9642</th>\n",
       "      <td>mese</td>\n",
       "      <td>613</td>\n",
       "    </tr>\n",
       "    <tr>\n",
       "      <th>5115</th>\n",
       "      <td>despué</td>\n",
       "      <td>591</td>\n",
       "    </tr>\n",
       "    <tr>\n",
       "      <th>3608</th>\n",
       "      <td>comprar</td>\n",
       "      <td>585</td>\n",
       "    </tr>\n",
       "    <tr>\n",
       "      <th>10720</th>\n",
       "      <td>pantalla</td>\n",
       "      <td>574</td>\n",
       "    </tr>\n",
       "    <tr>\n",
       "      <th>14854</th>\n",
       "      <td>una</td>\n",
       "      <td>571</td>\n",
       "    </tr>\n",
       "    <tr>\n",
       "      <th>9226</th>\n",
       "      <td>ma</td>\n",
       "      <td>568</td>\n",
       "    </tr>\n",
       "    <tr>\n",
       "      <th>12455</th>\n",
       "      <td>recibido</td>\n",
       "      <td>565</td>\n",
       "    </tr>\n",
       "    <tr>\n",
       "      <th>284</th>\n",
       "      <td>2</td>\n",
       "      <td>564</td>\n",
       "    </tr>\n",
       "  </tbody>\n",
       "</table>\n",
       "</div>"
      ],
      "text/plain": [
       "         Palabras  Frecuencia\n",
       "723            No        4298\n",
       "11837    producto        2399\n",
       "53            ...        1855\n",
       "0               !        1791\n",
       "2394         bien        1383\n",
       "2748      calidad        1280\n",
       "13589          si        1246\n",
       "5471           do        1070\n",
       "5616          día        1070\n",
       "9021      llegado        1002\n",
       "12554  recomiendo         958\n",
       "9268          mal         858\n",
       "9273         mala         842\n",
       "1499       amazon         835\n",
       "5354       dinero         809\n",
       "7252     funciona         808\n",
       "15091    vendedor         786\n",
       "13775        solo         741\n",
       "10914      pedido         719\n",
       "7715         hace         678\n",
       "9057        llegó         650\n",
       "10050         muy         641\n",
       "9642         mese         613\n",
       "5115       despué         591\n",
       "3608      comprar         585\n",
       "10720    pantalla         574\n",
       "14854         una         571\n",
       "9226           ma         568\n",
       "12455    recibido         565\n",
       "284             2         564"
      ]
     },
     "execution_count": 325,
     "metadata": {},
     "output_type": "execute_result"
    }
   ],
   "source": [
    "df_de_palabras_una_estrellas = DataFrame(filtered_sentence_malisimo10mil_stemmizado,columns=['Palabras'])\n",
    "df_de_palabras_una_estrellas =df_de_palabras_una_estrellas.groupby([\"Palabras\"]).size().reset_index(name=\"Frecuencia\") \n",
    "df_de_palabras_una_estrellas =df_de_palabras_una_estrellas.sort_values(by=\"Frecuencia\",ascending=False)\n",
    "df_de_palabras_una_estrellas.head(30)"
   ]
  },
  {
   "cell_type": "code",
   "execution_count": 326,
   "metadata": {},
   "outputs": [
    {
     "data": {
      "image/png": "[encoded data removed]",
      "text/plain": [
       "<Figure size 1080x576 with 1 Axes>"
      ]
     },
     "metadata": {
      "needs_background": "light"
     },
     "output_type": "display_data"
    }
   ],
   "source": [
    "plt.figure(figsize = (15,8))\n",
    "plot = sns.barplot(x  = df_de_palabras_una_estrellas.iloc[:30].Palabras, y = df_de_palabras_una_estrellas.iloc[:30].Frecuencia)\n",
    "for item in plot.get_xticklabels():\n",
    "    item.set_rotation(90)\n",
    "plt.grid()\n",
    "plt.title('Palabras más usadas para reviews de 1 estrella',fontsize=20)\n",
    "plt.show()"
   ]
  },
  {
   "cell_type": "markdown",
   "metadata": {},
   "source": [
    "### Vemos la distribución de palabras para las criticas de 2 estrellas."
   ]
  },
  {
   "cell_type": "code",
   "execution_count": 290,
   "metadata": {},
   "outputs": [
    {
     "data": {
      "text/plain": [
       "(12600, 9)"
      ]
     },
     "execution_count": 290,
     "metadata": {},
     "output_type": "execute_result"
    }
   ],
   "source": [
    "malo_10mil=((pc30.stars==2))\n",
    "malo_10mil=pc30[malo_10mil].copy()\n",
    "malo_10mil.shape"
   ]
  },
  {
   "cell_type": "code",
   "execution_count": 291,
   "metadata": {},
   "outputs": [
    {
     "name": "stdout",
     "output_type": "stream",
     "text": [
      "Cantidad de estrellas: 1\n",
      "[2]\n",
      "2    12600\n",
      "Name: stars, dtype: int64\n"
     ]
    },
    {
     "data": {
      "image/png": "[encoded data removed]",
      "text/plain": [
       "<Figure size 576x288 with 1 Axes>"
      ]
     },
     "metadata": {
      "needs_background": "light"
     },
     "output_type": "display_data"
    }
   ],
   "source": [
    "estrellas=malo_10mil['stars']\n",
    "print(\"Cantidad de estrellas:\", len(malo_10mil['stars'].unique()))\n",
    "print(malo_10mil['stars'].unique())\n",
    "plt.figure(figsize=(8,4))\n",
    "#tipologia.hist()\n",
    "plt.xticks(rotation=0)\n",
    "cuento_estrellas=malo_10mil['stars'].value_counts()\n",
    "print(cuento_estrellas)\n",
    "#sns.set_theme(style=\"darkgrid\")\n",
    "ax = sns.countplot(x='stars', data=malo_10mil,palette=[\"orange\"])\n",
    "plt.grid()"
   ]
  },
  {
   "cell_type": "code",
   "execution_count": 306,
   "metadata": {},
   "outputs": [],
   "source": [
    "malas_criticas=[]\n",
    "for i in malo_10mil.review_body:\n",
    "    criticas=i\n",
    "    malas_criticas.append(criticas)\n",
    "#malas_criticas #(es la lista con todas las reviews)"
   ]
  },
  {
   "cell_type": "code",
   "execution_count": 307,
   "metadata": {},
   "outputs": [],
   "source": [
    "criticas_malas10mil_tokenizadas=[]\n",
    "for i in malas_criticas:## Osea la lista entera de criticas\n",
    "    j=nltk.tokenize.word_tokenize(i)\n",
    "    criticas_malas10mil_tokenizadas.append(j) "
   ]
  },
  {
   "cell_type": "code",
   "execution_count": 308,
   "metadata": {},
   "outputs": [],
   "source": [
    "palabras_criticas_malas10mil_tokenizadas = list(itertools.chain(*criticas_malas10mil_tokenizadas))"
   ]
  },
  {
   "cell_type": "code",
   "execution_count": 309,
   "metadata": {},
   "outputs": [
    {
     "data": {
      "text/plain": [
       "436389"
      ]
     },
     "execution_count": 309,
     "metadata": {},
     "output_type": "execute_result"
    }
   ],
   "source": [
    "len(palabras_criticas_malas10mil_tokenizadas)"
   ]
  },
  {
   "cell_type": "code",
   "execution_count": 310,
   "metadata": {},
   "outputs": [],
   "source": [
    "filtered_sentence_malas10mil=[]\n",
    "for w in palabras_criticas_malas10mil_tokenizadas:\n",
    "    if w not in stop_words:\n",
    "        filtered_sentence_malas10mil.append(w)"
   ]
  },
  {
   "cell_type": "code",
   "execution_count": 322,
   "metadata": {},
   "outputs": [
    {
     "data": {
      "text/plain": [
       "203771"
      ]
     },
     "execution_count": 322,
     "metadata": {},
     "output_type": "execute_result"
    }
   ],
   "source": [
    "len(filtered_sentence_malas10mil)"
   ]
  },
  {
   "cell_type": "code",
   "execution_count": 312,
   "metadata": {},
   "outputs": [],
   "source": [
    "ps=PorterStemmer()\n",
    "# la lista es: filtered_sentence_malisimo\n",
    "filtered_sentence_malas10mil_stemmizado=[]\n",
    "for w in filtered_sentence_malas10mil:\n",
    "    j=ps.stem(w)\n",
    "    filtered_sentence_malas10mil_stemmizado.append(j)"
   ]
  },
  {
   "cell_type": "code",
   "execution_count": 313,
   "metadata": {},
   "outputs": [
    {
     "data": {
      "text/html": [
       "<div>\n",
       "<style scoped>\n",
       "    .dataframe tbody tr th:only-of-type {\n",
       "        vertical-align: middle;\n",
       "    }\n",
       "\n",
       "    .dataframe tbody tr th {\n",
       "        vertical-align: top;\n",
       "    }\n",
       "\n",
       "    .dataframe thead th {\n",
       "        text-align: right;\n",
       "    }\n",
       "</style>\n",
       "<table border=\"1\" class=\"dataframe\">\n",
       "  <thead>\n",
       "    <tr style=\"text-align: right;\">\n",
       "      <th></th>\n",
       "      <th>Palabras</th>\n",
       "      <th>Frecuencia</th>\n",
       "    </tr>\n",
       "  </thead>\n",
       "  <tbody>\n",
       "    <tr>\n",
       "      <th>740</th>\n",
       "      <td>No</td>\n",
       "      <td>3073</td>\n",
       "    </tr>\n",
       "    <tr>\n",
       "      <th>2637</th>\n",
       "      <td>bien</td>\n",
       "      <td>3033</td>\n",
       "    </tr>\n",
       "    <tr>\n",
       "      <th>3049</th>\n",
       "      <td>calidad</td>\n",
       "      <td>1833</td>\n",
       "    </tr>\n",
       "    <tr>\n",
       "      <th>46</th>\n",
       "      <td>...</td>\n",
       "      <td>1820</td>\n",
       "    </tr>\n",
       "    <tr>\n",
       "      <th>14573</th>\n",
       "      <td>si</td>\n",
       "      <td>1712</td>\n",
       "    </tr>\n",
       "    <tr>\n",
       "      <th>12668</th>\n",
       "      <td>producto</td>\n",
       "      <td>1494</td>\n",
       "    </tr>\n",
       "    <tr>\n",
       "      <th>12457</th>\n",
       "      <td>precio</td>\n",
       "      <td>1041</td>\n",
       "    </tr>\n",
       "    <tr>\n",
       "      <th>5924</th>\n",
       "      <td>do</td>\n",
       "      <td>993</td>\n",
       "    </tr>\n",
       "    <tr>\n",
       "      <th>2552</th>\n",
       "      <td>bastant</td>\n",
       "      <td>859</td>\n",
       "    </tr>\n",
       "    <tr>\n",
       "      <th>2851</th>\n",
       "      <td>buena</td>\n",
       "      <td>812</td>\n",
       "    </tr>\n",
       "    <tr>\n",
       "      <th>9927</th>\n",
       "      <td>mal</td>\n",
       "      <td>761</td>\n",
       "    </tr>\n",
       "    <tr>\n",
       "      <th>16016</th>\n",
       "      <td>uso</td>\n",
       "      <td>753</td>\n",
       "    </tr>\n",
       "    <tr>\n",
       "      <th>8320</th>\n",
       "      <td>hace</td>\n",
       "      <td>746</td>\n",
       "    </tr>\n",
       "    <tr>\n",
       "      <th>11500</th>\n",
       "      <td>parec</td>\n",
       "      <td>730</td>\n",
       "    </tr>\n",
       "    <tr>\n",
       "      <th>9880</th>\n",
       "      <td>ma</td>\n",
       "      <td>726</td>\n",
       "    </tr>\n",
       "    <tr>\n",
       "      <th>6092</th>\n",
       "      <td>día</td>\n",
       "      <td>723</td>\n",
       "    </tr>\n",
       "    <tr>\n",
       "      <th>12842</th>\n",
       "      <td>pued</td>\n",
       "      <td>715</td>\n",
       "    </tr>\n",
       "    <tr>\n",
       "      <th>14799</th>\n",
       "      <td>solo</td>\n",
       "      <td>695</td>\n",
       "    </tr>\n",
       "    <tr>\n",
       "      <th>7860</th>\n",
       "      <td>funciona</td>\n",
       "      <td>678</td>\n",
       "    </tr>\n",
       "    <tr>\n",
       "      <th>5084</th>\n",
       "      <td>demasiado</td>\n",
       "      <td>660</td>\n",
       "    </tr>\n",
       "    <tr>\n",
       "      <th>12635</th>\n",
       "      <td>problema</td>\n",
       "      <td>659</td>\n",
       "    </tr>\n",
       "    <tr>\n",
       "      <th>10251</th>\n",
       "      <td>mejor</td>\n",
       "      <td>658</td>\n",
       "    </tr>\n",
       "    <tr>\n",
       "      <th>12969</th>\n",
       "      <td>queda</td>\n",
       "      <td>652</td>\n",
       "    </tr>\n",
       "    <tr>\n",
       "      <th>11800</th>\n",
       "      <td>pequeño</td>\n",
       "      <td>645</td>\n",
       "    </tr>\n",
       "    <tr>\n",
       "      <th>11449</th>\n",
       "      <td>pantalla</td>\n",
       "      <td>630</td>\n",
       "    </tr>\n",
       "    <tr>\n",
       "      <th>7750</th>\n",
       "      <td>foto</td>\n",
       "      <td>612</td>\n",
       "    </tr>\n",
       "    <tr>\n",
       "      <th>9928</th>\n",
       "      <td>mala</td>\n",
       "      <td>594</td>\n",
       "    </tr>\n",
       "    <tr>\n",
       "      <th>11537</th>\n",
       "      <td>part</td>\n",
       "      <td>590</td>\n",
       "    </tr>\n",
       "    <tr>\n",
       "      <th>14514</th>\n",
       "      <td>ser</td>\n",
       "      <td>589</td>\n",
       "    </tr>\n",
       "    <tr>\n",
       "      <th>3809</th>\n",
       "      <td>color</td>\n",
       "      <td>588</td>\n",
       "    </tr>\n",
       "  </tbody>\n",
       "</table>\n",
       "</div>"
      ],
      "text/plain": [
       "        Palabras  Frecuencia\n",
       "740           No        3073\n",
       "2637        bien        3033\n",
       "3049     calidad        1833\n",
       "46           ...        1820\n",
       "14573         si        1712\n",
       "12668   producto        1494\n",
       "12457     precio        1041\n",
       "5924          do         993\n",
       "2552     bastant         859\n",
       "2851       buena         812\n",
       "9927         mal         761\n",
       "16016        uso         753\n",
       "8320        hace         746\n",
       "11500      parec         730\n",
       "9880          ma         726\n",
       "6092         día         723\n",
       "12842       pued         715\n",
       "14799       solo         695\n",
       "7860    funciona         678\n",
       "5084   demasiado         660\n",
       "12635   problema         659\n",
       "10251      mejor         658\n",
       "12969      queda         652\n",
       "11800    pequeño         645\n",
       "11449   pantalla         630\n",
       "7750        foto         612\n",
       "9928        mala         594\n",
       "11537       part         590\n",
       "14514        ser         589\n",
       "3809       color         588"
      ]
     },
     "execution_count": 313,
     "metadata": {},
     "output_type": "execute_result"
    }
   ],
   "source": [
    "df_de_palabras_dos_estrellas = DataFrame(filtered_sentence_malas10mil_stemmizado,columns=['Palabras'])\n",
    "df_de_palabras_dos_estrellas =df_de_palabras_dos_estrellas.groupby([\"Palabras\"]).size().reset_index(name=\"Frecuencia\") \n",
    "df_de_palabras_dos_estrellas =df_de_palabras_dos_estrellas.sort_values(by=\"Frecuencia\",ascending=False)\n",
    "df_de_palabras_dos_estrellas.head(30)"
   ]
  },
  {
   "cell_type": "code",
   "execution_count": 314,
   "metadata": {},
   "outputs": [
    {
     "data": {
      "image/png": "[encoded data removed]",
      "text/plain": [
       "<Figure size 1080x576 with 1 Axes>"
      ]
     },
     "metadata": {
      "needs_background": "light"
     },
     "output_type": "display_data"
    }
   ],
   "source": [
    "plt.figure(figsize = (15,8))\n",
    "plot = sns.barplot(x  = df_de_palabras_dos_estrellas.iloc[:30].Palabras, y = df_de_palabras_dos_estrellas.iloc[:30].Frecuencia)\n",
    "for item in plot.get_xticklabels():\n",
    "    item.set_rotation(90)\n",
    "plt.grid()\n",
    "plt.title('Palabras más usadas para reviews de 2 estrellas',fontsize=20)\n",
    "plt.show()"
   ]
  },
  {
   "cell_type": "markdown",
   "metadata": {},
   "source": [
    "### Vemos la distribución de palabras para las criticas de 3 estrellas."
   ]
  },
  {
   "cell_type": "code",
   "execution_count": 280,
   "metadata": {},
   "outputs": [
    {
     "data": {
      "text/plain": [
       "(12600, 9)"
      ]
     },
     "execution_count": 280,
     "metadata": {},
     "output_type": "execute_result"
    }
   ],
   "source": [
    "bueno_10mil=((pc30.stars==3))\n",
    "bueno_10mil=pc30[bueno_10mil].copy()\n",
    "bueno_10mil.shape"
   ]
  },
  {
   "cell_type": "code",
   "execution_count": 262,
   "metadata": {},
   "outputs": [
    {
     "name": "stdout",
     "output_type": "stream",
     "text": [
      "Cantidad de estrellas: 1\n",
      "[3]\n",
      "3    12600\n",
      "Name: stars, dtype: int64\n"
     ]
    },
    {
     "data": {
      "image/png": "[encoded data removed]",
      "text/plain": [
       "<Figure size 576x288 with 1 Axes>"
      ]
     },
     "metadata": {
      "needs_background": "light"
     },
     "output_type": "display_data"
    }
   ],
   "source": [
    "estrellas=bueno_10mil['stars']\n",
    "print(\"Cantidad de estrellas:\", len(bueno_10mil['stars'].unique()))\n",
    "print(bueno_10mil['stars'].unique())\n",
    "plt.figure(figsize=(8,4))\n",
    "#tipologia.hist()\n",
    "plt.xticks(rotation=0)\n",
    "cuento_estrellas=bueno_10mil['stars'].value_counts()\n",
    "print(cuento_estrellas)\n",
    "#sns.set_theme(style=\"darkgrid\")\n",
    "ax = sns.countplot(x='stars', data=bueno_10mil,palette=[\"green\"])\n",
    "plt.grid()"
   ]
  },
  {
   "cell_type": "code",
   "execution_count": 263,
   "metadata": {},
   "outputs": [],
   "source": [
    "buenas_criticas=[]\n",
    "for i in bueno_10mil.review_body:\n",
    "    criticas=i\n",
    "    buenas_criticas.append(criticas)\n",
    "#buenas_criticas #(es la lista con todas las reviews)"
   ]
  },
  {
   "cell_type": "code",
   "execution_count": 264,
   "metadata": {},
   "outputs": [],
   "source": [
    "criticas_buenas10mil_tokenizadas=[]\n",
    "for i in buenas_criticas:## Osea la lista entera de criticas\n",
    "    j=nltk.tokenize.word_tokenize(i)\n",
    "    criticas_buenas10mil_tokenizadas.append(j) "
   ]
  },
  {
   "cell_type": "code",
   "execution_count": 265,
   "metadata": {},
   "outputs": [],
   "source": [
    "palabras_criticas_buenas10mil_tokenizadas = list(itertools.chain(*criticas_buenas10mil_tokenizadas))"
   ]
  },
  {
   "cell_type": "code",
   "execution_count": 266,
   "metadata": {},
   "outputs": [
    {
     "data": {
      "text/plain": [
       "400549"
      ]
     },
     "execution_count": 266,
     "metadata": {},
     "output_type": "execute_result"
    }
   ],
   "source": [
    "len(palabras_criticas_buenas10mil_tokenizadas)"
   ]
  },
  {
   "cell_type": "code",
   "execution_count": 267,
   "metadata": {},
   "outputs": [],
   "source": [
    "filtered_sentence_bueno10mil=[]\n",
    "for w in palabras_criticas_buenas10mil_tokenizadas:\n",
    "    if w not in stop_words:\n",
    "        filtered_sentence_bueno10mil.append(w)"
   ]
  },
  {
   "cell_type": "code",
   "execution_count": 268,
   "metadata": {},
   "outputs": [
    {
     "data": {
      "text/plain": [
       "187388"
      ]
     },
     "execution_count": 268,
     "metadata": {},
     "output_type": "execute_result"
    }
   ],
   "source": [
    "len(filtered_sentence_bueno10mil)"
   ]
  },
  {
   "cell_type": "code",
   "execution_count": 269,
   "metadata": {},
   "outputs": [],
   "source": [
    "ps=PorterStemmer()\n",
    "# la lista es: filtered_sentence_malisimo\n",
    "filtered_sentence_bueno10mil_stemmizado=[]\n",
    "for w in filtered_sentence_bueno10mil:\n",
    "    j=ps.stem(w)\n",
    "    filtered_sentence_bueno10mil_stemmizado.append(j)"
   ]
  },
  {
   "cell_type": "code",
   "execution_count": 270,
   "metadata": {},
   "outputs": [
    {
     "data": {
      "text/html": [
       "<div>\n",
       "<style scoped>\n",
       "    .dataframe tbody tr th:only-of-type {\n",
       "        vertical-align: middle;\n",
       "    }\n",
       "\n",
       "    .dataframe tbody tr th {\n",
       "        vertical-align: top;\n",
       "    }\n",
       "\n",
       "    .dataframe thead th {\n",
       "        text-align: right;\n",
       "    }\n",
       "</style>\n",
       "<table border=\"1\" class=\"dataframe\">\n",
       "  <thead>\n",
       "    <tr style=\"text-align: right;\">\n",
       "      <th></th>\n",
       "      <th>Palabras</th>\n",
       "      <th>Frecuencia</th>\n",
       "    </tr>\n",
       "  </thead>\n",
       "  <tbody>\n",
       "    <tr>\n",
       "      <th>2490</th>\n",
       "      <td>bien</td>\n",
       "      <td>4345</td>\n",
       "    </tr>\n",
       "    <tr>\n",
       "      <th>655</th>\n",
       "      <td>No</td>\n",
       "      <td>1855</td>\n",
       "    </tr>\n",
       "    <tr>\n",
       "      <th>2917</th>\n",
       "      <td>calidad</td>\n",
       "      <td>1753</td>\n",
       "    </tr>\n",
       "    <tr>\n",
       "      <th>13916</th>\n",
       "      <td>si</td>\n",
       "      <td>1689</td>\n",
       "    </tr>\n",
       "    <tr>\n",
       "      <th>11949</th>\n",
       "      <td>precio</td>\n",
       "      <td>1640</td>\n",
       "    </tr>\n",
       "    <tr>\n",
       "      <th>51</th>\n",
       "      <td>...</td>\n",
       "      <td>1442</td>\n",
       "    </tr>\n",
       "    <tr>\n",
       "      <th>12141</th>\n",
       "      <td>producto</td>\n",
       "      <td>1255</td>\n",
       "    </tr>\n",
       "    <tr>\n",
       "      <th>2726</th>\n",
       "      <td>buena</td>\n",
       "      <td>1130</td>\n",
       "    </tr>\n",
       "    <tr>\n",
       "      <th>2406</th>\n",
       "      <td>bastant</td>\n",
       "      <td>1092</td>\n",
       "    </tr>\n",
       "    <tr>\n",
       "      <th>2182</th>\n",
       "      <td>aunqu</td>\n",
       "      <td>922</td>\n",
       "    </tr>\n",
       "    <tr>\n",
       "      <th>9417</th>\n",
       "      <td>ma</td>\n",
       "      <td>780</td>\n",
       "    </tr>\n",
       "    <tr>\n",
       "      <th>12294</th>\n",
       "      <td>pued</td>\n",
       "      <td>752</td>\n",
       "    </tr>\n",
       "    <tr>\n",
       "      <th>9759</th>\n",
       "      <td>mejor</td>\n",
       "      <td>724</td>\n",
       "    </tr>\n",
       "    <tr>\n",
       "      <th>10983</th>\n",
       "      <td>parec</td>\n",
       "      <td>712</td>\n",
       "    </tr>\n",
       "    <tr>\n",
       "      <th>7967</th>\n",
       "      <td>hace</td>\n",
       "      <td>702</td>\n",
       "    </tr>\n",
       "    <tr>\n",
       "      <th>9458</th>\n",
       "      <td>mal</td>\n",
       "      <td>692</td>\n",
       "    </tr>\n",
       "    <tr>\n",
       "      <th>7819</th>\n",
       "      <td>grand</td>\n",
       "      <td>685</td>\n",
       "    </tr>\n",
       "    <tr>\n",
       "      <th>11310</th>\n",
       "      <td>pequeño</td>\n",
       "      <td>655</td>\n",
       "    </tr>\n",
       "    <tr>\n",
       "      <th>12114</th>\n",
       "      <td>problema</td>\n",
       "      <td>645</td>\n",
       "    </tr>\n",
       "    <tr>\n",
       "      <th>2730</th>\n",
       "      <td>bueno</td>\n",
       "      <td>642</td>\n",
       "    </tr>\n",
       "    <tr>\n",
       "      <th>11843</th>\n",
       "      <td>por</td>\n",
       "      <td>641</td>\n",
       "    </tr>\n",
       "    <tr>\n",
       "      <th>12416</th>\n",
       "      <td>queda</td>\n",
       "      <td>638</td>\n",
       "    </tr>\n",
       "    <tr>\n",
       "      <th>6677</th>\n",
       "      <td>esperaba</td>\n",
       "      <td>629</td>\n",
       "    </tr>\n",
       "    <tr>\n",
       "      <th>11406</th>\n",
       "      <td>pero</td>\n",
       "      <td>627</td>\n",
       "    </tr>\n",
       "    <tr>\n",
       "      <th>7528</th>\n",
       "      <td>funciona</td>\n",
       "      <td>612</td>\n",
       "    </tr>\n",
       "    <tr>\n",
       "      <th>4531</th>\n",
       "      <td>cumpl</td>\n",
       "      <td>609</td>\n",
       "    </tr>\n",
       "    <tr>\n",
       "      <th>4856</th>\n",
       "      <td>demasiado</td>\n",
       "      <td>608</td>\n",
       "    </tr>\n",
       "    <tr>\n",
       "      <th>0</th>\n",
       "      <td>!</td>\n",
       "      <td>597</td>\n",
       "    </tr>\n",
       "    <tr>\n",
       "      <th>15320</th>\n",
       "      <td>uso</td>\n",
       "      <td>586</td>\n",
       "    </tr>\n",
       "    <tr>\n",
       "      <th>3651</th>\n",
       "      <td>color</td>\n",
       "      <td>586</td>\n",
       "    </tr>\n",
       "  </tbody>\n",
       "</table>\n",
       "</div>"
      ],
      "text/plain": [
       "        Palabras  Frecuencia\n",
       "2490        bien        4345\n",
       "655           No        1855\n",
       "2917     calidad        1753\n",
       "13916         si        1689\n",
       "11949     precio        1640\n",
       "51           ...        1442\n",
       "12141   producto        1255\n",
       "2726       buena        1130\n",
       "2406     bastant        1092\n",
       "2182       aunqu         922\n",
       "9417          ma         780\n",
       "12294       pued         752\n",
       "9759       mejor         724\n",
       "10983      parec         712\n",
       "7967        hace         702\n",
       "9458         mal         692\n",
       "7819       grand         685\n",
       "11310    pequeño         655\n",
       "12114   problema         645\n",
       "2730       bueno         642\n",
       "11843        por         641\n",
       "12416      queda         638\n",
       "6677    esperaba         629\n",
       "11406       pero         627\n",
       "7528    funciona         612\n",
       "4531       cumpl         609\n",
       "4856   demasiado         608\n",
       "0              !         597\n",
       "15320        uso         586\n",
       "3651       color         586"
      ]
     },
     "execution_count": 270,
     "metadata": {},
     "output_type": "execute_result"
    }
   ],
   "source": [
    "df_de_palabras_tres_estrellas = DataFrame(filtered_sentence_bueno10mil_stemmizado,columns=['Palabras'])\n",
    "df_de_palabras_tres_estrellas=df_de_palabras_tres_estrellas.groupby([\"Palabras\"]).size().reset_index(name=\"Frecuencia\") \n",
    "df_de_palabras_tres_estrellas=df_de_palabras_tres_estrellas.sort_values(by=\"Frecuencia\",ascending=False)\n",
    "df_de_palabras_tres_estrellas.head(30)"
   ]
  },
  {
   "cell_type": "code",
   "execution_count": 272,
   "metadata": {},
   "outputs": [
    {
     "data": {
      "image/png": "[encoded data removed]",
      "text/plain": [
       "<Figure size 1080x576 with 1 Axes>"
      ]
     },
     "metadata": {
      "needs_background": "light"
     },
     "output_type": "display_data"
    }
   ],
   "source": [
    "plt.figure(figsize = (15,8))\n",
    "plot = sns.barplot(x  = df_de_palabras_tres_estrellas.iloc[:30].Palabras, y = df_de_palabras_tres_estrellas.iloc[:30].Frecuencia)\n",
    "for item in plot.get_xticklabels():\n",
    "    item.set_rotation(90)\n",
    "plt.grid()\n",
    "plt.title('Palabras más usadas para reviews de 3 estrellas',fontsize=20)\n",
    "plt.show()"
   ]
  },
  {
   "cell_type": "markdown",
   "metadata": {},
   "source": [
    "### Ahora queremos ver la distribución de palabras para las criticas de 4 estrellas."
   ]
  },
  {
   "cell_type": "code",
   "execution_count": 169,
   "metadata": {},
   "outputs": [
    {
     "data": {
      "text/plain": [
       "(12600, 9)"
      ]
     },
     "execution_count": 169,
     "metadata": {},
     "output_type": "execute_result"
    }
   ],
   "source": [
    "Muy_bueno_10mil=((pc30.stars==4))\n",
    "Muy_bueno_10mil=pc30[Muy_bueno_10mil].copy()\n",
    "Muy_bueno_10mil.shape"
   ]
  },
  {
   "cell_type": "code",
   "execution_count": 223,
   "metadata": {},
   "outputs": [],
   "source": [
    "muybuenas_criticas=[]\n",
    "for i in Muy_bueno_10mil.review_body:\n",
    "    criticas=i\n",
    "    muybuenas_criticas.append(criticas)\n",
    "#muybuenas_criticas (es la lista con todas las reviews)"
   ]
  },
  {
   "cell_type": "code",
   "execution_count": 170,
   "metadata": {},
   "outputs": [
    {
     "name": "stdout",
     "output_type": "stream",
     "text": [
      "Cantidad de estrellas: 1\n",
      "[4]\n",
      "4    12600\n",
      "Name: stars, dtype: int64\n"
     ]
    },
    {
     "data": {
      "image/png": "[encoded data removed]",
      "text/plain": [
       "<Figure size 576x288 with 1 Axes>"
      ]
     },
     "metadata": {
      "needs_background": "light"
     },
     "output_type": "display_data"
    }
   ],
   "source": [
    "estrellas=Muy_bueno_10mil['stars']\n",
    "print(\"Cantidad de estrellas:\", len(Muy_bueno_10mil['stars'].unique()))\n",
    "print(Muy_bueno_10mil['stars'].unique())\n",
    "plt.figure(figsize=(8,4))\n",
    "#tipologia.hist()\n",
    "plt.xticks(rotation=0)\n",
    "cuento_estrellas=Muy_bueno_10mil['stars'].value_counts()\n",
    "print(cuento_estrellas)\n",
    "#sns.set_theme(style=\"darkgrid\")\n",
    "ax = sns.countplot(x='stars', data=Muy_bueno_10mil,palette=[\"red\"])\n",
    "plt.grid()"
   ]
  },
  {
   "cell_type": "code",
   "execution_count": 171,
   "metadata": {},
   "outputs": [],
   "source": [
    "muybuenas_criticas=[]\n",
    "for i in Muy_bueno_10mil.review_body:\n",
    "    criticas=i\n",
    "    muybuenas_criticas.append(criticas)\n",
    "#muybuenas_criticas (es la lista con todas las reviews)"
   ]
  },
  {
   "cell_type": "code",
   "execution_count": 172,
   "metadata": {},
   "outputs": [],
   "source": [
    "criticas_muybuenas10mil_tokenizadas=[]\n",
    "for i in muybuenas_criticas:## Osea la lista entera de criticas\n",
    "    j=nltk.tokenize.word_tokenize(i)\n",
    "    criticas_muybuenas10mil_tokenizadas.append(j)    "
   ]
  },
  {
   "cell_type": "code",
   "execution_count": 173,
   "metadata": {},
   "outputs": [],
   "source": [
    "palabras_criticas_muybuenas10mil_tokenizadas = list(itertools.chain(*criticas_muybuenas10mil_tokenizadas))"
   ]
  },
  {
   "cell_type": "code",
   "execution_count": 175,
   "metadata": {},
   "outputs": [],
   "source": [
    "filtered_sentence_muybueno10mil=[]\n",
    "for w in palabras_criticas_muybuenas10mil_tokenizadas:\n",
    "    if w not in stop_words:\n",
    "        filtered_sentence_muybueno10mil.append(w)"
   ]
  },
  {
   "cell_type": "code",
   "execution_count": 176,
   "metadata": {},
   "outputs": [
    {
     "data": {
      "text/plain": [
       "172425"
      ]
     },
     "execution_count": 176,
     "metadata": {},
     "output_type": "execute_result"
    }
   ],
   "source": [
    "len(filtered_sentence_muybueno10mil)"
   ]
  },
  {
   "cell_type": "code",
   "execution_count": 179,
   "metadata": {},
   "outputs": [],
   "source": [
    "ps=PorterStemmer()\n",
    "# la lista es: filtered_sentence_malisimo\n",
    "filtered_sentence_muybueno10mil_stemmizado=[]\n",
    "for w in filtered_sentence_muybueno10mil:\n",
    "    j=ps.stem(w)\n",
    "    filtered_sentence_muybueno10mil_stemmizado.append(j)"
   ]
  },
  {
   "cell_type": "code",
   "execution_count": 181,
   "metadata": {},
   "outputs": [
    {
     "data": {
      "text/html": [
       "<div>\n",
       "<style scoped>\n",
       "    .dataframe tbody tr th:only-of-type {\n",
       "        vertical-align: middle;\n",
       "    }\n",
       "\n",
       "    .dataframe tbody tr th {\n",
       "        vertical-align: top;\n",
       "    }\n",
       "\n",
       "    .dataframe thead th {\n",
       "        text-align: right;\n",
       "    }\n",
       "</style>\n",
       "<table border=\"1\" class=\"dataframe\">\n",
       "  <thead>\n",
       "    <tr style=\"text-align: right;\">\n",
       "      <th></th>\n",
       "      <th>Palabras</th>\n",
       "      <th>Frecuencia</th>\n",
       "    </tr>\n",
       "  </thead>\n",
       "  <tbody>\n",
       "    <tr>\n",
       "      <th>2317</th>\n",
       "      <td>bien</td>\n",
       "      <td>4428</td>\n",
       "    </tr>\n",
       "    <tr>\n",
       "      <th>2707</th>\n",
       "      <td>calidad</td>\n",
       "      <td>2133</td>\n",
       "    </tr>\n",
       "    <tr>\n",
       "      <th>2528</th>\n",
       "      <td>buena</td>\n",
       "      <td>2132</td>\n",
       "    </tr>\n",
       "    <tr>\n",
       "      <th>11163</th>\n",
       "      <td>precio</td>\n",
       "      <td>2000</td>\n",
       "    </tr>\n",
       "    <tr>\n",
       "      <th>11382</th>\n",
       "      <td>producto</td>\n",
       "      <td>1409</td>\n",
       "    </tr>\n",
       "    <tr>\n",
       "      <th>2526</th>\n",
       "      <td>buen</td>\n",
       "      <td>1241</td>\n",
       "    </tr>\n",
       "    <tr>\n",
       "      <th>2233</th>\n",
       "      <td>bastant</td>\n",
       "      <td>1159</td>\n",
       "    </tr>\n",
       "    <tr>\n",
       "      <th>13009</th>\n",
       "      <td>si</td>\n",
       "      <td>1150</td>\n",
       "    </tr>\n",
       "    <tr>\n",
       "      <th>9593</th>\n",
       "      <td>muy</td>\n",
       "      <td>1014</td>\n",
       "    </tr>\n",
       "    <tr>\n",
       "      <th>4219</th>\n",
       "      <td>cumpl</td>\n",
       "      <td>942</td>\n",
       "    </tr>\n",
       "    <tr>\n",
       "      <th>2016</th>\n",
       "      <td>aunqu</td>\n",
       "      <td>871</td>\n",
       "    </tr>\n",
       "    <tr>\n",
       "      <th>599</th>\n",
       "      <td>No</td>\n",
       "      <td>862</td>\n",
       "    </tr>\n",
       "    <tr>\n",
       "      <th>41</th>\n",
       "      <td>...</td>\n",
       "      <td>809</td>\n",
       "    </tr>\n",
       "    <tr>\n",
       "      <th>10611</th>\n",
       "      <td>perfecto</td>\n",
       "      <td>795</td>\n",
       "    </tr>\n",
       "    <tr>\n",
       "      <th>11551</th>\n",
       "      <td>pued</td>\n",
       "      <td>732</td>\n",
       "    </tr>\n",
       "    <tr>\n",
       "      <th>6957</th>\n",
       "      <td>funciona</td>\n",
       "      <td>723</td>\n",
       "    </tr>\n",
       "    <tr>\n",
       "      <th>10606</th>\n",
       "      <td>perfectament</td>\n",
       "      <td>717</td>\n",
       "    </tr>\n",
       "    <tr>\n",
       "      <th>0</th>\n",
       "      <td>!</td>\n",
       "      <td>714</td>\n",
       "    </tr>\n",
       "    <tr>\n",
       "      <th>2535</th>\n",
       "      <td>bueno</td>\n",
       "      <td>691</td>\n",
       "    </tr>\n",
       "    <tr>\n",
       "      <th>8793</th>\n",
       "      <td>ma</td>\n",
       "      <td>626</td>\n",
       "    </tr>\n",
       "    <tr>\n",
       "      <th>7012</th>\n",
       "      <td>fácil</td>\n",
       "      <td>618</td>\n",
       "    </tr>\n",
       "    <tr>\n",
       "      <th>7380</th>\n",
       "      <td>hace</td>\n",
       "      <td>609</td>\n",
       "    </tr>\n",
       "    <tr>\n",
       "      <th>13835</th>\n",
       "      <td>tiempo</td>\n",
       "      <td>606</td>\n",
       "    </tr>\n",
       "    <tr>\n",
       "      <th>3521</th>\n",
       "      <td>compra</td>\n",
       "      <td>605</td>\n",
       "    </tr>\n",
       "    <tr>\n",
       "      <th>10285</th>\n",
       "      <td>parec</td>\n",
       "      <td>593</td>\n",
       "    </tr>\n",
       "    <tr>\n",
       "      <th>11064</th>\n",
       "      <td>por</td>\n",
       "      <td>587</td>\n",
       "    </tr>\n",
       "    <tr>\n",
       "      <th>7220</th>\n",
       "      <td>grand</td>\n",
       "      <td>582</td>\n",
       "    </tr>\n",
       "    <tr>\n",
       "      <th>9117</th>\n",
       "      <td>mejor</td>\n",
       "      <td>581</td>\n",
       "    </tr>\n",
       "    <tr>\n",
       "      <th>11353</th>\n",
       "      <td>problema</td>\n",
       "      <td>570</td>\n",
       "    </tr>\n",
       "    <tr>\n",
       "      <th>14324</th>\n",
       "      <td>uso</td>\n",
       "      <td>556</td>\n",
       "    </tr>\n",
       "  </tbody>\n",
       "</table>\n",
       "</div>"
      ],
      "text/plain": [
       "           Palabras  Frecuencia\n",
       "2317           bien        4428\n",
       "2707        calidad        2133\n",
       "2528          buena        2132\n",
       "11163        precio        2000\n",
       "11382      producto        1409\n",
       "2526           buen        1241\n",
       "2233        bastant        1159\n",
       "13009            si        1150\n",
       "9593            muy        1014\n",
       "4219          cumpl         942\n",
       "2016          aunqu         871\n",
       "599              No         862\n",
       "41              ...         809\n",
       "10611      perfecto         795\n",
       "11551          pued         732\n",
       "6957       funciona         723\n",
       "10606  perfectament         717\n",
       "0                 !         714\n",
       "2535          bueno         691\n",
       "8793             ma         626\n",
       "7012          fácil         618\n",
       "7380           hace         609\n",
       "13835        tiempo         606\n",
       "3521         compra         605\n",
       "10285         parec         593\n",
       "11064           por         587\n",
       "7220          grand         582\n",
       "9117          mejor         581\n",
       "11353      problema         570\n",
       "14324           uso         556"
      ]
     },
     "execution_count": 181,
     "metadata": {},
     "output_type": "execute_result"
    }
   ],
   "source": [
    "df_de_palabras_cuatro_estrellas = DataFrame(filtered_sentence_muybueno10mil_stemmizado,columns=['Palabras'])\n",
    "df_de_palabras_cuatro_estrellas=df_de_palabras_cuatro_estrellas.groupby([\"Palabras\"]).size().reset_index(name=\"Frecuencia\") \n",
    "df_de_palabras_cuatro_estrellas=df_de_palabras_cuatro_estrellas.sort_values(by=\"Frecuencia\",ascending=False)\n",
    "df_de_palabras_cuatro_estrellas.head(30)"
   ]
  },
  {
   "cell_type": "code",
   "execution_count": 183,
   "metadata": {},
   "outputs": [
    {
     "data": {
      "image/png": "[encoded data removed]",
      "text/plain": [
       "<Figure size 1080x576 with 1 Axes>"
      ]
     },
     "metadata": {
      "needs_background": "light"
     },
     "output_type": "display_data"
    }
   ],
   "source": [
    "plt.figure(figsize = (15,8))\n",
    "plot = sns.barplot(x  = df_de_palabras_cuatro_estrellas.iloc[:30].Palabras, y = df_de_palabras_cuatro_estrellas.iloc[:30].Frecuencia)\n",
    "for item in plot.get_xticklabels():\n",
    "    item.set_rotation(90)\n",
    "plt.grid()\n",
    "plt.title('Palabras más usadas para reviews de 4 estrellas',fontsize=20)\n",
    "plt.show()"
   ]
  },
  {
   "cell_type": "markdown",
   "metadata": {},
   "source": [
    "### Ahora queremos ver la distribución de palabras para las criticas de 5 estrellas, para la categoría \"home\""
   ]
  },
  {
   "cell_type": "code",
   "execution_count": 184,
   "metadata": {},
   "outputs": [
    {
     "data": {
      "text/plain": [
       "(12600, 9)"
      ]
     },
     "execution_count": 184,
     "metadata": {},
     "output_type": "execute_result"
    }
   ],
   "source": [
    "perfecto_10mil=((pc30.stars==5))\n",
    "perfecto_10mil=pc30[perfecto_10mil].copy()\n",
    "perfecto_10mil.shape"
   ]
  },
  {
   "cell_type": "code",
   "execution_count": 277,
   "metadata": {},
   "outputs": [
    {
     "name": "stdout",
     "output_type": "stream",
     "text": [
      "Cantidad de estrellas: 1\n",
      "[5]\n",
      "5    12600\n",
      "Name: stars, dtype: int64\n"
     ]
    },
    {
     "data": {
      "image/png": "[encoded data removed]",
      "text/plain": [
       "<Figure size 576x288 with 1 Axes>"
      ]
     },
     "metadata": {
      "needs_background": "light"
     },
     "output_type": "display_data"
    }
   ],
   "source": [
    "estrellas=perfecto_10mil['stars']\n",
    "print(\"Cantidad de estrellas:\", len(perfecto_10mil['stars'].unique()))\n",
    "print(perfecto_10mil['stars'].unique())\n",
    "plt.figure(figsize=(8,4))\n",
    "#tipologia.hist()\n",
    "plt.xticks(rotation=0)\n",
    "cuento_estrellas=perfecto_10mil['stars'].value_counts()\n",
    "print(cuento_estrellas)\n",
    "#sns.set_theme(style=\"darkgrid\")\n",
    "ax = sns.countplot(x='stars', data=perfecto_10mil,palette=[\"purple\"])\n",
    "plt.grid()"
   ]
  },
  {
   "cell_type": "code",
   "execution_count": 189,
   "metadata": {},
   "outputs": [],
   "source": [
    "criticasperfectas_pc30=[]\n",
    "for i in perfecto_10mil.review_body:\n",
    "    criticas=i\n",
    "    criticasperfectas_pc30.append(criticas)"
   ]
  },
  {
   "cell_type": "markdown",
   "metadata": {},
   "source": [
    "### Esta lista se deja comentada, es la lista de criticas perfectas."
   ]
  },
  {
   "cell_type": "code",
   "execution_count": 191,
   "metadata": {},
   "outputs": [],
   "source": [
    "#criticasperfectas_pc30"
   ]
  },
  {
   "cell_type": "code",
   "execution_count": 192,
   "metadata": {},
   "outputs": [
    {
     "data": {
      "text/plain": [
       "12600"
      ]
     },
     "execution_count": 192,
     "metadata": {},
     "output_type": "execute_result"
    }
   ],
   "source": [
    "len(criticasperfectas_pc30)"
   ]
  },
  {
   "cell_type": "code",
   "execution_count": 193,
   "metadata": {},
   "outputs": [],
   "source": [
    "criticas_perfectas_pc30_tokenizadas=[]\n",
    "for i in criticasperfectas_pc30:## Osea la lista entera de criticas\n",
    "    j=nltk.tokenize.word_tokenize(i)\n",
    "    criticas_perfectas_pc30_tokenizadas.append(j)"
   ]
  },
  {
   "cell_type": "code",
   "execution_count": 195,
   "metadata": {},
   "outputs": [],
   "source": [
    "#criticas_perfectas_pc30_tokenizadas"
   ]
  },
  {
   "cell_type": "code",
   "execution_count": 199,
   "metadata": {},
   "outputs": [],
   "source": [
    "palabras_criticas_perfectas_pc30_tokenizadas = list(itertools.chain(*criticas_perfectas_pc30_tokenizadas))"
   ]
  },
  {
   "cell_type": "code",
   "execution_count": 200,
   "metadata": {},
   "outputs": [
    {
     "data": {
      "text/plain": [
       "345703"
      ]
     },
     "execution_count": 200,
     "metadata": {},
     "output_type": "execute_result"
    }
   ],
   "source": [
    "len(palabras_criticas_perfectas_pc30_tokenizadas)"
   ]
  },
  {
   "cell_type": "code",
   "execution_count": 202,
   "metadata": {},
   "outputs": [],
   "source": [
    "#palabras_criticas_perfectas_pc30_tokenizadas"
   ]
  },
  {
   "cell_type": "code",
   "execution_count": 203,
   "metadata": {},
   "outputs": [],
   "source": [
    "filtered_sentence_perfecto_pc30=[]\n",
    "for w in palabras_criticas_perfectas_pc30_tokenizadas:\n",
    "    if w not in stop_words:\n",
    "        filtered_sentence_perfecto_pc30.append(w)"
   ]
  },
  {
   "cell_type": "code",
   "execution_count": 204,
   "metadata": {},
   "outputs": [
    {
     "data": {
      "text/plain": [
       "168762"
      ]
     },
     "execution_count": 204,
     "metadata": {},
     "output_type": "execute_result"
    }
   ],
   "source": [
    "len(filtered_sentence_perfecto_pc30)"
   ]
  },
  {
   "cell_type": "code",
   "execution_count": 210,
   "metadata": {},
   "outputs": [],
   "source": [
    "ps=PorterStemmer()\n",
    "# la lista es: filtered_sentence_malisimo\n",
    "filtered_sentence_perfecto_pc30_stemmizado=[]\n",
    "for w in filtered_sentence_perfecto_pc30:\n",
    "    j=ps.stem(w)\n",
    "    filtered_sentence_perfecto_pc30_stemmizado.append(j)"
   ]
  },
  {
   "cell_type": "code",
   "execution_count": 211,
   "metadata": {},
   "outputs": [
    {
     "data": {
      "text/html": [
       "<div>\n",
       "<style scoped>\n",
       "    .dataframe tbody tr th:only-of-type {\n",
       "        vertical-align: middle;\n",
       "    }\n",
       "\n",
       "    .dataframe tbody tr th {\n",
       "        vertical-align: top;\n",
       "    }\n",
       "\n",
       "    .dataframe thead th {\n",
       "        text-align: right;\n",
       "    }\n",
       "</style>\n",
       "<table border=\"1\" class=\"dataframe\">\n",
       "  <thead>\n",
       "    <tr style=\"text-align: right;\">\n",
       "      <th></th>\n",
       "      <th>Palabras</th>\n",
       "      <th>Frecuencia</th>\n",
       "    </tr>\n",
       "  </thead>\n",
       "  <tbody>\n",
       "    <tr>\n",
       "      <th>2264</th>\n",
       "      <td>bien</td>\n",
       "      <td>2921</td>\n",
       "    </tr>\n",
       "    <tr>\n",
       "      <th>2640</th>\n",
       "      <td>calidad</td>\n",
       "      <td>2423</td>\n",
       "    </tr>\n",
       "    <tr>\n",
       "      <th>2472</th>\n",
       "      <td>buena</td>\n",
       "      <td>2321</td>\n",
       "    </tr>\n",
       "    <tr>\n",
       "      <th>0</th>\n",
       "      <td>!</td>\n",
       "      <td>1795</td>\n",
       "    </tr>\n",
       "    <tr>\n",
       "      <th>9453</th>\n",
       "      <td>muy</td>\n",
       "      <td>1690</td>\n",
       "    </tr>\n",
       "    <tr>\n",
       "      <th>10917</th>\n",
       "      <td>precio</td>\n",
       "      <td>1645</td>\n",
       "    </tr>\n",
       "    <tr>\n",
       "      <th>10408</th>\n",
       "      <td>perfecto</td>\n",
       "      <td>1612</td>\n",
       "    </tr>\n",
       "    <tr>\n",
       "      <th>11132</th>\n",
       "      <td>producto</td>\n",
       "      <td>1489</td>\n",
       "    </tr>\n",
       "    <tr>\n",
       "      <th>2471</th>\n",
       "      <td>buen</td>\n",
       "      <td>1283</td>\n",
       "    </tr>\n",
       "    <tr>\n",
       "      <th>3454</th>\n",
       "      <td>compra</td>\n",
       "      <td>891</td>\n",
       "    </tr>\n",
       "    <tr>\n",
       "      <th>10399</th>\n",
       "      <td>perfectament</td>\n",
       "      <td>861</td>\n",
       "    </tr>\n",
       "    <tr>\n",
       "      <th>6987</th>\n",
       "      <td>genial</td>\n",
       "      <td>787</td>\n",
       "    </tr>\n",
       "    <tr>\n",
       "      <th>2179</th>\n",
       "      <td>bastant</td>\n",
       "      <td>784</td>\n",
       "    </tr>\n",
       "    <tr>\n",
       "      <th>6875</th>\n",
       "      <td>fácil</td>\n",
       "      <td>778</td>\n",
       "    </tr>\n",
       "    <tr>\n",
       "      <th>11726</th>\n",
       "      <td>recomiendo</td>\n",
       "      <td>761</td>\n",
       "    </tr>\n",
       "    <tr>\n",
       "      <th>12732</th>\n",
       "      <td>si</td>\n",
       "      <td>718</td>\n",
       "    </tr>\n",
       "    <tr>\n",
       "      <th>8966</th>\n",
       "      <td>mejor</td>\n",
       "      <td>717</td>\n",
       "    </tr>\n",
       "    <tr>\n",
       "      <th>2479</th>\n",
       "      <td>bueno</td>\n",
       "      <td>666</td>\n",
       "    </tr>\n",
       "    <tr>\n",
       "      <th>28</th>\n",
       "      <td>...</td>\n",
       "      <td>656</td>\n",
       "    </tr>\n",
       "    <tr>\n",
       "      <th>6829</th>\n",
       "      <td>funciona</td>\n",
       "      <td>653</td>\n",
       "    </tr>\n",
       "    <tr>\n",
       "      <th>11307</th>\n",
       "      <td>pued</td>\n",
       "      <td>646</td>\n",
       "    </tr>\n",
       "    <tr>\n",
       "      <th>13542</th>\n",
       "      <td>tiempo</td>\n",
       "      <td>623</td>\n",
       "    </tr>\n",
       "    <tr>\n",
       "      <th>11701</th>\n",
       "      <td>recomend</td>\n",
       "      <td>604</td>\n",
       "    </tr>\n",
       "    <tr>\n",
       "      <th>12386</th>\n",
       "      <td>rápido</td>\n",
       "      <td>584</td>\n",
       "    </tr>\n",
       "    <tr>\n",
       "      <th>4136</th>\n",
       "      <td>cumpl</td>\n",
       "      <td>576</td>\n",
       "    </tr>\n",
       "    <tr>\n",
       "      <th>10396</th>\n",
       "      <td>perfecta</td>\n",
       "      <td>575</td>\n",
       "    </tr>\n",
       "    <tr>\n",
       "      <th>2371</th>\n",
       "      <td>bonito</td>\n",
       "      <td>530</td>\n",
       "    </tr>\n",
       "    <tr>\n",
       "      <th>14033</th>\n",
       "      <td>uso</td>\n",
       "      <td>516</td>\n",
       "    </tr>\n",
       "    <tr>\n",
       "      <th>3293</th>\n",
       "      <td>color</td>\n",
       "      <td>515</td>\n",
       "    </tr>\n",
       "    <tr>\n",
       "      <th>13311</th>\n",
       "      <td>tamaño</td>\n",
       "      <td>511</td>\n",
       "    </tr>\n",
       "  </tbody>\n",
       "</table>\n",
       "</div>"
      ],
      "text/plain": [
       "           Palabras  Frecuencia\n",
       "2264           bien        2921\n",
       "2640        calidad        2423\n",
       "2472          buena        2321\n",
       "0                 !        1795\n",
       "9453            muy        1690\n",
       "10917        precio        1645\n",
       "10408      perfecto        1612\n",
       "11132      producto        1489\n",
       "2471           buen        1283\n",
       "3454         compra         891\n",
       "10399  perfectament         861\n",
       "6987         genial         787\n",
       "2179        bastant         784\n",
       "6875          fácil         778\n",
       "11726    recomiendo         761\n",
       "12732            si         718\n",
       "8966          mejor         717\n",
       "2479          bueno         666\n",
       "28              ...         656\n",
       "6829       funciona         653\n",
       "11307          pued         646\n",
       "13542        tiempo         623\n",
       "11701      recomend         604\n",
       "12386        rápido         584\n",
       "4136          cumpl         576\n",
       "10396      perfecta         575\n",
       "2371         bonito         530\n",
       "14033           uso         516\n",
       "3293          color         515\n",
       "13311        tamaño         511"
      ]
     },
     "execution_count": 211,
     "metadata": {},
     "output_type": "execute_result"
    }
   ],
   "source": [
    "df_de_palabras_cinco_estrellas = DataFrame(filtered_sentence_perfecto_pc30_stemmizado,columns=['Palabras'])\n",
    "df_de_palabras_cinco_estrellas=df_de_palabras_cinco_estrellas.groupby([\"Palabras\"]).size().reset_index(name=\"Frecuencia\")\n",
    "df_de_palabras_cinco_estrellas=df_de_palabras_cinco_estrellas.sort_values(by=\"Frecuencia\",ascending=False)\n",
    "df_de_palabras_cinco_estrellas[0:30]"
   ]
  },
  {
   "cell_type": "markdown",
   "metadata": {},
   "source": [
    "## Que palabras fueron las más usadas para las críticas de 5 estrellas?"
   ]
  },
  {
   "cell_type": "code",
   "execution_count": 212,
   "metadata": {},
   "outputs": [
    {
     "data": {
      "image/png": "[encoded data removed]",
      "text/plain": [
       "<Figure size 1080x576 with 1 Axes>"
      ]
     },
     "metadata": {
      "needs_background": "light"
     },
     "output_type": "display_data"
    }
   ],
   "source": [
    "plt.figure(figsize = (15,8))\n",
    "plot = sns.barplot(x  = df_de_palabras_cinco_estrellas.iloc[:30].Palabras, y = df_de_palabras_cinco_estrellas.iloc[:30].Frecuencia)\n",
    "for item in plot.get_xticklabels():\n",
    "    item.set_rotation(90)\n",
    "plt.grid()\n",
    "plt.title('Palabras más usadas para reviews de 5 estrellas',fontsize=20)\n",
    "plt.show()"
   ]
  },
  {
   "cell_type": "markdown",
   "metadata": {},
   "source": [
    "## Conclusiones:\n",
    "### Análisis del gráfico anterior:\n",
    "> Vemos que la palabras más usadas son: \"bien\", \"buena\", \"calidad\", \"perfecto\", \"precio\". lo que es lógico para describir una buena crítica.\n",
    "\n",
    "> También vemos que está presente el signo de exclamación \"!\". Que evidentemente se usa para describir algo fuerte, para darle énfasis a las emociones. En este caso, felicidad, gratitud, conformidad."
   ]
  },
  {
   "cell_type": "code",
   "execution_count": null,
   "metadata": {},
   "outputs": [],
   "source": [
    "data[\"Length_Review\"]=(data.apply(lambda x: len(x.review_body), axis=1))"
   ]
  },
  {
   "cell_type": "code",
   "execution_count": null,
   "metadata": {
    "scrolled": false
   },
   "outputs": [],
   "source": [
    "data.head(5)"
   ]
  },
  {
   "cell_type": "code",
   "execution_count": null,
   "metadata": {},
   "outputs": [],
   "source": [
    "len(data.review_body[1])"
   ]
  },
  {
   "cell_type": "code",
   "execution_count": null,
   "metadata": {},
   "outputs": [],
   "source": [
    "#titular_wt = nltk.tokenize.word_tokenize(data.review_body)\n",
    "#titular_wt\n",
    "review_body_tokenizado=[]\n",
    "for i in data.review_body:## Osea la lista entera de criticas\n",
    "    j=nltk.tokenize.word_tokenize(i)\n",
    "    review_body_tokenizado.append(j)"
   ]
  },
  {
   "cell_type": "code",
   "execution_count": null,
   "metadata": {},
   "outputs": [],
   "source": [
    "type(review_body_tokenizado)"
   ]
  },
  {
   "cell_type": "code",
   "execution_count": null,
   "metadata": {},
   "outputs": [],
   "source": [
    "data['review_body_tokenizado']=review_body_tokenizado"
   ]
  },
  {
   "cell_type": "code",
   "execution_count": null,
   "metadata": {},
   "outputs": [],
   "source": [
    "data.head(2)"
   ]
  },
  {
   "cell_type": "code",
   "execution_count": null,
   "metadata": {},
   "outputs": [],
   "source": []
  }
 ],
 "metadata": {
  "kernelspec": {
   "display_name": "Python 3",
   "language": "python",
   "name": "python3"
  },
  "language_info": {
   "codemirror_mode": {
    "name": "ipython",
    "version": 3
   },
   "file_extension": ".py",
   "mimetype": "text/x-python",
   "name": "python",
   "nbconvert_exporter": "python",
   "pygments_lexer": "ipython3",
   "version": "3.7.6"
  }
 },
 "nbformat": 4,
 "nbformat_minor": 4
}
