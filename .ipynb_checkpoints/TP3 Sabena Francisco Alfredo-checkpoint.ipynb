{
 "cells": [
  {
   "cell_type": "markdown",
   "metadata": {},
   "source": [
    "### Checklist de evaluación\n",
    "Sugerencias para desarrollar el proyecto:\n",
    "\n",
    "La resolución del proyecto te puede enfrentar a desafíos que no trabajamos durante los encuentros. Es importante que desarrolles la capacidad de resolverlos. Para ello, consulta las bitácoras, las referencias, los notebooks vistos en clase, la documentación de la librería y, sobre todo, googlea.\n",
    "Los pasos deben estar correctamente justificados.\n",
    "Las preguntas que se respondan deben estar correctamente explicitadas.\n",
    "Imagina que este proyecto lo usarías para presentar en una entrevista de trabajo, o que lo debes presentar en tu trabajo. Presta mucha atención a la redacción, presentación de gráficos, etc.\n",
    "Antes de subir tu proyecto a la plataforma Acámica para que sea evaluado, verifica que el Notebook se ejecute sin errores. Además, asegúrate de cumplir con las siguientes condiciones (son las que los/as evaluadores/as tendrán en consideración al momento de corregir tu trabajo):\n",
    "\n",
    "#### Parte A - Exploración de Datos\n",
    "\n",
    "1- El Análisis Exploratorio de Datos debe servir para comprender el dataset y todo el flujo de trabajo que le siga.\n",
    "2- Debes responder al menos una pregunta original con este dataset. La pregunta debe estar correctamente explicitada.\n",
    "#### Parte B - Modelo de Machine Learning\n",
    "\n",
    "1- Debes evaluar correctamente el modelo que realices. Esto implica un correcto manejo de datos de Train y Test, elegir una métrica apropiada y justificar su elección, y comparar los resultados contra un modelo benchmark.\n",
    "\n",
    "2- Puedes aplicar más de una de las técnicas vistas para crear tus modelos. Pero ten en cuenta que es preferible un modelo bien hecho (apropiada transformación de datos, optimización de hiperparámetros y análisis de sus resultados) que muchos modelos a medias. En caso de entrenar más de un modelo, debes comparar sus resultados y justificar cuál elegirías.\n",
    "\n",
    "3- Si el modelo lo permite, debes explorar qué información utiliza para predecir e interpretar ese resultado. ¿Coincide con lo que esperabas a partir de tu experiencia con el dataset?\n",
    "#### Parte C - Investigación\n",
    "\n",
    "1- Debes explicar qué te gustaría probar, por qué y cómo lo harías. Si tienes referencias (por ejemplo, un artículo que hayas encontrado, capítulo de libro, etc.), debes mencionarlas.\n",
    "\n",
    "2- Debes comentar también qué resultados esperas encontrar. Por ejemplo, puedes implementar una prueba rápida y mostrar resultados preliminares, para ver si estás correctamente orientado."
   ]
  },
  {
   "cell_type": "code",
   "execution_count": 1,
   "metadata": {},
   "outputs": [],
   "source": [
    "import pandas as pd\n",
    "from pandas import DataFrame\n",
    "import numpy as np\n",
    "import matplotlib.pyplot as plt\n",
    "import statsmodels.api as sm\n",
    "import seaborn as sns\n",
    "import nltk\n",
    "from nltk.corpus import stopwords\n",
    "from nltk.stem import PorterStemmer\n",
    "import itertools"
   ]
  },
  {
   "cell_type": "code",
   "execution_count": 2,
   "metadata": {},
   "outputs": [],
   "source": [
    "data=pd.read_json(r'C:\\Users\\Alfredo\\Bitácoras\\dataset_es_dev.json',lines=True)"
   ]
  },
  {
   "cell_type": "code",
   "execution_count": 3,
   "metadata": {},
   "outputs": [
    {
     "data": {
      "text/html": [
       "<div>\n",
       "<style scoped>\n",
       "    .dataframe tbody tr th:only-of-type {\n",
       "        vertical-align: middle;\n",
       "    }\n",
       "\n",
       "    .dataframe tbody tr th {\n",
       "        vertical-align: top;\n",
       "    }\n",
       "\n",
       "    .dataframe thead th {\n",
       "        text-align: right;\n",
       "    }\n",
       "</style>\n",
       "<table border=\"1\" class=\"dataframe\">\n",
       "  <thead>\n",
       "    <tr style=\"text-align: right;\">\n",
       "      <th></th>\n",
       "      <th>review_id</th>\n",
       "      <th>product_id</th>\n",
       "      <th>reviewer_id</th>\n",
       "      <th>stars</th>\n",
       "      <th>review_body</th>\n",
       "      <th>review_title</th>\n",
       "      <th>language</th>\n",
       "      <th>product_category</th>\n",
       "    </tr>\n",
       "  </thead>\n",
       "  <tbody>\n",
       "    <tr>\n",
       "      <th>0</th>\n",
       "      <td>es_0417480</td>\n",
       "      <td>product_es_0873923</td>\n",
       "      <td>reviewer_es_0672978</td>\n",
       "      <td>1</td>\n",
       "      <td>Malisimo, muy grande demasiado aparatoso y mal...</td>\n",
       "      <td>Mala compra</td>\n",
       "      <td>es</td>\n",
       "      <td>wireless</td>\n",
       "    </tr>\n",
       "    <tr>\n",
       "      <th>1</th>\n",
       "      <td>es_0180432</td>\n",
       "      <td>product_es_0713146</td>\n",
       "      <td>reviewer_es_0100858</td>\n",
       "      <td>1</td>\n",
       "      <td>No he recibido el pedido no la devolución</td>\n",
       "      <td>No lo he recibido</td>\n",
       "      <td>es</td>\n",
       "      <td>apparel</td>\n",
       "    </tr>\n",
       "  </tbody>\n",
       "</table>\n",
       "</div>"
      ],
      "text/plain": [
       "    review_id          product_id          reviewer_id  stars  \\\n",
       "0  es_0417480  product_es_0873923  reviewer_es_0672978      1   \n",
       "1  es_0180432  product_es_0713146  reviewer_es_0100858      1   \n",
       "\n",
       "                                         review_body       review_title  \\\n",
       "0  Malisimo, muy grande demasiado aparatoso y mal...        Mala compra   \n",
       "1          No he recibido el pedido no la devolución  No lo he recibido   \n",
       "\n",
       "  language product_category  \n",
       "0       es         wireless  \n",
       "1       es          apparel  "
      ]
     },
     "execution_count": 3,
     "metadata": {},
     "output_type": "execute_result"
    }
   ],
   "source": [
    "data.head(2)"
   ]
  },
  {
   "cell_type": "code",
   "execution_count": 4,
   "metadata": {},
   "outputs": [],
   "source": [
    "data_train=pd.read_json(r'C:\\Users\\Alfredo\\Bitácoras\\dataset_es_train.json',lines=True)"
   ]
  },
  {
   "cell_type": "code",
   "execution_count": 5,
   "metadata": {},
   "outputs": [
    {
     "data": {
      "text/html": [
       "<div>\n",
       "<style scoped>\n",
       "    .dataframe tbody tr th:only-of-type {\n",
       "        vertical-align: middle;\n",
       "    }\n",
       "\n",
       "    .dataframe tbody tr th {\n",
       "        vertical-align: top;\n",
       "    }\n",
       "\n",
       "    .dataframe thead th {\n",
       "        text-align: right;\n",
       "    }\n",
       "</style>\n",
       "<table border=\"1\" class=\"dataframe\">\n",
       "  <thead>\n",
       "    <tr style=\"text-align: right;\">\n",
       "      <th></th>\n",
       "      <th>review_id</th>\n",
       "      <th>product_id</th>\n",
       "      <th>reviewer_id</th>\n",
       "      <th>stars</th>\n",
       "      <th>review_body</th>\n",
       "      <th>review_title</th>\n",
       "      <th>language</th>\n",
       "      <th>product_category</th>\n",
       "    </tr>\n",
       "  </thead>\n",
       "  <tbody>\n",
       "    <tr>\n",
       "      <th>0</th>\n",
       "      <td>es_0491108</td>\n",
       "      <td>product_es_0296024</td>\n",
       "      <td>reviewer_es_0999081</td>\n",
       "      <td>1</td>\n",
       "      <td>Nada bueno se me fue ka pantalla en menos de 8...</td>\n",
       "      <td>television Nevir</td>\n",
       "      <td>es</td>\n",
       "      <td>electronics</td>\n",
       "    </tr>\n",
       "    <tr>\n",
       "      <th>1</th>\n",
       "      <td>es_0869872</td>\n",
       "      <td>product_es_0922286</td>\n",
       "      <td>reviewer_es_0216771</td>\n",
       "      <td>1</td>\n",
       "      <td>Horrible, nos tuvimos que comprar otro porque ...</td>\n",
       "      <td>Dinero tirado a la basura con esta compra</td>\n",
       "      <td>es</td>\n",
       "      <td>electronics</td>\n",
       "    </tr>\n",
       "  </tbody>\n",
       "</table>\n",
       "</div>"
      ],
      "text/plain": [
       "    review_id          product_id          reviewer_id  stars  \\\n",
       "0  es_0491108  product_es_0296024  reviewer_es_0999081      1   \n",
       "1  es_0869872  product_es_0922286  reviewer_es_0216771      1   \n",
       "\n",
       "                                         review_body  \\\n",
       "0  Nada bueno se me fue ka pantalla en menos de 8...   \n",
       "1  Horrible, nos tuvimos que comprar otro porque ...   \n",
       "\n",
       "                                review_title language product_category  \n",
       "0                           television Nevir       es      electronics  \n",
       "1  Dinero tirado a la basura con esta compra       es      electronics  "
      ]
     },
     "execution_count": 5,
     "metadata": {},
     "output_type": "execute_result"
    }
   ],
   "source": [
    "data_train.head(2)"
   ]
  },
  {
   "cell_type": "code",
   "execution_count": 6,
   "metadata": {},
   "outputs": [],
   "source": [
    "data_test=pd.read_json(r'C:\\Users\\Alfredo\\Bitácoras\\dataset_es_test.json',lines=True)"
   ]
  },
  {
   "cell_type": "code",
   "execution_count": 7,
   "metadata": {},
   "outputs": [
    {
     "data": {
      "text/html": [
       "<div>\n",
       "<style scoped>\n",
       "    .dataframe tbody tr th:only-of-type {\n",
       "        vertical-align: middle;\n",
       "    }\n",
       "\n",
       "    .dataframe tbody tr th {\n",
       "        vertical-align: top;\n",
       "    }\n",
       "\n",
       "    .dataframe thead th {\n",
       "        text-align: right;\n",
       "    }\n",
       "</style>\n",
       "<table border=\"1\" class=\"dataframe\">\n",
       "  <thead>\n",
       "    <tr style=\"text-align: right;\">\n",
       "      <th></th>\n",
       "      <th>review_id</th>\n",
       "      <th>product_id</th>\n",
       "      <th>reviewer_id</th>\n",
       "      <th>stars</th>\n",
       "      <th>review_body</th>\n",
       "      <th>review_title</th>\n",
       "      <th>language</th>\n",
       "      <th>product_category</th>\n",
       "    </tr>\n",
       "  </thead>\n",
       "  <tbody>\n",
       "    <tr>\n",
       "      <th>0</th>\n",
       "      <td>es_0038754</td>\n",
       "      <td>product_es_0113523</td>\n",
       "      <td>reviewer_es_0580071</td>\n",
       "      <td>1</td>\n",
       "      <td>no me llego el articulo me lo mando por correo...</td>\n",
       "      <td>no me llego</td>\n",
       "      <td>es</td>\n",
       "      <td>wireless</td>\n",
       "    </tr>\n",
       "    <tr>\n",
       "      <th>1</th>\n",
       "      <td>es_0748979</td>\n",
       "      <td>product_es_0017036</td>\n",
       "      <td>reviewer_es_0819733</td>\n",
       "      <td>1</td>\n",
       "      <td>la mensajería horrible, no compro mas</td>\n",
       "      <td>amazon sigue sin cumplir en las entregas</td>\n",
       "      <td>es</td>\n",
       "      <td>home</td>\n",
       "    </tr>\n",
       "  </tbody>\n",
       "</table>\n",
       "</div>"
      ],
      "text/plain": [
       "    review_id          product_id          reviewer_id  stars  \\\n",
       "0  es_0038754  product_es_0113523  reviewer_es_0580071      1   \n",
       "1  es_0748979  product_es_0017036  reviewer_es_0819733      1   \n",
       "\n",
       "                                         review_body  \\\n",
       "0  no me llego el articulo me lo mando por correo...   \n",
       "1              la mensajería horrible, no compro mas   \n",
       "\n",
       "                               review_title language product_category  \n",
       "0                               no me llego       es         wireless  \n",
       "1  amazon sigue sin cumplir en las entregas       es             home  "
      ]
     },
     "execution_count": 7,
     "metadata": {},
     "output_type": "execute_result"
    }
   ],
   "source": [
    "data_test.head(2)"
   ]
  },
  {
   "cell_type": "code",
   "execution_count": 8,
   "metadata": {},
   "outputs": [
    {
     "name": "stdout",
     "output_type": "stream",
     "text": [
      "Cantidad de filas y columnas del data:  (5000, 8)\n",
      "Cantidad de filas y columnas del data test:  (5000, 8)\n",
      "Cantidad de filas y columnas del data train:  (200000, 8)\n"
     ]
    }
   ],
   "source": [
    "print('Cantidad de filas y columnas del data: ',data.shape)\n",
    "print('Cantidad de filas y columnas del data test: ',data_test.shape)\n",
    "print('Cantidad de filas y columnas del data train: ',data_train.shape)"
   ]
  },
  {
   "cell_type": "code",
   "execution_count": 9,
   "metadata": {},
   "outputs": [
    {
     "data": {
      "text/html": [
       "<div>\n",
       "<style scoped>\n",
       "    .dataframe tbody tr th:only-of-type {\n",
       "        vertical-align: middle;\n",
       "    }\n",
       "\n",
       "    .dataframe tbody tr th {\n",
       "        vertical-align: top;\n",
       "    }\n",
       "\n",
       "    .dataframe thead th {\n",
       "        text-align: right;\n",
       "    }\n",
       "</style>\n",
       "<table border=\"1\" class=\"dataframe\">\n",
       "  <thead>\n",
       "    <tr style=\"text-align: right;\">\n",
       "      <th></th>\n",
       "      <th>stars</th>\n",
       "    </tr>\n",
       "  </thead>\n",
       "  <tbody>\n",
       "    <tr>\n",
       "      <th>count</th>\n",
       "      <td>5000.000000</td>\n",
       "    </tr>\n",
       "    <tr>\n",
       "      <th>mean</th>\n",
       "      <td>3.000000</td>\n",
       "    </tr>\n",
       "    <tr>\n",
       "      <th>std</th>\n",
       "      <td>1.414355</td>\n",
       "    </tr>\n",
       "    <tr>\n",
       "      <th>min</th>\n",
       "      <td>1.000000</td>\n",
       "    </tr>\n",
       "    <tr>\n",
       "      <th>25%</th>\n",
       "      <td>2.000000</td>\n",
       "    </tr>\n",
       "    <tr>\n",
       "      <th>50%</th>\n",
       "      <td>3.000000</td>\n",
       "    </tr>\n",
       "    <tr>\n",
       "      <th>75%</th>\n",
       "      <td>4.000000</td>\n",
       "    </tr>\n",
       "    <tr>\n",
       "      <th>max</th>\n",
       "      <td>5.000000</td>\n",
       "    </tr>\n",
       "  </tbody>\n",
       "</table>\n",
       "</div>"
      ],
      "text/plain": [
       "             stars\n",
       "count  5000.000000\n",
       "mean      3.000000\n",
       "std       1.414355\n",
       "min       1.000000\n",
       "25%       2.000000\n",
       "50%       3.000000\n",
       "75%       4.000000\n",
       "max       5.000000"
      ]
     },
     "execution_count": 9,
     "metadata": {},
     "output_type": "execute_result"
    }
   ],
   "source": [
    "data.describe()"
   ]
  },
  {
   "cell_type": "markdown",
   "metadata": {},
   "source": [
    "### Are there missing values?"
   ]
  },
  {
   "cell_type": "code",
   "execution_count": 10,
   "metadata": {},
   "outputs": [
    {
     "name": "stdout",
     "output_type": "stream",
     "text": [
      "##--->  Datos faltantes de DATA:  <---##\n",
      " review_id           0\n",
      "product_id          0\n",
      "reviewer_id         0\n",
      "stars               0\n",
      "review_body         0\n",
      "review_title        0\n",
      "language            0\n",
      "product_category    0\n",
      "dtype: int64\n",
      "##--->  Datos faltantes de DATA_TRAIN  <---##:\n",
      " review_id           0\n",
      "product_id          0\n",
      "reviewer_id         0\n",
      "stars               0\n",
      "review_body         0\n",
      "review_title        0\n",
      "language            0\n",
      "product_category    0\n",
      "dtype: int64\n",
      "##--->  Datos faltantes de DATA_TEST  <---##:\n",
      " review_id           0\n",
      "product_id          0\n",
      "reviewer_id         0\n",
      "stars               0\n",
      "review_body         0\n",
      "review_title        0\n",
      "language            0\n",
      "product_category    0\n",
      "dtype: int64\n"
     ]
    }
   ],
   "source": [
    "print(\"##--->  Datos faltantes de DATA:  <---##\\n\",data.isna().sum())\n",
    "print(\"##--->  Datos faltantes de DATA_TRAIN  <---##:\\n\",data_train.isna().sum())\n",
    "print(\"##--->  Datos faltantes de DATA_TEST  <---##:\\n\",data_test.isna().sum())"
   ]
  },
  {
   "cell_type": "code",
   "execution_count": 11,
   "metadata": {},
   "outputs": [
    {
     "name": "stdout",
     "output_type": "stream",
     "text": [
      "##--->  INFO de DATA:  <---##\n",
      "\n",
      "<class 'pandas.core.frame.DataFrame'>\n",
      "RangeIndex: 5000 entries, 0 to 4999\n",
      "Data columns (total 8 columns):\n",
      " #   Column            Non-Null Count  Dtype \n",
      "---  ------            --------------  ----- \n",
      " 0   review_id         5000 non-null   object\n",
      " 1   product_id        5000 non-null   object\n",
      " 2   reviewer_id       5000 non-null   object\n",
      " 3   stars             5000 non-null   int64 \n",
      " 4   review_body       5000 non-null   object\n",
      " 5   review_title      5000 non-null   object\n",
      " 6   language          5000 non-null   object\n",
      " 7   product_category  5000 non-null   object\n",
      "dtypes: int64(1), object(7)\n",
      "memory usage: 312.6+ KB\n",
      "\n",
      "##--->  INFO de DATA_TRAIN  <---##:\n",
      "\n",
      "<class 'pandas.core.frame.DataFrame'>\n",
      "RangeIndex: 200000 entries, 0 to 199999\n",
      "Data columns (total 8 columns):\n",
      " #   Column            Non-Null Count   Dtype \n",
      "---  ------            --------------   ----- \n",
      " 0   review_id         200000 non-null  object\n",
      " 1   product_id        200000 non-null  object\n",
      " 2   reviewer_id       200000 non-null  object\n",
      " 3   stars             200000 non-null  int64 \n",
      " 4   review_body       200000 non-null  object\n",
      " 5   review_title      200000 non-null  object\n",
      " 6   language          200000 non-null  object\n",
      " 7   product_category  200000 non-null  object\n",
      "dtypes: int64(1), object(7)\n",
      "memory usage: 12.2+ MB\n",
      "\n",
      "##--->  INFO de DATA_TEST  <---##:\n",
      "\n",
      "<class 'pandas.core.frame.DataFrame'>\n",
      "RangeIndex: 5000 entries, 0 to 4999\n",
      "Data columns (total 8 columns):\n",
      " #   Column            Non-Null Count  Dtype \n",
      "---  ------            --------------  ----- \n",
      " 0   review_id         5000 non-null   object\n",
      " 1   product_id        5000 non-null   object\n",
      " 2   reviewer_id       5000 non-null   object\n",
      " 3   stars             5000 non-null   int64 \n",
      " 4   review_body       5000 non-null   object\n",
      " 5   review_title      5000 non-null   object\n",
      " 6   language          5000 non-null   object\n",
      " 7   product_category  5000 non-null   object\n",
      "dtypes: int64(1), object(7)\n",
      "memory usage: 312.6+ KB\n"
     ]
    }
   ],
   "source": [
    "print(\"##--->  INFO de DATA:  <---##\\n\")\n",
    "data.info()\n",
    "print(\"\\n##--->  INFO de DATA_TRAIN  <---##:\\n\")\n",
    "data_train.info()\n",
    "print(\"\\n##--->  INFO de DATA_TEST  <---##:\\n\")\n",
    "data_test.info()"
   ]
  },
  {
   "cell_type": "markdown",
   "metadata": {},
   "source": [
    "## Concatenating all data frames\n",
    "<img src=https://www.analyticslane.com/wp-content/uploads/2018/08/t-1723941_1920-1536x974.jpg>\n"
   ]
  },
  {
   "cell_type": "code",
   "execution_count": 12,
   "metadata": {},
   "outputs": [
    {
     "data": {
      "text/html": [
       "<div>\n",
       "<style scoped>\n",
       "    .dataframe tbody tr th:only-of-type {\n",
       "        vertical-align: middle;\n",
       "    }\n",
       "\n",
       "    .dataframe tbody tr th {\n",
       "        vertical-align: top;\n",
       "    }\n",
       "\n",
       "    .dataframe thead th {\n",
       "        text-align: right;\n",
       "    }\n",
       "</style>\n",
       "<table border=\"1\" class=\"dataframe\">\n",
       "  <thead>\n",
       "    <tr style=\"text-align: right;\">\n",
       "      <th></th>\n",
       "      <th>review_id</th>\n",
       "      <th>product_id</th>\n",
       "      <th>reviewer_id</th>\n",
       "      <th>stars</th>\n",
       "      <th>review_body</th>\n",
       "      <th>review_title</th>\n",
       "      <th>language</th>\n",
       "      <th>product_category</th>\n",
       "    </tr>\n",
       "  </thead>\n",
       "  <tbody>\n",
       "    <tr>\n",
       "      <th>0</th>\n",
       "      <td>es_0417480</td>\n",
       "      <td>product_es_0873923</td>\n",
       "      <td>reviewer_es_0672978</td>\n",
       "      <td>1</td>\n",
       "      <td>Malisimo, muy grande demasiado aparatoso y mal...</td>\n",
       "      <td>Mala compra</td>\n",
       "      <td>es</td>\n",
       "      <td>wireless</td>\n",
       "    </tr>\n",
       "    <tr>\n",
       "      <th>1</th>\n",
       "      <td>es_0180432</td>\n",
       "      <td>product_es_0713146</td>\n",
       "      <td>reviewer_es_0100858</td>\n",
       "      <td>1</td>\n",
       "      <td>No he recibido el pedido no la devolución</td>\n",
       "      <td>No lo he recibido</td>\n",
       "      <td>es</td>\n",
       "      <td>apparel</td>\n",
       "    </tr>\n",
       "  </tbody>\n",
       "</table>\n",
       "</div>"
      ],
      "text/plain": [
       "    review_id          product_id          reviewer_id  stars  \\\n",
       "0  es_0417480  product_es_0873923  reviewer_es_0672978      1   \n",
       "1  es_0180432  product_es_0713146  reviewer_es_0100858      1   \n",
       "\n",
       "                                         review_body       review_title  \\\n",
       "0  Malisimo, muy grande demasiado aparatoso y mal...        Mala compra   \n",
       "1          No he recibido el pedido no la devolución  No lo he recibido   \n",
       "\n",
       "  language product_category  \n",
       "0       es         wireless  \n",
       "1       es          apparel  "
      ]
     },
     "execution_count": 12,
     "metadata": {},
     "output_type": "execute_result"
    }
   ],
   "source": [
    "frames = [data, data_test, data_train]\n",
    "result = pd.concat(frames)\n",
    "result.head(2)"
   ]
  },
  {
   "cell_type": "code",
   "execution_count": 13,
   "metadata": {},
   "outputs": [
    {
     "name": "stdout",
     "output_type": "stream",
     "text": [
      "home                        28328\n",
      "wireless                    27208\n",
      "toy                         14328\n",
      "sports                      13856\n",
      "pc                          11720\n",
      "home_improvement            11468\n",
      "electronics                 10899\n",
      "beauty                       7707\n",
      "automotive                   7495\n",
      "kitchen                      7028\n",
      "apparel                      6014\n",
      "drugstore                    5778\n",
      "book                         5528\n",
      "furniture                    5481\n",
      "baby_product                 5098\n",
      "office_product               5010\n",
      "lawn_and_garden              4449\n",
      "other                        4131\n",
      "pet_products                 3899\n",
      "personal_care_appliances     3735\n",
      "luggage                      3509\n",
      "camera                       3180\n",
      "shoes                        2886\n",
      "digital_ebook_purchase       1936\n",
      "video_games                  1818\n",
      "jewelry                      1677\n",
      "musical_instruments          1608\n",
      "watch                        1567\n",
      "industrial_supplies          1552\n",
      "grocery                      1107\n",
      "Name: product_category, dtype: int64\n"
     ]
    },
    {
     "data": {
      "image/png": "[encoded data removed]",
      "text/plain": [
       "<Figure size 720x432 with 1 Axes>"
      ]
     },
     "metadata": {
      "needs_background": "light"
     },
     "output_type": "display_data"
    }
   ],
   "source": [
    "categoria_productos=result['product_category'].value_counts()\n",
    "print(categoria_productos)\n",
    "plt.figure(figsize=(10,6))\n",
    "#tipologia.hist()\n",
    "plt.xticks(rotation=90)\n",
    "categoria_productos=result['product_category'].value_counts()\n",
    "categoria_productos\n",
    "#sns.set_theme(style=\"darkgrid\")\n",
    "ax = sns.countplot(x='product_category', data=result,order=result['product_category'].value_counts().index)#,ascending=True)\n",
    "plt.grid()"
   ]
  },
  {
   "cell_type": "code",
   "execution_count": 14,
   "metadata": {},
   "outputs": [
    {
     "data": {
      "text/html": [
       "<div>\n",
       "<style scoped>\n",
       "    .dataframe tbody tr th:only-of-type {\n",
       "        vertical-align: middle;\n",
       "    }\n",
       "\n",
       "    .dataframe tbody tr th {\n",
       "        vertical-align: top;\n",
       "    }\n",
       "\n",
       "    .dataframe thead th {\n",
       "        text-align: right;\n",
       "    }\n",
       "</style>\n",
       "<table border=\"1\" class=\"dataframe\">\n",
       "  <thead>\n",
       "    <tr style=\"text-align: right;\">\n",
       "      <th></th>\n",
       "      <th>product_category</th>\n",
       "    </tr>\n",
       "  </thead>\n",
       "  <tbody>\n",
       "    <tr>\n",
       "      <th>home</th>\n",
       "      <td>28328</td>\n",
       "    </tr>\n",
       "    <tr>\n",
       "      <th>wireless</th>\n",
       "      <td>27208</td>\n",
       "    </tr>\n",
       "    <tr>\n",
       "      <th>toy</th>\n",
       "      <td>14328</td>\n",
       "    </tr>\n",
       "    <tr>\n",
       "      <th>sports</th>\n",
       "      <td>13856</td>\n",
       "    </tr>\n",
       "    <tr>\n",
       "      <th>pc</th>\n",
       "      <td>11720</td>\n",
       "    </tr>\n",
       "    <tr>\n",
       "      <th>home_improvement</th>\n",
       "      <td>11468</td>\n",
       "    </tr>\n",
       "    <tr>\n",
       "      <th>electronics</th>\n",
       "      <td>10899</td>\n",
       "    </tr>\n",
       "    <tr>\n",
       "      <th>beauty</th>\n",
       "      <td>7707</td>\n",
       "    </tr>\n",
       "    <tr>\n",
       "      <th>automotive</th>\n",
       "      <td>7495</td>\n",
       "    </tr>\n",
       "    <tr>\n",
       "      <th>kitchen</th>\n",
       "      <td>7028</td>\n",
       "    </tr>\n",
       "    <tr>\n",
       "      <th>apparel</th>\n",
       "      <td>6014</td>\n",
       "    </tr>\n",
       "    <tr>\n",
       "      <th>drugstore</th>\n",
       "      <td>5778</td>\n",
       "    </tr>\n",
       "    <tr>\n",
       "      <th>book</th>\n",
       "      <td>5528</td>\n",
       "    </tr>\n",
       "    <tr>\n",
       "      <th>furniture</th>\n",
       "      <td>5481</td>\n",
       "    </tr>\n",
       "    <tr>\n",
       "      <th>baby_product</th>\n",
       "      <td>5098</td>\n",
       "    </tr>\n",
       "    <tr>\n",
       "      <th>office_product</th>\n",
       "      <td>5010</td>\n",
       "    </tr>\n",
       "    <tr>\n",
       "      <th>lawn_and_garden</th>\n",
       "      <td>4449</td>\n",
       "    </tr>\n",
       "    <tr>\n",
       "      <th>other</th>\n",
       "      <td>4131</td>\n",
       "    </tr>\n",
       "    <tr>\n",
       "      <th>pet_products</th>\n",
       "      <td>3899</td>\n",
       "    </tr>\n",
       "    <tr>\n",
       "      <th>personal_care_appliances</th>\n",
       "      <td>3735</td>\n",
       "    </tr>\n",
       "    <tr>\n",
       "      <th>luggage</th>\n",
       "      <td>3509</td>\n",
       "    </tr>\n",
       "    <tr>\n",
       "      <th>camera</th>\n",
       "      <td>3180</td>\n",
       "    </tr>\n",
       "    <tr>\n",
       "      <th>shoes</th>\n",
       "      <td>2886</td>\n",
       "    </tr>\n",
       "    <tr>\n",
       "      <th>digital_ebook_purchase</th>\n",
       "      <td>1936</td>\n",
       "    </tr>\n",
       "    <tr>\n",
       "      <th>video_games</th>\n",
       "      <td>1818</td>\n",
       "    </tr>\n",
       "    <tr>\n",
       "      <th>jewelry</th>\n",
       "      <td>1677</td>\n",
       "    </tr>\n",
       "    <tr>\n",
       "      <th>musical_instruments</th>\n",
       "      <td>1608</td>\n",
       "    </tr>\n",
       "    <tr>\n",
       "      <th>watch</th>\n",
       "      <td>1567</td>\n",
       "    </tr>\n",
       "    <tr>\n",
       "      <th>industrial_supplies</th>\n",
       "      <td>1552</td>\n",
       "    </tr>\n",
       "    <tr>\n",
       "      <th>grocery</th>\n",
       "      <td>1107</td>\n",
       "    </tr>\n",
       "  </tbody>\n",
       "</table>\n",
       "</div>"
      ],
      "text/plain": [
       "                          product_category\n",
       "home                                 28328\n",
       "wireless                             27208\n",
       "toy                                  14328\n",
       "sports                               13856\n",
       "pc                                   11720\n",
       "home_improvement                     11468\n",
       "electronics                          10899\n",
       "beauty                                7707\n",
       "automotive                            7495\n",
       "kitchen                               7028\n",
       "apparel                               6014\n",
       "drugstore                             5778\n",
       "book                                  5528\n",
       "furniture                             5481\n",
       "baby_product                          5098\n",
       "office_product                        5010\n",
       "lawn_and_garden                       4449\n",
       "other                                 4131\n",
       "pet_products                          3899\n",
       "personal_care_appliances              3735\n",
       "luggage                               3509\n",
       "camera                                3180\n",
       "shoes                                 2886\n",
       "digital_ebook_purchase                1936\n",
       "video_games                           1818\n",
       "jewelry                               1677\n",
       "musical_instruments                   1608\n",
       "watch                                 1567\n",
       "industrial_supplies                   1552\n",
       "grocery                               1107"
      ]
     },
     "execution_count": 14,
     "metadata": {},
     "output_type": "execute_result"
    }
   ],
   "source": [
    "lista_productos=categoria_productos.to_list()\n",
    "categoria_productos.to_frame()"
   ]
  },
  {
   "cell_type": "code",
   "execution_count": 15,
   "metadata": {},
   "outputs": [
    {
     "data": {
      "text/plain": [
       "30"
      ]
     },
     "execution_count": 15,
     "metadata": {},
     "output_type": "execute_result"
    }
   ],
   "source": [
    "lista_de_productos=result.product_category\n",
    "lista_de_productos.to_list()\n",
    "lista_de_productos=lista_de_productos.unique()\n",
    "lista_de_productos=['wireless', 'apparel', 'sports', 'home_improvement', 'beauty',\n",
    "       'home', 'baby_product', 'pc', 'toy', 'book',\n",
    "       'personal_care_appliances', 'kitchen', 'lawn_and_garden',\n",
    "       'pet_products', 'drugstore', 'office_product', 'furniture',\n",
    "       'electronics', 'automotive', 'shoes', 'jewelry', 'luggage',\n",
    "       'camera', 'industrial_supplies', 'other', 'musical_instruments',\n",
    "       'grocery', 'digital_ebook_purchase', 'video_games', 'watch']\n",
    "len(lista_de_productos)"
   ]
  },
  {
   "cell_type": "markdown",
   "metadata": {},
   "source": [
    "### In the following cell, we create a graphic with the stars distributions.\n",
    "#### It makes me feel a little bit unconfortable, because, how it could be the same ditribution for all of them?"
   ]
  },
  {
   "cell_type": "code",
   "execution_count": 16,
   "metadata": {
    "scrolled": true
   },
   "outputs": [
    {
     "name": "stdout",
     "output_type": "stream",
     "text": [
      "Cantidad de estrellas: 5\n",
      "[1 2 3 4 5]\n"
     ]
    },
    {
     "data": {
      "image/png": "[encoded data removed]",
      "text/plain": [
       "<Figure size 720x432 with 1 Axes>"
      ]
     },
     "metadata": {
      "needs_background": "light"
     },
     "output_type": "display_data"
    }
   ],
   "source": [
    "#Cuantos estrellas hay en este dataset?\n",
    "estrellas=result['stars']\n",
    "\n",
    "print(\"Cantidad de estrellas:\", len(result['stars'].unique()))\n",
    "print(result['stars'].unique())\n",
    "plt.figure(figsize=(10,6))\n",
    "#tipologia.hist()\n",
    "plt.xticks(rotation=0)\n",
    "cuento_estrellas=result['stars'].value_counts()\n",
    "cuento_estrellas\n",
    "#sns.set_theme(style=\"darkgrid\")\n",
    "ax = sns.countplot(x='stars', data=result)\n",
    "plt.grid()"
   ]
  },
  {
   "cell_type": "markdown",
   "metadata": {},
   "source": [
    "### In the next cell we are creating a identify number for each product category"
   ]
  },
  {
   "cell_type": "code",
   "execution_count": 17,
   "metadata": {},
   "outputs": [
    {
     "data": {
      "text/html": [
       "<div>\n",
       "<style scoped>\n",
       "    .dataframe tbody tr th:only-of-type {\n",
       "        vertical-align: middle;\n",
       "    }\n",
       "\n",
       "    .dataframe tbody tr th {\n",
       "        vertical-align: top;\n",
       "    }\n",
       "\n",
       "    .dataframe thead th {\n",
       "        text-align: right;\n",
       "    }\n",
       "</style>\n",
       "<table border=\"1\" class=\"dataframe\">\n",
       "  <thead>\n",
       "    <tr style=\"text-align: right;\">\n",
       "      <th></th>\n",
       "      <th>review_id</th>\n",
       "      <th>product_id</th>\n",
       "      <th>reviewer_id</th>\n",
       "      <th>stars</th>\n",
       "      <th>review_body</th>\n",
       "      <th>review_title</th>\n",
       "      <th>language</th>\n",
       "      <th>product_category</th>\n",
       "      <th>Cat_product_category</th>\n",
       "    </tr>\n",
       "  </thead>\n",
       "  <tbody>\n",
       "    <tr>\n",
       "      <th>0</th>\n",
       "      <td>es_0491108</td>\n",
       "      <td>product_es_0296024</td>\n",
       "      <td>reviewer_es_0999081</td>\n",
       "      <td>1</td>\n",
       "      <td>Nada bueno se me fue ka pantalla en menos de 8...</td>\n",
       "      <td>television Nevir</td>\n",
       "      <td>es</td>\n",
       "      <td>electronics</td>\n",
       "      <td>8</td>\n",
       "    </tr>\n",
       "    <tr>\n",
       "      <th>1</th>\n",
       "      <td>es_0869872</td>\n",
       "      <td>product_es_0922286</td>\n",
       "      <td>reviewer_es_0216771</td>\n",
       "      <td>1</td>\n",
       "      <td>Horrible, nos tuvimos que comprar otro porque ...</td>\n",
       "      <td>Dinero tirado a la basura con esta compra</td>\n",
       "      <td>es</td>\n",
       "      <td>electronics</td>\n",
       "      <td>8</td>\n",
       "    </tr>\n",
       "  </tbody>\n",
       "</table>\n",
       "</div>"
      ],
      "text/plain": [
       "    review_id          product_id          reviewer_id  stars  \\\n",
       "0  es_0491108  product_es_0296024  reviewer_es_0999081      1   \n",
       "1  es_0869872  product_es_0922286  reviewer_es_0216771      1   \n",
       "\n",
       "                                         review_body  \\\n",
       "0  Nada bueno se me fue ka pantalla en menos de 8...   \n",
       "1  Horrible, nos tuvimos que comprar otro porque ...   \n",
       "\n",
       "                                review_title language product_category  \\\n",
       "0                           television Nevir       es      electronics   \n",
       "1  Dinero tirado a la basura con esta compra       es      electronics   \n",
       "\n",
       "   Cat_product_category  \n",
       "0                     8  \n",
       "1                     8  "
      ]
     },
     "execution_count": 17,
     "metadata": {},
     "output_type": "execute_result"
    }
   ],
   "source": [
    "# converting type of columns to 'category'\n",
    "result['product_category']=result['product_category'].astype('category')\n",
    "# Assigning numerical values and storing in another column\n",
    "result['Cat_product_category'] = result['product_category'].cat.codes\n",
    "result.sort_values(by=['Cat_product_category'])\n",
    "# converting type of columns to 'category'\n",
    "data['product_category']=data['product_category'].astype('category')\n",
    "# Assigning numerical values and storing in another column\n",
    "data['Cat_product_category'] = data['product_category'].cat.codes\n",
    "data.sort_values(by=['Cat_product_category'])\n",
    "# converting type of columns to 'category'\n",
    "data_test['product_category']=data_test['product_category'].astype('category')\n",
    "# Assigning numerical values and storing in another column\n",
    "data_test['Cat_product_category'] = data_test['product_category'].cat.codes\n",
    "data_test.sort_values(by=['Cat_product_category'])\n",
    "# converting type of columns to 'category'\n",
    "data_train['product_category']=data_train['product_category'].astype('category')\n",
    "# Assigning numerical values and storing in another column\n",
    "data_train['Cat_product_category'] = data_train['product_category'].cat.codes\n",
    "data_train.sort_values(by=['Cat_product_category'])\n",
    "\n",
    "result.head(2)\n",
    "data.head(2)\n",
    "data_test.head(2)\n",
    "data_train.head(2)"
   ]
  },
  {
   "cell_type": "markdown",
   "metadata": {},
   "source": [
    "### Filtering by product type\n",
    "> In this loop, we first create an empty list, and then add each filter, and in the same loop, we give the dataset format to each mask."
   ]
  },
  {
   "cell_type": "code",
   "execution_count": 18,
   "metadata": {
    "scrolled": true
   },
   "outputs": [],
   "source": [
    "probando=[]\n",
    "lista_de_productos \n",
    "for i in lista_de_productos:\n",
    "    j=((result.product_category==i)&result.stars==1)|((result.product_category==i)&(result.stars==2))|((result.product_category==i)&(result.stars==3))|((result.product_category==i)&(result.stars==4))|((result.product_category==i)&(result.stars==5)).copy()     \n",
    "    k=result[j].copy()\n",
    "    probando.append(k)"
   ]
  },
  {
   "cell_type": "markdown",
   "metadata": {},
   "source": [
    "#### We check that the list has all 30 elements"
   ]
  },
  {
   "cell_type": "code",
   "execution_count": 19,
   "metadata": {},
   "outputs": [
    {
     "data": {
      "text/plain": [
       "30"
      ]
     },
     "execution_count": 19,
     "metadata": {},
     "output_type": "execute_result"
    }
   ],
   "source": [
    "len(probando)"
   ]
  },
  {
   "cell_type": "markdown",
   "metadata": {},
   "source": [
    "### Graphics of all categories\n",
    "> In this lists of graphics, i im explaining the distribution of de category scores. This can be useful for analize why diferents categories has more or less satisfactied with the product.\n",
    "\n",
    "> After seeing that, i am going to do a chart with the most frecuent words in the reviews of ONE star"
   ]
  },
  {
   "cell_type": "code",
   "execution_count": null,
   "metadata": {},
   "outputs": [
    {
     "name": "stderr",
     "output_type": "stream",
     "text": [
      "C:\\Users\\Alfredo\\anaconda3\\lib\\site-packages\\ipykernel_launcher.py:12: RuntimeWarning: More than 20 figures have been opened. Figures created through the pyplot interface (`matplotlib.pyplot.figure`) are retained until explicitly closed and may consume too much memory. (To control this warning, see the rcParam `figure.max_open_warning`).\n",
      "  if sys.path[0] == '':\n"
     ]
    },
    {
     "data": {
      "image/png": "[encoded data removed]",
      "text/plain": [
       "<Figure size 576x288 with 1 Axes>"
      ]
     },
     "metadata": {
      "needs_background": "light"
     },
     "output_type": "display_data"
    },
    {
     "data": {
      "image/png": "[encoded data removed]",
      "text/plain": [
       "<Figure size 576x288 with 1 Axes>"
      ]
     },
     "metadata": {
      "needs_background": "light"
     },
     "output_type": "display_data"
    },
    {
     "data": {
      "image/png": "[encoded data removed]",
      "text/plain": [
       "<Figure size 576x288 with 1 Axes>"
      ]
     },
     "metadata": {
      "needs_background": "light"
     },
     "output_type": "display_data"
    },
    {
     "data": {
      "image/png": "[encoded data removed]",
      "text/plain": [
       "<Figure size 576x288 with 1 Axes>"
      ]
     },
     "metadata": {
      "needs_background": "light"
     },
     "output_type": "display_data"
    },
    {
     "data": {
      "image/png": "[encoded data removed]",
      "text/plain": [
       "<Figure size 576x288 with 1 Axes>"
      ]
     },
     "metadata": {
      "needs_background": "light"
     },
     "output_type": "display_data"
    },
    {
     "data": {
      "image/png": "[encoded data removed]",
      "text/plain": [
       "<Figure size 576x288 with 1 Axes>"
      ]
     },
     "metadata": {
      "needs_background": "light"
     },
     "output_type": "display_data"
    },
    {
     "data": {
      "image/png": "[encoded data removed]",
      "text/plain": [
       "<Figure size 576x288 with 1 Axes>"
      ]
     },
     "metadata": {
      "needs_background": "light"
     },
     "output_type": "display_data"
    },
    {
     "data": {
      "image/png": "[encoded data removed]",
      "text/plain": [
       "<Figure size 576x288 with 1 Axes>"
      ]
     },
     "metadata": {
      "needs_background": "light"
     },
     "output_type": "display_data"
    },
    {
     "data": {
      "image/png": "[encoded data removed]",
      "text/plain": [
       "<Figure size 576x288 with 1 Axes>"
      ]
     },
     "metadata": {
      "needs_background": "light"
     },
     "output_type": "display_data"
    },
    {
     "data": {
      "image/png": "[encoded data removed]",
      "text/plain": [
       "<Figure size 576x288 with 1 Axes>"
      ]
     },
     "metadata": {
      "needs_background": "light"
     },
     "output_type": "display_data"
    },
    {
     "data": {
      "image/png": "[encoded data removed]",
      "text/plain": [
       "<Figure size 576x288 with 1 Axes>"
      ]
     },
     "metadata": {
      "needs_background": "light"
     },
     "output_type": "display_data"
    },
    {
     "data": {
      "image/png": "[encoded data removed]",
      "text/plain": [
       "<Figure size 576x288 with 1 Axes>"
      ]
     },
     "metadata": {
      "needs_background": "light"
     },
     "output_type": "display_data"
    },
    {
     "data": {
      "image/png": "[encoded data removed]",
      "text/plain": [
       "<Figure size 576x288 with 1 Axes>"
      ]
     },
     "metadata": {
      "needs_background": "light"
     },
     "output_type": "display_data"
    },
    {
     "data": {
      "image/png": "[encoded data removed]",
      "text/plain": [
       "<Figure size 576x288 with 1 Axes>"
      ]
     },
     "metadata": {
      "needs_background": "light"
     },
     "output_type": "display_data"
    },
    {
     "data": {
      "image/png": "[encoded data removed]",
      "text/plain": [
       "<Figure size 576x288 with 1 Axes>"
      ]
     },
     "metadata": {
      "needs_background": "light"
     },
     "output_type": "display_data"
    },
    {
     "data": {
      "image/png": "[encoded data removed]",
      "text/plain": [
       "<Figure size 576x288 with 1 Axes>"
      ]
     },
     "metadata": {
      "needs_background": "light"
     },
     "output_type": "display_data"
    },
    {
     "data": {
      "image/png": "[encoded data removed]",
      "text/plain": [
       "<Figure size 576x288 with 1 Axes>"
      ]
     },
     "metadata": {
      "needs_background": "light"
     },
     "output_type": "display_data"
    }
   ],
   "source": [
    "class Contador(object):\n",
    "  def __init__(self, inicial=-1):\n",
    "    self.numero = inicial\n",
    "  def siguiente(self):\n",
    "    self.numero += 1\n",
    "    return self.numero\n",
    "cuenta = Contador()\n",
    "for t in probando:\n",
    "    estrellas= t[\"stars\"]\n",
    "    len(t['stars'].unique())\n",
    "    t['stars'].unique()\n",
    "    plt.figure(figsize=(8,4))\n",
    "    plt.xticks(rotation=0)\n",
    "    cuento_estrellas=t['stars'].value_counts()\n",
    "    cuento_estrellas\n",
    "    ax = sns.countplot(x='stars', data=t)\n",
    "    plt.grid()\n",
    "    plt.title(lista_de_productos[cuenta.siguiente()],fontsize=20)"
   ]
  },
  {
   "cell_type": "markdown",
   "metadata": {},
   "source": [
    "### Análisis de gráficos:\n",
    "> Vemos que las categorías `wireless`, `lawn_and_garden`, `electronics` tienen un sesgo en la acumulación de estrellas. De todas las críticas que tiene, las que más se acumulan son las de 1 y 2 estrellas.\n",
    "\n",
    "> La categoría `book`, está muy bien punteada. Tiene muchas más puntuaciones de 5 estrellas que el resto. De hecho, las puntuaciones van claramente ascendiendo del 1 al 5 con un gran ascenso en 5. \n",
    "\n",
    "> Una categoría muy bien punteada es `digital_ebook_purchase`. \n",
    "\n",
    "> Otras categorías con buenos puntajes son `lugagge` y `musical_instrumens`. Las puntuaciones van en ascenso del 1 al 5. Acumulándose por igual en 4 y 5.\n",
    "\n",
    "> Dentro de la categoría `video_games`, el gráfico forma una especie de parábola, es decir, que en donde más se acumulan crítcas es en los extremos y en las categorías del medio (2,3 y 4) se ven aplanadas. Tiene un leve sesgo en las puntuaciones de 5 estrellas. \n",
    "\n",
    "> El resto de elementos de la lista;\n",
    "* ['apparel', 'sports', 'home_improvement', 'beauty', 'home', 'baby_product', 'pc', 'toy', 'personal_care_appliances', 'kitchen', 'pet_products', 'drugstore', 'office_product', 'furniture', 'automotive', 'shoes', 'jewelry', 'camera', 'industrial_supplies', 'other', 'grocery', 'watch'], mantienen un comportamiento normal."
   ]
  },
  {
   "cell_type": "code",
   "execution_count": null,
   "metadata": {},
   "outputs": [],
   "source": [
    "#data.to_excel(r'C:\\Users\\Alfredo\\Bitácoras\\example.xlsx', sheet_name='example')"
   ]
  },
  {
   "cell_type": "code",
   "execution_count": null,
   "metadata": {},
   "outputs": [],
   "source": [
    "# lista_de_productos (es la lista que contiene a las categorias)\n",
    "# probando (es la lista que contiene a los dataframes)"
   ]
  },
  {
   "cell_type": "markdown",
   "metadata": {},
   "source": [
    "### Tokenizing the dataset according to One star\n",
    "> I want to see, what words were the most used in the reviews of a star. \n",
    "> We are a going to use, the dataset \"result\". Because, the \"result\" dataset has all the reviews"
   ]
  },
  {
   "cell_type": "code",
   "execution_count": null,
   "metadata": {},
   "outputs": [],
   "source": [
    "malisimo_home=((result.product_category=='home')&(result.stars==1))\n",
    "malisimo_home=result[malisimo_home].copy()\n",
    "#malo=((result.product_category==i)&(result.stars==1))\n",
    "malo=[]\n",
    "for i in lista_de_productos:\n",
    "    j=((data.product_category==i)&(data.stars==1)).copy()\n",
    "    k=data[j].copy()\n",
    "    malo.append(k)"
   ]
  },
  {
   "cell_type": "code",
   "execution_count": null,
   "metadata": {},
   "outputs": [],
   "source": [
    "malisimo_home.head(2)"
   ]
  },
  {
   "cell_type": "code",
   "execution_count": null,
   "metadata": {},
   "outputs": [],
   "source": [
    "len(malo)\n",
    "malo[0].shape"
   ]
  },
  {
   "cell_type": "markdown",
   "metadata": {},
   "source": [
    "### Want to be sure about the dataset has the correctly stars filter"
   ]
  },
  {
   "cell_type": "code",
   "execution_count": null,
   "metadata": {},
   "outputs": [],
   "source": [
    "estrellas=malisimo_home['stars']\n",
    "print(\"Cantidad de estrellas:\", len(malisimo_home['stars'].unique()))\n",
    "print(malisimo_home['stars'].unique())\n",
    "plt.figure(figsize=(8,4))\n",
    "#tipologia.hist()\n",
    "plt.xticks(rotation=0)\n",
    "cuento_estrellas=malisimo_home['stars'].value_counts()\n",
    "cuento_estrellas\n",
    "#sns.set_theme(style=\"darkgrid\")\n",
    "ax = sns.countplot(x='stars', data=malisimo_home)\n",
    "plt.grid()"
   ]
  },
  {
   "cell_type": "code",
   "execution_count": null,
   "metadata": {},
   "outputs": [],
   "source": [
    "## QUEDA CLARO QUE EL NUMERO DEL INDICE, SERÍA EL NÚMERO DE EL ELEMENTO EN LA LISTA\n",
    "frame_productos = DataFrame(lista_de_productos,columns=['lista_de_productos'])\n",
    "frame_productos"
   ]
  },
  {
   "cell_type": "markdown",
   "metadata": {},
   "source": [
    "### We create a list of lists from home category with reviews of one star "
   ]
  },
  {
   "cell_type": "code",
   "execution_count": null,
   "metadata": {},
   "outputs": [],
   "source": [
    "criticasmalas=[]\n",
    "for i in malisimo_home.review_body:\n",
    "    criticas=i\n",
    "    criticasmalas.append(criticas)"
   ]
  },
  {
   "cell_type": "code",
   "execution_count": null,
   "metadata": {},
   "outputs": [],
   "source": [
    "print(\"La longitud de la lista criticasmalas es: \",len(criticasmalas))\n",
    "## Es decir que hay 30 listas adentro de esa lista, si nosotros llamamos al df criticasmalas[0]\n",
    "## se imprime el primer dataframe\n",
    "#len(criticasmalas[0])\n",
    "#lista_criticas_malas=[]\n",
    "#for i in criticasmalas:\n",
    "#    lista=i.tolist()    \n",
    "#    lista_criticas_malas.append(lista)"
   ]
  },
  {
   "cell_type": "markdown",
   "metadata": {},
   "source": [
    "### The list \"criticasmalas\" has in lists the reviews"
   ]
  },
  {
   "cell_type": "code",
   "execution_count": null,
   "metadata": {},
   "outputs": [],
   "source": [
    "## Osea que esta lista de criticas malas, son las criticas malas de Wireless.\n",
    "## Porque recordar que la posicion uno es del articulo wireless.\n",
    "## Cada elemento de la lista, es un comentario\n",
    "#print(\"La longitud de la lista wireless es: \",len(lista_criticas_malas[0]),\"\\n\",lista_criticas_malas[0])\n",
    "#criticasmalas"
   ]
  },
  {
   "cell_type": "markdown",
   "metadata": {},
   "source": [
    "### In the following cell, is the list of bad reviews. What is going to be commented."
   ]
  },
  {
   "cell_type": "code",
   "execution_count": null,
   "metadata": {},
   "outputs": [],
   "source": [
    "#lista_criticas_malas_cadena"
   ]
  },
  {
   "cell_type": "markdown",
   "metadata": {},
   "source": [
    "### Tokenizing of list"
   ]
  },
  {
   "cell_type": "code",
   "execution_count": null,
   "metadata": {},
   "outputs": [],
   "source": [
    "criticas_malas_tokenizadas=[]\n",
    "for i in criticasmalas:## Osea la lista entera de criticas\n",
    "    j=nltk.tokenize.word_tokenize(i)\n",
    "    criticas_malas_tokenizadas.append(j)"
   ]
  },
  {
   "cell_type": "code",
   "execution_count": null,
   "metadata": {},
   "outputs": [],
   "source": [
    "len(criticas_malas_tokenizadas)\n",
    "#criticas_malas_tokenizadas"
   ]
  },
  {
   "cell_type": "markdown",
   "metadata": {},
   "source": [
    "### We convert the lists inside the list to a string"
   ]
  },
  {
   "cell_type": "code",
   "execution_count": null,
   "metadata": {},
   "outputs": [],
   "source": [
    "palabras_criticas_malas_tokenizadas = list(itertools.chain(*criticas_malas_tokenizadas))"
   ]
  },
  {
   "cell_type": "code",
   "execution_count": null,
   "metadata": {},
   "outputs": [],
   "source": [
    "#lista_criticas_malas_cadena ## En formato de lista"
   ]
  },
  {
   "cell_type": "markdown",
   "metadata": {},
   "source": [
    "### If we want to see the first reviews of the list, i mean the reviews of Wireless. The only thing we have to do is, put [0] next to the list. \n",
    "### The cell is left commented"
   ]
  },
  {
   "cell_type": "code",
   "execution_count": null,
   "metadata": {},
   "outputs": [],
   "source": [
    "## Recordar que la lista de wireless tiene 5651 comentarios, entonces:\n",
    "print(palabras_criticas_malas_tokenizadas[0]) ## Este sería el primer comentario de la lista de comentarios"
   ]
  },
  {
   "cell_type": "markdown",
   "metadata": {},
   "source": [
    "### We see stop words of Spanish"
   ]
  },
  {
   "cell_type": "code",
   "execution_count": null,
   "metadata": {},
   "outputs": [],
   "source": [
    "stop_words=set(stopwords.words(\"spanish\"))\n",
    "#stop_words"
   ]
  },
  {
   "cell_type": "code",
   "execution_count": null,
   "metadata": {},
   "outputs": [],
   "source": [
    "#palabras_criticas_malas_tokenizadas"
   ]
  },
  {
   "cell_type": "code",
   "execution_count": null,
   "metadata": {},
   "outputs": [],
   "source": [
    "print(\"Cantidad de elementos dentro de la lista: \",len(palabras_criticas_malas_tokenizadas))\n",
    "#criticas_malas_tokenizadas"
   ]
  },
  {
   "cell_type": "code",
   "execution_count": null,
   "metadata": {},
   "outputs": [],
   "source": [
    "filtered_sentence_malisimo=[]\n",
    "for w in palabras_criticas_malas_tokenizadas:\n",
    "    if w not in stop_words:\n",
    "        filtered_sentence_malisimo.append(w)\n",
    "#filtered_sentence_malisimo"
   ]
  },
  {
   "cell_type": "markdown",
   "metadata": {},
   "source": [
    "### After filtering by \"stop words\", the length of the list is 98752, much more shorter than before."
   ]
  },
  {
   "cell_type": "code",
   "execution_count": null,
   "metadata": {},
   "outputs": [],
   "source": [
    "len(filtered_sentence_malisimo)"
   ]
  },
  {
   "cell_type": "code",
   "execution_count": null,
   "metadata": {},
   "outputs": [],
   "source": [
    "df_de_palabras_una_estrella = DataFrame(filtered_sentence_malisimo,columns=['Palabras'])\n",
    "df_de_palabras_una_estrella"
   ]
  },
  {
   "cell_type": "code",
   "execution_count": null,
   "metadata": {},
   "outputs": [],
   "source": [
    "df_de_palabras_una_estrella=df_de_palabras_una_estrella.groupby([\"Palabras\"]).size().reset_index(name=\"Frecuencia\")"
   ]
  },
  {
   "cell_type": "code",
   "execution_count": null,
   "metadata": {},
   "outputs": [],
   "source": [
    "df_de_palabras_una_estrella.sort_values(by=\"Frecuencia\",ascending=False).head(20)"
   ]
  },
  {
   "cell_type": "markdown",
   "metadata": {},
   "source": [
    "## Stemming"
   ]
  },
  {
   "cell_type": "code",
   "execution_count": null,
   "metadata": {},
   "outputs": [],
   "source": [
    "ps=PorterStemmer()\n",
    "# la lista es: filtered_sentence_malisimo\n",
    "filtered_sentence_malisimo_stemmizado=[]\n",
    "for w in filtered_sentence_malisimo:\n",
    "    j=ps.stem(w)\n",
    "    filtered_sentence_malisimo_stemmizado.append(j)"
   ]
  },
  {
   "cell_type": "code",
   "execution_count": null,
   "metadata": {},
   "outputs": [],
   "source": [
    "#filtered_sentence_malisimo_stemmizado"
   ]
  },
  {
   "cell_type": "code",
   "execution_count": null,
   "metadata": {},
   "outputs": [],
   "source": [
    "filtered_sentence_malisimo_stemmizado = DataFrame(filtered_sentence_malisimo_stemmizado,columns=['Palabras'])\n",
    "filtered_sentence_malisimo_stemmizado"
   ]
  },
  {
   "cell_type": "code",
   "execution_count": null,
   "metadata": {},
   "outputs": [],
   "source": [
    "df_filtered_sentence_malisimo_stemmizado=filtered_sentence_malisimo_stemmizado.groupby([\"Palabras\"]).size().reset_index(name=\"Frecuencia\")"
   ]
  },
  {
   "cell_type": "code",
   "execution_count": null,
   "metadata": {},
   "outputs": [],
   "source": [
    "df_filtered_sentence_malisimo_stemmizado=df_filtered_sentence_malisimo_stemmizado.sort_values(by=\"Frecuencia\",ascending=False)"
   ]
  },
  {
   "cell_type": "code",
   "execution_count": null,
   "metadata": {},
   "outputs": [],
   "source": [
    "df_filtered_sentence_malisimo_stemmizado.head(45)"
   ]
  },
  {
   "cell_type": "markdown",
   "metadata": {},
   "source": [
    "### Purging the words the stop words did not identify"
   ]
  },
  {
   "cell_type": "code",
   "execution_count": null,
   "metadata": {},
   "outputs": [],
   "source": [
    "df_filtered_sentence_malisimo_stemmizado=df_filtered_sentence_malisimo_stemmizado.drop([24,10,320,343,3247,322,345,349,373,5752,5556,162],axis=0)"
   ]
  },
  {
   "cell_type": "code",
   "execution_count": null,
   "metadata": {},
   "outputs": [],
   "source": [
    "df_filtered_sentence_malisimo_stemmizado.head(30)"
   ]
  },
  {
   "cell_type": "markdown",
   "metadata": {},
   "source": [
    "## Que palabras fueron las más usadas para las críticas de una estrella?"
   ]
  },
  {
   "cell_type": "code",
   "execution_count": null,
   "metadata": {},
   "outputs": [],
   "source": [
    "plt.figure(figsize = (15,8))\n",
    "plot = sns.barplot(x  = df_filtered_sentence_malisimo_stemmizado.iloc[:30].Palabras, y = df_filtered_sentence_malisimo_stemmizado.iloc[:30].Frecuencia)\n",
    "for item in plot.get_xticklabels():\n",
    "    item.set_rotation(90)\n",
    "plt.grid()\n",
    "plt.title('Palabras más usadas para reviews de 1 estrella',fontsize=20)\n",
    "plt.show()"
   ]
  },
  {
   "cell_type": "markdown",
   "metadata": {},
   "source": [
    "## Conclusiones:\n",
    "### After the exploratory analysis, we can see the most frecuent  words in the chart. \n",
    "> Obviusly the expression \"No\", is the first word in the graph. \n",
    " \n",
    "> Then, another thing interesting is the exclamation simbol \"!\", surely the people use it to enphasize angry.\n",
    "\n",
    "> One thing that i did not expect, are the \"...\" suspension points. I think people use it to explain disappointment.\n",
    "\n",
    "> En el grafico aparece la palabra \"si\", pero si uno la mira fuera de contexto puede parecer positivo. \n",
    "> Pero analizando el contexto del análisis, que son las reseñas negativas. La palabra si, funciona como condicionante.\"\n",
    "\n",
    "> Ejemplo: \"Si me hubieran avisado que era así, no lo compraba\",\"Si tenía más fotos no lo compraba\"\n",
    "\n",
    "> Otra cosa, es que el adjetivo bien es positivo, sin embargo está precedido por palabras negativas, por lo que hacen mutar su significado."
   ]
  },
  {
   "cell_type": "markdown",
   "metadata": {},
   "source": [
    "### Ahora queremos ver la distribución de palabras para las criticas de 4 estrellas, para la categoría \"home\"¶"
   ]
  },
  {
   "cell_type": "code",
   "execution_count": null,
   "metadata": {},
   "outputs": [],
   "source": [
    "Muy_bueno_home=((result.product_category=='home')&(result.stars==4))\n",
    "Muy_bueno_home=result[Muy_bueno_home].copy()"
   ]
  },
  {
   "cell_type": "code",
   "execution_count": null,
   "metadata": {},
   "outputs": [],
   "source": [
    "estrellas=Muy_bueno_home['stars']\n",
    "print(\"Cantidad de estrellas:\", len(Muy_bueno_home['stars'].unique()))\n",
    "print(Muy_bueno_home['stars'].unique())\n",
    "plt.figure(figsize=(8,4))\n",
    "#tipologia.hist()\n",
    "plt.xticks(rotation=0)\n",
    "cuento_estrellas=Muy_bueno_home['stars'].value_counts()\n",
    "cuento_estrellas\n",
    "#sns.set_theme(style=\"darkgrid\")\n",
    "ax = sns.countplot(x='stars', data=Muy_bueno_home,palette=[\"red\"])\n",
    "plt.grid()"
   ]
  },
  {
   "cell_type": "markdown",
   "metadata": {},
   "source": [
    "### Ahora queremos ver la distribución de palabras para las criticas de 5 estrellas, para la categoría \"home\""
   ]
  },
  {
   "cell_type": "code",
   "execution_count": null,
   "metadata": {},
   "outputs": [],
   "source": [
    "perfecto_home=((result.product_category=='home')&(result.stars==5))\n",
    "perfecto_home=result[perfecto_home].copy()"
   ]
  },
  {
   "cell_type": "code",
   "execution_count": null,
   "metadata": {},
   "outputs": [],
   "source": [
    "estrellas=perfecto_home['stars']\n",
    "print(\"Cantidad de estrellas:\", len(perfecto_home['stars'].unique()))\n",
    "print(perfecto_home['stars'].unique())\n",
    "plt.figure(figsize=(8,4))\n",
    "#tipologia.hist()\n",
    "plt.xticks(rotation=0)\n",
    "cuento_estrellas=perfecto_home['stars'].value_counts()\n",
    "cuento_estrellas\n",
    "#sns.set_theme(style=\"darkgrid\")\n",
    "ax = sns.countplot(x='stars', data=perfecto_home,palette=[\"orange\"])\n",
    "plt.grid()"
   ]
  },
  {
   "cell_type": "code",
   "execution_count": null,
   "metadata": {},
   "outputs": [],
   "source": [
    "criticasperfectas=[]\n",
    "for i in perfecto_home.review_body:\n",
    "    criticas=i\n",
    "    criticasperfectas.append(criticas)"
   ]
  },
  {
   "cell_type": "markdown",
   "metadata": {},
   "source": [
    "### Esta lista se deja comentada, es la lista de criticas perfectas."
   ]
  },
  {
   "cell_type": "code",
   "execution_count": null,
   "metadata": {},
   "outputs": [],
   "source": [
    "#criticasperfectas"
   ]
  },
  {
   "cell_type": "code",
   "execution_count": null,
   "metadata": {},
   "outputs": [],
   "source": [
    "len(criticasperfectas)"
   ]
  },
  {
   "cell_type": "code",
   "execution_count": null,
   "metadata": {},
   "outputs": [],
   "source": [
    "criticas_perfectas_tokenizadas=[]\n",
    "for i in criticasperfectas:## Osea la lista entera de criticas\n",
    "    j=nltk.tokenize.word_tokenize(i)\n",
    "    criticas_perfectas_tokenizadas.append(j)"
   ]
  },
  {
   "cell_type": "code",
   "execution_count": null,
   "metadata": {},
   "outputs": [],
   "source": [
    "#criticas_perfectas_tokenizadas"
   ]
  },
  {
   "cell_type": "code",
   "execution_count": null,
   "metadata": {},
   "outputs": [],
   "source": [
    "palabras_criticas_perfectas_tokenizadas = list(itertools.chain(*criticas_perfectas_tokenizadas))"
   ]
  },
  {
   "cell_type": "code",
   "execution_count": null,
   "metadata": {},
   "outputs": [],
   "source": [
    "len(palabras_criticas_perfectas_tokenizadas)"
   ]
  },
  {
   "cell_type": "code",
   "execution_count": null,
   "metadata": {},
   "outputs": [],
   "source": [
    "filtered_sentence_perfecto=[]\n",
    "for w in palabras_criticas_perfectas_tokenizadas:\n",
    "    if w not in stop_words:\n",
    "        filtered_sentence_perfecto.append(w)"
   ]
  },
  {
   "cell_type": "code",
   "execution_count": null,
   "metadata": {},
   "outputs": [],
   "source": [
    "len(filtered_sentence_perfecto)"
   ]
  },
  {
   "cell_type": "code",
   "execution_count": null,
   "metadata": {},
   "outputs": [],
   "source": [
    "df_de_palabras_cinco_estrellas = DataFrame(filtered_sentence_perfecto,columns=['Palabras'])\n",
    "#df_de_palabras_cinco_estrellas"
   ]
  },
  {
   "cell_type": "code",
   "execution_count": null,
   "metadata": {},
   "outputs": [],
   "source": [
    "df_de_palabras_cinco_estrellas=df_de_palabras_cinco_estrellas.groupby([\"Palabras\"]).size().reset_index(name=\"Frecuencia\")"
   ]
  },
  {
   "cell_type": "code",
   "execution_count": null,
   "metadata": {},
   "outputs": [],
   "source": [
    "#df_de_palabras_cinco_estrellas.head(5)"
   ]
  },
  {
   "cell_type": "code",
   "execution_count": null,
   "metadata": {},
   "outputs": [],
   "source": [
    "df_de_palabras_cinco_estrellas=df_de_palabras_cinco_estrellas.sort_values(by=\"Frecuencia\",ascending=False)"
   ]
  },
  {
   "cell_type": "code",
   "execution_count": null,
   "metadata": {},
   "outputs": [],
   "source": [
    "#df_de_palabras_cinco_estrellas.head(30)"
   ]
  },
  {
   "cell_type": "code",
   "execution_count": null,
   "metadata": {},
   "outputs": [],
   "source": [
    "ps=PorterStemmer()\n",
    "# la lista es: filtered_sentence_malisimo\n",
    "filtered_sentence_perfecto_stemmizado=[]\n",
    "for w in filtered_sentence_perfecto:\n",
    "    j=ps.stem(w)\n",
    "    filtered_sentence_perfecto_stemmizado.append(j)"
   ]
  },
  {
   "cell_type": "code",
   "execution_count": null,
   "metadata": {},
   "outputs": [],
   "source": [
    "df_de_palabras_cinco_estrellas_stemmizado = DataFrame(filtered_sentence_perfecto_stemmizado,columns=['Palabras'])\n",
    "#df_de_palabras_cinco_estrellas_stemmizado"
   ]
  },
  {
   "cell_type": "code",
   "execution_count": null,
   "metadata": {},
   "outputs": [],
   "source": [
    "df_de_palabras_cinco_estrellas_stemmizado=df_de_palabras_cinco_estrellas_stemmizado.groupby([\"Palabras\"]).size().reset_index(name=\"Frecuencia\")"
   ]
  },
  {
   "cell_type": "code",
   "execution_count": null,
   "metadata": {},
   "outputs": [],
   "source": [
    "df_de_palabras_cinco_estrellas_stemmizado=df_de_palabras_cinco_estrellas_stemmizado.sort_values(by=\"Frecuencia\",ascending=False)"
   ]
  },
  {
   "cell_type": "code",
   "execution_count": null,
   "metadata": {},
   "outputs": [],
   "source": [
    "df_de_palabras_cinco_estrellas_stemmizado.head(45)"
   ]
  },
  {
   "cell_type": "markdown",
   "metadata": {},
   "source": [
    "### Quitamos palabras que no han sido eliminadas por el stop words"
   ]
  },
  {
   "cell_type": "code",
   "execution_count": null,
   "metadata": {},
   "outputs": [],
   "source": [
    "df_de_palabras_cinco_estrellas_stemmizado=df_de_palabras_cinco_estrellas_stemmizado.drop([21,7,254,266,272,252,268],axis=0)"
   ]
  },
  {
   "cell_type": "code",
   "execution_count": null,
   "metadata": {},
   "outputs": [],
   "source": [
    "df_de_palabras_cinco_estrellas_stemmizado.head(30)"
   ]
  },
  {
   "cell_type": "markdown",
   "metadata": {},
   "source": [
    "## Que palabras fueron las más usadas para las críticas de 5 estrellas?"
   ]
  },
  {
   "cell_type": "code",
   "execution_count": null,
   "metadata": {},
   "outputs": [],
   "source": [
    "plt.figure(figsize = (15,8))\n",
    "plot = sns.barplot(x  = df_de_palabras_cinco_estrellas_stemmizado.iloc[:30].Palabras, y = df_de_palabras_cinco_estrellas_stemmizado.iloc[:30].Frecuencia)\n",
    "for item in plot.get_xticklabels():\n",
    "    item.set_rotation(90)\n",
    "plt.grid()\n",
    "plt.title('Palabras más usadas para reviews de 5 estrellas',fontsize=20)\n",
    "plt.show()"
   ]
  },
  {
   "cell_type": "markdown",
   "metadata": {},
   "source": [
    "## Conclusiones:\n",
    "### Análisis del gráfico anterior:\n",
    "> Vemos que la palabras más usadas son: \"bien\", \"buena\", \"calidad\", \"perfecto\", \"precio\". lo que es lógico para describir una buena crítica.\n",
    "\n",
    "> También vemos que está presente el signo de exclamación \"!\". Que evidentemente se usa para describir algo fuerte, para darle énfasis a las emociones. En este caso, felicidad, gratitud, conformidad."
   ]
  },
  {
   "cell_type": "code",
   "execution_count": null,
   "metadata": {},
   "outputs": [],
   "source": [
    "data[\"Length_Review\"]=(data.apply(lambda x: len(x.review_body), axis=1))"
   ]
  },
  {
   "cell_type": "code",
   "execution_count": null,
   "metadata": {
    "scrolled": false
   },
   "outputs": [],
   "source": [
    "data.head(5)"
   ]
  },
  {
   "cell_type": "code",
   "execution_count": null,
   "metadata": {},
   "outputs": [],
   "source": [
    "len(data.review_body[1])"
   ]
  },
  {
   "cell_type": "code",
   "execution_count": null,
   "metadata": {},
   "outputs": [],
   "source": [
    "#titular_wt = nltk.tokenize.word_tokenize(data.review_body)\n",
    "#titular_wt\n",
    "review_body_tokenizado=[]\n",
    "for i in data.review_body:## Osea la lista entera de criticas\n",
    "    j=nltk.tokenize.word_tokenize(i)\n",
    "    review_body_tokenizado.append(j)"
   ]
  },
  {
   "cell_type": "code",
   "execution_count": null,
   "metadata": {},
   "outputs": [],
   "source": [
    "type(review_body_tokenizado)"
   ]
  },
  {
   "cell_type": "code",
   "execution_count": null,
   "metadata": {},
   "outputs": [],
   "source": [
    "data['review_body_tokenizado']=review_body_tokenizado"
   ]
  },
  {
   "cell_type": "code",
   "execution_count": null,
   "metadata": {},
   "outputs": [],
   "source": [
    "data.head(2)"
   ]
  },
  {
   "cell_type": "code",
   "execution_count": null,
   "metadata": {},
   "outputs": [],
   "source": []
  }
 ],
 "metadata": {
  "kernelspec": {
   "display_name": "Python 3",
   "language": "python",
   "name": "python3"
  },
  "language_info": {
   "codemirror_mode": {
    "name": "ipython",
    "version": 3
   },
   "file_extension": ".py",
   "mimetype": "text/x-python",
   "name": "python",
   "nbconvert_exporter": "python",
   "pygments_lexer": "ipython3",
   "version": "3.7.6"
  }
 },
 "nbformat": 4,
 "nbformat_minor": 4
}
