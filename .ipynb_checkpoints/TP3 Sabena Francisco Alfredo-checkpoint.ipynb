{
 "cells": [
  {
   "cell_type": "markdown",
   "metadata": {},
   "source": [
    "### Checklist de evaluación\n",
    "Sugerencias para desarrollar el proyecto:\n",
    "\n",
    "La resolución del proyecto te puede enfrentar a desafíos que no trabajamos durante los encuentros. Es importante que desarrolles la capacidad de resolverlos. Para ello, consulta las bitácoras, las referencias, los notebooks vistos en clase, la documentación de la librería y, sobre todo, googlea.\n",
    "Los pasos deben estar correctamente justificados.\n",
    "Las preguntas que se respondan deben estar correctamente explicitadas.\n",
    "Imagina que este proyecto lo usarías para presentar en una entrevista de trabajo, o que lo debes presentar en tu trabajo. Presta mucha atención a la redacción, presentación de gráficos, etc.\n",
    "Antes de subir tu proyecto a la plataforma Acámica para que sea evaluado, verifica que el Notebook se ejecute sin errores. Además, asegúrate de cumplir con las siguientes condiciones (son las que los/as evaluadores/as tendrán en consideración al momento de corregir tu trabajo):\n",
    "\n",
    "#### Parte A - Exploración de Datos\n",
    "\n",
    "1- El Análisis Exploratorio de Datos debe servir para comprender el dataset y todo el flujo de trabajo que le siga.\n",
    "2- Debes responder al menos una pregunta original con este dataset. La pregunta debe estar correctamente explicitada.\n",
    "#### Parte B - Modelo de Machine Learning\n",
    "\n",
    "1- Debes evaluar correctamente el modelo que realices. Esto implica un correcto manejo de datos de Train y Test, elegir una métrica apropiada y justificar su elección, y comparar los resultados contra un modelo benchmark.\n",
    "\n",
    "2- Puedes aplicar más de una de las técnicas vistas para crear tus modelos. Pero ten en cuenta que es preferible un modelo bien hecho (apropiada transformación de datos, optimización de hiperparámetros y análisis de sus resultados) que muchos modelos a medias. En caso de entrenar más de un modelo, debes comparar sus resultados y justificar cuál elegirías.\n",
    "\n",
    "3- Si el modelo lo permite, debes explorar qué información utiliza para predecir e interpretar ese resultado. ¿Coincide con lo que esperabas a partir de tu experiencia con el dataset?\n",
    "#### Parte C - Investigación\n",
    "\n",
    "1- Debes explicar qué te gustaría probar, por qué y cómo lo harías. Si tienes referencias (por ejemplo, un artículo que hayas encontrado, capítulo de libro, etc.), debes mencionarlas.\n",
    "\n",
    "2- Debes comentar también qué resultados esperas encontrar. Por ejemplo, puedes implementar una prueba rápida y mostrar resultados preliminares, para ver si estás correctamente orientado."
   ]
  },
  {
   "cell_type": "code",
   "execution_count": 1,
   "metadata": {},
   "outputs": [],
   "source": [
    "import pandas as pd\n",
    "from pandas import DataFrame\n",
    "import numpy as np\n",
    "import matplotlib.pyplot as plt\n",
    "import statsmodels.api as sm\n",
    "import seaborn as sns\n",
    "import nltk\n",
    "from nltk.corpus import stopwords\n",
    "from nltk.stem import PorterStemmer\n",
    "from nltk.stem import WordNetLemmatizer\n",
    "import itertools"
   ]
  },
  {
   "cell_type": "code",
   "execution_count": 2,
   "metadata": {},
   "outputs": [],
   "source": [
    "data=pd.read_json(r'C:\\Users\\Alfredo\\Bitácoras\\dataset_es_dev.json',lines=True)"
   ]
  },
  {
   "cell_type": "code",
   "execution_count": 3,
   "metadata": {},
   "outputs": [
    {
     "data": {
      "text/html": [
       "<div>\n",
       "<style scoped>\n",
       "    .dataframe tbody tr th:only-of-type {\n",
       "        vertical-align: middle;\n",
       "    }\n",
       "\n",
       "    .dataframe tbody tr th {\n",
       "        vertical-align: top;\n",
       "    }\n",
       "\n",
       "    .dataframe thead th {\n",
       "        text-align: right;\n",
       "    }\n",
       "</style>\n",
       "<table border=\"1\" class=\"dataframe\">\n",
       "  <thead>\n",
       "    <tr style=\"text-align: right;\">\n",
       "      <th></th>\n",
       "      <th>review_id</th>\n",
       "      <th>product_id</th>\n",
       "      <th>reviewer_id</th>\n",
       "      <th>stars</th>\n",
       "      <th>review_body</th>\n",
       "      <th>review_title</th>\n",
       "      <th>language</th>\n",
       "      <th>product_category</th>\n",
       "    </tr>\n",
       "  </thead>\n",
       "  <tbody>\n",
       "    <tr>\n",
       "      <th>0</th>\n",
       "      <td>es_0417480</td>\n",
       "      <td>product_es_0873923</td>\n",
       "      <td>reviewer_es_0672978</td>\n",
       "      <td>1</td>\n",
       "      <td>Malisimo, muy grande demasiado aparatoso y mal...</td>\n",
       "      <td>Mala compra</td>\n",
       "      <td>es</td>\n",
       "      <td>wireless</td>\n",
       "    </tr>\n",
       "    <tr>\n",
       "      <th>1</th>\n",
       "      <td>es_0180432</td>\n",
       "      <td>product_es_0713146</td>\n",
       "      <td>reviewer_es_0100858</td>\n",
       "      <td>1</td>\n",
       "      <td>No he recibido el pedido no la devolución</td>\n",
       "      <td>No lo he recibido</td>\n",
       "      <td>es</td>\n",
       "      <td>apparel</td>\n",
       "    </tr>\n",
       "  </tbody>\n",
       "</table>\n",
       "</div>"
      ],
      "text/plain": [
       "    review_id          product_id          reviewer_id  stars  \\\n",
       "0  es_0417480  product_es_0873923  reviewer_es_0672978      1   \n",
       "1  es_0180432  product_es_0713146  reviewer_es_0100858      1   \n",
       "\n",
       "                                         review_body       review_title  \\\n",
       "0  Malisimo, muy grande demasiado aparatoso y mal...        Mala compra   \n",
       "1          No he recibido el pedido no la devolución  No lo he recibido   \n",
       "\n",
       "  language product_category  \n",
       "0       es         wireless  \n",
       "1       es          apparel  "
      ]
     },
     "execution_count": 3,
     "metadata": {},
     "output_type": "execute_result"
    }
   ],
   "source": [
    "data.head(2)"
   ]
  },
  {
   "cell_type": "code",
   "execution_count": 4,
   "metadata": {},
   "outputs": [],
   "source": [
    "data_train=pd.read_json(r'C:\\Users\\Alfredo\\Bitácoras\\dataset_es_train.json',lines=True)"
   ]
  },
  {
   "cell_type": "code",
   "execution_count": 5,
   "metadata": {},
   "outputs": [
    {
     "data": {
      "text/html": [
       "<div>\n",
       "<style scoped>\n",
       "    .dataframe tbody tr th:only-of-type {\n",
       "        vertical-align: middle;\n",
       "    }\n",
       "\n",
       "    .dataframe tbody tr th {\n",
       "        vertical-align: top;\n",
       "    }\n",
       "\n",
       "    .dataframe thead th {\n",
       "        text-align: right;\n",
       "    }\n",
       "</style>\n",
       "<table border=\"1\" class=\"dataframe\">\n",
       "  <thead>\n",
       "    <tr style=\"text-align: right;\">\n",
       "      <th></th>\n",
       "      <th>review_id</th>\n",
       "      <th>product_id</th>\n",
       "      <th>reviewer_id</th>\n",
       "      <th>stars</th>\n",
       "      <th>review_body</th>\n",
       "      <th>review_title</th>\n",
       "      <th>language</th>\n",
       "      <th>product_category</th>\n",
       "    </tr>\n",
       "  </thead>\n",
       "  <tbody>\n",
       "    <tr>\n",
       "      <th>0</th>\n",
       "      <td>es_0491108</td>\n",
       "      <td>product_es_0296024</td>\n",
       "      <td>reviewer_es_0999081</td>\n",
       "      <td>1</td>\n",
       "      <td>Nada bueno se me fue ka pantalla en menos de 8...</td>\n",
       "      <td>television Nevir</td>\n",
       "      <td>es</td>\n",
       "      <td>electronics</td>\n",
       "    </tr>\n",
       "    <tr>\n",
       "      <th>1</th>\n",
       "      <td>es_0869872</td>\n",
       "      <td>product_es_0922286</td>\n",
       "      <td>reviewer_es_0216771</td>\n",
       "      <td>1</td>\n",
       "      <td>Horrible, nos tuvimos que comprar otro porque ...</td>\n",
       "      <td>Dinero tirado a la basura con esta compra</td>\n",
       "      <td>es</td>\n",
       "      <td>electronics</td>\n",
       "    </tr>\n",
       "  </tbody>\n",
       "</table>\n",
       "</div>"
      ],
      "text/plain": [
       "    review_id          product_id          reviewer_id  stars  \\\n",
       "0  es_0491108  product_es_0296024  reviewer_es_0999081      1   \n",
       "1  es_0869872  product_es_0922286  reviewer_es_0216771      1   \n",
       "\n",
       "                                         review_body  \\\n",
       "0  Nada bueno se me fue ka pantalla en menos de 8...   \n",
       "1  Horrible, nos tuvimos que comprar otro porque ...   \n",
       "\n",
       "                                review_title language product_category  \n",
       "0                           television Nevir       es      electronics  \n",
       "1  Dinero tirado a la basura con esta compra       es      electronics  "
      ]
     },
     "execution_count": 5,
     "metadata": {},
     "output_type": "execute_result"
    }
   ],
   "source": [
    "data_train.head(2)"
   ]
  },
  {
   "cell_type": "code",
   "execution_count": 6,
   "metadata": {},
   "outputs": [],
   "source": [
    "data_test=pd.read_json(r'C:\\Users\\Alfredo\\Bitácoras\\dataset_es_test.json',lines=True)"
   ]
  },
  {
   "cell_type": "code",
   "execution_count": 7,
   "metadata": {},
   "outputs": [
    {
     "data": {
      "text/html": [
       "<div>\n",
       "<style scoped>\n",
       "    .dataframe tbody tr th:only-of-type {\n",
       "        vertical-align: middle;\n",
       "    }\n",
       "\n",
       "    .dataframe tbody tr th {\n",
       "        vertical-align: top;\n",
       "    }\n",
       "\n",
       "    .dataframe thead th {\n",
       "        text-align: right;\n",
       "    }\n",
       "</style>\n",
       "<table border=\"1\" class=\"dataframe\">\n",
       "  <thead>\n",
       "    <tr style=\"text-align: right;\">\n",
       "      <th></th>\n",
       "      <th>review_id</th>\n",
       "      <th>product_id</th>\n",
       "      <th>reviewer_id</th>\n",
       "      <th>stars</th>\n",
       "      <th>review_body</th>\n",
       "      <th>review_title</th>\n",
       "      <th>language</th>\n",
       "      <th>product_category</th>\n",
       "    </tr>\n",
       "  </thead>\n",
       "  <tbody>\n",
       "    <tr>\n",
       "      <th>0</th>\n",
       "      <td>es_0038754</td>\n",
       "      <td>product_es_0113523</td>\n",
       "      <td>reviewer_es_0580071</td>\n",
       "      <td>1</td>\n",
       "      <td>no me llego el articulo me lo mando por correo...</td>\n",
       "      <td>no me llego</td>\n",
       "      <td>es</td>\n",
       "      <td>wireless</td>\n",
       "    </tr>\n",
       "    <tr>\n",
       "      <th>1</th>\n",
       "      <td>es_0748979</td>\n",
       "      <td>product_es_0017036</td>\n",
       "      <td>reviewer_es_0819733</td>\n",
       "      <td>1</td>\n",
       "      <td>la mensajería horrible, no compro mas</td>\n",
       "      <td>amazon sigue sin cumplir en las entregas</td>\n",
       "      <td>es</td>\n",
       "      <td>home</td>\n",
       "    </tr>\n",
       "  </tbody>\n",
       "</table>\n",
       "</div>"
      ],
      "text/plain": [
       "    review_id          product_id          reviewer_id  stars  \\\n",
       "0  es_0038754  product_es_0113523  reviewer_es_0580071      1   \n",
       "1  es_0748979  product_es_0017036  reviewer_es_0819733      1   \n",
       "\n",
       "                                         review_body  \\\n",
       "0  no me llego el articulo me lo mando por correo...   \n",
       "1              la mensajería horrible, no compro mas   \n",
       "\n",
       "                               review_title language product_category  \n",
       "0                               no me llego       es         wireless  \n",
       "1  amazon sigue sin cumplir en las entregas       es             home  "
      ]
     },
     "execution_count": 7,
     "metadata": {},
     "output_type": "execute_result"
    }
   ],
   "source": [
    "data_test.head(2)"
   ]
  },
  {
   "cell_type": "code",
   "execution_count": 8,
   "metadata": {},
   "outputs": [
    {
     "name": "stdout",
     "output_type": "stream",
     "text": [
      "Cantidad de filas y columnas del data:  (5000, 8)\n",
      "Cantidad de filas y columnas del data test:  (5000, 8)\n",
      "Cantidad de filas y columnas del data train:  (200000, 8)\n"
     ]
    }
   ],
   "source": [
    "print('Cantidad de filas y columnas del data: ',data.shape)\n",
    "print('Cantidad de filas y columnas del data test: ',data_test.shape)\n",
    "print('Cantidad de filas y columnas del data train: ',data_train.shape)"
   ]
  },
  {
   "cell_type": "code",
   "execution_count": 9,
   "metadata": {},
   "outputs": [
    {
     "data": {
      "text/html": [
       "<div>\n",
       "<style scoped>\n",
       "    .dataframe tbody tr th:only-of-type {\n",
       "        vertical-align: middle;\n",
       "    }\n",
       "\n",
       "    .dataframe tbody tr th {\n",
       "        vertical-align: top;\n",
       "    }\n",
       "\n",
       "    .dataframe thead th {\n",
       "        text-align: right;\n",
       "    }\n",
       "</style>\n",
       "<table border=\"1\" class=\"dataframe\">\n",
       "  <thead>\n",
       "    <tr style=\"text-align: right;\">\n",
       "      <th></th>\n",
       "      <th>stars</th>\n",
       "    </tr>\n",
       "  </thead>\n",
       "  <tbody>\n",
       "    <tr>\n",
       "      <th>count</th>\n",
       "      <td>5000.000000</td>\n",
       "    </tr>\n",
       "    <tr>\n",
       "      <th>mean</th>\n",
       "      <td>3.000000</td>\n",
       "    </tr>\n",
       "    <tr>\n",
       "      <th>std</th>\n",
       "      <td>1.414355</td>\n",
       "    </tr>\n",
       "    <tr>\n",
       "      <th>min</th>\n",
       "      <td>1.000000</td>\n",
       "    </tr>\n",
       "    <tr>\n",
       "      <th>25%</th>\n",
       "      <td>2.000000</td>\n",
       "    </tr>\n",
       "    <tr>\n",
       "      <th>50%</th>\n",
       "      <td>3.000000</td>\n",
       "    </tr>\n",
       "    <tr>\n",
       "      <th>75%</th>\n",
       "      <td>4.000000</td>\n",
       "    </tr>\n",
       "    <tr>\n",
       "      <th>max</th>\n",
       "      <td>5.000000</td>\n",
       "    </tr>\n",
       "  </tbody>\n",
       "</table>\n",
       "</div>"
      ],
      "text/plain": [
       "             stars\n",
       "count  5000.000000\n",
       "mean      3.000000\n",
       "std       1.414355\n",
       "min       1.000000\n",
       "25%       2.000000\n",
       "50%       3.000000\n",
       "75%       4.000000\n",
       "max       5.000000"
      ]
     },
     "execution_count": 9,
     "metadata": {},
     "output_type": "execute_result"
    }
   ],
   "source": [
    "data.describe()"
   ]
  },
  {
   "cell_type": "markdown",
   "metadata": {},
   "source": [
    "###  Hay valores faltantes?"
   ]
  },
  {
   "cell_type": "code",
   "execution_count": 10,
   "metadata": {},
   "outputs": [
    {
     "name": "stdout",
     "output_type": "stream",
     "text": [
      "##--->  Datos faltantes de DATA: <---##\n",
      " review_id           0\n",
      "product_id          0\n",
      "reviewer_id         0\n",
      "stars               0\n",
      "review_body         0\n",
      "review_title        0\n",
      "language            0\n",
      "product_category    0\n",
      "dtype: int64\n",
      "##--->  Datos faltantes de DATA_TRAIN  <---##:\n",
      " review_id           0\n",
      "product_id          0\n",
      "reviewer_id         0\n",
      "stars               0\n",
      "review_body         0\n",
      "review_title        0\n",
      "language            0\n",
      "product_category    0\n",
      "dtype: int64\n",
      "##--->  Datos faltantes de DATA_TEST  <---##:\n",
      " review_id           0\n",
      "product_id          0\n",
      "reviewer_id         0\n",
      "stars               0\n",
      "review_body         0\n",
      "review_title        0\n",
      "language            0\n",
      "product_category    0\n",
      "dtype: int64\n"
     ]
    }
   ],
   "source": [
    "print(\"##--->  Datos faltantes de DATA: <---##\\n\",data.isna().sum())\n",
    "print(\"##--->  Datos faltantes de DATA_TRAIN  <---##:\\n\",data_train.isna().sum())\n",
    "print(\"##--->  Datos faltantes de DATA_TEST  <---##:\\n\",data_test.isna().sum())"
   ]
  },
  {
   "cell_type": "code",
   "execution_count": 11,
   "metadata": {},
   "outputs": [
    {
     "name": "stdout",
     "output_type": "stream",
     "text": [
      "##--->  INFO de DATA:  <---##\n",
      "\n",
      "<class 'pandas.core.frame.DataFrame'>\n",
      "RangeIndex: 5000 entries, 0 to 4999\n",
      "Data columns (total 8 columns):\n",
      " #   Column            Non-Null Count  Dtype \n",
      "---  ------            --------------  ----- \n",
      " 0   review_id         5000 non-null   object\n",
      " 1   product_id        5000 non-null   object\n",
      " 2   reviewer_id       5000 non-null   object\n",
      " 3   stars             5000 non-null   int64 \n",
      " 4   review_body       5000 non-null   object\n",
      " 5   review_title      5000 non-null   object\n",
      " 6   language          5000 non-null   object\n",
      " 7   product_category  5000 non-null   object\n",
      "dtypes: int64(1), object(7)\n",
      "memory usage: 312.6+ KB\n",
      "\n",
      "##--->  INFO de DATA_TRAIN  <---##:\n",
      "\n",
      "<class 'pandas.core.frame.DataFrame'>\n",
      "RangeIndex: 200000 entries, 0 to 199999\n",
      "Data columns (total 8 columns):\n",
      " #   Column            Non-Null Count   Dtype \n",
      "---  ------            --------------   ----- \n",
      " 0   review_id         200000 non-null  object\n",
      " 1   product_id        200000 non-null  object\n",
      " 2   reviewer_id       200000 non-null  object\n",
      " 3   stars             200000 non-null  int64 \n",
      " 4   review_body       200000 non-null  object\n",
      " 5   review_title      200000 non-null  object\n",
      " 6   language          200000 non-null  object\n",
      " 7   product_category  200000 non-null  object\n",
      "dtypes: int64(1), object(7)\n",
      "memory usage: 12.2+ MB\n",
      "\n",
      "##--->  INFO de DATA_TEST  <---##:\n",
      "\n",
      "<class 'pandas.core.frame.DataFrame'>\n",
      "RangeIndex: 5000 entries, 0 to 4999\n",
      "Data columns (total 8 columns):\n",
      " #   Column            Non-Null Count  Dtype \n",
      "---  ------            --------------  ----- \n",
      " 0   review_id         5000 non-null   object\n",
      " 1   product_id        5000 non-null   object\n",
      " 2   reviewer_id       5000 non-null   object\n",
      " 3   stars             5000 non-null   int64 \n",
      " 4   review_body       5000 non-null   object\n",
      " 5   review_title      5000 non-null   object\n",
      " 6   language          5000 non-null   object\n",
      " 7   product_category  5000 non-null   object\n",
      "dtypes: int64(1), object(7)\n",
      "memory usage: 312.6+ KB\n"
     ]
    }
   ],
   "source": [
    "print(\"##--->  INFO de DATA:  <---##\\n\")\n",
    "data.info()\n",
    "print(\"\\n##--->  INFO de DATA_TRAIN  <---##:\\n\")\n",
    "data_train.info()\n",
    "print(\"\\n##--->  INFO de DATA_TEST  <---##:\\n\")\n",
    "data_test.info()"
   ]
  },
  {
   "cell_type": "markdown",
   "metadata": {},
   "source": [
    "# Concatenando todos los dataframes\n",
    "### Genero ademas un dataset que contenga el 30 porciento de cada uno de los puntajes, para no tener que trabajar con un data frame tan extenso, ni tan chico.\n",
    "<img src=https://www.analyticslane.com/wp-content/uploads/2018/08/t-1723941_1920-1536x974.jpg>\n"
   ]
  },
  {
   "cell_type": "code",
   "execution_count": 12,
   "metadata": {},
   "outputs": [
    {
     "data": {
      "text/html": [
       "<div>\n",
       "<style scoped>\n",
       "    .dataframe tbody tr th:only-of-type {\n",
       "        vertical-align: middle;\n",
       "    }\n",
       "\n",
       "    .dataframe tbody tr th {\n",
       "        vertical-align: top;\n",
       "    }\n",
       "\n",
       "    .dataframe thead th {\n",
       "        text-align: right;\n",
       "    }\n",
       "</style>\n",
       "<table border=\"1\" class=\"dataframe\">\n",
       "  <thead>\n",
       "    <tr style=\"text-align: right;\">\n",
       "      <th></th>\n",
       "      <th>review_id</th>\n",
       "      <th>product_id</th>\n",
       "      <th>reviewer_id</th>\n",
       "      <th>stars</th>\n",
       "      <th>review_body</th>\n",
       "      <th>review_title</th>\n",
       "      <th>language</th>\n",
       "      <th>product_category</th>\n",
       "    </tr>\n",
       "  </thead>\n",
       "  <tbody>\n",
       "    <tr>\n",
       "      <th>0</th>\n",
       "      <td>es_0417480</td>\n",
       "      <td>product_es_0873923</td>\n",
       "      <td>reviewer_es_0672978</td>\n",
       "      <td>1</td>\n",
       "      <td>Malisimo, muy grande demasiado aparatoso y mal...</td>\n",
       "      <td>Mala compra</td>\n",
       "      <td>es</td>\n",
       "      <td>wireless</td>\n",
       "    </tr>\n",
       "    <tr>\n",
       "      <th>1</th>\n",
       "      <td>es_0180432</td>\n",
       "      <td>product_es_0713146</td>\n",
       "      <td>reviewer_es_0100858</td>\n",
       "      <td>1</td>\n",
       "      <td>No he recibido el pedido no la devolución</td>\n",
       "      <td>No lo he recibido</td>\n",
       "      <td>es</td>\n",
       "      <td>apparel</td>\n",
       "    </tr>\n",
       "  </tbody>\n",
       "</table>\n",
       "</div>"
      ],
      "text/plain": [
       "    review_id          product_id          reviewer_id  stars  \\\n",
       "0  es_0417480  product_es_0873923  reviewer_es_0672978      1   \n",
       "1  es_0180432  product_es_0713146  reviewer_es_0100858      1   \n",
       "\n",
       "                                         review_body       review_title  \\\n",
       "0  Malisimo, muy grande demasiado aparatoso y mal...        Mala compra   \n",
       "1          No he recibido el pedido no la devolución  No lo he recibido   \n",
       "\n",
       "  language product_category  \n",
       "0       es         wireless  \n",
       "1       es          apparel  "
      ]
     },
     "execution_count": 12,
     "metadata": {},
     "output_type": "execute_result"
    }
   ],
   "source": [
    "frames = [data, data_test, data_train]\n",
    "datasets=[data_test, data]\n",
    "result = pd.concat(frames)\n",
    "porcientotreinta5=(result.stars==5)\n",
    "porcientotreinta5=result[porcientotreinta5][0:12600].copy()\n",
    "porcientotreinta4=(result.stars==4)\n",
    "porcientotreinta4=result[porcientotreinta4][0:12600].copy()\n",
    "porcientotreinta3=(result.stars==3)\n",
    "porcientotreinta3=result[porcientotreinta3][0:12600].copy()\n",
    "porcientotreinta2=(result.stars==2)\n",
    "porcientotreinta2=result[porcientotreinta2][0:12600].copy()\n",
    "porcientotreinta1=(result.stars==1)\n",
    "porcientotreinta1=result[porcientotreinta1][0:12600].copy()\n",
    "porcientotreinta=[porcientotreinta1,porcientotreinta2,porcientotreinta3,porcientotreinta4,porcientotreinta5]\n",
    "pc30=pd.concat(porcientotreinta)\n",
    "pc30.head(2)"
   ]
  },
  {
   "cell_type": "markdown",
   "metadata": {},
   "source": [
    "# Parte A: Análisis exploratorio de datos:\n",
    "## Preguntas a responder:\n",
    "### ¿ Cuáles son las categorías de producto con peores o mejores reseñas que otras ?  \n",
    "### ¿ Cuáles son las palabras más utilizadas en cada puntaje y que relación se le encuentra con el mismo ?"
   ]
  },
  {
   "cell_type": "markdown",
   "metadata": {},
   "source": [
    "### En el siguiente countplot, vemos en orden descendente la cantidad de reseñas por categoría."
   ]
  },
  {
   "cell_type": "code",
   "execution_count": 13,
   "metadata": {},
   "outputs": [
    {
     "name": "stdout",
     "output_type": "stream",
     "text": [
      "home                        28328\n",
      "wireless                    27208\n",
      "toy                         14328\n",
      "sports                      13856\n",
      "pc                          11720\n",
      "home_improvement            11468\n",
      "electronics                 10899\n",
      "beauty                       7707\n",
      "automotive                   7495\n",
      "kitchen                      7028\n",
      "apparel                      6014\n",
      "drugstore                    5778\n",
      "book                         5528\n",
      "furniture                    5481\n",
      "baby_product                 5098\n",
      "office_product               5010\n",
      "lawn_and_garden              4449\n",
      "other                        4131\n",
      "pet_products                 3899\n",
      "personal_care_appliances     3735\n",
      "luggage                      3509\n",
      "camera                       3180\n",
      "shoes                        2886\n",
      "digital_ebook_purchase       1936\n",
      "video_games                  1818\n",
      "jewelry                      1677\n",
      "musical_instruments          1608\n",
      "watch                        1567\n",
      "industrial_supplies          1552\n",
      "grocery                      1107\n",
      "Name: product_category, dtype: int64\n"
     ]
    },
    {
     "data": {
      "image/png": "[encoded data removed]",
      "text/plain": [
       "<Figure size 720x432 with 1 Axes>"
      ]
     },
     "metadata": {
      "needs_background": "light"
     },
     "output_type": "display_data"
    }
   ],
   "source": [
    "categoria_productos=result['product_category'].value_counts()\n",
    "print(categoria_productos)\n",
    "plt.figure(figsize=(10,6))\n",
    "#tipologia.hist()\n",
    "plt.xticks(rotation=90)\n",
    "categoria_productos=result['product_category'].value_counts()\n",
    "categoria_productos\n",
    "#sns.set_theme(style=\"darkgrid\")\n",
    "ax = sns.countplot(x='product_category', data=result,order=result['product_category'].value_counts().index)#,ascending=True)\n",
    "plt.grid()"
   ]
  },
  {
   "cell_type": "code",
   "execution_count": 14,
   "metadata": {},
   "outputs": [
    {
     "data": {
      "text/html": [
       "<div>\n",
       "<style scoped>\n",
       "    .dataframe tbody tr th:only-of-type {\n",
       "        vertical-align: middle;\n",
       "    }\n",
       "\n",
       "    .dataframe tbody tr th {\n",
       "        vertical-align: top;\n",
       "    }\n",
       "\n",
       "    .dataframe thead th {\n",
       "        text-align: right;\n",
       "    }\n",
       "</style>\n",
       "<table border=\"1\" class=\"dataframe\">\n",
       "  <thead>\n",
       "    <tr style=\"text-align: right;\">\n",
       "      <th></th>\n",
       "      <th>product_category</th>\n",
       "    </tr>\n",
       "  </thead>\n",
       "  <tbody>\n",
       "    <tr>\n",
       "      <th>home</th>\n",
       "      <td>28328</td>\n",
       "    </tr>\n",
       "    <tr>\n",
       "      <th>wireless</th>\n",
       "      <td>27208</td>\n",
       "    </tr>\n",
       "    <tr>\n",
       "      <th>toy</th>\n",
       "      <td>14328</td>\n",
       "    </tr>\n",
       "    <tr>\n",
       "      <th>sports</th>\n",
       "      <td>13856</td>\n",
       "    </tr>\n",
       "    <tr>\n",
       "      <th>pc</th>\n",
       "      <td>11720</td>\n",
       "    </tr>\n",
       "    <tr>\n",
       "      <th>home_improvement</th>\n",
       "      <td>11468</td>\n",
       "    </tr>\n",
       "    <tr>\n",
       "      <th>electronics</th>\n",
       "      <td>10899</td>\n",
       "    </tr>\n",
       "    <tr>\n",
       "      <th>beauty</th>\n",
       "      <td>7707</td>\n",
       "    </tr>\n",
       "    <tr>\n",
       "      <th>automotive</th>\n",
       "      <td>7495</td>\n",
       "    </tr>\n",
       "    <tr>\n",
       "      <th>kitchen</th>\n",
       "      <td>7028</td>\n",
       "    </tr>\n",
       "    <tr>\n",
       "      <th>apparel</th>\n",
       "      <td>6014</td>\n",
       "    </tr>\n",
       "    <tr>\n",
       "      <th>drugstore</th>\n",
       "      <td>5778</td>\n",
       "    </tr>\n",
       "    <tr>\n",
       "      <th>book</th>\n",
       "      <td>5528</td>\n",
       "    </tr>\n",
       "    <tr>\n",
       "      <th>furniture</th>\n",
       "      <td>5481</td>\n",
       "    </tr>\n",
       "    <tr>\n",
       "      <th>baby_product</th>\n",
       "      <td>5098</td>\n",
       "    </tr>\n",
       "    <tr>\n",
       "      <th>office_product</th>\n",
       "      <td>5010</td>\n",
       "    </tr>\n",
       "    <tr>\n",
       "      <th>lawn_and_garden</th>\n",
       "      <td>4449</td>\n",
       "    </tr>\n",
       "    <tr>\n",
       "      <th>other</th>\n",
       "      <td>4131</td>\n",
       "    </tr>\n",
       "    <tr>\n",
       "      <th>pet_products</th>\n",
       "      <td>3899</td>\n",
       "    </tr>\n",
       "    <tr>\n",
       "      <th>personal_care_appliances</th>\n",
       "      <td>3735</td>\n",
       "    </tr>\n",
       "    <tr>\n",
       "      <th>luggage</th>\n",
       "      <td>3509</td>\n",
       "    </tr>\n",
       "    <tr>\n",
       "      <th>camera</th>\n",
       "      <td>3180</td>\n",
       "    </tr>\n",
       "    <tr>\n",
       "      <th>shoes</th>\n",
       "      <td>2886</td>\n",
       "    </tr>\n",
       "    <tr>\n",
       "      <th>digital_ebook_purchase</th>\n",
       "      <td>1936</td>\n",
       "    </tr>\n",
       "    <tr>\n",
       "      <th>video_games</th>\n",
       "      <td>1818</td>\n",
       "    </tr>\n",
       "    <tr>\n",
       "      <th>jewelry</th>\n",
       "      <td>1677</td>\n",
       "    </tr>\n",
       "    <tr>\n",
       "      <th>musical_instruments</th>\n",
       "      <td>1608</td>\n",
       "    </tr>\n",
       "    <tr>\n",
       "      <th>watch</th>\n",
       "      <td>1567</td>\n",
       "    </tr>\n",
       "    <tr>\n",
       "      <th>industrial_supplies</th>\n",
       "      <td>1552</td>\n",
       "    </tr>\n",
       "    <tr>\n",
       "      <th>grocery</th>\n",
       "      <td>1107</td>\n",
       "    </tr>\n",
       "  </tbody>\n",
       "</table>\n",
       "</div>"
      ],
      "text/plain": [
       "                          product_category\n",
       "home                                 28328\n",
       "wireless                             27208\n",
       "toy                                  14328\n",
       "sports                               13856\n",
       "pc                                   11720\n",
       "home_improvement                     11468\n",
       "electronics                          10899\n",
       "beauty                                7707\n",
       "automotive                            7495\n",
       "kitchen                               7028\n",
       "apparel                               6014\n",
       "drugstore                             5778\n",
       "book                                  5528\n",
       "furniture                             5481\n",
       "baby_product                          5098\n",
       "office_product                        5010\n",
       "lawn_and_garden                       4449\n",
       "other                                 4131\n",
       "pet_products                          3899\n",
       "personal_care_appliances              3735\n",
       "luggage                               3509\n",
       "camera                                3180\n",
       "shoes                                 2886\n",
       "digital_ebook_purchase                1936\n",
       "video_games                           1818\n",
       "jewelry                               1677\n",
       "musical_instruments                   1608\n",
       "watch                                 1567\n",
       "industrial_supplies                   1552\n",
       "grocery                               1107"
      ]
     },
     "execution_count": 14,
     "metadata": {},
     "output_type": "execute_result"
    }
   ],
   "source": [
    "lista_productos=categoria_productos.to_list()\n",
    "categoria_productos.to_frame()"
   ]
  },
  {
   "cell_type": "code",
   "execution_count": 15,
   "metadata": {},
   "outputs": [
    {
     "data": {
      "text/plain": [
       "30"
      ]
     },
     "execution_count": 15,
     "metadata": {},
     "output_type": "execute_result"
    }
   ],
   "source": [
    "lista_de_productos=result.product_category\n",
    "lista_de_productos.to_list()\n",
    "lista_de_productos=lista_de_productos.unique()\n",
    "lista_de_productos=['wireless', 'apparel', 'sports', 'home_improvement', 'beauty',\n",
    "       'home', 'baby_product', 'pc', 'toy', 'book',\n",
    "       'personal_care_appliances', 'kitchen', 'lawn_and_garden',\n",
    "       'pet_products', 'drugstore', 'office_product', 'furniture',\n",
    "       'electronics', 'automotive', 'shoes', 'jewelry', 'luggage',\n",
    "       'camera', 'industrial_supplies', 'other', 'musical_instruments',\n",
    "       'grocery', 'digital_ebook_purchase', 'video_games', 'watch']\n",
    "len(lista_de_productos)"
   ]
  },
  {
   "cell_type": "markdown",
   "metadata": {},
   "source": [
    "### En el siguiente gráfico agrupamos las reseñas por puntajes y se observa que el dataset está perfectamente distribuido. Es decir que no hay nigún sesgo entre las calificaciones. \n",
    "#### Generamos un gráfico con la ditribución de estrellas"
   ]
  },
  {
   "cell_type": "code",
   "execution_count": 16,
   "metadata": {
    "scrolled": true
   },
   "outputs": [
    {
     "name": "stdout",
     "output_type": "stream",
     "text": [
      "Cantidad de estrellas: 5\n",
      "[1 2 3 4 5]\n"
     ]
    },
    {
     "data": {
      "image/png": "[encoded data removed]",
      "text/plain": [
       "<Figure size 720x432 with 1 Axes>"
      ]
     },
     "metadata": {
      "needs_background": "light"
     },
     "output_type": "display_data"
    }
   ],
   "source": [
    "#Cuantos estrellas hay en este dataset?\n",
    "estrellas=result['stars']\n",
    "\n",
    "print(\"Cantidad de estrellas:\", len(result['stars'].unique()))\n",
    "print(result['stars'].unique())\n",
    "plt.figure(figsize=(10,6))\n",
    "#tipologia.hist()\n",
    "plt.xticks(rotation=0)\n",
    "cuento_estrellas=result['stars'].value_counts()\n",
    "cuento_estrellas\n",
    "#sns.set_theme(style=\"darkgrid\")\n",
    "ax = sns.countplot(x='stars', data=result)\n",
    "plt.grid()"
   ]
  },
  {
   "cell_type": "markdown",
   "metadata": {},
   "source": [
    "### Creamos un número de identificación para cada categoría"
   ]
  },
  {
   "cell_type": "code",
   "execution_count": 17,
   "metadata": {},
   "outputs": [
    {
     "data": {
      "text/html": [
       "<div>\n",
       "<style scoped>\n",
       "    .dataframe tbody tr th:only-of-type {\n",
       "        vertical-align: middle;\n",
       "    }\n",
       "\n",
       "    .dataframe tbody tr th {\n",
       "        vertical-align: top;\n",
       "    }\n",
       "\n",
       "    .dataframe thead th {\n",
       "        text-align: right;\n",
       "    }\n",
       "</style>\n",
       "<table border=\"1\" class=\"dataframe\">\n",
       "  <thead>\n",
       "    <tr style=\"text-align: right;\">\n",
       "      <th></th>\n",
       "      <th>review_id</th>\n",
       "      <th>product_id</th>\n",
       "      <th>reviewer_id</th>\n",
       "      <th>stars</th>\n",
       "      <th>review_body</th>\n",
       "      <th>review_title</th>\n",
       "      <th>language</th>\n",
       "      <th>product_category</th>\n",
       "      <th>Cat_product_category</th>\n",
       "    </tr>\n",
       "  </thead>\n",
       "  <tbody>\n",
       "    <tr>\n",
       "      <th>0</th>\n",
       "      <td>es_0417480</td>\n",
       "      <td>product_es_0873923</td>\n",
       "      <td>reviewer_es_0672978</td>\n",
       "      <td>1</td>\n",
       "      <td>Malisimo, muy grande demasiado aparatoso y mal...</td>\n",
       "      <td>Mala compra</td>\n",
       "      <td>es</td>\n",
       "      <td>wireless</td>\n",
       "      <td>29</td>\n",
       "    </tr>\n",
       "    <tr>\n",
       "      <th>1</th>\n",
       "      <td>es_0180432</td>\n",
       "      <td>product_es_0713146</td>\n",
       "      <td>reviewer_es_0100858</td>\n",
       "      <td>1</td>\n",
       "      <td>No he recibido el pedido no la devolución</td>\n",
       "      <td>No lo he recibido</td>\n",
       "      <td>es</td>\n",
       "      <td>apparel</td>\n",
       "      <td>0</td>\n",
       "    </tr>\n",
       "  </tbody>\n",
       "</table>\n",
       "</div>"
      ],
      "text/plain": [
       "    review_id          product_id          reviewer_id  stars  \\\n",
       "0  es_0417480  product_es_0873923  reviewer_es_0672978      1   \n",
       "1  es_0180432  product_es_0713146  reviewer_es_0100858      1   \n",
       "\n",
       "                                         review_body       review_title  \\\n",
       "0  Malisimo, muy grande demasiado aparatoso y mal...        Mala compra   \n",
       "1          No he recibido el pedido no la devolución  No lo he recibido   \n",
       "\n",
       "  language product_category  Cat_product_category  \n",
       "0       es         wireless                    29  \n",
       "1       es          apparel                     0  "
      ]
     },
     "execution_count": 17,
     "metadata": {},
     "output_type": "execute_result"
    }
   ],
   "source": [
    "# converting type of columns to 'category'\n",
    "result['product_category']=result['product_category'].astype('category')\n",
    "# Assigning numerical values and storing in another column\n",
    "result['Cat_product_category'] = result['product_category'].cat.codes\n",
    "result.sort_values(by=['Cat_product_category'])\n",
    "result.head(2)"
   ]
  },
  {
   "cell_type": "code",
   "execution_count": 18,
   "metadata": {},
   "outputs": [
    {
     "data": {
      "text/html": [
       "<div>\n",
       "<style scoped>\n",
       "    .dataframe tbody tr th:only-of-type {\n",
       "        vertical-align: middle;\n",
       "    }\n",
       "\n",
       "    .dataframe tbody tr th {\n",
       "        vertical-align: top;\n",
       "    }\n",
       "\n",
       "    .dataframe thead th {\n",
       "        text-align: right;\n",
       "    }\n",
       "</style>\n",
       "<table border=\"1\" class=\"dataframe\">\n",
       "  <thead>\n",
       "    <tr style=\"text-align: right;\">\n",
       "      <th></th>\n",
       "      <th>review_id</th>\n",
       "      <th>product_id</th>\n",
       "      <th>reviewer_id</th>\n",
       "      <th>stars</th>\n",
       "      <th>review_body</th>\n",
       "      <th>review_title</th>\n",
       "      <th>language</th>\n",
       "      <th>product_category</th>\n",
       "      <th>Cat_product_category</th>\n",
       "    </tr>\n",
       "  </thead>\n",
       "  <tbody>\n",
       "    <tr>\n",
       "      <th>0</th>\n",
       "      <td>es_0417480</td>\n",
       "      <td>product_es_0873923</td>\n",
       "      <td>reviewer_es_0672978</td>\n",
       "      <td>1</td>\n",
       "      <td>Malisimo, muy grande demasiado aparatoso y mal...</td>\n",
       "      <td>Mala compra</td>\n",
       "      <td>es</td>\n",
       "      <td>wireless</td>\n",
       "      <td>29</td>\n",
       "    </tr>\n",
       "    <tr>\n",
       "      <th>1</th>\n",
       "      <td>es_0180432</td>\n",
       "      <td>product_es_0713146</td>\n",
       "      <td>reviewer_es_0100858</td>\n",
       "      <td>1</td>\n",
       "      <td>No he recibido el pedido no la devolución</td>\n",
       "      <td>No lo he recibido</td>\n",
       "      <td>es</td>\n",
       "      <td>apparel</td>\n",
       "      <td>0</td>\n",
       "    </tr>\n",
       "  </tbody>\n",
       "</table>\n",
       "</div>"
      ],
      "text/plain": [
       "    review_id          product_id          reviewer_id  stars  \\\n",
       "0  es_0417480  product_es_0873923  reviewer_es_0672978      1   \n",
       "1  es_0180432  product_es_0713146  reviewer_es_0100858      1   \n",
       "\n",
       "                                         review_body       review_title  \\\n",
       "0  Malisimo, muy grande demasiado aparatoso y mal...        Mala compra   \n",
       "1          No he recibido el pedido no la devolución  No lo he recibido   \n",
       "\n",
       "  language product_category  Cat_product_category  \n",
       "0       es         wireless                    29  \n",
       "1       es          apparel                     0  "
      ]
     },
     "execution_count": 18,
     "metadata": {},
     "output_type": "execute_result"
    }
   ],
   "source": [
    "# converting type of columns to 'category'\n",
    "pc30['product_category']=pc30['product_category'].astype('category')\n",
    "# Assigning numerical values and storing in another column\n",
    "pc30['Cat_product_category'] = pc30['product_category'].cat.codes\n",
    "pc30.sort_values(by=['Cat_product_category'])\n",
    "pc30.head(2)\n",
    "#pc30.to_excel(r'C:\\Users\\Alfredo\\Bitácoras\\TP3 DS\\pc30NLP.xlsx', sheet_name='example')"
   ]
  },
  {
   "cell_type": "code",
   "execution_count": 19,
   "metadata": {},
   "outputs": [
    {
     "data": {
      "text/html": [
       "<div>\n",
       "<style scoped>\n",
       "    .dataframe tbody tr th:only-of-type {\n",
       "        vertical-align: middle;\n",
       "    }\n",
       "\n",
       "    .dataframe tbody tr th {\n",
       "        vertical-align: top;\n",
       "    }\n",
       "\n",
       "    .dataframe thead th {\n",
       "        text-align: right;\n",
       "    }\n",
       "</style>\n",
       "<table border=\"1\" class=\"dataframe\">\n",
       "  <thead>\n",
       "    <tr style=\"text-align: right;\">\n",
       "      <th></th>\n",
       "      <th>review_id</th>\n",
       "      <th>product_id</th>\n",
       "      <th>reviewer_id</th>\n",
       "      <th>stars</th>\n",
       "      <th>review_body</th>\n",
       "      <th>review_title</th>\n",
       "      <th>language</th>\n",
       "      <th>product_category</th>\n",
       "    </tr>\n",
       "  </thead>\n",
       "  <tbody>\n",
       "    <tr>\n",
       "      <th>0</th>\n",
       "      <td>es_0417480</td>\n",
       "      <td>product_es_0873923</td>\n",
       "      <td>reviewer_es_0672978</td>\n",
       "      <td>1</td>\n",
       "      <td>Malisimo, muy grande demasiado aparatoso y mal...</td>\n",
       "      <td>Mala compra</td>\n",
       "      <td>es</td>\n",
       "      <td>wireless</td>\n",
       "    </tr>\n",
       "    <tr>\n",
       "      <th>1</th>\n",
       "      <td>es_0180432</td>\n",
       "      <td>product_es_0713146</td>\n",
       "      <td>reviewer_es_0100858</td>\n",
       "      <td>1</td>\n",
       "      <td>No he recibido el pedido no la devolución</td>\n",
       "      <td>No lo he recibido</td>\n",
       "      <td>es</td>\n",
       "      <td>apparel</td>\n",
       "    </tr>\n",
       "  </tbody>\n",
       "</table>\n",
       "</div>"
      ],
      "text/plain": [
       "    review_id          product_id          reviewer_id  stars  \\\n",
       "0  es_0417480  product_es_0873923  reviewer_es_0672978      1   \n",
       "1  es_0180432  product_es_0713146  reviewer_es_0100858      1   \n",
       "\n",
       "                                         review_body       review_title  \\\n",
       "0  Malisimo, muy grande demasiado aparatoso y mal...        Mala compra   \n",
       "1          No he recibido el pedido no la devolución  No lo he recibido   \n",
       "\n",
       "  language product_category  \n",
       "0       es         wireless  \n",
       "1       es          apparel  "
      ]
     },
     "execution_count": 19,
     "metadata": {},
     "output_type": "execute_result"
    }
   ],
   "source": [
    "data.head(2)"
   ]
  },
  {
   "cell_type": "code",
   "execution_count": 20,
   "metadata": {},
   "outputs": [
    {
     "data": {
      "text/html": [
       "<div>\n",
       "<style scoped>\n",
       "    .dataframe tbody tr th:only-of-type {\n",
       "        vertical-align: middle;\n",
       "    }\n",
       "\n",
       "    .dataframe tbody tr th {\n",
       "        vertical-align: top;\n",
       "    }\n",
       "\n",
       "    .dataframe thead th {\n",
       "        text-align: right;\n",
       "    }\n",
       "</style>\n",
       "<table border=\"1\" class=\"dataframe\">\n",
       "  <thead>\n",
       "    <tr style=\"text-align: right;\">\n",
       "      <th></th>\n",
       "      <th>review_id</th>\n",
       "      <th>product_id</th>\n",
       "      <th>reviewer_id</th>\n",
       "      <th>stars</th>\n",
       "      <th>review_body</th>\n",
       "      <th>review_title</th>\n",
       "      <th>language</th>\n",
       "      <th>product_category</th>\n",
       "      <th>Cat_product_category</th>\n",
       "    </tr>\n",
       "  </thead>\n",
       "  <tbody>\n",
       "    <tr>\n",
       "      <th>0</th>\n",
       "      <td>es_0491108</td>\n",
       "      <td>product_es_0296024</td>\n",
       "      <td>reviewer_es_0999081</td>\n",
       "      <td>1</td>\n",
       "      <td>Nada bueno se me fue ka pantalla en menos de 8...</td>\n",
       "      <td>television Nevir</td>\n",
       "      <td>es</td>\n",
       "      <td>electronics</td>\n",
       "      <td>8</td>\n",
       "    </tr>\n",
       "    <tr>\n",
       "      <th>1</th>\n",
       "      <td>es_0869872</td>\n",
       "      <td>product_es_0922286</td>\n",
       "      <td>reviewer_es_0216771</td>\n",
       "      <td>1</td>\n",
       "      <td>Horrible, nos tuvimos que comprar otro porque ...</td>\n",
       "      <td>Dinero tirado a la basura con esta compra</td>\n",
       "      <td>es</td>\n",
       "      <td>electronics</td>\n",
       "      <td>8</td>\n",
       "    </tr>\n",
       "  </tbody>\n",
       "</table>\n",
       "</div>"
      ],
      "text/plain": [
       "    review_id          product_id          reviewer_id  stars  \\\n",
       "0  es_0491108  product_es_0296024  reviewer_es_0999081      1   \n",
       "1  es_0869872  product_es_0922286  reviewer_es_0216771      1   \n",
       "\n",
       "                                         review_body  \\\n",
       "0  Nada bueno se me fue ka pantalla en menos de 8...   \n",
       "1  Horrible, nos tuvimos que comprar otro porque ...   \n",
       "\n",
       "                                review_title language product_category  \\\n",
       "0                           television Nevir       es      electronics   \n",
       "1  Dinero tirado a la basura con esta compra       es      electronics   \n",
       "\n",
       "   Cat_product_category  \n",
       "0                     8  \n",
       "1                     8  "
      ]
     },
     "execution_count": 20,
     "metadata": {},
     "output_type": "execute_result"
    }
   ],
   "source": [
    "# converting type of columns to 'category'\n",
    "data['product_category']=data['product_category'].astype('category')\n",
    "# Assigning numerical values and storing in another column\n",
    "data['Cat_product_category'] = data['product_category'].cat.codes\n",
    "data.sort_values(by=['Cat_product_category'])\n",
    "# converting type of columns to 'category'\n",
    "data_test['product_category']=data_test['product_category'].astype('category')\n",
    "# Assigning numerical values and storing in another column\n",
    "data_test['Cat_product_category'] = data_test['product_category'].cat.codes\n",
    "data_test.sort_values(by=['Cat_product_category'])\n",
    "# converting type of columns to 'category'\n",
    "data_train['product_category']=data_train['product_category'].astype('category')\n",
    "# Assigning numerical values and storing in another column\n",
    "data_train['Cat_product_category'] = data_train['product_category'].cat.codes\n",
    "data_train.sort_values(by=['Cat_product_category'])\n",
    "\n",
    "data.head(2)\n",
    "data_test.head(2)\n",
    "data_train.head(2)"
   ]
  },
  {
   "cell_type": "markdown",
   "metadata": {},
   "source": [
    "### Filtramos por tipo de producto\n",
    "> En el siguiente bucle, primero creamos una lista vacía. Luego para cada categoría, generamos un dataset con todas las reseñas. En total son 30 datasets distintos, uno por cada categoría."
   ]
  },
  {
   "cell_type": "code",
   "execution_count": 21,
   "metadata": {
    "scrolled": true
   },
   "outputs": [],
   "source": [
    "probando=[]\n",
    "lista_de_productos \n",
    "for i in lista_de_productos:\n",
    "    j=((result.product_category==i)&result.stars==1)|((result.product_category==i)&(result.stars==2))|((result.product_category==i)&(result.stars==3))|((result.product_category==i)&(result.stars==4))|((result.product_category==i)&(result.stars==5)).copy()     \n",
    "    k=result[j].copy()\n",
    "    probando.append(k)"
   ]
  },
  {
   "cell_type": "markdown",
   "metadata": {},
   "source": [
    "#### Chequeamos de que la lista tenga 30 elementos."
   ]
  },
  {
   "cell_type": "code",
   "execution_count": 22,
   "metadata": {},
   "outputs": [
    {
     "data": {
      "text/plain": [
       "30"
      ]
     },
     "execution_count": 22,
     "metadata": {},
     "output_type": "execute_result"
    }
   ],
   "source": [
    "len(probando)"
   ]
  },
  {
   "cell_type": "markdown",
   "metadata": {},
   "source": [
    "## Respuesta a: \n",
    "## ¿ Cuáles categorías de productos tienen peores o mejores reseñas que otras ?\n",
    "### Gráficos de todas las categorías\n",
    "> En la siguiente lista de gráficos, estoy explicando la distribución de los puntajes por cada categoría. Puede ser útil para analizar diferentes comportamientos en las categorías.\n",
    "\n",
    "> Luego de ver los gráficos vamos a ver cuales fueron las palabras más usadas en cada categoría.\n"
   ]
  },
  {
   "cell_type": "code",
   "execution_count": 23,
   "metadata": {},
   "outputs": [
    {
     "name": "stderr",
     "output_type": "stream",
     "text": [
      "C:\\Users\\Alfredo\\anaconda3\\lib\\site-packages\\ipykernel_launcher.py:12: RuntimeWarning: More than 20 figures have been opened. Figures created through the pyplot interface (`matplotlib.pyplot.figure`) are retained until explicitly closed and may consume too much memory. (To control this warning, see the rcParam `figure.max_open_warning`).\n",
      "  if sys.path[0] == '':\n"
     ]
    },
    {
     "data": {
      "image/png": "[encoded data removed]",
      "text/plain": [
       "<Figure size 576x288 with 1 Axes>"
      ]
     },
     "metadata": {
      "needs_background": "light"
     },
     "output_type": "display_data"
    },
    {
     "data": {
      "image/png": "[encoded data removed]",
      "text/plain": [
       "<Figure size 576x288 with 1 Axes>"
      ]
     },
     "metadata": {
      "needs_background": "light"
     },
     "output_type": "display_data"
    },
    {
     "data": {
      "image/png": "[encoded data removed]",
      "text/plain": [
       "<Figure size 576x288 with 1 Axes>"
      ]
     },
     "metadata": {
      "needs_background": "light"
     },
     "output_type": "display_data"
    },
    {
     "data": {
      "image/png": "[encoded data removed]",
      "text/plain": [
       "<Figure size 576x288 with 1 Axes>"
      ]
     },
     "metadata": {
      "needs_background": "light"
     },
     "output_type": "display_data"
    },
    {
     "data": {
      "image/png": "[encoded data removed]",
      "text/plain": [
       "<Figure size 576x288 with 1 Axes>"
      ]
     },
     "metadata": {
      "needs_background": "light"
     },
     "output_type": "display_data"
    },
    {
     "data": {
      "image/png": "[encoded data removed]",
      "text/plain": [
       "<Figure size 576x288 with 1 Axes>"
      ]
     },
     "metadata": {
      "needs_background": "light"
     },
     "output_type": "display_data"
    },
    {
     "data": {
      "image/png": "[encoded data removed]",
      "text/plain": [
       "<Figure size 576x288 with 1 Axes>"
      ]
     },
     "metadata": {
      "needs_background": "light"
     },
     "output_type": "display_data"
    },
    {
     "data": {
      "image/png": "[encoded data removed]",
      "text/plain": [
       "<Figure size 576x288 with 1 Axes>"
      ]
     },
     "metadata": {
      "needs_background": "light"
     },
     "output_type": "display_data"
    },
    {
     "data": {
      "image/png": "[encoded data removed]",
      "text/plain": [
       "<Figure size 576x288 with 1 Axes>"
      ]
     },
     "metadata": {
      "needs_background": "light"
     },
     "output_type": "display_data"
    },
    {
     "data": {
      "image/png": "[encoded data removed]",
      "text/plain": [
       "<Figure size 576x288 with 1 Axes>"
      ]
     },
     "metadata": {
      "needs_background": "light"
     },
     "output_type": "display_data"
    },
    {
     "data": {
      "image/png": "[encoded data removed]",
      "text/plain": [
       "<Figure size 576x288 with 1 Axes>"
      ]
     },
     "metadata": {
      "needs_background": "light"
     },
     "output_type": "display_data"
    },
    {
     "data": {
      "image/png": "[encoded data removed]",
      "text/plain": [
       "<Figure size 576x288 with 1 Axes>"
      ]
     },
     "metadata": {
      "needs_background": "light"
     },
     "output_type": "display_data"
    },
    {
     "data": {
      "image/png": "[encoded data removed]",
      "text/plain": [
       "<Figure size 576x288 with 1 Axes>"
      ]
     },
     "metadata": {
      "needs_background": "light"
     },
     "output_type": "display_data"
    },
    {
     "data": {
      "image/png": "[encoded data removed]",
      "text/plain": [
       "<Figure size 576x288 with 1 Axes>"
      ]
     },
     "metadata": {
      "needs_background": "light"
     },
     "output_type": "display_data"
    },
    {
     "data": {
      "image/png": "[encoded data removed]",
      "text/plain": [
       "<Figure size 576x288 with 1 Axes>"
      ]
     },
     "metadata": {
      "needs_background": "light"
     },
     "output_type": "display_data"
    },
    {
     "data": {
      "image/png": "[encoded data removed]",
      "text/plain": [
       "<Figure size 576x288 with 1 Axes>"
      ]
     },
     "metadata": {
      "needs_background": "light"
     },
     "output_type": "display_data"
    },
    {
     "data": {
      "image/png": "[encoded data removed]",
      "text/plain": [
       "<Figure size 576x288 with 1 Axes>"
      ]
     },
     "metadata": {
      "needs_background": "light"
     },
     "output_type": "display_data"
    },
    {
     "data": {
      "image/png": "[encoded data removed]",
      "text/plain": [
       "<Figure size 576x288 with 1 Axes>"
      ]
     },
     "metadata": {
      "needs_background": "light"
     },
     "output_type": "display_data"
    },
    {
     "data": {
      "image/png": "[encoded data removed]",
      "text/plain": [
       "<Figure size 576x288 with 1 Axes>"
      ]
     },
     "metadata": {
      "needs_background": "light"
     },
     "output_type": "display_data"
    },
    {
     "data": {
      "image/png": "[encoded data removed]",
      "text/plain": [
       "<Figure size 576x288 with 1 Axes>"
      ]
     },
     "metadata": {
      "needs_background": "light"
     },
     "output_type": "display_data"
    },
    {
     "data": {
      "image/png": "[encoded data removed]",
      "text/plain": [
       "<Figure size 576x288 with 1 Axes>"
      ]
     },
     "metadata": {
      "needs_background": "light"
     },
     "output_type": "display_data"
    },
    {
     "data": {
      "image/png": "[encoded data removed]",
      "text/plain": [
       "<Figure size 576x288 with 1 Axes>"
      ]
     },
     "metadata": {
      "needs_background": "light"
     },
     "output_type": "display_data"
    },
    {
     "data": {
      "image/png": "[encoded data removed]",
      "text/plain": [
       "<Figure size 576x288 with 1 Axes>"
      ]
     },
     "metadata": {
      "needs_background": "light"
     },
     "output_type": "display_data"
    },
    {
     "data": {
      "image/png": "[encoded data removed]",
      "text/plain": [
       "<Figure size 576x288 with 1 Axes>"
      ]
     },
     "metadata": {
      "needs_background": "light"
     },
     "output_type": "display_data"
    },
    {
     "data": {
      "image/png": "[encoded data removed]",
      "text/plain": [
       "<Figure size 576x288 with 1 Axes>"
      ]
     },
     "metadata": {
      "needs_background": "light"
     },
     "output_type": "display_data"
    },
    {
     "data": {
      "image/png": "[encoded data removed]",
      "text/plain": [
       "<Figure size 576x288 with 1 Axes>"
      ]
     },
     "metadata": {
      "needs_background": "light"
     },
     "output_type": "display_data"
    },
    {
     "data": {
      "image/png": "[encoded data removed]",
      "text/plain": [
       "<Figure size 576x288 with 1 Axes>"
      ]
     },
     "metadata": {
      "needs_background": "light"
     },
     "output_type": "display_data"
    },
    {
     "data": {
      "image/png": "[encoded data removed]",
      "text/plain": [
       "<Figure size 576x288 with 1 Axes>"
      ]
     },
     "metadata": {
      "needs_background": "light"
     },
     "output_type": "display_data"
    },
    {
     "data": {
      "image/png": "[encoded data removed]",
      "text/plain": [
       "<Figure size 576x288 with 1 Axes>"
      ]
     },
     "metadata": {
      "needs_background": "light"
     },
     "output_type": "display_data"
    },
    {
     "data": {
      "image/png": "[encoded data removed]",
      "text/plain": [
       "<Figure size 576x288 with 1 Axes>"
      ]
     },
     "metadata": {
      "needs_background": "light"
     },
     "output_type": "display_data"
    }
   ],
   "source": [
    "class Contador(object):\n",
    "  def __init__(self, inicial=-1):\n",
    "    self.numero = inicial\n",
    "  def siguiente(self):\n",
    "    self.numero += 1\n",
    "    return self.numero\n",
    "cuenta = Contador()\n",
    "for t in probando:\n",
    "    estrellas= t[\"stars\"]\n",
    "    len(t['stars'].unique())\n",
    "    t['stars'].unique()\n",
    "    plt.figure(figsize=(8,4))\n",
    "    plt.xticks(rotation=0)\n",
    "    cuento_estrellas=t['stars'].value_counts()\n",
    "    cuento_estrellas\n",
    "    ax = sns.countplot(x='stars', data=t)\n",
    "    plt.grid()\n",
    "    plt.title(lista_de_productos[cuenta.siguiente()],fontsize=20)"
   ]
  },
  {
   "cell_type": "markdown",
   "metadata": {},
   "source": [
    "### Análisis de gráficos:\n",
    "> Vemos que las categorías `wireless`, `lawn_and_garden`, `electronics` tienen un sesgo en la acumulación de estrellas. De todas las críticas que tiene, las que más se acumulan son las de 1 y 2 estrellas.\n",
    "\n",
    "> La categoría `book`, está muy bien punteada. Tiene muchas más puntuaciones de 5 estrellas que el resto. De hecho, las puntuaciones van claramente ascendiendo del 1 al 5 con un gran ascenso en 5. \n",
    "\n",
    "> Una categoría muy bien punteada es `digital_ebook_purchase`. \n",
    "\n",
    "> Otras categorías con buenos puntajes son `lugagge` y `musical_instrumens`. Las puntuaciones van en ascenso del 1 al 5. Acumulándose por igual en 4 y 5.\n",
    "\n",
    "> Dentro de la categoría `video_games`, el gráfico forma una especie de parábola, es decir, que en donde más se acumulan crítcas es en los extremos y en las categorías del medio (2,3 y 4) se ven aplanadas. Tiene un leve sesgo en las puntuaciones de 5 estrellas. \n",
    "\n",
    "> El resto de elementos de la lista;\n",
    "* ['apparel', 'sports', 'home_improvement', 'beauty', 'home', 'baby_product', 'pc', 'toy', 'personal_care_appliances', 'kitchen', 'pet_products', 'drugstore', 'office_product', 'furniture', 'automotive', 'shoes', 'jewelry', 'camera', 'industrial_supplies', 'other', 'grocery', 'watch'], mantienen un comportamiento equitativo entre las diferentes puntuaciones."
   ]
  },
  {
   "cell_type": "code",
   "execution_count": 24,
   "metadata": {},
   "outputs": [],
   "source": [
    "#data.to_excel(r'C:\\Users\\Alfredo\\Bitácoras\\example.xlsx', sheet_name='example')"
   ]
  },
  {
   "cell_type": "code",
   "execution_count": 25,
   "metadata": {},
   "outputs": [],
   "source": [
    "# lista_de_productos (es la lista que contiene a las categorias)\n",
    "# probando (es la lista que contiene a los dataframes) "
   ]
  },
  {
   "cell_type": "markdown",
   "metadata": {},
   "source": [
    "### Tokenizing the dataset according to One star\n",
    "> I want to see, what words were the most used in the reviews of a star. \n",
    "> We are a going to use, the dataset \"data\". Because, the \"result\" dataset is to heavy.\n",
    "\n",
    "> I also want to see, wich words are the most used un the reviews for home."
   ]
  },
  {
   "cell_type": "markdown",
   "metadata": {},
   "source": [
    "### La cantidad de palabaras usadas por reseña, influye en la calificación?"
   ]
  },
  {
   "cell_type": "code",
   "execution_count": 26,
   "metadata": {},
   "outputs": [
    {
     "name": "stdout",
     "output_type": "stream",
     "text": [
      "(42000, 9)\n",
      "(42000, 9)\n",
      "(42000, 9)\n",
      "(42000, 9)\n",
      "(42000, 9)\n"
     ]
    }
   ],
   "source": [
    "## ESTE DATA SET ESTÁ HECHO SOLAMENTE CON EL DATASET DATA\n",
    "malisimo_todo_prueba=(result.stars==1)\n",
    "malisimo_todo_prueba=result[malisimo_todo_prueba].copy()\n",
    "malo_todo_prueba=(result.stars==2)\n",
    "malo_todo_prueba=result[malo_todo_prueba].copy()\n",
    "bueno_todo_prueba=(result.stars==3)\n",
    "bueno_todo_prueba=result[bueno_todo_prueba].copy()\n",
    "Muy_bueno_todo_prueba=(result.stars==4)\n",
    "Muy_bueno_todo_prueba=result[Muy_bueno_todo_prueba].copy()\n",
    "Perfecto_todo_prueba=(result.stars==5)\n",
    "Perfecto_todo_prueba=result[Perfecto_todo_prueba].copy()\n",
    "print(malisimo_todo_prueba.shape)\n",
    "print(malo_todo_prueba.shape)\n",
    "print(bueno_todo_prueba.shape)\n",
    "print(Muy_bueno_todo_prueba.shape)\n",
    "print(Perfecto_todo_prueba.shape)\n",
    "#malo=((result.product_category==i)&(result.stars==1))\n",
    "#malo2=[]\n",
    "#for i in lista_de_productos:\n",
    "#    j=((data.product_category==i)&(data.stars==1)).copy()\n",
    "#    k=data[j].copy()\n",
    "#    malo2.append(k)"
   ]
  },
  {
   "cell_type": "code",
   "execution_count": 27,
   "metadata": {},
   "outputs": [
    {
     "name": "stdout",
     "output_type": "stream",
     "text": [
      "Cantidad de palabras en criticas malisimas:  1325111\n",
      "Cantidad de palabras en criticas malas:  1452134\n",
      "Cantidad de palabras en criticas buenas:  1337774\n",
      "Cantidad de palabras en criticas Muy Buenas:  1210119\n",
      "Cantidad de palabras en criticas Perfectas:  1153607\n"
     ]
    }
   ],
   "source": [
    "cantidad_criticasmalisimas=[]\n",
    "for i in malisimo_todo_prueba.review_body:\n",
    "    criticas=i\n",
    "    cantidad_criticasmalisimas.append(criticas)\n",
    "cantidad_criticasmalas=[]\n",
    "for i in malo_todo_prueba.review_body:\n",
    "    criticas=i\n",
    "    cantidad_criticasmalas.append(criticas)\n",
    "cantidad_criticasbuenas=[]    \n",
    "for i in bueno_todo_prueba.review_body:\n",
    "    criticas=i\n",
    "    cantidad_criticasbuenas.append(criticas)\n",
    "cantidad_criticasMuybuenas=[]\n",
    "for i in Muy_bueno_todo_prueba.review_body:\n",
    "    criticas=i\n",
    "    cantidad_criticasMuybuenas.append(criticas)    \n",
    "cantidad_criticasPerfectas=[]\n",
    "for i in Perfecto_todo_prueba.review_body:\n",
    "    criticas=i\n",
    "    cantidad_criticasPerfectas.append(criticas)    \n",
    "cantidad_criticasmalisimas_tokenizadas=[]\n",
    "for i in cantidad_criticasmalisimas:## Osea la lista entera de criticas\n",
    "    j=nltk.tokenize.word_tokenize(i)\n",
    "    cantidad_criticasmalisimas_tokenizadas.append(j)\n",
    "cantidad_criticasmalas_tokenizadas=[]\n",
    "for i in cantidad_criticasmalas:## Osea la lista entera de criticas\n",
    "    j=nltk.tokenize.word_tokenize(i)\n",
    "    cantidad_criticasmalas_tokenizadas.append(j)\n",
    "cantidad_criticasbuenas_tokenizadas=[]\n",
    "for i in cantidad_criticasbuenas:## Osea la lista entera de criticas\n",
    "    j=nltk.tokenize.word_tokenize(i)\n",
    "    cantidad_criticasbuenas_tokenizadas.append(j)\n",
    "cantidad_criticasMuybuenas_tokenizadas=[]\n",
    "for i in cantidad_criticasMuybuenas:## Osea la lista entera de criticas\n",
    "    j=nltk.tokenize.word_tokenize(i)\n",
    "    cantidad_criticasMuybuenas_tokenizadas.append(j)\n",
    "cantidad_criticasPerfectas_tokenizadas=[]\n",
    "for i in cantidad_criticasPerfectas:## Osea la lista entera de criticas\n",
    "    j=nltk.tokenize.word_tokenize(i)\n",
    "    cantidad_criticasPerfectas_tokenizadas.append(j)\n",
    "criticasmalisimas_data_tokenizadas_chain = list(itertools.chain(*cantidad_criticasmalisimas_tokenizadas))\n",
    "criticasmalas_data_tokenizadas_chain = list(itertools.chain(*cantidad_criticasmalas_tokenizadas))\n",
    "criticasbuenas_data_tokenizadas_chain = list(itertools.chain(*cantidad_criticasbuenas_tokenizadas))\n",
    "criticasMuybuenas_data_tokenizadas_chain = list(itertools.chain(*cantidad_criticasMuybuenas_tokenizadas))\n",
    "criticasPerfectas_data_tokenizadas_chain = list(itertools.chain(*cantidad_criticasPerfectas_tokenizadas))\n",
    "\n",
    "print(\"Cantidad de palabras en criticas malisimas: \",len(criticasmalisimas_data_tokenizadas_chain))\n",
    "print(\"Cantidad de palabras en criticas malas: \",len(criticasmalas_data_tokenizadas_chain))\n",
    "print(\"Cantidad de palabras en criticas buenas: \",len(criticasbuenas_data_tokenizadas_chain))\n",
    "print(\"Cantidad de palabras en criticas Muy Buenas: \",len(criticasMuybuenas_data_tokenizadas_chain))\n",
    "print(\"Cantidad de palabras en criticas Perfectas: \",len(criticasPerfectas_data_tokenizadas_chain))\n"
   ]
  },
  {
   "cell_type": "markdown",
   "metadata": {},
   "source": [
    "### Podemos ver que para las críticas negativas de 1 y 2 estrellas presentan más palabras que las de 4 y 5. Mientras que las de 3 mantiene la cantidad de palabras que las criticas de 1 estrella."
   ]
  },
  {
   "cell_type": "code",
   "execution_count": 28,
   "metadata": {},
   "outputs": [
    {
     "data": {
      "text/plain": [
       "6478745"
      ]
     },
     "execution_count": 28,
     "metadata": {},
     "output_type": "execute_result"
    }
   ],
   "source": [
    "opinionestotales=(len(criticasmalisimas_data_tokenizadas_chain)+\n",
    "len(criticasmalas_data_tokenizadas_chain)+\n",
    "len(criticasbuenas_data_tokenizadas_chain)+\n",
    "len(criticasMuybuenas_data_tokenizadas_chain)+\n",
    "len(criticasPerfectas_data_tokenizadas_chain))\n",
    "opinionestotales"
   ]
  },
  {
   "cell_type": "code",
   "execution_count": 29,
   "metadata": {},
   "outputs": [
    {
     "name": "stdout",
     "output_type": "stream",
     "text": [
      "Porcentaje del total criticas malisimas:  0.20453205057460974\n",
      "Porcentaje del total en criticas malas:  0.2241381625608046\n",
      "Porcentaje del total en criticas buenas:  0.206486595783597\n",
      "Porcentaje del total en criticas Muy Buenas:  0.18678293404046617\n",
      "Porcentaje del total en criticas Perfectas:  0.1780602570405225\n"
     ]
    }
   ],
   "source": [
    "print(\"Porcentaje del total criticas malisimas: \",len(criticasmalisimas_data_tokenizadas_chain)/opinionestotales)\n",
    "print(\"Porcentaje del total en criticas malas: \",len(criticasmalas_data_tokenizadas_chain)/opinionestotales)\n",
    "print(\"Porcentaje del total en criticas buenas: \",len(criticasbuenas_data_tokenizadas_chain)/opinionestotales)\n",
    "print(\"Porcentaje del total en criticas Muy Buenas: \",len(criticasMuybuenas_data_tokenizadas_chain)/opinionestotales)\n",
    "print(\"Porcentaje del total en criticas Perfectas: \",len(criticasPerfectas_data_tokenizadas_chain)/opinionestotales)"
   ]
  },
  {
   "cell_type": "markdown",
   "metadata": {},
   "source": [
    "### Bajo el calculo realizado, vemos que existe una relación entre la cantidad de palabras con la calificación del producto:\n",
    "> Para las criticas de 1,2 y 3 estrellas, vemos que los compradores tienden a usar más palabras, esto puede deberse a que explican cuanto les demoro, que es lo que estaba mal, cosas que deben mejorar, entre otras  cosas.\n",
    "\n",
    "> Mientras que en las críticas de 4 y 5 estrellas, vemos que los compradores usan criticas más cortas. Y esto puede deberse a que simplemente ponen \"Era lo que esperaba\" ó \"Buen producto\". Siendo mucho más concretos en el feedback del producto."
   ]
  },
  {
   "cell_type": "code",
   "execution_count": 30,
   "metadata": {},
   "outputs": [],
   "source": [
    "## Lista de listas\n",
    "#criticasmalisimas_prueba_tokenizadas"
   ]
  },
  {
   "cell_type": "markdown",
   "metadata": {},
   "source": [
    "### Stop words en Español"
   ]
  },
  {
   "cell_type": "code",
   "execution_count": 31,
   "metadata": {},
   "outputs": [],
   "source": [
    "stop_words=set(stopwords.words(\"spanish\"))\n",
    "#stop_words"
   ]
  },
  {
   "cell_type": "markdown",
   "metadata": {},
   "source": [
    "#### Agrego al stop words, elementos que se repiten mucho en las criticas"
   ]
  },
  {
   "cell_type": "code",
   "execution_count": 32,
   "metadata": {},
   "outputs": [],
   "source": [
    "stop_words.add('.')\n",
    "stop_words.add(',')\n",
    "stop_words.add('En')\n",
    "stop_words.add('La')\n",
    "stop_words.add('El')\n",
    "stop_words.add('La')\n",
    "stop_words.add('Es')\n",
    "stop_words.add('Lo')\n",
    "stop_words.add('Me')\n",
    "stop_words.add('Se')\n",
    "stop_words.add(')')\n",
    "stop_words.add('(')\n",
    "stop_words.add('por')"
   ]
  },
  {
   "cell_type": "code",
   "execution_count": 33,
   "metadata": {},
   "outputs": [],
   "source": [
    "#stop_words"
   ]
  },
  {
   "cell_type": "markdown",
   "metadata": {},
   "source": [
    "## Que palabras fueron las más usadas para las críticas de una estrella?"
   ]
  },
  {
   "cell_type": "markdown",
   "metadata": {},
   "source": [
    "### Vemos la distribución de palabras para las criticas de 1 estrella."
   ]
  },
  {
   "cell_type": "code",
   "execution_count": 34,
   "metadata": {},
   "outputs": [
    {
     "data": {
      "text/plain": [
       "(12600, 9)"
      ]
     },
     "execution_count": 34,
     "metadata": {},
     "output_type": "execute_result"
    }
   ],
   "source": [
    "malisimo_10mil=((pc30.stars==1))\n",
    "malisimo_10mil=pc30[malisimo_10mil].copy()\n",
    "malisimo_10mil.shape"
   ]
  },
  {
   "cell_type": "code",
   "execution_count": 35,
   "metadata": {},
   "outputs": [
    {
     "name": "stdout",
     "output_type": "stream",
     "text": [
      "Cantidad de estrellas: 1\n",
      "[1]\n",
      "1    12600\n",
      "Name: stars, dtype: int64\n"
     ]
    },
    {
     "data": {
      "image/png": "[encoded data removed]",
      "text/plain": [
       "<Figure size 576x288 with 1 Axes>"
      ]
     },
     "metadata": {
      "needs_background": "light"
     },
     "output_type": "display_data"
    }
   ],
   "source": [
    "estrellas=malisimo_10mil['stars']\n",
    "print(\"Cantidad de estrellas:\", len(malisimo_10mil['stars'].unique()))\n",
    "print(malisimo_10mil['stars'].unique())\n",
    "plt.figure(figsize=(8,4))\n",
    "#tipologia.hist()\n",
    "plt.xticks(rotation=0)\n",
    "cuento_estrellas=malisimo_10mil['stars'].value_counts()\n",
    "print(cuento_estrellas)\n",
    "#sns.set_theme(style=\"darkgrid\")\n",
    "ax = sns.countplot(x='stars', data=malisimo_10mil)\n",
    "plt.grid()"
   ]
  },
  {
   "cell_type": "code",
   "execution_count": 36,
   "metadata": {},
   "outputs": [],
   "source": [
    "malisimo_criticas=[]\n",
    "for i in malisimo_10mil.review_body:\n",
    "    criticas=i\n",
    "    malisimo_criticas.append(criticas)\n",
    "#malisimo_criticas #(es la lista con todas las reviews)"
   ]
  },
  {
   "cell_type": "markdown",
   "metadata": {},
   "source": [
    "## Tokenizamos las críticas de 1 estrella."
   ]
  },
  {
   "cell_type": "code",
   "execution_count": 37,
   "metadata": {},
   "outputs": [],
   "source": [
    "criticas_malisimo10mil_tokenizadas=[]\n",
    "for i in malisimo_criticas:## Osea la lista entera de criticas\n",
    "    j=nltk.tokenize.word_tokenize(i)\n",
    "    criticas_malisimo10mil_tokenizadas.append(j) "
   ]
  },
  {
   "cell_type": "code",
   "execution_count": 38,
   "metadata": {},
   "outputs": [],
   "source": [
    "palabras_criticas_malisimo10mil_tokenizadas = list(itertools.chain(*criticas_malisimo10mil_tokenizadas))"
   ]
  },
  {
   "cell_type": "code",
   "execution_count": 39,
   "metadata": {},
   "outputs": [
    {
     "data": {
      "text/plain": [
       "392980"
      ]
     },
     "execution_count": 39,
     "metadata": {},
     "output_type": "execute_result"
    }
   ],
   "source": [
    "len(palabras_criticas_malisimo10mil_tokenizadas)"
   ]
  },
  {
   "cell_type": "markdown",
   "metadata": {},
   "source": [
    "## Filtramos por stop words las críticas tokenizadas de 1 estrella."
   ]
  },
  {
   "cell_type": "code",
   "execution_count": 40,
   "metadata": {},
   "outputs": [],
   "source": [
    "filtered_sentence_malisimo10mil=[]\n",
    "for w in palabras_criticas_malisimo10mil_tokenizadas:\n",
    "    if w not in stop_words:\n",
    "        filtered_sentence_malisimo10mil.append(w)"
   ]
  },
  {
   "cell_type": "code",
   "execution_count": 41,
   "metadata": {},
   "outputs": [
    {
     "data": {
      "text/plain": [
       "189728"
      ]
     },
     "execution_count": 41,
     "metadata": {},
     "output_type": "execute_result"
    }
   ],
   "source": [
    "len(filtered_sentence_malisimo10mil)"
   ]
  },
  {
   "cell_type": "markdown",
   "metadata": {},
   "source": [
    "## Stemming\n",
    "> Stemmizamos las críticas de 1 estrella."
   ]
  },
  {
   "cell_type": "code",
   "execution_count": 42,
   "metadata": {},
   "outputs": [],
   "source": [
    "ps=PorterStemmer()\n",
    "# la lista es: filtered_sentence_malisimo\n",
    "filtered_sentence_malisimo10mil_stemmizado=[]\n",
    "for w in filtered_sentence_malisimo10mil:\n",
    "    j=ps.stem(w)\n",
    "    filtered_sentence_malisimo10mil_stemmizado.append(j)"
   ]
  },
  {
   "cell_type": "code",
   "execution_count": 43,
   "metadata": {},
   "outputs": [
    {
     "name": "stdout",
     "output_type": "stream",
     "text": [
      "Total de palabras en 1 stars:  189728\n"
     ]
    },
    {
     "data": {
      "text/html": [
       "<div>\n",
       "<style scoped>\n",
       "    .dataframe tbody tr th:only-of-type {\n",
       "        vertical-align: middle;\n",
       "    }\n",
       "\n",
       "    .dataframe tbody tr th {\n",
       "        vertical-align: top;\n",
       "    }\n",
       "\n",
       "    .dataframe thead th {\n",
       "        text-align: right;\n",
       "    }\n",
       "</style>\n",
       "<table border=\"1\" class=\"dataframe\">\n",
       "  <thead>\n",
       "    <tr style=\"text-align: right;\">\n",
       "      <th></th>\n",
       "      <th>Palabras_1_star</th>\n",
       "      <th>Frecuencia_1</th>\n",
       "      <th>Importancia%</th>\n",
       "    </tr>\n",
       "  </thead>\n",
       "  <tbody>\n",
       "    <tr>\n",
       "      <th>723</th>\n",
       "      <td>No</td>\n",
       "      <td>4298</td>\n",
       "      <td>2.265348</td>\n",
       "    </tr>\n",
       "    <tr>\n",
       "      <th>11837</th>\n",
       "      <td>producto</td>\n",
       "      <td>2399</td>\n",
       "      <td>1.264442</td>\n",
       "    </tr>\n",
       "    <tr>\n",
       "      <th>53</th>\n",
       "      <td>...</td>\n",
       "      <td>1855</td>\n",
       "      <td>0.977715</td>\n",
       "    </tr>\n",
       "    <tr>\n",
       "      <th>0</th>\n",
       "      <td>!</td>\n",
       "      <td>1791</td>\n",
       "      <td>0.943983</td>\n",
       "    </tr>\n",
       "    <tr>\n",
       "      <th>2394</th>\n",
       "      <td>bien</td>\n",
       "      <td>1383</td>\n",
       "      <td>0.728938</td>\n",
       "    </tr>\n",
       "    <tr>\n",
       "      <th>2748</th>\n",
       "      <td>calidad</td>\n",
       "      <td>1280</td>\n",
       "      <td>0.674650</td>\n",
       "    </tr>\n",
       "    <tr>\n",
       "      <th>13589</th>\n",
       "      <td>si</td>\n",
       "      <td>1246</td>\n",
       "      <td>0.656730</td>\n",
       "    </tr>\n",
       "    <tr>\n",
       "      <th>5471</th>\n",
       "      <td>do</td>\n",
       "      <td>1070</td>\n",
       "      <td>0.563965</td>\n",
       "    </tr>\n",
       "    <tr>\n",
       "      <th>5616</th>\n",
       "      <td>día</td>\n",
       "      <td>1070</td>\n",
       "      <td>0.563965</td>\n",
       "    </tr>\n",
       "    <tr>\n",
       "      <th>9021</th>\n",
       "      <td>llegado</td>\n",
       "      <td>1002</td>\n",
       "      <td>0.528124</td>\n",
       "    </tr>\n",
       "    <tr>\n",
       "      <th>12554</th>\n",
       "      <td>recomiendo</td>\n",
       "      <td>958</td>\n",
       "      <td>0.504933</td>\n",
       "    </tr>\n",
       "    <tr>\n",
       "      <th>9268</th>\n",
       "      <td>mal</td>\n",
       "      <td>858</td>\n",
       "      <td>0.452226</td>\n",
       "    </tr>\n",
       "    <tr>\n",
       "      <th>9273</th>\n",
       "      <td>mala</td>\n",
       "      <td>842</td>\n",
       "      <td>0.443793</td>\n",
       "    </tr>\n",
       "    <tr>\n",
       "      <th>1499</th>\n",
       "      <td>amazon</td>\n",
       "      <td>835</td>\n",
       "      <td>0.440104</td>\n",
       "    </tr>\n",
       "    <tr>\n",
       "      <th>5354</th>\n",
       "      <td>dinero</td>\n",
       "      <td>809</td>\n",
       "      <td>0.426400</td>\n",
       "    </tr>\n",
       "    <tr>\n",
       "      <th>7252</th>\n",
       "      <td>funciona</td>\n",
       "      <td>808</td>\n",
       "      <td>0.425873</td>\n",
       "    </tr>\n",
       "    <tr>\n",
       "      <th>15091</th>\n",
       "      <td>vendedor</td>\n",
       "      <td>786</td>\n",
       "      <td>0.414277</td>\n",
       "    </tr>\n",
       "    <tr>\n",
       "      <th>13775</th>\n",
       "      <td>solo</td>\n",
       "      <td>741</td>\n",
       "      <td>0.390559</td>\n",
       "    </tr>\n",
       "    <tr>\n",
       "      <th>10914</th>\n",
       "      <td>pedido</td>\n",
       "      <td>719</td>\n",
       "      <td>0.378964</td>\n",
       "    </tr>\n",
       "    <tr>\n",
       "      <th>7715</th>\n",
       "      <td>hace</td>\n",
       "      <td>678</td>\n",
       "      <td>0.357354</td>\n",
       "    </tr>\n",
       "    <tr>\n",
       "      <th>9057</th>\n",
       "      <td>llegó</td>\n",
       "      <td>650</td>\n",
       "      <td>0.342596</td>\n",
       "    </tr>\n",
       "    <tr>\n",
       "      <th>10050</th>\n",
       "      <td>muy</td>\n",
       "      <td>641</td>\n",
       "      <td>0.337852</td>\n",
       "    </tr>\n",
       "    <tr>\n",
       "      <th>9642</th>\n",
       "      <td>mese</td>\n",
       "      <td>613</td>\n",
       "      <td>0.323094</td>\n",
       "    </tr>\n",
       "    <tr>\n",
       "      <th>5115</th>\n",
       "      <td>despué</td>\n",
       "      <td>591</td>\n",
       "      <td>0.311499</td>\n",
       "    </tr>\n",
       "    <tr>\n",
       "      <th>3608</th>\n",
       "      <td>comprar</td>\n",
       "      <td>585</td>\n",
       "      <td>0.308336</td>\n",
       "    </tr>\n",
       "    <tr>\n",
       "      <th>10720</th>\n",
       "      <td>pantalla</td>\n",
       "      <td>574</td>\n",
       "      <td>0.302538</td>\n",
       "    </tr>\n",
       "    <tr>\n",
       "      <th>14854</th>\n",
       "      <td>una</td>\n",
       "      <td>571</td>\n",
       "      <td>0.300957</td>\n",
       "    </tr>\n",
       "    <tr>\n",
       "      <th>9226</th>\n",
       "      <td>ma</td>\n",
       "      <td>568</td>\n",
       "      <td>0.299376</td>\n",
       "    </tr>\n",
       "    <tr>\n",
       "      <th>12455</th>\n",
       "      <td>recibido</td>\n",
       "      <td>565</td>\n",
       "      <td>0.297795</td>\n",
       "    </tr>\n",
       "    <tr>\n",
       "      <th>284</th>\n",
       "      <td>2</td>\n",
       "      <td>564</td>\n",
       "      <td>0.297268</td>\n",
       "    </tr>\n",
       "  </tbody>\n",
       "</table>\n",
       "</div>"
      ],
      "text/plain": [
       "      Palabras_1_star  Frecuencia_1  Importancia%\n",
       "723                No          4298      2.265348\n",
       "11837        producto          2399      1.264442\n",
       "53                ...          1855      0.977715\n",
       "0                   !          1791      0.943983\n",
       "2394             bien          1383      0.728938\n",
       "2748          calidad          1280      0.674650\n",
       "13589              si          1246      0.656730\n",
       "5471               do          1070      0.563965\n",
       "5616              día          1070      0.563965\n",
       "9021          llegado          1002      0.528124\n",
       "12554      recomiendo           958      0.504933\n",
       "9268              mal           858      0.452226\n",
       "9273             mala           842      0.443793\n",
       "1499           amazon           835      0.440104\n",
       "5354           dinero           809      0.426400\n",
       "7252         funciona           808      0.425873\n",
       "15091        vendedor           786      0.414277\n",
       "13775            solo           741      0.390559\n",
       "10914          pedido           719      0.378964\n",
       "7715             hace           678      0.357354\n",
       "9057            llegó           650      0.342596\n",
       "10050             muy           641      0.337852\n",
       "9642             mese           613      0.323094\n",
       "5115           despué           591      0.311499\n",
       "3608          comprar           585      0.308336\n",
       "10720        pantalla           574      0.302538\n",
       "14854             una           571      0.300957\n",
       "9226               ma           568      0.299376\n",
       "12455        recibido           565      0.297795\n",
       "284                 2           564      0.297268"
      ]
     },
     "execution_count": 43,
     "metadata": {},
     "output_type": "execute_result"
    }
   ],
   "source": [
    "df_de_palabras_una_estrellas = DataFrame(filtered_sentence_malisimo10mil_stemmizado,columns=['Palabras_1_star'])\n",
    "df_de_palabras_una_estrellas =df_de_palabras_una_estrellas.groupby([\"Palabras_1_star\"]).size().reset_index(name=\"Frecuencia_1\") \n",
    "df_de_palabras_una_estrellas =df_de_palabras_una_estrellas.sort_values(by=\"Frecuencia_1\",ascending=False)\n",
    "sumfreq1=df_de_palabras_una_estrellas.Frecuencia_1.sum()\n",
    "print('Total de palabras en 1 stars: ',sumfreq1)\n",
    "df_de_palabras_una_estrellas['Importancia%'] = (df_de_palabras_una_estrellas.Frecuencia_1/sumfreq1)*100\n",
    "df_de_palabras_una_estrellas.head(30)"
   ]
  },
  {
   "cell_type": "code",
   "execution_count": 44,
   "metadata": {},
   "outputs": [
    {
     "data": {
      "image/png": "[encoded data removed]",
      "text/plain": [
       "<Figure size 1080x576 with 1 Axes>"
      ]
     },
     "metadata": {
      "needs_background": "light"
     },
     "output_type": "display_data"
    }
   ],
   "source": [
    "plt.figure(figsize = (15,8))\n",
    "plot = sns.barplot(x  = df_de_palabras_una_estrellas.iloc[:30].Palabras_1_star, y = df_de_palabras_una_estrellas.iloc[:30].Frecuencia_1)\n",
    "for item in plot.get_xticklabels():\n",
    "    item.set_rotation(90)\n",
    "plt.grid()\n",
    "plt.title('Palabras más usadas para reviews de 1 estrella',fontsize=20)\n",
    "plt.show()"
   ]
  },
  {
   "cell_type": "markdown",
   "metadata": {},
   "source": [
    "### Vemos la distribución de palabras para las criticas de 2 estrellas."
   ]
  },
  {
   "cell_type": "code",
   "execution_count": 45,
   "metadata": {},
   "outputs": [
    {
     "data": {
      "text/plain": [
       "(12600, 9)"
      ]
     },
     "execution_count": 45,
     "metadata": {},
     "output_type": "execute_result"
    }
   ],
   "source": [
    "malo_10mil=((pc30.stars==2))\n",
    "malo_10mil=pc30[malo_10mil].copy()\n",
    "malo_10mil.shape"
   ]
  },
  {
   "cell_type": "code",
   "execution_count": 46,
   "metadata": {},
   "outputs": [
    {
     "name": "stdout",
     "output_type": "stream",
     "text": [
      "Cantidad de estrellas: 1\n",
      "[2]\n",
      "2    12600\n",
      "Name: stars, dtype: int64\n"
     ]
    },
    {
     "data": {
      "image/png": "[encoded data removed]",
      "text/plain": [
       "<Figure size 576x288 with 1 Axes>"
      ]
     },
     "metadata": {
      "needs_background": "light"
     },
     "output_type": "display_data"
    }
   ],
   "source": [
    "estrellas=malo_10mil['stars']\n",
    "print(\"Cantidad de estrellas:\", len(malo_10mil['stars'].unique()))\n",
    "print(malo_10mil['stars'].unique())\n",
    "plt.figure(figsize=(8,4))\n",
    "#tipologia.hist()\n",
    "plt.xticks(rotation=0)\n",
    "cuento_estrellas=malo_10mil['stars'].value_counts()\n",
    "print(cuento_estrellas)\n",
    "#sns.set_theme(style=\"darkgrid\")\n",
    "ax = sns.countplot(x='stars', data=malo_10mil,palette=[\"orange\"])\n",
    "plt.grid()"
   ]
  },
  {
   "cell_type": "code",
   "execution_count": 47,
   "metadata": {},
   "outputs": [],
   "source": [
    "malas_criticas=[]\n",
    "for i in malo_10mil.review_body:\n",
    "    criticas=i\n",
    "    malas_criticas.append(criticas)\n",
    "#malas_criticas #(es la lista con todas las reviews)"
   ]
  },
  {
   "cell_type": "markdown",
   "metadata": {},
   "source": [
    "## Tokenizamos las críticas de 2 estrellas."
   ]
  },
  {
   "cell_type": "code",
   "execution_count": 48,
   "metadata": {},
   "outputs": [],
   "source": [
    "criticas_malas10mil_tokenizadas=[]\n",
    "for i in malas_criticas:## Osea la lista entera de criticas\n",
    "    j=nltk.tokenize.word_tokenize(i)\n",
    "    criticas_malas10mil_tokenizadas.append(j) "
   ]
  },
  {
   "cell_type": "code",
   "execution_count": 49,
   "metadata": {},
   "outputs": [],
   "source": [
    "palabras_criticas_malas10mil_tokenizadas = list(itertools.chain(*criticas_malas10mil_tokenizadas))"
   ]
  },
  {
   "cell_type": "code",
   "execution_count": 50,
   "metadata": {},
   "outputs": [
    {
     "data": {
      "text/plain": [
       "436389"
      ]
     },
     "execution_count": 50,
     "metadata": {},
     "output_type": "execute_result"
    }
   ],
   "source": [
    "len(palabras_criticas_malas10mil_tokenizadas)"
   ]
  },
  {
   "cell_type": "markdown",
   "metadata": {},
   "source": [
    "## Filtramos por stop words las críticas tokenizadas de 2 estrellas. "
   ]
  },
  {
   "cell_type": "code",
   "execution_count": 51,
   "metadata": {},
   "outputs": [],
   "source": [
    "filtered_sentence_malas10mil=[]\n",
    "for w in palabras_criticas_malas10mil_tokenizadas:\n",
    "    if w not in stop_words:\n",
    "        filtered_sentence_malas10mil.append(w)"
   ]
  },
  {
   "cell_type": "code",
   "execution_count": 52,
   "metadata": {},
   "outputs": [
    {
     "data": {
      "text/plain": [
       "203771"
      ]
     },
     "execution_count": 52,
     "metadata": {},
     "output_type": "execute_result"
    }
   ],
   "source": [
    "len(filtered_sentence_malas10mil)"
   ]
  },
  {
   "cell_type": "markdown",
   "metadata": {},
   "source": [
    "## Stemming\n",
    "> Stemmizamos las críticas de 2 estrellas"
   ]
  },
  {
   "cell_type": "code",
   "execution_count": 53,
   "metadata": {},
   "outputs": [],
   "source": [
    "ps=PorterStemmer()\n",
    "# la lista es: filtered_sentence_malisimo\n",
    "filtered_sentence_malas10mil_stemmizado=[]\n",
    "for w in filtered_sentence_malas10mil:\n",
    "    j=ps.stem(w)\n",
    "    filtered_sentence_malas10mil_stemmizado.append(j)"
   ]
  },
  {
   "cell_type": "code",
   "execution_count": 54,
   "metadata": {},
   "outputs": [
    {
     "name": "stdout",
     "output_type": "stream",
     "text": [
      "Total de palabras en 2 stars:  203771\n"
     ]
    },
    {
     "data": {
      "text/html": [
       "<div>\n",
       "<style scoped>\n",
       "    .dataframe tbody tr th:only-of-type {\n",
       "        vertical-align: middle;\n",
       "    }\n",
       "\n",
       "    .dataframe tbody tr th {\n",
       "        vertical-align: top;\n",
       "    }\n",
       "\n",
       "    .dataframe thead th {\n",
       "        text-align: right;\n",
       "    }\n",
       "</style>\n",
       "<table border=\"1\" class=\"dataframe\">\n",
       "  <thead>\n",
       "    <tr style=\"text-align: right;\">\n",
       "      <th></th>\n",
       "      <th>Palabras_2_stars</th>\n",
       "      <th>Frecuencia_2</th>\n",
       "      <th>Importancia%</th>\n",
       "    </tr>\n",
       "  </thead>\n",
       "  <tbody>\n",
       "    <tr>\n",
       "      <th>740</th>\n",
       "      <td>No</td>\n",
       "      <td>3073</td>\n",
       "      <td>1.508065</td>\n",
       "    </tr>\n",
       "    <tr>\n",
       "      <th>2637</th>\n",
       "      <td>bien</td>\n",
       "      <td>3033</td>\n",
       "      <td>1.488436</td>\n",
       "    </tr>\n",
       "    <tr>\n",
       "      <th>3049</th>\n",
       "      <td>calidad</td>\n",
       "      <td>1833</td>\n",
       "      <td>0.899539</td>\n",
       "    </tr>\n",
       "    <tr>\n",
       "      <th>46</th>\n",
       "      <td>...</td>\n",
       "      <td>1820</td>\n",
       "      <td>0.893159</td>\n",
       "    </tr>\n",
       "    <tr>\n",
       "      <th>14573</th>\n",
       "      <td>si</td>\n",
       "      <td>1712</td>\n",
       "      <td>0.840159</td>\n",
       "    </tr>\n",
       "    <tr>\n",
       "      <th>12668</th>\n",
       "      <td>producto</td>\n",
       "      <td>1494</td>\n",
       "      <td>0.733176</td>\n",
       "    </tr>\n",
       "    <tr>\n",
       "      <th>12457</th>\n",
       "      <td>precio</td>\n",
       "      <td>1041</td>\n",
       "      <td>0.510868</td>\n",
       "    </tr>\n",
       "    <tr>\n",
       "      <th>5924</th>\n",
       "      <td>do</td>\n",
       "      <td>993</td>\n",
       "      <td>0.487312</td>\n",
       "    </tr>\n",
       "    <tr>\n",
       "      <th>2552</th>\n",
       "      <td>bastant</td>\n",
       "      <td>859</td>\n",
       "      <td>0.421552</td>\n",
       "    </tr>\n",
       "    <tr>\n",
       "      <th>2851</th>\n",
       "      <td>buena</td>\n",
       "      <td>812</td>\n",
       "      <td>0.398487</td>\n",
       "    </tr>\n",
       "    <tr>\n",
       "      <th>9927</th>\n",
       "      <td>mal</td>\n",
       "      <td>761</td>\n",
       "      <td>0.373458</td>\n",
       "    </tr>\n",
       "    <tr>\n",
       "      <th>16016</th>\n",
       "      <td>uso</td>\n",
       "      <td>753</td>\n",
       "      <td>0.369532</td>\n",
       "    </tr>\n",
       "    <tr>\n",
       "      <th>8320</th>\n",
       "      <td>hace</td>\n",
       "      <td>746</td>\n",
       "      <td>0.366097</td>\n",
       "    </tr>\n",
       "    <tr>\n",
       "      <th>11500</th>\n",
       "      <td>parec</td>\n",
       "      <td>730</td>\n",
       "      <td>0.358245</td>\n",
       "    </tr>\n",
       "    <tr>\n",
       "      <th>9880</th>\n",
       "      <td>ma</td>\n",
       "      <td>726</td>\n",
       "      <td>0.356282</td>\n",
       "    </tr>\n",
       "    <tr>\n",
       "      <th>6092</th>\n",
       "      <td>día</td>\n",
       "      <td>723</td>\n",
       "      <td>0.354810</td>\n",
       "    </tr>\n",
       "    <tr>\n",
       "      <th>12842</th>\n",
       "      <td>pued</td>\n",
       "      <td>715</td>\n",
       "      <td>0.350884</td>\n",
       "    </tr>\n",
       "    <tr>\n",
       "      <th>14799</th>\n",
       "      <td>solo</td>\n",
       "      <td>695</td>\n",
       "      <td>0.341069</td>\n",
       "    </tr>\n",
       "    <tr>\n",
       "      <th>7860</th>\n",
       "      <td>funciona</td>\n",
       "      <td>678</td>\n",
       "      <td>0.332726</td>\n",
       "    </tr>\n",
       "    <tr>\n",
       "      <th>5084</th>\n",
       "      <td>demasiado</td>\n",
       "      <td>660</td>\n",
       "      <td>0.323893</td>\n",
       "    </tr>\n",
       "    <tr>\n",
       "      <th>12635</th>\n",
       "      <td>problema</td>\n",
       "      <td>659</td>\n",
       "      <td>0.323402</td>\n",
       "    </tr>\n",
       "    <tr>\n",
       "      <th>10251</th>\n",
       "      <td>mejor</td>\n",
       "      <td>658</td>\n",
       "      <td>0.322912</td>\n",
       "    </tr>\n",
       "    <tr>\n",
       "      <th>12969</th>\n",
       "      <td>queda</td>\n",
       "      <td>652</td>\n",
       "      <td>0.319967</td>\n",
       "    </tr>\n",
       "    <tr>\n",
       "      <th>11800</th>\n",
       "      <td>pequeño</td>\n",
       "      <td>645</td>\n",
       "      <td>0.316532</td>\n",
       "    </tr>\n",
       "    <tr>\n",
       "      <th>11449</th>\n",
       "      <td>pantalla</td>\n",
       "      <td>630</td>\n",
       "      <td>0.309171</td>\n",
       "    </tr>\n",
       "    <tr>\n",
       "      <th>7750</th>\n",
       "      <td>foto</td>\n",
       "      <td>612</td>\n",
       "      <td>0.300337</td>\n",
       "    </tr>\n",
       "    <tr>\n",
       "      <th>9928</th>\n",
       "      <td>mala</td>\n",
       "      <td>594</td>\n",
       "      <td>0.291504</td>\n",
       "    </tr>\n",
       "    <tr>\n",
       "      <th>11537</th>\n",
       "      <td>part</td>\n",
       "      <td>590</td>\n",
       "      <td>0.289541</td>\n",
       "    </tr>\n",
       "    <tr>\n",
       "      <th>14514</th>\n",
       "      <td>ser</td>\n",
       "      <td>589</td>\n",
       "      <td>0.289050</td>\n",
       "    </tr>\n",
       "    <tr>\n",
       "      <th>3809</th>\n",
       "      <td>color</td>\n",
       "      <td>588</td>\n",
       "      <td>0.288559</td>\n",
       "    </tr>\n",
       "  </tbody>\n",
       "</table>\n",
       "</div>"
      ],
      "text/plain": [
       "      Palabras_2_stars  Frecuencia_2  Importancia%\n",
       "740                 No          3073      1.508065\n",
       "2637              bien          3033      1.488436\n",
       "3049           calidad          1833      0.899539\n",
       "46                 ...          1820      0.893159\n",
       "14573               si          1712      0.840159\n",
       "12668         producto          1494      0.733176\n",
       "12457           precio          1041      0.510868\n",
       "5924                do           993      0.487312\n",
       "2552           bastant           859      0.421552\n",
       "2851             buena           812      0.398487\n",
       "9927               mal           761      0.373458\n",
       "16016              uso           753      0.369532\n",
       "8320              hace           746      0.366097\n",
       "11500            parec           730      0.358245\n",
       "9880                ma           726      0.356282\n",
       "6092               día           723      0.354810\n",
       "12842             pued           715      0.350884\n",
       "14799             solo           695      0.341069\n",
       "7860          funciona           678      0.332726\n",
       "5084         demasiado           660      0.323893\n",
       "12635         problema           659      0.323402\n",
       "10251            mejor           658      0.322912\n",
       "12969            queda           652      0.319967\n",
       "11800          pequeño           645      0.316532\n",
       "11449         pantalla           630      0.309171\n",
       "7750              foto           612      0.300337\n",
       "9928              mala           594      0.291504\n",
       "11537             part           590      0.289541\n",
       "14514              ser           589      0.289050\n",
       "3809             color           588      0.288559"
      ]
     },
     "execution_count": 54,
     "metadata": {},
     "output_type": "execute_result"
    }
   ],
   "source": [
    "df_de_palabras_dos_estrellas = DataFrame(filtered_sentence_malas10mil_stemmizado,columns=['Palabras_2_stars'])\n",
    "df_de_palabras_dos_estrellas = df_de_palabras_dos_estrellas.groupby([\"Palabras_2_stars\"]).size().reset_index(name=\"Frecuencia_2\") \n",
    "df_de_palabras_dos_estrellas = df_de_palabras_dos_estrellas.sort_values(by=\"Frecuencia_2\",ascending=False)\n",
    "sumfreq2=df_de_palabras_dos_estrellas.Frecuencia_2.sum()\n",
    "print('Total de palabras en 2 stars: ',sumfreq2)\n",
    "df_de_palabras_dos_estrellas['Importancia%']=(df_de_palabras_dos_estrellas.Frecuencia_2/sumfreq2)*100\n",
    "df_de_palabras_dos_estrellas.head(30)"
   ]
  },
  {
   "cell_type": "code",
   "execution_count": 55,
   "metadata": {},
   "outputs": [
    {
     "data": {
      "image/png": "[encoded data removed]",
      "text/plain": [
       "<Figure size 1080x576 with 1 Axes>"
      ]
     },
     "metadata": {
      "needs_background": "light"
     },
     "output_type": "display_data"
    }
   ],
   "source": [
    "plt.figure(figsize = (15,8))\n",
    "plot = sns.barplot(x  = df_de_palabras_dos_estrellas.iloc[:30].Palabras_2_stars, y = df_de_palabras_dos_estrellas.iloc[:30].Frecuencia_2)\n",
    "for item in plot.get_xticklabels():\n",
    "    item.set_rotation(90)\n",
    "plt.grid()\n",
    "plt.title('Palabras más usadas para reviews de 2 estrellas',fontsize=20)\n",
    "plt.show()"
   ]
  },
  {
   "cell_type": "markdown",
   "metadata": {},
   "source": [
    "### Vemos la distribución de palabras para las criticas de 3 estrellas."
   ]
  },
  {
   "cell_type": "code",
   "execution_count": 56,
   "metadata": {},
   "outputs": [
    {
     "data": {
      "text/plain": [
       "(12600, 9)"
      ]
     },
     "execution_count": 56,
     "metadata": {},
     "output_type": "execute_result"
    }
   ],
   "source": [
    "bueno_10mil=((pc30.stars==3))\n",
    "bueno_10mil=pc30[bueno_10mil].copy()\n",
    "bueno_10mil.shape"
   ]
  },
  {
   "cell_type": "code",
   "execution_count": 57,
   "metadata": {},
   "outputs": [
    {
     "name": "stdout",
     "output_type": "stream",
     "text": [
      "Cantidad de estrellas: 1\n",
      "[3]\n",
      "3    12600\n",
      "Name: stars, dtype: int64\n"
     ]
    },
    {
     "data": {
      "image/png": "[encoded data removed]",
      "text/plain": [
       "<Figure size 576x288 with 1 Axes>"
      ]
     },
     "metadata": {
      "needs_background": "light"
     },
     "output_type": "display_data"
    }
   ],
   "source": [
    "estrellas=bueno_10mil['stars']\n",
    "print(\"Cantidad de estrellas:\", len(bueno_10mil['stars'].unique()))\n",
    "print(bueno_10mil['stars'].unique())\n",
    "plt.figure(figsize=(8,4))\n",
    "#tipologia.hist()\n",
    "plt.xticks(rotation=0)\n",
    "cuento_estrellas=bueno_10mil['stars'].value_counts()\n",
    "print(cuento_estrellas)\n",
    "#sns.set_theme(style=\"darkgrid\")\n",
    "ax = sns.countplot(x='stars', data=bueno_10mil,palette=[\"green\"])\n",
    "plt.grid()"
   ]
  },
  {
   "cell_type": "code",
   "execution_count": 58,
   "metadata": {},
   "outputs": [],
   "source": [
    "buenas_criticas=[]\n",
    "for i in bueno_10mil.review_body:\n",
    "    criticas=i\n",
    "    buenas_criticas.append(criticas)\n",
    "#buenas_criticas #(es la lista con todas las reviews)"
   ]
  },
  {
   "cell_type": "markdown",
   "metadata": {},
   "source": [
    "## Tokenizamos las críticas de 3 estrellas"
   ]
  },
  {
   "cell_type": "code",
   "execution_count": 59,
   "metadata": {},
   "outputs": [],
   "source": [
    "criticas_buenas10mil_tokenizadas=[]\n",
    "for i in buenas_criticas:## Osea la lista entera de criticas\n",
    "    j=nltk.tokenize.word_tokenize(i)\n",
    "    criticas_buenas10mil_tokenizadas.append(j) "
   ]
  },
  {
   "cell_type": "code",
   "execution_count": 60,
   "metadata": {},
   "outputs": [],
   "source": [
    "palabras_criticas_buenas10mil_tokenizadas = list(itertools.chain(*criticas_buenas10mil_tokenizadas))"
   ]
  },
  {
   "cell_type": "code",
   "execution_count": 61,
   "metadata": {},
   "outputs": [
    {
     "data": {
      "text/plain": [
       "400549"
      ]
     },
     "execution_count": 61,
     "metadata": {},
     "output_type": "execute_result"
    }
   ],
   "source": [
    "len(palabras_criticas_buenas10mil_tokenizadas)"
   ]
  },
  {
   "cell_type": "markdown",
   "metadata": {},
   "source": [
    "## Filtramos por stop words las críticas tokenizadas de 3 estrellas."
   ]
  },
  {
   "cell_type": "code",
   "execution_count": 62,
   "metadata": {},
   "outputs": [],
   "source": [
    "filtered_sentence_bueno10mil=[]\n",
    "for w in palabras_criticas_buenas10mil_tokenizadas:\n",
    "    if w not in stop_words:\n",
    "        filtered_sentence_bueno10mil.append(w)"
   ]
  },
  {
   "cell_type": "code",
   "execution_count": 63,
   "metadata": {},
   "outputs": [
    {
     "data": {
      "text/plain": [
       "186853"
      ]
     },
     "execution_count": 63,
     "metadata": {},
     "output_type": "execute_result"
    }
   ],
   "source": [
    "len(filtered_sentence_bueno10mil)"
   ]
  },
  {
   "cell_type": "markdown",
   "metadata": {},
   "source": [
    "## Stemming\n",
    "> Stemmizamos las críticas de 3 estrellas"
   ]
  },
  {
   "cell_type": "code",
   "execution_count": 64,
   "metadata": {},
   "outputs": [],
   "source": [
    "ps=PorterStemmer()\n",
    "# la lista es: filtered_sentence_malisimo\n",
    "filtered_sentence_bueno10mil_stemmizado=[]\n",
    "for w in filtered_sentence_bueno10mil:\n",
    "    j=ps.stem(w)\n",
    "    filtered_sentence_bueno10mil_stemmizado.append(j)"
   ]
  },
  {
   "cell_type": "code",
   "execution_count": 65,
   "metadata": {},
   "outputs": [
    {
     "name": "stdout",
     "output_type": "stream",
     "text": [
      "Total de palabras en 3 stars:  186853\n"
     ]
    },
    {
     "data": {
      "text/html": [
       "<div>\n",
       "<style scoped>\n",
       "    .dataframe tbody tr th:only-of-type {\n",
       "        vertical-align: middle;\n",
       "    }\n",
       "\n",
       "    .dataframe tbody tr th {\n",
       "        vertical-align: top;\n",
       "    }\n",
       "\n",
       "    .dataframe thead th {\n",
       "        text-align: right;\n",
       "    }\n",
       "</style>\n",
       "<table border=\"1\" class=\"dataframe\">\n",
       "  <thead>\n",
       "    <tr style=\"text-align: right;\">\n",
       "      <th></th>\n",
       "      <th>Palabras_3_stars</th>\n",
       "      <th>Frecuencia_3</th>\n",
       "      <th>Importancia%</th>\n",
       "    </tr>\n",
       "  </thead>\n",
       "  <tbody>\n",
       "    <tr>\n",
       "      <th>2489</th>\n",
       "      <td>bien</td>\n",
       "      <td>4345</td>\n",
       "      <td>2.325357</td>\n",
       "    </tr>\n",
       "    <tr>\n",
       "      <th>654</th>\n",
       "      <td>No</td>\n",
       "      <td>1855</td>\n",
       "      <td>0.992759</td>\n",
       "    </tr>\n",
       "    <tr>\n",
       "      <th>2916</th>\n",
       "      <td>calidad</td>\n",
       "      <td>1753</td>\n",
       "      <td>0.938171</td>\n",
       "    </tr>\n",
       "    <tr>\n",
       "      <th>13915</th>\n",
       "      <td>si</td>\n",
       "      <td>1689</td>\n",
       "      <td>0.903919</td>\n",
       "    </tr>\n",
       "    <tr>\n",
       "      <th>11948</th>\n",
       "      <td>precio</td>\n",
       "      <td>1640</td>\n",
       "      <td>0.877695</td>\n",
       "    </tr>\n",
       "    <tr>\n",
       "      <th>51</th>\n",
       "      <td>...</td>\n",
       "      <td>1442</td>\n",
       "      <td>0.771730</td>\n",
       "    </tr>\n",
       "    <tr>\n",
       "      <th>12140</th>\n",
       "      <td>producto</td>\n",
       "      <td>1255</td>\n",
       "      <td>0.671651</td>\n",
       "    </tr>\n",
       "    <tr>\n",
       "      <th>2725</th>\n",
       "      <td>buena</td>\n",
       "      <td>1130</td>\n",
       "      <td>0.604753</td>\n",
       "    </tr>\n",
       "    <tr>\n",
       "      <th>2405</th>\n",
       "      <td>bastant</td>\n",
       "      <td>1092</td>\n",
       "      <td>0.584417</td>\n",
       "    </tr>\n",
       "    <tr>\n",
       "      <th>2181</th>\n",
       "      <td>aunqu</td>\n",
       "      <td>922</td>\n",
       "      <td>0.493436</td>\n",
       "    </tr>\n",
       "    <tr>\n",
       "      <th>9416</th>\n",
       "      <td>ma</td>\n",
       "      <td>780</td>\n",
       "      <td>0.417440</td>\n",
       "    </tr>\n",
       "    <tr>\n",
       "      <th>12293</th>\n",
       "      <td>pued</td>\n",
       "      <td>752</td>\n",
       "      <td>0.402455</td>\n",
       "    </tr>\n",
       "    <tr>\n",
       "      <th>9758</th>\n",
       "      <td>mejor</td>\n",
       "      <td>724</td>\n",
       "      <td>0.387470</td>\n",
       "    </tr>\n",
       "    <tr>\n",
       "      <th>10982</th>\n",
       "      <td>parec</td>\n",
       "      <td>712</td>\n",
       "      <td>0.381048</td>\n",
       "    </tr>\n",
       "    <tr>\n",
       "      <th>7966</th>\n",
       "      <td>hace</td>\n",
       "      <td>702</td>\n",
       "      <td>0.375696</td>\n",
       "    </tr>\n",
       "    <tr>\n",
       "      <th>9457</th>\n",
       "      <td>mal</td>\n",
       "      <td>692</td>\n",
       "      <td>0.370345</td>\n",
       "    </tr>\n",
       "    <tr>\n",
       "      <th>7818</th>\n",
       "      <td>grand</td>\n",
       "      <td>685</td>\n",
       "      <td>0.366598</td>\n",
       "    </tr>\n",
       "    <tr>\n",
       "      <th>11309</th>\n",
       "      <td>pequeño</td>\n",
       "      <td>655</td>\n",
       "      <td>0.350543</td>\n",
       "    </tr>\n",
       "    <tr>\n",
       "      <th>12113</th>\n",
       "      <td>problema</td>\n",
       "      <td>645</td>\n",
       "      <td>0.345191</td>\n",
       "    </tr>\n",
       "    <tr>\n",
       "      <th>2729</th>\n",
       "      <td>bueno</td>\n",
       "      <td>642</td>\n",
       "      <td>0.343586</td>\n",
       "    </tr>\n",
       "    <tr>\n",
       "      <th>11842</th>\n",
       "      <td>por</td>\n",
       "      <td>641</td>\n",
       "      <td>0.343050</td>\n",
       "    </tr>\n",
       "    <tr>\n",
       "      <th>12415</th>\n",
       "      <td>queda</td>\n",
       "      <td>638</td>\n",
       "      <td>0.341445</td>\n",
       "    </tr>\n",
       "    <tr>\n",
       "      <th>6676</th>\n",
       "      <td>esperaba</td>\n",
       "      <td>629</td>\n",
       "      <td>0.336628</td>\n",
       "    </tr>\n",
       "    <tr>\n",
       "      <th>11405</th>\n",
       "      <td>pero</td>\n",
       "      <td>627</td>\n",
       "      <td>0.335558</td>\n",
       "    </tr>\n",
       "    <tr>\n",
       "      <th>7527</th>\n",
       "      <td>funciona</td>\n",
       "      <td>612</td>\n",
       "      <td>0.327530</td>\n",
       "    </tr>\n",
       "    <tr>\n",
       "      <th>4530</th>\n",
       "      <td>cumpl</td>\n",
       "      <td>609</td>\n",
       "      <td>0.325925</td>\n",
       "    </tr>\n",
       "    <tr>\n",
       "      <th>4855</th>\n",
       "      <td>demasiado</td>\n",
       "      <td>608</td>\n",
       "      <td>0.325389</td>\n",
       "    </tr>\n",
       "    <tr>\n",
       "      <th>0</th>\n",
       "      <td>!</td>\n",
       "      <td>597</td>\n",
       "      <td>0.319502</td>\n",
       "    </tr>\n",
       "    <tr>\n",
       "      <th>15319</th>\n",
       "      <td>uso</td>\n",
       "      <td>586</td>\n",
       "      <td>0.313616</td>\n",
       "    </tr>\n",
       "    <tr>\n",
       "      <th>3650</th>\n",
       "      <td>color</td>\n",
       "      <td>586</td>\n",
       "      <td>0.313616</td>\n",
       "    </tr>\n",
       "  </tbody>\n",
       "</table>\n",
       "</div>"
      ],
      "text/plain": [
       "      Palabras_3_stars  Frecuencia_3  Importancia%\n",
       "2489              bien          4345      2.325357\n",
       "654                 No          1855      0.992759\n",
       "2916           calidad          1753      0.938171\n",
       "13915               si          1689      0.903919\n",
       "11948           precio          1640      0.877695\n",
       "51                 ...          1442      0.771730\n",
       "12140         producto          1255      0.671651\n",
       "2725             buena          1130      0.604753\n",
       "2405           bastant          1092      0.584417\n",
       "2181             aunqu           922      0.493436\n",
       "9416                ma           780      0.417440\n",
       "12293             pued           752      0.402455\n",
       "9758             mejor           724      0.387470\n",
       "10982            parec           712      0.381048\n",
       "7966              hace           702      0.375696\n",
       "9457               mal           692      0.370345\n",
       "7818             grand           685      0.366598\n",
       "11309          pequeño           655      0.350543\n",
       "12113         problema           645      0.345191\n",
       "2729             bueno           642      0.343586\n",
       "11842              por           641      0.343050\n",
       "12415            queda           638      0.341445\n",
       "6676          esperaba           629      0.336628\n",
       "11405             pero           627      0.335558\n",
       "7527          funciona           612      0.327530\n",
       "4530             cumpl           609      0.325925\n",
       "4855         demasiado           608      0.325389\n",
       "0                    !           597      0.319502\n",
       "15319              uso           586      0.313616\n",
       "3650             color           586      0.313616"
      ]
     },
     "execution_count": 65,
     "metadata": {},
     "output_type": "execute_result"
    }
   ],
   "source": [
    "df_de_palabras_tres_estrellas = DataFrame(filtered_sentence_bueno10mil_stemmizado,columns=['Palabras_3_stars'])\n",
    "df_de_palabras_tres_estrellas=df_de_palabras_tres_estrellas.groupby([\"Palabras_3_stars\"]).size().reset_index(name=\"Frecuencia_3\") \n",
    "sumfreq3=df_de_palabras_tres_estrellas.Frecuencia_3.sum()\n",
    "print('Total de palabras en 3 stars: ',sumfreq3)\n",
    "df_de_palabras_tres_estrellas=df_de_palabras_tres_estrellas.sort_values(by=\"Frecuencia_3\",ascending=False)\n",
    "df_de_palabras_tres_estrellas['Importancia%']=(df_de_palabras_tres_estrellas.Frecuencia_3/sumfreq3)*100\n",
    "df_de_palabras_tres_estrellas.head(30)"
   ]
  },
  {
   "cell_type": "code",
   "execution_count": 66,
   "metadata": {},
   "outputs": [
    {
     "data": {
      "image/png": "[encoded data removed]",
      "text/plain": [
       "<Figure size 1080x576 with 1 Axes>"
      ]
     },
     "metadata": {
      "needs_background": "light"
     },
     "output_type": "display_data"
    }
   ],
   "source": [
    "plt.figure(figsize = (15,8))\n",
    "plot = sns.barplot(x  = df_de_palabras_tres_estrellas.iloc[:30].Palabras_3_stars, y = df_de_palabras_tres_estrellas.iloc[:30].Frecuencia_3)\n",
    "for item in plot.get_xticklabels():\n",
    "    item.set_rotation(90)\n",
    "plt.grid()\n",
    "plt.title('Palabras más usadas para reviews de 3 estrellas',fontsize=20)\n",
    "plt.show()"
   ]
  },
  {
   "cell_type": "markdown",
   "metadata": {},
   "source": [
    "### Ahora queremos ver la distribución de palabras para las criticas de 4 estrellas."
   ]
  },
  {
   "cell_type": "code",
   "execution_count": 67,
   "metadata": {},
   "outputs": [
    {
     "data": {
      "text/plain": [
       "(12600, 9)"
      ]
     },
     "execution_count": 67,
     "metadata": {},
     "output_type": "execute_result"
    }
   ],
   "source": [
    "Muy_bueno_10mil=((pc30.stars==4))\n",
    "Muy_bueno_10mil=pc30[Muy_bueno_10mil].copy()\n",
    "Muy_bueno_10mil.shape"
   ]
  },
  {
   "cell_type": "code",
   "execution_count": 68,
   "metadata": {},
   "outputs": [],
   "source": [
    "muybuenas_criticas=[]\n",
    "for i in Muy_bueno_10mil.review_body:\n",
    "    criticas=i\n",
    "    muybuenas_criticas.append(criticas)\n",
    "#muybuenas_criticas (es la lista con todas las reviews)"
   ]
  },
  {
   "cell_type": "code",
   "execution_count": 69,
   "metadata": {},
   "outputs": [
    {
     "name": "stdout",
     "output_type": "stream",
     "text": [
      "Cantidad de estrellas: 1\n",
      "[4]\n",
      "4    12600\n",
      "Name: stars, dtype: int64\n"
     ]
    },
    {
     "data": {
      "image/png": "[encoded data removed]",
      "text/plain": [
       "<Figure size 576x288 with 1 Axes>"
      ]
     },
     "metadata": {
      "needs_background": "light"
     },
     "output_type": "display_data"
    }
   ],
   "source": [
    "estrellas=Muy_bueno_10mil['stars']\n",
    "print(\"Cantidad de estrellas:\", len(Muy_bueno_10mil['stars'].unique()))\n",
    "print(Muy_bueno_10mil['stars'].unique())\n",
    "plt.figure(figsize=(8,4))\n",
    "#tipologia.hist()\n",
    "plt.xticks(rotation=0)\n",
    "cuento_estrellas=Muy_bueno_10mil['stars'].value_counts()\n",
    "print(cuento_estrellas)\n",
    "#sns.set_theme(style=\"darkgrid\")\n",
    "ax = sns.countplot(x='stars', data=Muy_bueno_10mil,palette=[\"red\"])\n",
    "plt.grid()"
   ]
  },
  {
   "cell_type": "code",
   "execution_count": 70,
   "metadata": {},
   "outputs": [],
   "source": [
    "muybuenas_criticas=[]\n",
    "for i in Muy_bueno_10mil.review_body:\n",
    "    criticas=i\n",
    "    muybuenas_criticas.append(criticas)\n",
    "#muybuenas_criticas (es la lista con todas las reviews)"
   ]
  },
  {
   "cell_type": "markdown",
   "metadata": {},
   "source": [
    "## Tokenizamos las críticas de 4 estrellas."
   ]
  },
  {
   "cell_type": "code",
   "execution_count": 71,
   "metadata": {},
   "outputs": [],
   "source": [
    "criticas_muybuenas10mil_tokenizadas=[]\n",
    "for i in muybuenas_criticas:## Osea la lista entera de criticas\n",
    "    j=nltk.tokenize.word_tokenize(i)\n",
    "    criticas_muybuenas10mil_tokenizadas.append(j)    "
   ]
  },
  {
   "cell_type": "code",
   "execution_count": 72,
   "metadata": {},
   "outputs": [],
   "source": [
    "palabras_criticas_muybuenas10mil_tokenizadas = list(itertools.chain(*criticas_muybuenas10mil_tokenizadas))"
   ]
  },
  {
   "cell_type": "markdown",
   "metadata": {},
   "source": [
    "## Filtramos por stop words las críticas tokenizadas de 4 estrellas."
   ]
  },
  {
   "cell_type": "code",
   "execution_count": 73,
   "metadata": {},
   "outputs": [],
   "source": [
    "filtered_sentence_muybueno10mil=[]\n",
    "for w in palabras_criticas_muybuenas10mil_tokenizadas:\n",
    "    if w not in stop_words:\n",
    "        filtered_sentence_muybueno10mil.append(w)"
   ]
  },
  {
   "cell_type": "code",
   "execution_count": 74,
   "metadata": {},
   "outputs": [
    {
     "data": {
      "text/plain": [
       "172085"
      ]
     },
     "execution_count": 74,
     "metadata": {},
     "output_type": "execute_result"
    }
   ],
   "source": [
    "len(filtered_sentence_muybueno10mil)"
   ]
  },
  {
   "cell_type": "markdown",
   "metadata": {},
   "source": [
    "## Stemming\n",
    "> Stemmizamos las criticas de 4 estrellas."
   ]
  },
  {
   "cell_type": "code",
   "execution_count": 75,
   "metadata": {},
   "outputs": [],
   "source": [
    "ps=PorterStemmer()\n",
    "# la lista es: filtered_sentence_malisimo\n",
    "filtered_sentence_muybueno10mil_stemmizado=[]\n",
    "for w in filtered_sentence_muybueno10mil:\n",
    "    j=ps.stem(w)\n",
    "    filtered_sentence_muybueno10mil_stemmizado.append(j)"
   ]
  },
  {
   "cell_type": "code",
   "execution_count": 76,
   "metadata": {},
   "outputs": [
    {
     "name": "stdout",
     "output_type": "stream",
     "text": [
      "Total de palabras en 4 stars:  172085\n"
     ]
    },
    {
     "data": {
      "text/html": [
       "<div>\n",
       "<style scoped>\n",
       "    .dataframe tbody tr th:only-of-type {\n",
       "        vertical-align: middle;\n",
       "    }\n",
       "\n",
       "    .dataframe tbody tr th {\n",
       "        vertical-align: top;\n",
       "    }\n",
       "\n",
       "    .dataframe thead th {\n",
       "        text-align: right;\n",
       "    }\n",
       "</style>\n",
       "<table border=\"1\" class=\"dataframe\">\n",
       "  <thead>\n",
       "    <tr style=\"text-align: right;\">\n",
       "      <th></th>\n",
       "      <th>Palabras_4_stars</th>\n",
       "      <th>Frecuencia_4</th>\n",
       "      <th>Importancia%</th>\n",
       "    </tr>\n",
       "  </thead>\n",
       "  <tbody>\n",
       "    <tr>\n",
       "      <th>2320</th>\n",
       "      <td>bien</td>\n",
       "      <td>4428</td>\n",
       "      <td>2.573147</td>\n",
       "    </tr>\n",
       "    <tr>\n",
       "      <th>2710</th>\n",
       "      <td>calidad</td>\n",
       "      <td>2133</td>\n",
       "      <td>1.239504</td>\n",
       "    </tr>\n",
       "    <tr>\n",
       "      <th>2531</th>\n",
       "      <td>buena</td>\n",
       "      <td>2132</td>\n",
       "      <td>1.238923</td>\n",
       "    </tr>\n",
       "    <tr>\n",
       "      <th>11167</th>\n",
       "      <td>precio</td>\n",
       "      <td>2000</td>\n",
       "      <td>1.162216</td>\n",
       "    </tr>\n",
       "    <tr>\n",
       "      <th>11386</th>\n",
       "      <td>producto</td>\n",
       "      <td>1409</td>\n",
       "      <td>0.818781</td>\n",
       "    </tr>\n",
       "    <tr>\n",
       "      <th>2529</th>\n",
       "      <td>buen</td>\n",
       "      <td>1241</td>\n",
       "      <td>0.721155</td>\n",
       "    </tr>\n",
       "    <tr>\n",
       "      <th>2236</th>\n",
       "      <td>bastant</td>\n",
       "      <td>1159</td>\n",
       "      <td>0.673504</td>\n",
       "    </tr>\n",
       "    <tr>\n",
       "      <th>13014</th>\n",
       "      <td>si</td>\n",
       "      <td>1150</td>\n",
       "      <td>0.668274</td>\n",
       "    </tr>\n",
       "    <tr>\n",
       "      <th>9597</th>\n",
       "      <td>muy</td>\n",
       "      <td>1014</td>\n",
       "      <td>0.589244</td>\n",
       "    </tr>\n",
       "    <tr>\n",
       "      <th>4222</th>\n",
       "      <td>cumpl</td>\n",
       "      <td>942</td>\n",
       "      <td>0.547404</td>\n",
       "    </tr>\n",
       "    <tr>\n",
       "      <th>2019</th>\n",
       "      <td>aunqu</td>\n",
       "      <td>871</td>\n",
       "      <td>0.506145</td>\n",
       "    </tr>\n",
       "    <tr>\n",
       "      <th>601</th>\n",
       "      <td>No</td>\n",
       "      <td>862</td>\n",
       "      <td>0.500915</td>\n",
       "    </tr>\n",
       "    <tr>\n",
       "      <th>41</th>\n",
       "      <td>...</td>\n",
       "      <td>809</td>\n",
       "      <td>0.470117</td>\n",
       "    </tr>\n",
       "    <tr>\n",
       "      <th>10615</th>\n",
       "      <td>perfecto</td>\n",
       "      <td>795</td>\n",
       "      <td>0.461981</td>\n",
       "    </tr>\n",
       "    <tr>\n",
       "      <th>11555</th>\n",
       "      <td>pued</td>\n",
       "      <td>732</td>\n",
       "      <td>0.425371</td>\n",
       "    </tr>\n",
       "    <tr>\n",
       "      <th>6960</th>\n",
       "      <td>funciona</td>\n",
       "      <td>723</td>\n",
       "      <td>0.420141</td>\n",
       "    </tr>\n",
       "    <tr>\n",
       "      <th>10610</th>\n",
       "      <td>perfectament</td>\n",
       "      <td>717</td>\n",
       "      <td>0.416655</td>\n",
       "    </tr>\n",
       "    <tr>\n",
       "      <th>0</th>\n",
       "      <td>!</td>\n",
       "      <td>714</td>\n",
       "      <td>0.414911</td>\n",
       "    </tr>\n",
       "    <tr>\n",
       "      <th>2538</th>\n",
       "      <td>bueno</td>\n",
       "      <td>691</td>\n",
       "      <td>0.401546</td>\n",
       "    </tr>\n",
       "    <tr>\n",
       "      <th>8797</th>\n",
       "      <td>ma</td>\n",
       "      <td>626</td>\n",
       "      <td>0.363774</td>\n",
       "    </tr>\n",
       "    <tr>\n",
       "      <th>7015</th>\n",
       "      <td>fácil</td>\n",
       "      <td>618</td>\n",
       "      <td>0.359125</td>\n",
       "    </tr>\n",
       "    <tr>\n",
       "      <th>7383</th>\n",
       "      <td>hace</td>\n",
       "      <td>609</td>\n",
       "      <td>0.353895</td>\n",
       "    </tr>\n",
       "    <tr>\n",
       "      <th>13840</th>\n",
       "      <td>tiempo</td>\n",
       "      <td>606</td>\n",
       "      <td>0.352152</td>\n",
       "    </tr>\n",
       "    <tr>\n",
       "      <th>3524</th>\n",
       "      <td>compra</td>\n",
       "      <td>605</td>\n",
       "      <td>0.351570</td>\n",
       "    </tr>\n",
       "    <tr>\n",
       "      <th>10289</th>\n",
       "      <td>parec</td>\n",
       "      <td>593</td>\n",
       "      <td>0.344597</td>\n",
       "    </tr>\n",
       "    <tr>\n",
       "      <th>11068</th>\n",
       "      <td>por</td>\n",
       "      <td>587</td>\n",
       "      <td>0.341110</td>\n",
       "    </tr>\n",
       "    <tr>\n",
       "      <th>7223</th>\n",
       "      <td>grand</td>\n",
       "      <td>582</td>\n",
       "      <td>0.338205</td>\n",
       "    </tr>\n",
       "    <tr>\n",
       "      <th>9121</th>\n",
       "      <td>mejor</td>\n",
       "      <td>581</td>\n",
       "      <td>0.337624</td>\n",
       "    </tr>\n",
       "    <tr>\n",
       "      <th>11357</th>\n",
       "      <td>problema</td>\n",
       "      <td>570</td>\n",
       "      <td>0.331232</td>\n",
       "    </tr>\n",
       "    <tr>\n",
       "      <th>14329</th>\n",
       "      <td>uso</td>\n",
       "      <td>556</td>\n",
       "      <td>0.323096</td>\n",
       "    </tr>\n",
       "  </tbody>\n",
       "</table>\n",
       "</div>"
      ],
      "text/plain": [
       "      Palabras_4_stars  Frecuencia_4  Importancia%\n",
       "2320              bien          4428      2.573147\n",
       "2710           calidad          2133      1.239504\n",
       "2531             buena          2132      1.238923\n",
       "11167           precio          2000      1.162216\n",
       "11386         producto          1409      0.818781\n",
       "2529              buen          1241      0.721155\n",
       "2236           bastant          1159      0.673504\n",
       "13014               si          1150      0.668274\n",
       "9597               muy          1014      0.589244\n",
       "4222             cumpl           942      0.547404\n",
       "2019             aunqu           871      0.506145\n",
       "601                 No           862      0.500915\n",
       "41                 ...           809      0.470117\n",
       "10615         perfecto           795      0.461981\n",
       "11555             pued           732      0.425371\n",
       "6960          funciona           723      0.420141\n",
       "10610     perfectament           717      0.416655\n",
       "0                    !           714      0.414911\n",
       "2538             bueno           691      0.401546\n",
       "8797                ma           626      0.363774\n",
       "7015             fácil           618      0.359125\n",
       "7383              hace           609      0.353895\n",
       "13840           tiempo           606      0.352152\n",
       "3524            compra           605      0.351570\n",
       "10289            parec           593      0.344597\n",
       "11068              por           587      0.341110\n",
       "7223             grand           582      0.338205\n",
       "9121             mejor           581      0.337624\n",
       "11357         problema           570      0.331232\n",
       "14329              uso           556      0.323096"
      ]
     },
     "execution_count": 76,
     "metadata": {},
     "output_type": "execute_result"
    }
   ],
   "source": [
    "df_de_palabras_cuatro_estrellas = DataFrame(filtered_sentence_muybueno10mil_stemmizado,columns=['Palabras_4_stars'])\n",
    "df_de_palabras_cuatro_estrellas=df_de_palabras_cuatro_estrellas.groupby([\"Palabras_4_stars\"]).size().reset_index(name=\"Frecuencia_4\") \n",
    "sumfreq4=df_de_palabras_cuatro_estrellas.Frecuencia_4.sum()\n",
    "print('Total de palabras en 4 stars: ',sumfreq4)\n",
    "df_de_palabras_cuatro_estrellas=df_de_palabras_cuatro_estrellas.sort_values(by=\"Frecuencia_4\",ascending=False)\n",
    "df_de_palabras_cuatro_estrellas['Importancia%']=(df_de_palabras_cuatro_estrellas.Frecuencia_4/sumfreq4)*100\n",
    "df_de_palabras_cuatro_estrellas.head(30)"
   ]
  },
  {
   "cell_type": "code",
   "execution_count": 77,
   "metadata": {},
   "outputs": [
    {
     "data": {
      "image/png": "[encoded data removed]",
      "text/plain": [
       "<Figure size 1080x576 with 1 Axes>"
      ]
     },
     "metadata": {
      "needs_background": "light"
     },
     "output_type": "display_data"
    }
   ],
   "source": [
    "plt.figure(figsize = (15,8))\n",
    "plot = sns.barplot(x  = df_de_palabras_cuatro_estrellas.iloc[:30].Palabras_4_stars, y = df_de_palabras_cuatro_estrellas.iloc[:30].Frecuencia_4)\n",
    "for item in plot.get_xticklabels():\n",
    "    item.set_rotation(90)\n",
    "plt.grid()\n",
    "plt.title('Palabras más usadas para reviews de 4 estrellas',fontsize=20)\n",
    "plt.show()"
   ]
  },
  {
   "cell_type": "markdown",
   "metadata": {},
   "source": [
    "### Ahora queremos ver la distribución de palabras para las criticas de 5 estrellas."
   ]
  },
  {
   "cell_type": "code",
   "execution_count": 78,
   "metadata": {},
   "outputs": [
    {
     "data": {
      "text/plain": [
       "(12600, 9)"
      ]
     },
     "execution_count": 78,
     "metadata": {},
     "output_type": "execute_result"
    }
   ],
   "source": [
    "perfecto_10mil=((pc30.stars==5))\n",
    "perfecto_10mil=pc30[perfecto_10mil].copy()\n",
    "perfecto_10mil.shape"
   ]
  },
  {
   "cell_type": "code",
   "execution_count": 79,
   "metadata": {},
   "outputs": [
    {
     "name": "stdout",
     "output_type": "stream",
     "text": [
      "Cantidad de estrellas: 1\n",
      "[5]\n",
      "5    12600\n",
      "Name: stars, dtype: int64\n"
     ]
    },
    {
     "data": {
      "image/png": "[encoded data removed]",
      "text/plain": [
       "<Figure size 576x288 with 1 Axes>"
      ]
     },
     "metadata": {
      "needs_background": "light"
     },
     "output_type": "display_data"
    }
   ],
   "source": [
    "estrellas=perfecto_10mil['stars']\n",
    "print(\"Cantidad de estrellas:\", len(perfecto_10mil['stars'].unique()))\n",
    "print(perfecto_10mil['stars'].unique())\n",
    "plt.figure(figsize=(8,4))\n",
    "#tipologia.hist()\n",
    "plt.xticks(rotation=0)\n",
    "cuento_estrellas=perfecto_10mil['stars'].value_counts()\n",
    "print(cuento_estrellas)\n",
    "#sns.set_theme(style=\"darkgrid\")\n",
    "ax = sns.countplot(x='stars', data=perfecto_10mil,palette=[\"purple\"])\n",
    "plt.grid()"
   ]
  },
  {
   "cell_type": "code",
   "execution_count": 80,
   "metadata": {},
   "outputs": [],
   "source": [
    "criticasperfectas_pc30=[]\n",
    "for i in perfecto_10mil.review_body:\n",
    "    criticas=i\n",
    "    criticasperfectas_pc30.append(criticas)"
   ]
  },
  {
   "cell_type": "markdown",
   "metadata": {},
   "source": [
    "### Esta lista se deja comentada, es la lista de criticas perfectas."
   ]
  },
  {
   "cell_type": "code",
   "execution_count": 81,
   "metadata": {},
   "outputs": [],
   "source": [
    "#criticasperfectas_pc30"
   ]
  },
  {
   "cell_type": "code",
   "execution_count": 82,
   "metadata": {},
   "outputs": [
    {
     "data": {
      "text/plain": [
       "12600"
      ]
     },
     "execution_count": 82,
     "metadata": {},
     "output_type": "execute_result"
    }
   ],
   "source": [
    "len(criticasperfectas_pc30)"
   ]
  },
  {
   "cell_type": "markdown",
   "metadata": {},
   "source": [
    "## Tokenizamos las críticas de 5 estrellas"
   ]
  },
  {
   "cell_type": "code",
   "execution_count": 83,
   "metadata": {},
   "outputs": [],
   "source": [
    "criticas_perfectas_pc30_tokenizadas=[]\n",
    "for i in criticasperfectas_pc30:## Osea la lista entera de criticas\n",
    "    j=nltk.tokenize.word_tokenize(i)\n",
    "    criticas_perfectas_pc30_tokenizadas.append(j)"
   ]
  },
  {
   "cell_type": "code",
   "execution_count": 84,
   "metadata": {},
   "outputs": [],
   "source": [
    "#criticas_perfectas_pc30_tokenizadas"
   ]
  },
  {
   "cell_type": "code",
   "execution_count": 85,
   "metadata": {},
   "outputs": [],
   "source": [
    "palabras_criticas_perfectas_pc30_tokenizadas = list(itertools.chain(*criticas_perfectas_pc30_tokenizadas))"
   ]
  },
  {
   "cell_type": "code",
   "execution_count": 86,
   "metadata": {},
   "outputs": [
    {
     "data": {
      "text/plain": [
       "345703"
      ]
     },
     "execution_count": 86,
     "metadata": {},
     "output_type": "execute_result"
    }
   ],
   "source": [
    "len(palabras_criticas_perfectas_pc30_tokenizadas)"
   ]
  },
  {
   "cell_type": "code",
   "execution_count": 87,
   "metadata": {},
   "outputs": [],
   "source": [
    "#palabras_criticas_perfectas_pc30_tokenizadas"
   ]
  },
  {
   "cell_type": "markdown",
   "metadata": {},
   "source": [
    "## Filtramos por stop words las críticas tokenizadas de 5 estrellas."
   ]
  },
  {
   "cell_type": "code",
   "execution_count": 88,
   "metadata": {},
   "outputs": [],
   "source": [
    "filtered_sentence_perfecto_pc30=[]\n",
    "for w in palabras_criticas_perfectas_pc30_tokenizadas:\n",
    "    if w not in stop_words:\n",
    "        filtered_sentence_perfecto_pc30.append(w)"
   ]
  },
  {
   "cell_type": "code",
   "execution_count": 89,
   "metadata": {},
   "outputs": [
    {
     "data": {
      "text/plain": [
       "168511"
      ]
     },
     "execution_count": 89,
     "metadata": {},
     "output_type": "execute_result"
    }
   ],
   "source": [
    "len(filtered_sentence_perfecto_pc30)"
   ]
  },
  {
   "cell_type": "markdown",
   "metadata": {},
   "source": [
    "## Stemming\n",
    "> Stemmizamos las criticas de 5 estrellas"
   ]
  },
  {
   "cell_type": "code",
   "execution_count": 90,
   "metadata": {},
   "outputs": [],
   "source": [
    "ps=PorterStemmer()\n",
    "# la lista es: filtered_sentence_malisimo\n",
    "filtered_sentence_perfecto_pc30_stemmizado=[]\n",
    "for w in filtered_sentence_perfecto_pc30:\n",
    "    j=ps.stem(w)\n",
    "    filtered_sentence_perfecto_pc30_stemmizado.append(j)"
   ]
  },
  {
   "cell_type": "code",
   "execution_count": 91,
   "metadata": {},
   "outputs": [
    {
     "name": "stdout",
     "output_type": "stream",
     "text": [
      "Total de palabras en 5 stars:  168511\n"
     ]
    },
    {
     "data": {
      "text/html": [
       "<div>\n",
       "<style scoped>\n",
       "    .dataframe tbody tr th:only-of-type {\n",
       "        vertical-align: middle;\n",
       "    }\n",
       "\n",
       "    .dataframe tbody tr th {\n",
       "        vertical-align: top;\n",
       "    }\n",
       "\n",
       "    .dataframe thead th {\n",
       "        text-align: right;\n",
       "    }\n",
       "</style>\n",
       "<table border=\"1\" class=\"dataframe\">\n",
       "  <thead>\n",
       "    <tr style=\"text-align: right;\">\n",
       "      <th></th>\n",
       "      <th>Palabras_5_stars</th>\n",
       "      <th>Frecuencia_5</th>\n",
       "      <th>Importancia%</th>\n",
       "    </tr>\n",
       "  </thead>\n",
       "  <tbody>\n",
       "    <tr>\n",
       "      <th>2267</th>\n",
       "      <td>bien</td>\n",
       "      <td>2921</td>\n",
       "      <td>1.733418</td>\n",
       "    </tr>\n",
       "    <tr>\n",
       "      <th>2643</th>\n",
       "      <td>calidad</td>\n",
       "      <td>2423</td>\n",
       "      <td>1.437888</td>\n",
       "    </tr>\n",
       "    <tr>\n",
       "      <th>2475</th>\n",
       "      <td>buena</td>\n",
       "      <td>2321</td>\n",
       "      <td>1.377358</td>\n",
       "    </tr>\n",
       "    <tr>\n",
       "      <th>0</th>\n",
       "      <td>!</td>\n",
       "      <td>1795</td>\n",
       "      <td>1.065212</td>\n",
       "    </tr>\n",
       "    <tr>\n",
       "      <th>9457</th>\n",
       "      <td>muy</td>\n",
       "      <td>1690</td>\n",
       "      <td>1.002902</td>\n",
       "    </tr>\n",
       "    <tr>\n",
       "      <th>10921</th>\n",
       "      <td>precio</td>\n",
       "      <td>1645</td>\n",
       "      <td>0.976197</td>\n",
       "    </tr>\n",
       "    <tr>\n",
       "      <th>10412</th>\n",
       "      <td>perfecto</td>\n",
       "      <td>1612</td>\n",
       "      <td>0.956614</td>\n",
       "    </tr>\n",
       "    <tr>\n",
       "      <th>11136</th>\n",
       "      <td>producto</td>\n",
       "      <td>1489</td>\n",
       "      <td>0.883622</td>\n",
       "    </tr>\n",
       "    <tr>\n",
       "      <th>2474</th>\n",
       "      <td>buen</td>\n",
       "      <td>1283</td>\n",
       "      <td>0.761375</td>\n",
       "    </tr>\n",
       "    <tr>\n",
       "      <th>3457</th>\n",
       "      <td>compra</td>\n",
       "      <td>891</td>\n",
       "      <td>0.528749</td>\n",
       "    </tr>\n",
       "    <tr>\n",
       "      <th>10403</th>\n",
       "      <td>perfectament</td>\n",
       "      <td>861</td>\n",
       "      <td>0.510946</td>\n",
       "    </tr>\n",
       "    <tr>\n",
       "      <th>6990</th>\n",
       "      <td>genial</td>\n",
       "      <td>787</td>\n",
       "      <td>0.467032</td>\n",
       "    </tr>\n",
       "    <tr>\n",
       "      <th>2182</th>\n",
       "      <td>bastant</td>\n",
       "      <td>784</td>\n",
       "      <td>0.465252</td>\n",
       "    </tr>\n",
       "    <tr>\n",
       "      <th>6878</th>\n",
       "      <td>fácil</td>\n",
       "      <td>778</td>\n",
       "      <td>0.461691</td>\n",
       "    </tr>\n",
       "    <tr>\n",
       "      <th>11730</th>\n",
       "      <td>recomiendo</td>\n",
       "      <td>761</td>\n",
       "      <td>0.451603</td>\n",
       "    </tr>\n",
       "    <tr>\n",
       "      <th>12737</th>\n",
       "      <td>si</td>\n",
       "      <td>718</td>\n",
       "      <td>0.426085</td>\n",
       "    </tr>\n",
       "    <tr>\n",
       "      <th>8970</th>\n",
       "      <td>mejor</td>\n",
       "      <td>717</td>\n",
       "      <td>0.425492</td>\n",
       "    </tr>\n",
       "    <tr>\n",
       "      <th>2482</th>\n",
       "      <td>bueno</td>\n",
       "      <td>666</td>\n",
       "      <td>0.395226</td>\n",
       "    </tr>\n",
       "    <tr>\n",
       "      <th>28</th>\n",
       "      <td>...</td>\n",
       "      <td>656</td>\n",
       "      <td>0.389292</td>\n",
       "    </tr>\n",
       "    <tr>\n",
       "      <th>6832</th>\n",
       "      <td>funciona</td>\n",
       "      <td>653</td>\n",
       "      <td>0.387512</td>\n",
       "    </tr>\n",
       "    <tr>\n",
       "      <th>11311</th>\n",
       "      <td>pued</td>\n",
       "      <td>646</td>\n",
       "      <td>0.383358</td>\n",
       "    </tr>\n",
       "    <tr>\n",
       "      <th>13547</th>\n",
       "      <td>tiempo</td>\n",
       "      <td>623</td>\n",
       "      <td>0.369709</td>\n",
       "    </tr>\n",
       "    <tr>\n",
       "      <th>11705</th>\n",
       "      <td>recomend</td>\n",
       "      <td>604</td>\n",
       "      <td>0.358434</td>\n",
       "    </tr>\n",
       "    <tr>\n",
       "      <th>12390</th>\n",
       "      <td>rápido</td>\n",
       "      <td>584</td>\n",
       "      <td>0.346565</td>\n",
       "    </tr>\n",
       "    <tr>\n",
       "      <th>4139</th>\n",
       "      <td>cumpl</td>\n",
       "      <td>576</td>\n",
       "      <td>0.341817</td>\n",
       "    </tr>\n",
       "    <tr>\n",
       "      <th>10400</th>\n",
       "      <td>perfecta</td>\n",
       "      <td>575</td>\n",
       "      <td>0.341224</td>\n",
       "    </tr>\n",
       "    <tr>\n",
       "      <th>2374</th>\n",
       "      <td>bonito</td>\n",
       "      <td>530</td>\n",
       "      <td>0.314520</td>\n",
       "    </tr>\n",
       "    <tr>\n",
       "      <th>14038</th>\n",
       "      <td>uso</td>\n",
       "      <td>516</td>\n",
       "      <td>0.306211</td>\n",
       "    </tr>\n",
       "    <tr>\n",
       "      <th>3296</th>\n",
       "      <td>color</td>\n",
       "      <td>515</td>\n",
       "      <td>0.305618</td>\n",
       "    </tr>\n",
       "    <tr>\n",
       "      <th>13316</th>\n",
       "      <td>tamaño</td>\n",
       "      <td>511</td>\n",
       "      <td>0.303244</td>\n",
       "    </tr>\n",
       "  </tbody>\n",
       "</table>\n",
       "</div>"
      ],
      "text/plain": [
       "      Palabras_5_stars  Frecuencia_5  Importancia%\n",
       "2267              bien          2921      1.733418\n",
       "2643           calidad          2423      1.437888\n",
       "2475             buena          2321      1.377358\n",
       "0                    !          1795      1.065212\n",
       "9457               muy          1690      1.002902\n",
       "10921           precio          1645      0.976197\n",
       "10412         perfecto          1612      0.956614\n",
       "11136         producto          1489      0.883622\n",
       "2474              buen          1283      0.761375\n",
       "3457            compra           891      0.528749\n",
       "10403     perfectament           861      0.510946\n",
       "6990            genial           787      0.467032\n",
       "2182           bastant           784      0.465252\n",
       "6878             fácil           778      0.461691\n",
       "11730       recomiendo           761      0.451603\n",
       "12737               si           718      0.426085\n",
       "8970             mejor           717      0.425492\n",
       "2482             bueno           666      0.395226\n",
       "28                 ...           656      0.389292\n",
       "6832          funciona           653      0.387512\n",
       "11311             pued           646      0.383358\n",
       "13547           tiempo           623      0.369709\n",
       "11705         recomend           604      0.358434\n",
       "12390           rápido           584      0.346565\n",
       "4139             cumpl           576      0.341817\n",
       "10400         perfecta           575      0.341224\n",
       "2374            bonito           530      0.314520\n",
       "14038              uso           516      0.306211\n",
       "3296             color           515      0.305618\n",
       "13316           tamaño           511      0.303244"
      ]
     },
     "execution_count": 91,
     "metadata": {},
     "output_type": "execute_result"
    }
   ],
   "source": [
    "df_de_palabras_cinco_estrellas = DataFrame(filtered_sentence_perfecto_pc30_stemmizado,columns=['Palabras_5_stars'])\n",
    "df_de_palabras_cinco_estrellas=df_de_palabras_cinco_estrellas.groupby([\"Palabras_5_stars\"]).size().reset_index(name=\"Frecuencia_5\")\n",
    "sumfreq5=df_de_palabras_cinco_estrellas.Frecuencia_5.sum()\n",
    "print('Total de palabras en 5 stars: ',sumfreq5)\n",
    "df_de_palabras_cinco_estrellas=df_de_palabras_cinco_estrellas.sort_values(by=\"Frecuencia_5\",ascending=False)\n",
    "df_de_palabras_cinco_estrellas['Importancia%']=(df_de_palabras_cinco_estrellas.Frecuencia_5/sumfreq5)*100\n",
    "df_de_palabras_cinco_estrellas[0:30]"
   ]
  },
  {
   "cell_type": "markdown",
   "metadata": {},
   "source": [
    "## Que palabras fueron las más usadas para las críticas de 5 estrellas?"
   ]
  },
  {
   "cell_type": "code",
   "execution_count": 92,
   "metadata": {},
   "outputs": [
    {
     "data": {
      "image/png": "[encoded data removed]",
      "text/plain": [
       "<Figure size 1080x576 with 1 Axes>"
      ]
     },
     "metadata": {
      "needs_background": "light"
     },
     "output_type": "display_data"
    }
   ],
   "source": [
    "plt.figure(figsize = (15,8))\n",
    "plot = sns.barplot(x  = df_de_palabras_cinco_estrellas.iloc[:30].Palabras_5_stars, y = df_de_palabras_cinco_estrellas.iloc[:30].Frecuencia_5)\n",
    "for item in plot.get_xticklabels():\n",
    "    item.set_rotation(90)\n",
    "plt.grid()\n",
    "plt.title('Palabras más usadas para reviews de 5 estrellas',fontsize=20)\n",
    "plt.show()"
   ]
  },
  {
   "cell_type": "markdown",
   "metadata": {},
   "source": [
    "#### Creamos listas de las palabras más usadas:"
   ]
  },
  {
   "cell_type": "code",
   "execution_count": 93,
   "metadata": {},
   "outputs": [],
   "source": [
    "palabras_1=df_de_palabras_una_estrellas['Palabras_1_star'][0:30].to_list()\n",
    "palabras_2=df_de_palabras_dos_estrellas['Palabras_2_stars'][0:30].to_list()\n",
    "palabras_3=df_de_palabras_tres_estrellas['Palabras_3_stars'][0:30].to_list()\n",
    "palabras_4=df_de_palabras_cuatro_estrellas['Palabras_4_stars'][0:30].to_list()\n",
    "palabras_5=df_de_palabras_cinco_estrellas['Palabras_5_stars'][0:30].to_list()"
   ]
  },
  {
   "cell_type": "markdown",
   "metadata": {},
   "source": [
    "#### Vemos cuales de las primeras 30 palabras más repetidas se repiten en cada una de las estrellas"
   ]
  },
  {
   "cell_type": "code",
   "execution_count": 94,
   "metadata": {},
   "outputs": [],
   "source": [
    "coincide4y5=[]\n",
    "for i in palabras_4:\n",
    "    for j in palabras_5:\n",
    "        if i==j:\n",
    "            coincide4y5.append(i)\n",
    "coincide4y5con3=[]\n",
    "for i in coincide4y5:\n",
    "    for j in palabras_3:\n",
    "        if i==j:\n",
    "            coincide4y5con3.append(i)\n",
    "coincide3y4y5con2=[]\n",
    "for i in coincide4y5con3:\n",
    "    for j in palabras_2:\n",
    "        if i==j:\n",
    "            coincide3y4y5con2.append(i)\n",
    "coincide2y3y4y5con1=[]\n",
    "for i in coincide3y4y5con2:\n",
    "    for j in palabras_1:\n",
    "        if i==j:\n",
    "            coincide2y3y4y5con1.append(i)            "
   ]
  },
  {
   "cell_type": "markdown",
   "metadata": {},
   "source": [
    "#### La siguiente lista nos muestra cuales son las palabras que se repiten en el top 30 en todos los puntajes."
   ]
  },
  {
   "cell_type": "code",
   "execution_count": 95,
   "metadata": {},
   "outputs": [
    {
     "data": {
      "text/plain": [
       "['bien', 'calidad', 'producto', 'si', '...', 'funciona']"
      ]
     },
     "execution_count": 95,
     "metadata": {},
     "output_type": "execute_result"
    }
   ],
   "source": [
    "coincide2y3y4y5con1"
   ]
  },
  {
   "cell_type": "markdown",
   "metadata": {},
   "source": [
    "# Respuesta a la pregunta: ¿ Cuáles son las palabras más utilizadas en cada puntaje y que relación se le encuentra con el mismo?\n",
    "\n",
    "## Conclusiones:\n",
    "### Análisis de los graficos anteriores y sus dataframes:\n",
    "> Hemos visto que los siguientes elementos se repiten en todas las estrellas:\n",
    "    * ['bien', 'calidad', 'producto', 'si', '...', 'funciona']\n",
    "\n",
    "##### **Palabras más relevantes del gráfico de 1 estrella:**\n",
    "\n",
    "No: es la palabra más repetida. Está repetida 4298 veces.\n",
    "Lo que me parece sumamente lógico, \n",
    "que tenga que ver con una connotación negativa de las criticas.\n",
    "producto: Se repite 2399 veces. Es la palabra más repetida seguido de No,\n",
    "lo que también me parece que tiene mucho sentido,\n",
    "ya que al no estar conforme, las criticas tienden a \n",
    "ser; \"No compre este producto\", \"No elegí este producto\" \n",
    "o simplemente el lema de \"No producto\".\n",
    "Mal, mala, recomiendo: tiene sentido que esten fuertemente vinculadas con esta\n",
    "puntuación.\n",
    "En este caso los tres puntos suspensivos \"...\", pueden hacer referencia a \n",
    "suspenso, decepción u otras cosas y suelen ser usados para lo siguiente:\n",
    "-Para indicar la existencia en el discurso de una pausa transitoria que\n",
    " expresa duda, temor, vacilación o suspenso. Ejemplo \"Si yo te contara como llegó el producto ...\"\n",
    "-Para insinuar, evitando su reproducción, expresiones o palabras malsonantes\n",
    " o inconvenientes: A veces se colocan tras la letra inicial del término que se insinúa:\n",
    "\" Vete a la m...\"\n",
    "Cuando, por cualquier otro motivo, \n",
    "se desea dejar el enunciado incompleto y en suspenso:\n",
    " \"Aspecto muy desagradable...\"\n",
    "!= signo de exclamación 1791 veces repetido. Usualmente usado para darle énfasis\n",
    "a las emociones.\n",
    "\n",
    "##### **Palabras más relevantes del gráfico de 2 estrellas:**\n",
    "\n",
    "No: Se repite 3073 veces. Si bien, se ve que el puntaje sigue siendo negativo,\n",
    "la palabra No, que obviamente indica negación, se repite menos veces.\n",
    "bien: Se repite 3033 veces. A simple vista, uno puede relacionarlo con\n",
    "algo positivo, pero dado que es la segunda palabra más repetida. Claramente\n",
    "está estrechamente relacionada con \"No\", bajo el lema de \"No bien\".\n",
    "calidad: 1833 veces repetida.\n",
    "Otro dato que también me llamó la atención fué que el caracter \"!\", ya no se\n",
    "encuentra en el top 30 de palabras más repetidas, lo que indica que los\n",
    "clientes obviamente no están satisfechos con su compra, pero al menos \n",
    "no parecen estar tan enojados, ya que no hay síntomas de querer hacer énfasis\n",
    "sobre algo negativo.\n",
    "\n",
    "##### **Palabras más relevantes del gráfico de 3 estrellas:**\n",
    "\n",
    "Vemos como el panorama de negatividad empieza a cambiar y \n",
    "que ya no figura la palabra \"No\" primera en el ranking.\n",
    "bien: Se repite 4345 veces. \n",
    "No: Se repite 1855.\n",
    "Puede estar relacionado al lema \"No estoy conforme\".\n",
    "Y algo que me pareció curioso fué la presencia en el top 10 de la\n",
    "palabra \"aunque\". Lo que indica que el cliente compró algo que le puede \n",
    "servir o que cumple en parte sus expectativas, \"aunque\" no del todo.\n",
    "Cabe notar que las palabras derivadas de \"puede\" y \"mejor/mejorar\".\n",
    "Haciendo referencia al lema de \"puede mejorar\" ó \"puede estar mejor\"\n",
    "Aparecen en el top 15 de la lista, y es claro que el cliente no está\n",
    "completamente satisfecho con su compra. Y tiene intenciones de mejora.\n",
    "\n",
    "##### **Palabras más relevantes del gráfico de 4 estrellas:**\n",
    "\n",
    "Es bastante claro que hay mucha más palabras positivas a partir de \n",
    "las 4 estrellas:\n",
    "bien: 4428 veces repetida\n",
    "calidad: 2133 veces repetida\n",
    "buena: 2132 veces repetida\n",
    "buen: 1241\n",
    "Son palabras que marcan una significativa satisfacción.\n",
    "\n",
    "##### **Palabras más relevantes del gráfico de 5 estrellas:**\n",
    "\n",
    "Me llamó la atención que la palabra bien no se repitiera bastante.\n",
    "bien: 2921 veces repetida.\n",
    "calidad: 2423 veces repetida\n",
    "buena: 2321 veces repetida\n",
    "Pero luego al ver la nueva aparición del signo de exlamación \"!\"\n",
    "en el top 5 \n",
    "!: 1795 veces repetido.\n",
    "Se puede ver que el cliente hizo énfasis en su satisfacción con el producto.\n",
    "Y además vemos que aparece la palabra \"perfecto\" dentro del top 10 de palabras \n",
    "más repetidas.\n",
    "\n",
    "En conclusión puedemos afirmar que el uso de ciertas palabras en\n",
    "las críticas están relacionadas con el puntaje dado y con el grado de \n",
    "conformidad del cliente con respecto al producto."
   ]
  },
  {
   "cell_type": "markdown",
   "metadata": {},
   "source": [
    "# Parte B - Modelo de Machine Learning\n",
    "1- Debes evaluar correctamente el modelo que realices. Esto implica un correcto manejo de datos de Train y Test, elegir una métrica apropiada y justificar su elección, y comparar los resultados contra un modelo benchmark.\n",
    "\n",
    "2- Puedes aplicar más de una de las técnicas vistas para crear tus modelos. Pero ten en cuenta que es preferible un modelo bien hecho (apropiada transformación de datos, optimización de hiperparámetros y análisis de sus resultados) que muchos modelos a medias. En caso de entrenar más de un modelo, debes comparar sus resultados y justificar cuál elegirías.\n",
    "\n",
    "3- Si el modelo lo permite, debes explorar qué información utiliza para predecir e interpretar ese resultado. ¿Coincide con lo que esperabas a partir de tu experiencia con el dataset?"
   ]
  },
  {
   "cell_type": "code",
   "execution_count": 96,
   "metadata": {},
   "outputs": [],
   "source": [
    "data[\"Length_Review\"]=(data.apply(lambda x: len(x.review_body), axis=1))\n",
    "pc30[\"Length_Review\"]=(pc30.apply(lambda x: len(x.review_body), axis=1))"
   ]
  },
  {
   "cell_type": "code",
   "execution_count": 97,
   "metadata": {
    "scrolled": false
   },
   "outputs": [
    {
     "data": {
      "text/html": [
       "<div>\n",
       "<style scoped>\n",
       "    .dataframe tbody tr th:only-of-type {\n",
       "        vertical-align: middle;\n",
       "    }\n",
       "\n",
       "    .dataframe tbody tr th {\n",
       "        vertical-align: top;\n",
       "    }\n",
       "\n",
       "    .dataframe thead th {\n",
       "        text-align: right;\n",
       "    }\n",
       "</style>\n",
       "<table border=\"1\" class=\"dataframe\">\n",
       "  <thead>\n",
       "    <tr style=\"text-align: right;\">\n",
       "      <th></th>\n",
       "      <th>review_id</th>\n",
       "      <th>product_id</th>\n",
       "      <th>reviewer_id</th>\n",
       "      <th>stars</th>\n",
       "      <th>review_body</th>\n",
       "      <th>review_title</th>\n",
       "      <th>language</th>\n",
       "      <th>product_category</th>\n",
       "      <th>Cat_product_category</th>\n",
       "      <th>Length_Review</th>\n",
       "    </tr>\n",
       "  </thead>\n",
       "  <tbody>\n",
       "    <tr>\n",
       "      <th>0</th>\n",
       "      <td>es_0417480</td>\n",
       "      <td>product_es_0873923</td>\n",
       "      <td>reviewer_es_0672978</td>\n",
       "      <td>1</td>\n",
       "      <td>Malisimo, muy grande demasiado aparatoso y mal...</td>\n",
       "      <td>Mala compra</td>\n",
       "      <td>es</td>\n",
       "      <td>wireless</td>\n",
       "      <td>29</td>\n",
       "      <td>68</td>\n",
       "    </tr>\n",
       "    <tr>\n",
       "      <th>1</th>\n",
       "      <td>es_0180432</td>\n",
       "      <td>product_es_0713146</td>\n",
       "      <td>reviewer_es_0100858</td>\n",
       "      <td>1</td>\n",
       "      <td>No he recibido el pedido no la devolución</td>\n",
       "      <td>No lo he recibido</td>\n",
       "      <td>es</td>\n",
       "      <td>apparel</td>\n",
       "      <td>0</td>\n",
       "      <td>41</td>\n",
       "    </tr>\n",
       "    <tr>\n",
       "      <th>2</th>\n",
       "      <td>es_0144850</td>\n",
       "      <td>product_es_0356874</td>\n",
       "      <td>reviewer_es_0486447</td>\n",
       "      <td>1</td>\n",
       "      <td>Tengo que buscar otro sistema, este no funcion...</td>\n",
       "      <td>Que no aprieta bien en el manillar</td>\n",
       "      <td>es</td>\n",
       "      <td>sports</td>\n",
       "      <td>25</td>\n",
       "      <td>170</td>\n",
       "    </tr>\n",
       "    <tr>\n",
       "      <th>3</th>\n",
       "      <td>es_0339629</td>\n",
       "      <td>product_es_0939832</td>\n",
       "      <td>reviewer_es_0894703</td>\n",
       "      <td>1</td>\n",
       "      <td>Utilicé las brocas de menor diámetro y se me d...</td>\n",
       "      <td>Brocas de mantequilla</td>\n",
       "      <td>es</td>\n",
       "      <td>home_improvement</td>\n",
       "      <td>12</td>\n",
       "      <td>308</td>\n",
       "    </tr>\n",
       "    <tr>\n",
       "      <th>4</th>\n",
       "      <td>es_0858362</td>\n",
       "      <td>product_es_0489066</td>\n",
       "      <td>reviewer_es_0887663</td>\n",
       "      <td>1</td>\n",
       "      <td>No me gusta su olor a viejo y aspecto malo</td>\n",
       "      <td>No me gusta</td>\n",
       "      <td>es</td>\n",
       "      <td>beauty</td>\n",
       "      <td>3</td>\n",
       "      <td>42</td>\n",
       "    </tr>\n",
       "  </tbody>\n",
       "</table>\n",
       "</div>"
      ],
      "text/plain": [
       "    review_id          product_id          reviewer_id  stars  \\\n",
       "0  es_0417480  product_es_0873923  reviewer_es_0672978      1   \n",
       "1  es_0180432  product_es_0713146  reviewer_es_0100858      1   \n",
       "2  es_0144850  product_es_0356874  reviewer_es_0486447      1   \n",
       "3  es_0339629  product_es_0939832  reviewer_es_0894703      1   \n",
       "4  es_0858362  product_es_0489066  reviewer_es_0887663      1   \n",
       "\n",
       "                                         review_body  \\\n",
       "0  Malisimo, muy grande demasiado aparatoso y mal...   \n",
       "1          No he recibido el pedido no la devolución   \n",
       "2  Tengo que buscar otro sistema, este no funcion...   \n",
       "3  Utilicé las brocas de menor diámetro y se me d...   \n",
       "4         No me gusta su olor a viejo y aspecto malo   \n",
       "\n",
       "                         review_title language  product_category  \\\n",
       "0                         Mala compra       es          wireless   \n",
       "1                   No lo he recibido       es           apparel   \n",
       "2  Que no aprieta bien en el manillar       es            sports   \n",
       "3               Brocas de mantequilla       es  home_improvement   \n",
       "4                         No me gusta       es            beauty   \n",
       "\n",
       "   Cat_product_category  Length_Review  \n",
       "0                    29             68  \n",
       "1                     0             41  \n",
       "2                    25            170  \n",
       "3                    12            308  \n",
       "4                     3             42  "
      ]
     },
     "execution_count": 97,
     "metadata": {},
     "output_type": "execute_result"
    }
   ],
   "source": [
    "pc30.head(5)"
   ]
  },
  {
   "cell_type": "code",
   "execution_count": 98,
   "metadata": {},
   "outputs": [
    {
     "data": {
      "text/plain": [
       "41"
      ]
     },
     "execution_count": 98,
     "metadata": {},
     "output_type": "execute_result"
    }
   ],
   "source": [
    "len(data.review_body[1])"
   ]
  },
  {
   "cell_type": "code",
   "execution_count": 99,
   "metadata": {},
   "outputs": [],
   "source": [
    "#titular_wt = nltk.tokenize.word_tokenize(data.review_body)\n",
    "#titular_wt\n",
    "review_body_tokenizado=[]\n",
    "for i in data.review_body:## Osea la lista entera de criticas\n",
    "    j=nltk.tokenize.word_tokenize(i)\n",
    "    review_body_tokenizado.append(j)"
   ]
  },
  {
   "cell_type": "code",
   "execution_count": 100,
   "metadata": {},
   "outputs": [],
   "source": [
    "#titular_wt = nltk.tokenize.word_tokenize(data.review_body)\n",
    "#titular_wt\n",
    "review_body_tokenizadopc30=[]\n",
    "for i in pc30.review_body:## Osea la lista entera de criticas\n",
    "    j=nltk.tokenize.word_tokenize(i)\n",
    "    review_body_tokenizadopc30.append(j)"
   ]
  },
  {
   "cell_type": "code",
   "execution_count": 101,
   "metadata": {},
   "outputs": [
    {
     "data": {
      "text/html": [
       "<div>\n",
       "<style scoped>\n",
       "    .dataframe tbody tr th:only-of-type {\n",
       "        vertical-align: middle;\n",
       "    }\n",
       "\n",
       "    .dataframe tbody tr th {\n",
       "        vertical-align: top;\n",
       "    }\n",
       "\n",
       "    .dataframe thead th {\n",
       "        text-align: right;\n",
       "    }\n",
       "</style>\n",
       "<table border=\"1\" class=\"dataframe\">\n",
       "  <thead>\n",
       "    <tr style=\"text-align: right;\">\n",
       "      <th></th>\n",
       "      <th>review_id</th>\n",
       "      <th>product_id</th>\n",
       "      <th>reviewer_id</th>\n",
       "      <th>stars</th>\n",
       "      <th>review_body</th>\n",
       "      <th>review_title</th>\n",
       "      <th>language</th>\n",
       "      <th>product_category</th>\n",
       "      <th>Cat_product_category</th>\n",
       "      <th>Length_Review</th>\n",
       "    </tr>\n",
       "  </thead>\n",
       "  <tbody>\n",
       "    <tr>\n",
       "      <th>0</th>\n",
       "      <td>es_0417480</td>\n",
       "      <td>product_es_0873923</td>\n",
       "      <td>reviewer_es_0672978</td>\n",
       "      <td>1</td>\n",
       "      <td>Malisimo, muy grande demasiado aparatoso y mal...</td>\n",
       "      <td>Mala compra</td>\n",
       "      <td>es</td>\n",
       "      <td>wireless</td>\n",
       "      <td>29</td>\n",
       "      <td>68</td>\n",
       "    </tr>\n",
       "    <tr>\n",
       "      <th>1</th>\n",
       "      <td>es_0180432</td>\n",
       "      <td>product_es_0713146</td>\n",
       "      <td>reviewer_es_0100858</td>\n",
       "      <td>1</td>\n",
       "      <td>No he recibido el pedido no la devolución</td>\n",
       "      <td>No lo he recibido</td>\n",
       "      <td>es</td>\n",
       "      <td>apparel</td>\n",
       "      <td>0</td>\n",
       "      <td>41</td>\n",
       "    </tr>\n",
       "  </tbody>\n",
       "</table>\n",
       "</div>"
      ],
      "text/plain": [
       "    review_id          product_id          reviewer_id  stars  \\\n",
       "0  es_0417480  product_es_0873923  reviewer_es_0672978      1   \n",
       "1  es_0180432  product_es_0713146  reviewer_es_0100858      1   \n",
       "\n",
       "                                         review_body       review_title  \\\n",
       "0  Malisimo, muy grande demasiado aparatoso y mal...        Mala compra   \n",
       "1          No he recibido el pedido no la devolución  No lo he recibido   \n",
       "\n",
       "  language product_category  Cat_product_category  Length_Review  \n",
       "0       es         wireless                    29             68  \n",
       "1       es          apparel                     0             41  "
      ]
     },
     "execution_count": 101,
     "metadata": {},
     "output_type": "execute_result"
    }
   ],
   "source": [
    "pc30.head(2)"
   ]
  },
  {
   "cell_type": "code",
   "execution_count": 102,
   "metadata": {},
   "outputs": [
    {
     "data": {
      "text/plain": [
       "list"
      ]
     },
     "execution_count": 102,
     "metadata": {},
     "output_type": "execute_result"
    }
   ],
   "source": [
    "type(review_body_tokenizado)"
   ]
  },
  {
   "cell_type": "code",
   "execution_count": 103,
   "metadata": {},
   "outputs": [],
   "source": [
    "data['review_body_tokenizado']=review_body_tokenizado"
   ]
  },
  {
   "cell_type": "code",
   "execution_count": 104,
   "metadata": {},
   "outputs": [],
   "source": [
    "pc30['review_body_tokenizado']=review_body_tokenizadopc30"
   ]
  },
  {
   "cell_type": "code",
   "execution_count": 105,
   "metadata": {},
   "outputs": [],
   "source": [
    "## Guardamos el archivo del 30% de los datos en un excel, para usarlo luego en el machine learning\n",
    "#pc30.to_excel(r'C:\\Users\\Alfredo\\Bitácoras\\TP3 DS\\pc30NLP.xlsx', sheet_name='example')"
   ]
  },
  {
   "cell_type": "markdown",
   "metadata": {},
   "source": [
    "#### Creamos el bag of words de todas las estrellas"
   ]
  },
  {
   "cell_type": "code",
   "execution_count": 106,
   "metadata": {},
   "outputs": [],
   "source": [
    "palabras_1=df_de_palabras_una_estrellas['Palabras_1_star'].to_list()\n",
    "palabras_2=df_de_palabras_dos_estrellas['Palabras_2_stars'].to_list()\n",
    "palabras_3=df_de_palabras_tres_estrellas['Palabras_3_stars'].to_list()\n",
    "palabras_4=df_de_palabras_cuatro_estrellas['Palabras_4_stars'].to_list()\n",
    "palabras_5=df_de_palabras_cinco_estrellas['Palabras_5_stars'].to_list()\n",
    "\n",
    "#print('Bag of words estrella 1 ------------------------------------------------------------------------------\\n')\n",
    "#print(palabras_1[0:1000])\n",
    "#print('\\nBag of words estrella 2 ------------------------------------------------------------------------------\\n')\n",
    "#print(palabras_2[0:1000])\n",
    "#print('\\nBag of words estrella 3 ------------------------------------------------------------------------------\\n')\n",
    "#print(palabras_3[0:1000])\n",
    "#print('\\nBag of words estrella 4 ------------------------------------------------------------------------------\\n')\n",
    "#print(palabras_4[0:1000])\n",
    "#print('\\nBag of words estrella 5 ------------------------------------------------------------------------------\\n')\n",
    "#print(palabras_5[0:1000])"
   ]
  },
  {
   "cell_type": "code",
   "execution_count": 107,
   "metadata": {},
   "outputs": [],
   "source": [
    "from sklearn.feature_extraction.text import CountVectorizer"
   ]
  },
  {
   "cell_type": "code",
   "execution_count": 108,
   "metadata": {},
   "outputs": [],
   "source": [
    "# Usaremos solo las 1000 palabras con mas frecuencia en todo el corpus para generar los vectores\n",
    "max_features=1000\n",
    "# Es decir que cada instancia tendrá 1000 features\n",
    "cou_vec=CountVectorizer(max_features=max_features) # stop_words=\"english\" , ngram_range=(1, 2)"
   ]
  },
  {
   "cell_type": "code",
   "execution_count": 109,
   "metadata": {},
   "outputs": [
    {
     "data": {
      "text/plain": [
       "CountVectorizer(analyzer='word', binary=False, decode_error='strict',\n",
       "                dtype=<class 'numpy.int64'>, encoding='utf-8', input='content',\n",
       "                lowercase=True, max_df=1.0, max_features=1000, min_df=1,\n",
       "                ngram_range=(1, 1), preprocessor=None, stop_words=None,\n",
       "                strip_accents=None, token_pattern='(?u)\\\\b\\\\w\\\\w+\\\\b',\n",
       "                tokenizer=None, vocabulary=None)"
      ]
     },
     "execution_count": 109,
     "metadata": {},
     "output_type": "execute_result"
    }
   ],
   "source": [
    "cou_vec"
   ]
  },
  {
   "cell_type": "markdown",
   "metadata": {},
   "source": [
    "## Cuento las mayúsculas por review"
   ]
  },
  {
   "cell_type": "code",
   "execution_count": 110,
   "metadata": {},
   "outputs": [],
   "source": [
    "mayusculas=[]\n",
    "for c in pc30.review_body:\n",
    "    cuenta=0\n",
    "    for i in c:\n",
    "        if i.isupper():\n",
    "            cuenta+=1\n",
    "    mayusculas.append(cuenta)            \n",
    "#print (mayusculas)"
   ]
  },
  {
   "cell_type": "code",
   "execution_count": 111,
   "metadata": {},
   "outputs": [],
   "source": [
    "mayusculas=pd.DataFrame(mayusculas,columns=['Cantidad_Mayus'])\n",
    "pc30['Cantidad_Mayus']=mayusculas"
   ]
  },
  {
   "cell_type": "markdown",
   "metadata": {},
   "source": [
    "## Cuento las minúsculas por review"
   ]
  },
  {
   "cell_type": "code",
   "execution_count": 112,
   "metadata": {},
   "outputs": [],
   "source": [
    "minusculas=[]\n",
    "for c in pc30.review_body:\n",
    "    cuenta=0\n",
    "    for i in c:\n",
    "        if i.islower():\n",
    "            cuenta+=1\n",
    "    minusculas.append(cuenta)            \n",
    "#print (minusculas)"
   ]
  },
  {
   "cell_type": "code",
   "execution_count": 113,
   "metadata": {},
   "outputs": [],
   "source": [
    "minusculas=pd.DataFrame(minusculas,columns=['Cantidad_Minusculas'])\n",
    "pc30['Cantidad_Minusculas']=minusculas"
   ]
  },
  {
   "cell_type": "code",
   "execution_count": 114,
   "metadata": {},
   "outputs": [
    {
     "data": {
      "text/html": [
       "<div>\n",
       "<style scoped>\n",
       "    .dataframe tbody tr th:only-of-type {\n",
       "        vertical-align: middle;\n",
       "    }\n",
       "\n",
       "    .dataframe tbody tr th {\n",
       "        vertical-align: top;\n",
       "    }\n",
       "\n",
       "    .dataframe thead th {\n",
       "        text-align: right;\n",
       "    }\n",
       "</style>\n",
       "<table border=\"1\" class=\"dataframe\">\n",
       "  <thead>\n",
       "    <tr style=\"text-align: right;\">\n",
       "      <th></th>\n",
       "      <th>review_id</th>\n",
       "      <th>product_id</th>\n",
       "      <th>reviewer_id</th>\n",
       "      <th>stars</th>\n",
       "      <th>review_body</th>\n",
       "      <th>review_title</th>\n",
       "      <th>language</th>\n",
       "      <th>product_category</th>\n",
       "      <th>Cat_product_category</th>\n",
       "      <th>Length_Review</th>\n",
       "      <th>review_body_tokenizado</th>\n",
       "      <th>Cantidad_Mayus</th>\n",
       "      <th>Cantidad_Minusculas</th>\n",
       "    </tr>\n",
       "  </thead>\n",
       "  <tbody>\n",
       "    <tr>\n",
       "      <th>0</th>\n",
       "      <td>es_0417480</td>\n",
       "      <td>product_es_0873923</td>\n",
       "      <td>reviewer_es_0672978</td>\n",
       "      <td>1</td>\n",
       "      <td>Malisimo, muy grande demasiado aparatoso y mal...</td>\n",
       "      <td>Mala compra</td>\n",
       "      <td>es</td>\n",
       "      <td>wireless</td>\n",
       "      <td>29</td>\n",
       "      <td>68</td>\n",
       "      <td>[Malisimo, ,, muy, grande, demasiado, aparatos...</td>\n",
       "      <td>1.0</td>\n",
       "      <td>57.0</td>\n",
       "    </tr>\n",
       "    <tr>\n",
       "      <th>1</th>\n",
       "      <td>es_0180432</td>\n",
       "      <td>product_es_0713146</td>\n",
       "      <td>reviewer_es_0100858</td>\n",
       "      <td>1</td>\n",
       "      <td>No he recibido el pedido no la devolución</td>\n",
       "      <td>No lo he recibido</td>\n",
       "      <td>es</td>\n",
       "      <td>apparel</td>\n",
       "      <td>0</td>\n",
       "      <td>41</td>\n",
       "      <td>[No, he, recibido, el, pedido, no, la, devoluc...</td>\n",
       "      <td>1.0</td>\n",
       "      <td>33.0</td>\n",
       "    </tr>\n",
       "  </tbody>\n",
       "</table>\n",
       "</div>"
      ],
      "text/plain": [
       "    review_id          product_id          reviewer_id  stars  \\\n",
       "0  es_0417480  product_es_0873923  reviewer_es_0672978      1   \n",
       "1  es_0180432  product_es_0713146  reviewer_es_0100858      1   \n",
       "\n",
       "                                         review_body       review_title  \\\n",
       "0  Malisimo, muy grande demasiado aparatoso y mal...        Mala compra   \n",
       "1          No he recibido el pedido no la devolución  No lo he recibido   \n",
       "\n",
       "  language product_category  Cat_product_category  Length_Review  \\\n",
       "0       es         wireless                    29             68   \n",
       "1       es          apparel                     0             41   \n",
       "\n",
       "                              review_body_tokenizado  Cantidad_Mayus  \\\n",
       "0  [Malisimo, ,, muy, grande, demasiado, aparatos...             1.0   \n",
       "1  [No, he, recibido, el, pedido, no, la, devoluc...             1.0   \n",
       "\n",
       "   Cantidad_Minusculas  \n",
       "0                 57.0  \n",
       "1                 33.0  "
      ]
     },
     "execution_count": 114,
     "metadata": {},
     "output_type": "execute_result"
    }
   ],
   "source": [
    "pc30.head(2)"
   ]
  },
  {
   "cell_type": "markdown",
   "metadata": {},
   "source": [
    "## Modelar\n",
    "1- Debes evaluar correctamente el modelo que realices. Esto implica un correcto manejo de datos de Train y Test, elegir una métrica apropiada y justificar su elección, y comparar los resultados contra un modelo benchmark."
   ]
  },
  {
   "cell_type": "code",
   "execution_count": 115,
   "metadata": {},
   "outputs": [],
   "source": [
    "list_comentarios = list(pc30['review_body'].values)\n",
    "list_titles = list(pc30['review_title'].values)\n",
    "is_what = pc30['stars'].values"
   ]
  },
  {
   "cell_type": "code",
   "execution_count": 116,
   "metadata": {},
   "outputs": [
    {
     "name": "stdout",
     "output_type": "stream",
     "text": [
      "Cantidad de palabras en list_comentarios:  63000\n",
      "Cantidad de palabras en list_titles:  63000\n"
     ]
    }
   ],
   "source": [
    "print('Cantidad de palabras en list_comentarios: ',len(list_comentarios))\n",
    "print('Cantidad de palabras en list_titles: ',len(list_titles))"
   ]
  },
  {
   "cell_type": "code",
   "execution_count": 117,
   "metadata": {},
   "outputs": [
    {
     "name": "stdout",
     "output_type": "stream",
     "text": [
      "50 palabras mas usadas:\n",
      " ['10', '100', 'abierta', 'abierto', 'acaba', 'acabado', 'acabados', 'accesorios', 'aceite', 'aceptable', 'acierto', 'aconsejable', 'aconsejo', 'acorde', 'adapta', 'adaptador', 'adecuada', 'adecuado', 'adherencia', 'adhesivo', 'agradable', 'agua', 'aguanta', 'ahora', 'aire', 'ajusta', 'ajuste', 'al', 'algo', 'algunas', 'algunos', 'algún', 'alta', 'altavoz', 'alto', 'altura', 'amazon', 'ana', 'antena', 'antes', 'antonio', 'anuncia', 'anunciado', 'anuncio', 'aparato', 'apenas', 'apto', 'articulo', 'artículo', 'aspecto']\n"
     ]
    }
   ],
   "source": [
    "matriz_comentarios_one_star = cou_vec.fit_transform(list_comentarios)\n",
    "matriz_titulos = cou_vec.fit_transform(list_titles)\n",
    "# Tomamos las palabras\n",
    "all_words = cou_vec.get_feature_names()\n",
    "\n",
    "# Vizualizamos las 50 palabras mas usadas\n",
    "print(\"50 palabras mas usadas:\\n\",all_words[0:50])"
   ]
  },
  {
   "cell_type": "markdown",
   "metadata": {},
   "source": [
    "## Concatenamos las matrices para que pueda tener más features a clasificar el modelo.\n",
    "> Hay que tener cuidado de dejar las matrices del mismo tamaño. Mismo número de filas y unir las matrices en columnas."
   ]
  },
  {
   "cell_type": "code",
   "execution_count": 119,
   "metadata": {},
   "outputs": [],
   "source": [
    "matriz_comentarios_one_star=matriz_comentarios_one_star.toarray()\n",
    "matriz_titulos=matriz_titulos.toarray()"
   ]
  },
  {
   "cell_type": "code",
   "execution_count": 120,
   "metadata": {},
   "outputs": [
    {
     "data": {
      "text/plain": [
       "(63000, 2000)"
      ]
     },
     "execution_count": 120,
     "metadata": {},
     "output_type": "execute_result"
    }
   ],
   "source": [
    "matrices_concatenadas=np.concatenate((matriz_comentarios_one_star, matriz_titulos), axis=1)\n",
    "matrices_concatenadas.shape"
   ]
  },
  {
   "cell_type": "code",
   "execution_count": 121,
   "metadata": {},
   "outputs": [
    {
     "data": {
      "text/html": [
       "<div>\n",
       "<style scoped>\n",
       "    .dataframe tbody tr th:only-of-type {\n",
       "        vertical-align: middle;\n",
       "    }\n",
       "\n",
       "    .dataframe tbody tr th {\n",
       "        vertical-align: top;\n",
       "    }\n",
       "\n",
       "    .dataframe thead th {\n",
       "        text-align: right;\n",
       "    }\n",
       "</style>\n",
       "<table border=\"1\" class=\"dataframe\">\n",
       "  <thead>\n",
       "    <tr style=\"text-align: right;\">\n",
       "      <th></th>\n",
       "      <th>review_id</th>\n",
       "      <th>product_id</th>\n",
       "      <th>reviewer_id</th>\n",
       "      <th>stars</th>\n",
       "      <th>review_body</th>\n",
       "      <th>review_title</th>\n",
       "      <th>language</th>\n",
       "      <th>product_category</th>\n",
       "      <th>Cat_product_category</th>\n",
       "      <th>Length_Review</th>\n",
       "      <th>review_body_tokenizado</th>\n",
       "      <th>Cantidad_Mayus</th>\n",
       "      <th>Cantidad_Minusculas</th>\n",
       "    </tr>\n",
       "  </thead>\n",
       "  <tbody>\n",
       "    <tr>\n",
       "      <th>0</th>\n",
       "      <td>es_0417480</td>\n",
       "      <td>product_es_0873923</td>\n",
       "      <td>reviewer_es_0672978</td>\n",
       "      <td>1</td>\n",
       "      <td>Malisimo, muy grande demasiado aparatoso y mal...</td>\n",
       "      <td>Mala compra</td>\n",
       "      <td>es</td>\n",
       "      <td>wireless</td>\n",
       "      <td>29</td>\n",
       "      <td>68</td>\n",
       "      <td>[Malisimo, ,, muy, grande, demasiado, aparatos...</td>\n",
       "      <td>1.0</td>\n",
       "      <td>57.0</td>\n",
       "    </tr>\n",
       "    <tr>\n",
       "      <th>1</th>\n",
       "      <td>es_0180432</td>\n",
       "      <td>product_es_0713146</td>\n",
       "      <td>reviewer_es_0100858</td>\n",
       "      <td>1</td>\n",
       "      <td>No he recibido el pedido no la devolución</td>\n",
       "      <td>No lo he recibido</td>\n",
       "      <td>es</td>\n",
       "      <td>apparel</td>\n",
       "      <td>0</td>\n",
       "      <td>41</td>\n",
       "      <td>[No, he, recibido, el, pedido, no, la, devoluc...</td>\n",
       "      <td>1.0</td>\n",
       "      <td>33.0</td>\n",
       "    </tr>\n",
       "  </tbody>\n",
       "</table>\n",
       "</div>"
      ],
      "text/plain": [
       "    review_id          product_id          reviewer_id  stars  \\\n",
       "0  es_0417480  product_es_0873923  reviewer_es_0672978      1   \n",
       "1  es_0180432  product_es_0713146  reviewer_es_0100858      1   \n",
       "\n",
       "                                         review_body       review_title  \\\n",
       "0  Malisimo, muy grande demasiado aparatoso y mal...        Mala compra   \n",
       "1          No he recibido el pedido no la devolución  No lo he recibido   \n",
       "\n",
       "  language product_category  Cat_product_category  Length_Review  \\\n",
       "0       es         wireless                    29             68   \n",
       "1       es          apparel                     0             41   \n",
       "\n",
       "                              review_body_tokenizado  Cantidad_Mayus  \\\n",
       "0  [Malisimo, ,, muy, grande, demasiado, aparatos...             1.0   \n",
       "1  [No, he, recibido, el, pedido, no, la, devoluc...             1.0   \n",
       "\n",
       "   Cantidad_Minusculas  \n",
       "0                 57.0  \n",
       "1                 33.0  "
      ]
     },
     "execution_count": 121,
     "metadata": {},
     "output_type": "execute_result"
    }
   ],
   "source": [
    "pc30.head(2)"
   ]
  },
  {
   "cell_type": "code",
   "execution_count": 122,
   "metadata": {},
   "outputs": [
    {
     "name": "stdout",
     "output_type": "stream",
     "text": [
      "<class 'numpy.ndarray'>\n",
      "63000\n"
     ]
    },
    {
     "data": {
      "text/plain": [
       "array([1, 1, 1, ..., 5, 5, 5], dtype=int64)"
      ]
     },
     "execution_count": 122,
     "metadata": {},
     "output_type": "execute_result"
    }
   ],
   "source": [
    "print(type(matriz_comentarios_one_star))\n",
    "print(len(is_what))\n",
    "is_what"
   ]
  },
  {
   "cell_type": "markdown",
   "metadata": {},
   "source": [
    "    * > a. Primero, como siempre, separamos en test y train."
   ]
  },
  {
   "cell_type": "code",
   "execution_count": 124,
   "metadata": {},
   "outputs": [],
   "source": [
    "#x = panda.drop(columns=[\"stars\"])"
   ]
  },
  {
   "cell_type": "code",
   "execution_count": 125,
   "metadata": {},
   "outputs": [],
   "source": [
    "x = matriz_comentarios_one_star\n",
    "y = is_what\n",
    "\n",
    "from sklearn.model_selection import train_test_split\n",
    "xtrain, xtest, ytrain, ytest = train_test_split(x,y,test_size=0.2,random_state=42,stratify=y)"
   ]
  },
  {
   "cell_type": "code",
   "execution_count": 126,
   "metadata": {},
   "outputs": [],
   "source": [
    "from sklearn.metrics import confusion_matrix\n",
    "import seaborn as sns\n",
    "\n",
    "def confusion(ytest,y_pred):\n",
    "    names=[\"1\",\"2\",\"3\",\"4\",\"5\"]\n",
    "    cm=confusion_matrix(ytest,y_pred)\n",
    "    f,ax=plt.subplots(figsize=(5,5))\n",
    "    sns.heatmap(cm,annot=True,linewidth=.5,linecolor=\"r\",fmt=\".0f\",ax=ax)\n",
    "    plt.xlabel(\"y_pred\")\n",
    "    plt.ylabel(\"y_true\")\n",
    "    ax.set_xticklabels(names)\n",
    "    ax.set_yticklabels(names)\n",
    "    plt.show()\n",
    "\n",
    "    return"
   ]
  },
  {
   "cell_type": "code",
   "execution_count": 127,
   "metadata": {},
   "outputs": [
    {
     "data": {
      "text/plain": [
       "<function __main__.confusion(ytest, y_pred)>"
      ]
     },
     "execution_count": 127,
     "metadata": {},
     "output_type": "execute_result"
    }
   ],
   "source": [
    "confusion"
   ]
  },
  {
   "cell_type": "markdown",
   "metadata": {},
   "source": [
    "### Elegímos como Benchmark Gaussian Naive Bayes"
   ]
  },
  {
   "cell_type": "code",
   "execution_count": 128,
   "metadata": {},
   "outputs": [
    {
     "name": "stdout",
     "output_type": "stream",
     "text": [
      "acc :  0.38936507936507936\n"
     ]
    }
   ],
   "source": [
    "from sklearn.naive_bayes import GaussianNB\n",
    "nb = GaussianNB()\n",
    "nb.fit(xtrain,ytrain)\n",
    "print(\"acc : \", nb.score(xtest,ytest))"
   ]
  },
  {
   "cell_type": "code",
   "execution_count": 130,
   "metadata": {},
   "outputs": [
    {
     "data": {
      "image/png": "[encoded data removed]",
      "text/plain": [
       "<Figure size 360x360 with 2 Axes>"
      ]
     },
     "metadata": {
      "needs_background": "light"
     },
     "output_type": "display_data"
    }
   ],
   "source": [
    "y_pred_nb=nb.predict(xtest)\n",
    "confusion(ytest,y_pred_nb)"
   ]
  },
  {
   "cell_type": "code",
   "execution_count": 131,
   "metadata": {},
   "outputs": [
    {
     "name": "stdout",
     "output_type": "stream",
     "text": [
      "Reporte de Clasificación Naive Bayes:\n"
     ]
    },
    {
     "data": {
      "text/html": [
       "<div>\n",
       "<style scoped>\n",
       "    .dataframe tbody tr th:only-of-type {\n",
       "        vertical-align: middle;\n",
       "    }\n",
       "\n",
       "    .dataframe tbody tr th {\n",
       "        vertical-align: top;\n",
       "    }\n",
       "\n",
       "    .dataframe thead th {\n",
       "        text-align: right;\n",
       "    }\n",
       "</style>\n",
       "<table border=\"1\" class=\"dataframe\">\n",
       "  <thead>\n",
       "    <tr style=\"text-align: right;\">\n",
       "      <th></th>\n",
       "      <th>precision</th>\n",
       "      <th>recall</th>\n",
       "      <th>f1-score</th>\n",
       "      <th>support</th>\n",
       "    </tr>\n",
       "  </thead>\n",
       "  <tbody>\n",
       "    <tr>\n",
       "      <th>1</th>\n",
       "      <td>0.508344</td>\n",
       "      <td>0.628571</td>\n",
       "      <td>0.562101</td>\n",
       "      <td>2520.000000</td>\n",
       "    </tr>\n",
       "    <tr>\n",
       "      <th>2</th>\n",
       "      <td>0.340782</td>\n",
       "      <td>0.193651</td>\n",
       "      <td>0.246964</td>\n",
       "      <td>2520.000000</td>\n",
       "    </tr>\n",
       "    <tr>\n",
       "      <th>3</th>\n",
       "      <td>0.320035</td>\n",
       "      <td>0.146429</td>\n",
       "      <td>0.200926</td>\n",
       "      <td>2520.000000</td>\n",
       "    </tr>\n",
       "    <tr>\n",
       "      <th>4</th>\n",
       "      <td>0.323292</td>\n",
       "      <td>0.238492</td>\n",
       "      <td>0.274492</td>\n",
       "      <td>2520.000000</td>\n",
       "    </tr>\n",
       "    <tr>\n",
       "      <th>5</th>\n",
       "      <td>0.369841</td>\n",
       "      <td>0.739683</td>\n",
       "      <td>0.493122</td>\n",
       "      <td>2520.000000</td>\n",
       "    </tr>\n",
       "    <tr>\n",
       "      <th>accuracy</th>\n",
       "      <td>0.389365</td>\n",
       "      <td>0.389365</td>\n",
       "      <td>0.389365</td>\n",
       "      <td>0.389365</td>\n",
       "    </tr>\n",
       "    <tr>\n",
       "      <th>macro avg</th>\n",
       "      <td>0.372459</td>\n",
       "      <td>0.389365</td>\n",
       "      <td>0.355521</td>\n",
       "      <td>12600.000000</td>\n",
       "    </tr>\n",
       "    <tr>\n",
       "      <th>weighted avg</th>\n",
       "      <td>0.372459</td>\n",
       "      <td>0.389365</td>\n",
       "      <td>0.355521</td>\n",
       "      <td>12600.000000</td>\n",
       "    </tr>\n",
       "  </tbody>\n",
       "</table>\n",
       "</div>"
      ],
      "text/plain": [
       "              precision    recall  f1-score       support\n",
       "1              0.508344  0.628571  0.562101   2520.000000\n",
       "2              0.340782  0.193651  0.246964   2520.000000\n",
       "3              0.320035  0.146429  0.200926   2520.000000\n",
       "4              0.323292  0.238492  0.274492   2520.000000\n",
       "5              0.369841  0.739683  0.493122   2520.000000\n",
       "accuracy       0.389365  0.389365  0.389365      0.389365\n",
       "macro avg      0.372459  0.389365  0.355521  12600.000000\n",
       "weighted avg   0.372459  0.389365  0.355521  12600.000000"
      ]
     },
     "execution_count": 131,
     "metadata": {},
     "output_type": "execute_result"
    }
   ],
   "source": [
    "from sklearn.metrics import confusion_matrix, classification_report\n",
    "report=pd.DataFrame(classification_report(ytest, y_pred_nb, output_dict=True)).transpose() #otra manera de hacer\n",
    "print(\"Reporte de Clasificación Naive Bayes:\")\n",
    "report"
   ]
  },
  {
   "cell_type": "markdown",
   "metadata": {},
   "source": [
    "### Random Forest\n",
    "a. Veamos cómo funciona un random forest para predecir el sarcasmo de una nota en base a su titular."
   ]
  },
  {
   "cell_type": "code",
   "execution_count": 132,
   "metadata": {},
   "outputs": [
    {
     "name": "stdout",
     "output_type": "stream",
     "text": [
      "acc:  0.4541269841269841\n"
     ]
    }
   ],
   "source": [
    "from sklearn.ensemble import RandomForestClassifier\n",
    "from sklearn.metrics import confusion_matrix\n",
    "\n",
    "rf = RandomForestClassifier(n_estimators = 50, random_state=42)\n",
    "rf.fit(xtrain,ytrain)\n",
    "print(\"acc: \",rf.score(xtest,ytest))"
   ]
  },
  {
   "cell_type": "markdown",
   "metadata": {},
   "source": [
    "b. Graficando su matriz de confusión:"
   ]
  },
  {
   "cell_type": "code",
   "execution_count": 133,
   "metadata": {},
   "outputs": [
    {
     "data": {
      "image/png": "[encoded data removed]",
      "text/plain": [
       "<Figure size 360x360 with 2 Axes>"
      ]
     },
     "metadata": {
      "needs_background": "light"
     },
     "output_type": "display_data"
    }
   ],
   "source": [
    "y_pred_rf=rf.predict(xtest)\n",
    "confusion(ytest,y_pred_rf)"
   ]
  },
  {
   "cell_type": "code",
   "execution_count": 134,
   "metadata": {},
   "outputs": [
    {
     "name": "stdout",
     "output_type": "stream",
     "text": [
      "Reporte de Clasificación de Random Forest:\n"
     ]
    },
    {
     "data": {
      "text/html": [
       "<div>\n",
       "<style scoped>\n",
       "    .dataframe tbody tr th:only-of-type {\n",
       "        vertical-align: middle;\n",
       "    }\n",
       "\n",
       "    .dataframe tbody tr th {\n",
       "        vertical-align: top;\n",
       "    }\n",
       "\n",
       "    .dataframe thead th {\n",
       "        text-align: right;\n",
       "    }\n",
       "</style>\n",
       "<table border=\"1\" class=\"dataframe\">\n",
       "  <thead>\n",
       "    <tr style=\"text-align: right;\">\n",
       "      <th></th>\n",
       "      <th>precision</th>\n",
       "      <th>recall</th>\n",
       "      <th>f1-score</th>\n",
       "      <th>support</th>\n",
       "    </tr>\n",
       "  </thead>\n",
       "  <tbody>\n",
       "    <tr>\n",
       "      <th>1</th>\n",
       "      <td>0.547049</td>\n",
       "      <td>0.680556</td>\n",
       "      <td>0.606543</td>\n",
       "      <td>2520.000000</td>\n",
       "    </tr>\n",
       "    <tr>\n",
       "      <th>2</th>\n",
       "      <td>0.360816</td>\n",
       "      <td>0.336905</td>\n",
       "      <td>0.348451</td>\n",
       "      <td>2520.000000</td>\n",
       "    </tr>\n",
       "    <tr>\n",
       "      <th>3</th>\n",
       "      <td>0.355678</td>\n",
       "      <td>0.357937</td>\n",
       "      <td>0.356804</td>\n",
       "      <td>2520.000000</td>\n",
       "    </tr>\n",
       "    <tr>\n",
       "      <th>4</th>\n",
       "      <td>0.411303</td>\n",
       "      <td>0.311905</td>\n",
       "      <td>0.354773</td>\n",
       "      <td>2520.000000</td>\n",
       "    </tr>\n",
       "    <tr>\n",
       "      <th>5</th>\n",
       "      <td>0.551595</td>\n",
       "      <td>0.583333</td>\n",
       "      <td>0.567020</td>\n",
       "      <td>2520.000000</td>\n",
       "    </tr>\n",
       "    <tr>\n",
       "      <th>accuracy</th>\n",
       "      <td>0.454127</td>\n",
       "      <td>0.454127</td>\n",
       "      <td>0.454127</td>\n",
       "      <td>0.454127</td>\n",
       "    </tr>\n",
       "    <tr>\n",
       "      <th>macro avg</th>\n",
       "      <td>0.445288</td>\n",
       "      <td>0.454127</td>\n",
       "      <td>0.446718</td>\n",
       "      <td>12600.000000</td>\n",
       "    </tr>\n",
       "    <tr>\n",
       "      <th>weighted avg</th>\n",
       "      <td>0.445288</td>\n",
       "      <td>0.454127</td>\n",
       "      <td>0.446718</td>\n",
       "      <td>12600.000000</td>\n",
       "    </tr>\n",
       "  </tbody>\n",
       "</table>\n",
       "</div>"
      ],
      "text/plain": [
       "              precision    recall  f1-score       support\n",
       "1              0.547049  0.680556  0.606543   2520.000000\n",
       "2              0.360816  0.336905  0.348451   2520.000000\n",
       "3              0.355678  0.357937  0.356804   2520.000000\n",
       "4              0.411303  0.311905  0.354773   2520.000000\n",
       "5              0.551595  0.583333  0.567020   2520.000000\n",
       "accuracy       0.454127  0.454127  0.454127      0.454127\n",
       "macro avg      0.445288  0.454127  0.446718  12600.000000\n",
       "weighted avg   0.445288  0.454127  0.446718  12600.000000"
      ]
     },
     "execution_count": 134,
     "metadata": {},
     "output_type": "execute_result"
    }
   ],
   "source": [
    "report=pd.DataFrame(classification_report(ytest, y_pred_rf, output_dict=True)).transpose() #otra manera de hacer\n",
    "print(\"Reporte de Clasificación de Random Forest:\")\n",
    "report"
   ]
  },
  {
   "cell_type": "markdown",
   "metadata": {},
   "source": [
    "c. Habíamos dicho que algo muy bueno de Random Forest era poder preguntarle por la importancia de los features que uso para clasificar. Veamos en este caso cuales son las palabras que mayormente determinan el sarcasmo de una nota para este clasificador."
   ]
  },
  {
   "cell_type": "code",
   "execution_count": 135,
   "metadata": {},
   "outputs": [
    {
     "data": {
      "image/png": "[encoded data removed]",
      "text/plain": [
       "<Figure size 720x432 with 1 Axes>"
      ]
     },
     "metadata": {
      "needs_background": "light"
     },
     "output_type": "display_data"
    }
   ],
   "source": [
    "# Le preguntamos la importancia de cada feature (cada palabra)\n",
    "importances = rf.feature_importances_\n",
    "# Tomamos la lista de palabras\n",
    "all_words = cou_vec.get_feature_names()\n",
    "columns = all_words\n",
    "\n",
    "# Ordenamos por importnacia y tomamos las 20 primeras\n",
    "indices = np.argsort(importances)[::-1]\n",
    "indices = indices[:20]\n",
    "selected_columns = [columns[i] for i in indices]\n",
    "selected_importances = importances[indices]\n",
    "\n",
    "# Por ultimo graficamos\n",
    "plt.figure(figsize = (10,6))\n",
    "sns.barplot(selected_columns, selected_importances)\n",
    "plt.xticks(rotation=90)\n",
    "plt.grid()\n",
    "plt.show()"
   ]
  },
  {
   "cell_type": "markdown",
   "metadata": {},
   "source": [
    "### SVM\n",
    "Por último vamos a utilizar uno de los modelos mas prometedores para este tipo de datos donde el numero de features es comparable al número de instancias: SVM."
   ]
  },
  {
   "cell_type": "markdown",
   "metadata": {},
   "source": [
    "a. Entrene un modelo de SVM Lineal y calcule su accuracy para C = 1."
   ]
  },
  {
   "cell_type": "code",
   "execution_count": 136,
   "metadata": {},
   "outputs": [
    {
     "name": "stderr",
     "output_type": "stream",
     "text": [
      "C:\\Users\\Alfredo\\anaconda3\\lib\\site-packages\\sklearn\\svm\\_base.py:947: ConvergenceWarning: Liblinear failed to converge, increase the number of iterations.\n",
      "  \"the number of iterations.\", ConvergenceWarning)\n"
     ]
    },
    {
     "data": {
      "text/plain": [
       "0.4884126984126984"
      ]
     },
     "execution_count": 136,
     "metadata": {},
     "output_type": "execute_result"
    }
   ],
   "source": [
    "# Notar que en vez de utilizar SVC, vamos a usar LinearSVC. \n",
    "# Para el Kernel Lineal, esta función es MUCHO mas rapida que la tradicional SVC.\n",
    "from sklearn.svm import LinearSVC\n",
    "\n",
    "svc = LinearSVC(C = 1)\n",
    "svc.fit(xtrain,ytrain)\n",
    "svc.score(xtest,ytest)"
   ]
  },
  {
   "cell_type": "markdown",
   "metadata": {},
   "source": [
    "b. Graficando su matriz de confusión:"
   ]
  },
  {
   "cell_type": "code",
   "execution_count": 138,
   "metadata": {},
   "outputs": [
    {
     "data": {
      "image/png": "[encoded data removed]",
      "text/plain": [
       "<Figure size 360x360 with 2 Axes>"
      ]
     },
     "metadata": {
      "needs_background": "light"
     },
     "output_type": "display_data"
    }
   ],
   "source": [
    "y_pred_svc=svc.predict(xtest)\n",
    "confusion(ytest,y_pred_svc)"
   ]
  },
  {
   "cell_type": "code",
   "execution_count": 139,
   "metadata": {},
   "outputs": [
    {
     "name": "stdout",
     "output_type": "stream",
     "text": [
      "Reporte de Clasificación de Linear SVC:\n"
     ]
    },
    {
     "data": {
      "text/html": [
       "<div>\n",
       "<style scoped>\n",
       "    .dataframe tbody tr th:only-of-type {\n",
       "        vertical-align: middle;\n",
       "    }\n",
       "\n",
       "    .dataframe tbody tr th {\n",
       "        vertical-align: top;\n",
       "    }\n",
       "\n",
       "    .dataframe thead th {\n",
       "        text-align: right;\n",
       "    }\n",
       "</style>\n",
       "<table border=\"1\" class=\"dataframe\">\n",
       "  <thead>\n",
       "    <tr style=\"text-align: right;\">\n",
       "      <th></th>\n",
       "      <th>precision</th>\n",
       "      <th>recall</th>\n",
       "      <th>f1-score</th>\n",
       "      <th>support</th>\n",
       "    </tr>\n",
       "  </thead>\n",
       "  <tbody>\n",
       "    <tr>\n",
       "      <th>1</th>\n",
       "      <td>0.563444</td>\n",
       "      <td>0.740079</td>\n",
       "      <td>0.639794</td>\n",
       "      <td>2520.000000</td>\n",
       "    </tr>\n",
       "    <tr>\n",
       "      <th>2</th>\n",
       "      <td>0.409639</td>\n",
       "      <td>0.296825</td>\n",
       "      <td>0.344225</td>\n",
       "      <td>2520.000000</td>\n",
       "    </tr>\n",
       "    <tr>\n",
       "      <th>3</th>\n",
       "      <td>0.400095</td>\n",
       "      <td>0.332937</td>\n",
       "      <td>0.363439</td>\n",
       "      <td>2520.000000</td>\n",
       "    </tr>\n",
       "    <tr>\n",
       "      <th>4</th>\n",
       "      <td>0.437849</td>\n",
       "      <td>0.342460</td>\n",
       "      <td>0.384324</td>\n",
       "      <td>2520.000000</td>\n",
       "    </tr>\n",
       "    <tr>\n",
       "      <th>5</th>\n",
       "      <td>0.541519</td>\n",
       "      <td>0.729762</td>\n",
       "      <td>0.621704</td>\n",
       "      <td>2520.000000</td>\n",
       "    </tr>\n",
       "    <tr>\n",
       "      <th>accuracy</th>\n",
       "      <td>0.488413</td>\n",
       "      <td>0.488413</td>\n",
       "      <td>0.488413</td>\n",
       "      <td>0.488413</td>\n",
       "    </tr>\n",
       "    <tr>\n",
       "      <th>macro avg</th>\n",
       "      <td>0.470509</td>\n",
       "      <td>0.488413</td>\n",
       "      <td>0.470697</td>\n",
       "      <td>12600.000000</td>\n",
       "    </tr>\n",
       "    <tr>\n",
       "      <th>weighted avg</th>\n",
       "      <td>0.470509</td>\n",
       "      <td>0.488413</td>\n",
       "      <td>0.470697</td>\n",
       "      <td>12600.000000</td>\n",
       "    </tr>\n",
       "  </tbody>\n",
       "</table>\n",
       "</div>"
      ],
      "text/plain": [
       "              precision    recall  f1-score       support\n",
       "1              0.563444  0.740079  0.639794   2520.000000\n",
       "2              0.409639  0.296825  0.344225   2520.000000\n",
       "3              0.400095  0.332937  0.363439   2520.000000\n",
       "4              0.437849  0.342460  0.384324   2520.000000\n",
       "5              0.541519  0.729762  0.621704   2520.000000\n",
       "accuracy       0.488413  0.488413  0.488413      0.488413\n",
       "macro avg      0.470509  0.488413  0.470697  12600.000000\n",
       "weighted avg   0.470509  0.488413  0.470697  12600.000000"
      ]
     },
     "execution_count": 139,
     "metadata": {},
     "output_type": "execute_result"
    }
   ],
   "source": [
    "report=pd.DataFrame(classification_report(ytest, y_pred_svc, output_dict=True)).transpose() #otra manera de hacer\n",
    "print(\"Reporte de Clasificación de Linear SVC:\")\n",
    "report"
   ]
  },
  {
   "cell_type": "markdown",
   "metadata": {},
   "source": [
    "## Optimizando los modelos."
   ]
  },
  {
   "cell_type": "code",
   "execution_count": 140,
   "metadata": {},
   "outputs": [],
   "source": [
    "from sklearn.linear_model import LinearRegression\n",
    "import xgboost as xgb\n",
    "from sklearn.ensemble import RandomForestRegressor\n",
    "from sklearn.model_selection import train_test_split\n",
    "from sklearn.metrics import mean_squared_error, mean_absolute_error\n",
    "from sklearn.model_selection import cross_val_score\n",
    "from sklearn.model_selection import RandomizedSearchCV"
   ]
  },
  {
   "cell_type": "code",
   "execution_count": 141,
   "metadata": {},
   "outputs": [],
   "source": [
    "#%%time\n",
    "# Number of trees in random forest\n",
    "#n_estimators = [int(x) for x in np.linspace(start = 200, stop = 1200, num = 10)]\n",
    "# Number of features to consider at every split\n",
    "#max_features = ['auto', 'sqrt']\n",
    "#max_depth = [int(x) for x in np.linspace(10, 50, num = 11)]\n",
    "#max_depth.append(None)\n",
    "#min_samples_split = [1, 2, 5,10]\n",
    "#min_samples_leaf = [1, 2,4,8]\n",
    "#bootstrap = [True, False]# Create the random grid\n",
    "#random_grid = {'n_estimators': n_estimators,\n",
    "#               'max_features': max_features,\n",
    "#               'max_depth': max_depth,\n",
    "#               'min_samples_split': min_samples_split,\n",
    "#               'min_samples_leaf': min_samples_leaf,\n",
    "#               'bootstrap': bootstrap}\n",
    "#rf = RandomForestRegressor()\n",
    "#rf_random = RandomizedSearchCV(estimator = rf, param_distributions = random_grid, n_iter = 150, cv = 5, verbose=2, random_state=21, n_jobs = -1)# Fit the random search model\n",
    "#rf_random.fit(xtrain, ytrain)"
   ]
  },
  {
   "cell_type": "code",
   "execution_count": 142,
   "metadata": {},
   "outputs": [],
   "source": [
    "mejores_parametros = {\n",
    "    'n_estimators' : 200,\n",
    "    'min_samples_split' : 10,\n",
    "    'min_samples_leaf' : 1,\n",
    "    'max_features' : 'sqrt',\n",
    "    'max_depth' : 50,\n",
    "    'bootstrap' : 'False'\n",
    "}"
   ]
  },
  {
   "cell_type": "code",
   "execution_count": 143,
   "metadata": {},
   "outputs": [
    {
     "name": "stdout",
     "output_type": "stream",
     "text": [
      "Wall time: 6min 8s\n"
     ]
    },
    {
     "data": {
      "text/plain": [
       "RandomForestRegressor(bootstrap='False', ccp_alpha=0.0, criterion='mse',\n",
       "                      max_depth=50, max_features='sqrt', max_leaf_nodes=None,\n",
       "                      max_samples=None, min_impurity_decrease=0.0,\n",
       "                      min_impurity_split=None, min_samples_leaf=1,\n",
       "                      min_samples_split=10, min_weight_fraction_leaf=0.0,\n",
       "                      n_estimators=200, n_jobs=None, oob_score=False,\n",
       "                      random_state=None, verbose=0, warm_start=False)"
      ]
     },
     "execution_count": 143,
     "metadata": {},
     "output_type": "execute_result"
    }
   ],
   "source": [
    "%%time\n",
    "RFR = RandomForestRegressor(**mejores_parametros)\n",
    "RFR.fit(xtrain, ytrain)"
   ]
  },
  {
   "cell_type": "code",
   "execution_count": 144,
   "metadata": {},
   "outputs": [
    {
     "name": "stdout",
     "output_type": "stream",
     "text": [
      "Exactitud Random Forest con optimización HP:  0.6977271979609281\n",
      "Wall time: 10.6 s\n"
     ]
    }
   ],
   "source": [
    "%%time\n",
    "print(\"Exactitud Random Forest con optimización HP: \",RFR.score(xtrain,ytrain))"
   ]
  },
  {
   "cell_type": "code",
   "execution_count": 145,
   "metadata": {},
   "outputs": [
    {
     "data": {
      "image/png": "[encoded data removed]",
      "text/plain": [
       "<Figure size 360x360 with 2 Axes>"
      ]
     },
     "metadata": {
      "needs_background": "light"
     },
     "output_type": "display_data"
    }
   ],
   "source": [
    "y_pred_rf=rf.predict(xtest)\n",
    "confusion(ytest,y_pred_rf)"
   ]
  },
  {
   "cell_type": "code",
   "execution_count": 146,
   "metadata": {},
   "outputs": [
    {
     "name": "stdout",
     "output_type": "stream",
     "text": [
      "Reporte de Clasificación RF optimizando hiperparámetros:\n"
     ]
    },
    {
     "data": {
      "text/html": [
       "<div>\n",
       "<style scoped>\n",
       "    .dataframe tbody tr th:only-of-type {\n",
       "        vertical-align: middle;\n",
       "    }\n",
       "\n",
       "    .dataframe tbody tr th {\n",
       "        vertical-align: top;\n",
       "    }\n",
       "\n",
       "    .dataframe thead th {\n",
       "        text-align: right;\n",
       "    }\n",
       "</style>\n",
       "<table border=\"1\" class=\"dataframe\">\n",
       "  <thead>\n",
       "    <tr style=\"text-align: right;\">\n",
       "      <th></th>\n",
       "      <th>precision</th>\n",
       "      <th>recall</th>\n",
       "      <th>f1-score</th>\n",
       "      <th>support</th>\n",
       "    </tr>\n",
       "  </thead>\n",
       "  <tbody>\n",
       "    <tr>\n",
       "      <th>1</th>\n",
       "      <td>0.547049</td>\n",
       "      <td>0.680556</td>\n",
       "      <td>0.606543</td>\n",
       "      <td>2520.000000</td>\n",
       "    </tr>\n",
       "    <tr>\n",
       "      <th>2</th>\n",
       "      <td>0.360816</td>\n",
       "      <td>0.336905</td>\n",
       "      <td>0.348451</td>\n",
       "      <td>2520.000000</td>\n",
       "    </tr>\n",
       "    <tr>\n",
       "      <th>3</th>\n",
       "      <td>0.355678</td>\n",
       "      <td>0.357937</td>\n",
       "      <td>0.356804</td>\n",
       "      <td>2520.000000</td>\n",
       "    </tr>\n",
       "    <tr>\n",
       "      <th>4</th>\n",
       "      <td>0.411303</td>\n",
       "      <td>0.311905</td>\n",
       "      <td>0.354773</td>\n",
       "      <td>2520.000000</td>\n",
       "    </tr>\n",
       "    <tr>\n",
       "      <th>5</th>\n",
       "      <td>0.551595</td>\n",
       "      <td>0.583333</td>\n",
       "      <td>0.567020</td>\n",
       "      <td>2520.000000</td>\n",
       "    </tr>\n",
       "    <tr>\n",
       "      <th>accuracy</th>\n",
       "      <td>0.454127</td>\n",
       "      <td>0.454127</td>\n",
       "      <td>0.454127</td>\n",
       "      <td>0.454127</td>\n",
       "    </tr>\n",
       "    <tr>\n",
       "      <th>macro avg</th>\n",
       "      <td>0.445288</td>\n",
       "      <td>0.454127</td>\n",
       "      <td>0.446718</td>\n",
       "      <td>12600.000000</td>\n",
       "    </tr>\n",
       "    <tr>\n",
       "      <th>weighted avg</th>\n",
       "      <td>0.445288</td>\n",
       "      <td>0.454127</td>\n",
       "      <td>0.446718</td>\n",
       "      <td>12600.000000</td>\n",
       "    </tr>\n",
       "  </tbody>\n",
       "</table>\n",
       "</div>"
      ],
      "text/plain": [
       "              precision    recall  f1-score       support\n",
       "1              0.547049  0.680556  0.606543   2520.000000\n",
       "2              0.360816  0.336905  0.348451   2520.000000\n",
       "3              0.355678  0.357937  0.356804   2520.000000\n",
       "4              0.411303  0.311905  0.354773   2520.000000\n",
       "5              0.551595  0.583333  0.567020   2520.000000\n",
       "accuracy       0.454127  0.454127  0.454127      0.454127\n",
       "macro avg      0.445288  0.454127  0.446718  12600.000000\n",
       "weighted avg   0.445288  0.454127  0.446718  12600.000000"
      ]
     },
     "execution_count": 146,
     "metadata": {},
     "output_type": "execute_result"
    }
   ],
   "source": [
    "from sklearn.metrics import confusion_matrix, classification_report\n",
    "report=pd.DataFrame(classification_report(ytest, y_pred_rf, output_dict=True)).transpose() #otra manera de hacer\n",
    "print(\"Reporte de Clasificación RF optimizando hiperparámetros:\")\n",
    "report"
   ]
  },
  {
   "cell_type": "code",
   "execution_count": null,
   "metadata": {},
   "outputs": [],
   "source": []
  }
 ],
 "metadata": {
  "kernelspec": {
   "display_name": "Python 3",
   "language": "python",
   "name": "python3"
  },
  "language_info": {
   "codemirror_mode": {
    "name": "ipython",
    "version": 3
   },
   "file_extension": ".py",
   "mimetype": "text/x-python",
   "name": "python",
   "nbconvert_exporter": "python",
   "pygments_lexer": "ipython3",
   "version": "3.7.6"
  }
 },
 "nbformat": 4,
 "nbformat_minor": 4
}
