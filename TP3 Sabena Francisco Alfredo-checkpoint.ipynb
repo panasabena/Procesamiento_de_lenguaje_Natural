{
 "cells": [
  {
   "cell_type": "markdown",
   "metadata": {},
   "source": [
    "### Checklist de evaluación\n",
    "Sugerencias para desarrollar el proyecto:\n",
    "\n",
    "La resolución del proyecto te puede enfrentar a desafíos que no trabajamos durante los encuentros. Es importante que desarrolles la capacidad de resolverlos. Para ello, consulta las bitácoras, las referencias, los notebooks vistos en clase, la documentación de la librería y, sobre todo, googlea.\n",
    "Los pasos deben estar correctamente justificados.\n",
    "Las preguntas que se respondan deben estar correctamente explicitadas.\n",
    "Imagina que este proyecto lo usarías para presentar en una entrevista de trabajo, o que lo debes presentar en tu trabajo. Presta mucha atención a la redacción, presentación de gráficos, etc.\n",
    "Antes de subir tu proyecto a la plataforma Acámica para que sea evaluado, verifica que el Notebook se ejecute sin errores. Además, asegúrate de cumplir con las siguientes condiciones (son las que los/as evaluadores/as tendrán en consideración al momento de corregir tu trabajo):\n",
    "\n",
    "#### Parte A - Exploración de Datos\n",
    "\n",
    "1- El Análisis Exploratorio de Datos debe servir para comprender el dataset y todo el flujo de trabajo que le siga.\n",
    "2- Debes responder al menos una pregunta original con este dataset. La pregunta debe estar correctamente explicitada.\n",
    "#### Parte B - Modelo de Machine Learning\n",
    "\n",
    "1- Debes evaluar correctamente el modelo que realices. Esto implica un correcto manejo de datos de Train y Test, elegir una métrica apropiada y justificar su elección, y comparar los resultados contra un modelo benchmark.\n",
    "\n",
    "2- Puedes aplicar más de una de las técnicas vistas para crear tus modelos. Pero ten en cuenta que es preferible un modelo bien hecho (apropiada transformación de datos, optimización de hiperparámetros y análisis de sus resultados) que muchos modelos a medias. En caso de entrenar más de un modelo, debes comparar sus resultados y justificar cuál elegirías.\n",
    "\n",
    "3- Si el modelo lo permite, debes explorar qué información utiliza para predecir e interpretar ese resultado. ¿Coincide con lo que esperabas a partir de tu experiencia con el dataset?\n",
    "#### Parte C - Investigación\n",
    "\n",
    "1- Debes explicar qué te gustaría probar, por qué y cómo lo harías. Si tienes referencias (por ejemplo, un artículo que hayas encontrado, capítulo de libro, etc.), debes mencionarlas.\n",
    "\n",
    "2- Debes comentar también qué resultados esperas encontrar. Por ejemplo, puedes implementar una prueba rápida y mostrar resultados preliminares, para ver si estás correctamente orientado."
   ]
  },
  {
   "cell_type": "code",
   "execution_count": 1,
   "metadata": {},
   "outputs": [],
   "source": [
    "import pandas as pd\n",
    "from pandas import DataFrame\n",
    "import numpy as np\n",
    "import matplotlib.pyplot as plt\n",
    "import statsmodels.api as sm\n",
    "import seaborn as sns\n",
    "import nltk\n",
    "from nltk.corpus import stopwords\n",
    "from nltk.stem import PorterStemmer\n",
    "import itertools"
   ]
  },
  {
   "cell_type": "code",
   "execution_count": 2,
   "metadata": {},
   "outputs": [],
   "source": [
    "data=pd.read_json(r'C:\\Users\\Alfredo\\Bitácoras\\dataset_es_dev.json',lines=True)"
   ]
  },
  {
   "cell_type": "code",
   "execution_count": 3,
   "metadata": {},
   "outputs": [
    {
     "data": {
      "text/html": [
       "<div>\n",
       "<style scoped>\n",
       "    .dataframe tbody tr th:only-of-type {\n",
       "        vertical-align: middle;\n",
       "    }\n",
       "\n",
       "    .dataframe tbody tr th {\n",
       "        vertical-align: top;\n",
       "    }\n",
       "\n",
       "    .dataframe thead th {\n",
       "        text-align: right;\n",
       "    }\n",
       "</style>\n",
       "<table border=\"1\" class=\"dataframe\">\n",
       "  <thead>\n",
       "    <tr style=\"text-align: right;\">\n",
       "      <th></th>\n",
       "      <th>review_id</th>\n",
       "      <th>product_id</th>\n",
       "      <th>reviewer_id</th>\n",
       "      <th>stars</th>\n",
       "      <th>review_body</th>\n",
       "      <th>review_title</th>\n",
       "      <th>language</th>\n",
       "      <th>product_category</th>\n",
       "    </tr>\n",
       "  </thead>\n",
       "  <tbody>\n",
       "    <tr>\n",
       "      <th>0</th>\n",
       "      <td>es_0417480</td>\n",
       "      <td>product_es_0873923</td>\n",
       "      <td>reviewer_es_0672978</td>\n",
       "      <td>1</td>\n",
       "      <td>Malisimo, muy grande demasiado aparatoso y mal...</td>\n",
       "      <td>Mala compra</td>\n",
       "      <td>es</td>\n",
       "      <td>wireless</td>\n",
       "    </tr>\n",
       "    <tr>\n",
       "      <th>1</th>\n",
       "      <td>es_0180432</td>\n",
       "      <td>product_es_0713146</td>\n",
       "      <td>reviewer_es_0100858</td>\n",
       "      <td>1</td>\n",
       "      <td>No he recibido el pedido no la devolución</td>\n",
       "      <td>No lo he recibido</td>\n",
       "      <td>es</td>\n",
       "      <td>apparel</td>\n",
       "    </tr>\n",
       "    <tr>\n",
       "      <th>2</th>\n",
       "      <td>es_0144850</td>\n",
       "      <td>product_es_0356874</td>\n",
       "      <td>reviewer_es_0486447</td>\n",
       "      <td>1</td>\n",
       "      <td>Tengo que buscar otro sistema, este no funcion...</td>\n",
       "      <td>Que no aprieta bien en el manillar</td>\n",
       "      <td>es</td>\n",
       "      <td>sports</td>\n",
       "    </tr>\n",
       "    <tr>\n",
       "      <th>3</th>\n",
       "      <td>es_0339629</td>\n",
       "      <td>product_es_0939832</td>\n",
       "      <td>reviewer_es_0894703</td>\n",
       "      <td>1</td>\n",
       "      <td>Utilicé las brocas de menor diámetro y se me d...</td>\n",
       "      <td>Brocas de mantequilla</td>\n",
       "      <td>es</td>\n",
       "      <td>home_improvement</td>\n",
       "    </tr>\n",
       "    <tr>\n",
       "      <th>4</th>\n",
       "      <td>es_0858362</td>\n",
       "      <td>product_es_0489066</td>\n",
       "      <td>reviewer_es_0887663</td>\n",
       "      <td>1</td>\n",
       "      <td>No me gusta su olor a viejo y aspecto malo</td>\n",
       "      <td>No me gusta</td>\n",
       "      <td>es</td>\n",
       "      <td>beauty</td>\n",
       "    </tr>\n",
       "  </tbody>\n",
       "</table>\n",
       "</div>"
      ],
      "text/plain": [
       "    review_id          product_id          reviewer_id  stars  \\\n",
       "0  es_0417480  product_es_0873923  reviewer_es_0672978      1   \n",
       "1  es_0180432  product_es_0713146  reviewer_es_0100858      1   \n",
       "2  es_0144850  product_es_0356874  reviewer_es_0486447      1   \n",
       "3  es_0339629  product_es_0939832  reviewer_es_0894703      1   \n",
       "4  es_0858362  product_es_0489066  reviewer_es_0887663      1   \n",
       "\n",
       "                                         review_body  \\\n",
       "0  Malisimo, muy grande demasiado aparatoso y mal...   \n",
       "1          No he recibido el pedido no la devolución   \n",
       "2  Tengo que buscar otro sistema, este no funcion...   \n",
       "3  Utilicé las brocas de menor diámetro y se me d...   \n",
       "4         No me gusta su olor a viejo y aspecto malo   \n",
       "\n",
       "                         review_title language  product_category  \n",
       "0                         Mala compra       es          wireless  \n",
       "1                   No lo he recibido       es           apparel  \n",
       "2  Que no aprieta bien en el manillar       es            sports  \n",
       "3               Brocas de mantequilla       es  home_improvement  \n",
       "4                         No me gusta       es            beauty  "
      ]
     },
     "execution_count": 3,
     "metadata": {},
     "output_type": "execute_result"
    }
   ],
   "source": [
    "data.head(5)"
   ]
  },
  {
   "cell_type": "code",
   "execution_count": 4,
   "metadata": {},
   "outputs": [],
   "source": [
    "data_train=pd.read_json(r'C:\\Users\\Alfredo\\Bitácoras\\dataset_es_train.json',lines=True)"
   ]
  },
  {
   "cell_type": "code",
   "execution_count": 5,
   "metadata": {},
   "outputs": [
    {
     "data": {
      "text/html": [
       "<div>\n",
       "<style scoped>\n",
       "    .dataframe tbody tr th:only-of-type {\n",
       "        vertical-align: middle;\n",
       "    }\n",
       "\n",
       "    .dataframe tbody tr th {\n",
       "        vertical-align: top;\n",
       "    }\n",
       "\n",
       "    .dataframe thead th {\n",
       "        text-align: right;\n",
       "    }\n",
       "</style>\n",
       "<table border=\"1\" class=\"dataframe\">\n",
       "  <thead>\n",
       "    <tr style=\"text-align: right;\">\n",
       "      <th></th>\n",
       "      <th>review_id</th>\n",
       "      <th>product_id</th>\n",
       "      <th>reviewer_id</th>\n",
       "      <th>stars</th>\n",
       "      <th>review_body</th>\n",
       "      <th>review_title</th>\n",
       "      <th>language</th>\n",
       "      <th>product_category</th>\n",
       "    </tr>\n",
       "  </thead>\n",
       "  <tbody>\n",
       "    <tr>\n",
       "      <th>0</th>\n",
       "      <td>es_0491108</td>\n",
       "      <td>product_es_0296024</td>\n",
       "      <td>reviewer_es_0999081</td>\n",
       "      <td>1</td>\n",
       "      <td>Nada bueno se me fue ka pantalla en menos de 8...</td>\n",
       "      <td>television Nevir</td>\n",
       "      <td>es</td>\n",
       "      <td>electronics</td>\n",
       "    </tr>\n",
       "    <tr>\n",
       "      <th>1</th>\n",
       "      <td>es_0869872</td>\n",
       "      <td>product_es_0922286</td>\n",
       "      <td>reviewer_es_0216771</td>\n",
       "      <td>1</td>\n",
       "      <td>Horrible, nos tuvimos que comprar otro porque ...</td>\n",
       "      <td>Dinero tirado a la basura con esta compra</td>\n",
       "      <td>es</td>\n",
       "      <td>electronics</td>\n",
       "    </tr>\n",
       "    <tr>\n",
       "      <th>2</th>\n",
       "      <td>es_0811721</td>\n",
       "      <td>product_es_0474543</td>\n",
       "      <td>reviewer_es_0929213</td>\n",
       "      <td>1</td>\n",
       "      <td>Te obligan a comprar dos unidades y te llega s...</td>\n",
       "      <td>solo llega una unidad cuando te obligan a comp...</td>\n",
       "      <td>es</td>\n",
       "      <td>drugstore</td>\n",
       "    </tr>\n",
       "    <tr>\n",
       "      <th>3</th>\n",
       "      <td>es_0359921</td>\n",
       "      <td>product_es_0656090</td>\n",
       "      <td>reviewer_es_0224702</td>\n",
       "      <td>1</td>\n",
       "      <td>No entro en descalificar al vendedor, solo pue...</td>\n",
       "      <td>PRODUCTO NO RECIBIDO.</td>\n",
       "      <td>es</td>\n",
       "      <td>wireless</td>\n",
       "    </tr>\n",
       "    <tr>\n",
       "      <th>4</th>\n",
       "      <td>es_0068940</td>\n",
       "      <td>product_es_0662544</td>\n",
       "      <td>reviewer_es_0224827</td>\n",
       "      <td>1</td>\n",
       "      <td>Llega tarde y co la talla equivocada</td>\n",
       "      <td>Devuelto</td>\n",
       "      <td>es</td>\n",
       "      <td>shoes</td>\n",
       "    </tr>\n",
       "  </tbody>\n",
       "</table>\n",
       "</div>"
      ],
      "text/plain": [
       "    review_id          product_id          reviewer_id  stars  \\\n",
       "0  es_0491108  product_es_0296024  reviewer_es_0999081      1   \n",
       "1  es_0869872  product_es_0922286  reviewer_es_0216771      1   \n",
       "2  es_0811721  product_es_0474543  reviewer_es_0929213      1   \n",
       "3  es_0359921  product_es_0656090  reviewer_es_0224702      1   \n",
       "4  es_0068940  product_es_0662544  reviewer_es_0224827      1   \n",
       "\n",
       "                                         review_body  \\\n",
       "0  Nada bueno se me fue ka pantalla en menos de 8...   \n",
       "1  Horrible, nos tuvimos que comprar otro porque ...   \n",
       "2  Te obligan a comprar dos unidades y te llega s...   \n",
       "3  No entro en descalificar al vendedor, solo pue...   \n",
       "4               Llega tarde y co la talla equivocada   \n",
       "\n",
       "                                        review_title language product_category  \n",
       "0                                   television Nevir       es      electronics  \n",
       "1          Dinero tirado a la basura con esta compra       es      electronics  \n",
       "2  solo llega una unidad cuando te obligan a comp...       es        drugstore  \n",
       "3                              PRODUCTO NO RECIBIDO.       es         wireless  \n",
       "4                                           Devuelto       es            shoes  "
      ]
     },
     "execution_count": 5,
     "metadata": {},
     "output_type": "execute_result"
    }
   ],
   "source": [
    "data_train.head(5)"
   ]
  },
  {
   "cell_type": "code",
   "execution_count": 6,
   "metadata": {},
   "outputs": [],
   "source": [
    "data_test=pd.read_json(r'C:\\Users\\Alfredo\\Bitácoras\\dataset_es_test.json',lines=True)"
   ]
  },
  {
   "cell_type": "code",
   "execution_count": 7,
   "metadata": {},
   "outputs": [
    {
     "data": {
      "text/html": [
       "<div>\n",
       "<style scoped>\n",
       "    .dataframe tbody tr th:only-of-type {\n",
       "        vertical-align: middle;\n",
       "    }\n",
       "\n",
       "    .dataframe tbody tr th {\n",
       "        vertical-align: top;\n",
       "    }\n",
       "\n",
       "    .dataframe thead th {\n",
       "        text-align: right;\n",
       "    }\n",
       "</style>\n",
       "<table border=\"1\" class=\"dataframe\">\n",
       "  <thead>\n",
       "    <tr style=\"text-align: right;\">\n",
       "      <th></th>\n",
       "      <th>review_id</th>\n",
       "      <th>product_id</th>\n",
       "      <th>reviewer_id</th>\n",
       "      <th>stars</th>\n",
       "      <th>review_body</th>\n",
       "      <th>review_title</th>\n",
       "      <th>language</th>\n",
       "      <th>product_category</th>\n",
       "    </tr>\n",
       "  </thead>\n",
       "  <tbody>\n",
       "    <tr>\n",
       "      <th>0</th>\n",
       "      <td>es_0038754</td>\n",
       "      <td>product_es_0113523</td>\n",
       "      <td>reviewer_es_0580071</td>\n",
       "      <td>1</td>\n",
       "      <td>no me llego el articulo me lo mando por correo...</td>\n",
       "      <td>no me llego</td>\n",
       "      <td>es</td>\n",
       "      <td>wireless</td>\n",
       "    </tr>\n",
       "    <tr>\n",
       "      <th>1</th>\n",
       "      <td>es_0748979</td>\n",
       "      <td>product_es_0017036</td>\n",
       "      <td>reviewer_es_0819733</td>\n",
       "      <td>1</td>\n",
       "      <td>la mensajería horrible, no compro mas</td>\n",
       "      <td>amazon sigue sin cumplir en las entregas</td>\n",
       "      <td>es</td>\n",
       "      <td>home</td>\n",
       "    </tr>\n",
       "    <tr>\n",
       "      <th>2</th>\n",
       "      <td>es_0411746</td>\n",
       "      <td>product_es_0138642</td>\n",
       "      <td>reviewer_es_0508607</td>\n",
       "      <td>1</td>\n",
       "      <td>Estoy muy decepcionado con el vendedor ya que ...</td>\n",
       "      <td>ESTAFA EN EL ENVÍO</td>\n",
       "      <td>es</td>\n",
       "      <td>toy</td>\n",
       "    </tr>\n",
       "    <tr>\n",
       "      <th>3</th>\n",
       "      <td>es_0786686</td>\n",
       "      <td>product_es_0170887</td>\n",
       "      <td>reviewer_es_0491157</td>\n",
       "      <td>1</td>\n",
       "      <td>Mi valoración no es sobre el producto sino sob...</td>\n",
       "      <td>Estafa de Amazon</td>\n",
       "      <td>es</td>\n",
       "      <td>home</td>\n",
       "    </tr>\n",
       "    <tr>\n",
       "      <th>4</th>\n",
       "      <td>es_0429700</td>\n",
       "      <td>product_es_0710642</td>\n",
       "      <td>reviewer_es_0008745</td>\n",
       "      <td>1</td>\n",
       "      <td>Pues tenía interés en este libro y probé la ve...</td>\n",
       "      <td>No conseguí pasar de la portada en Kindle</td>\n",
       "      <td>es</td>\n",
       "      <td>digital_ebook_purchase</td>\n",
       "    </tr>\n",
       "  </tbody>\n",
       "</table>\n",
       "</div>"
      ],
      "text/plain": [
       "    review_id          product_id          reviewer_id  stars  \\\n",
       "0  es_0038754  product_es_0113523  reviewer_es_0580071      1   \n",
       "1  es_0748979  product_es_0017036  reviewer_es_0819733      1   \n",
       "2  es_0411746  product_es_0138642  reviewer_es_0508607      1   \n",
       "3  es_0786686  product_es_0170887  reviewer_es_0491157      1   \n",
       "4  es_0429700  product_es_0710642  reviewer_es_0008745      1   \n",
       "\n",
       "                                         review_body  \\\n",
       "0  no me llego el articulo me lo mando por correo...   \n",
       "1              la mensajería horrible, no compro mas   \n",
       "2  Estoy muy decepcionado con el vendedor ya que ...   \n",
       "3  Mi valoración no es sobre el producto sino sob...   \n",
       "4  Pues tenía interés en este libro y probé la ve...   \n",
       "\n",
       "                                review_title language        product_category  \n",
       "0                                no me llego       es                wireless  \n",
       "1   amazon sigue sin cumplir en las entregas       es                    home  \n",
       "2                         ESTAFA EN EL ENVÍO       es                     toy  \n",
       "3                           Estafa de Amazon       es                    home  \n",
       "4  No conseguí pasar de la portada en Kindle       es  digital_ebook_purchase  "
      ]
     },
     "execution_count": 7,
     "metadata": {},
     "output_type": "execute_result"
    }
   ],
   "source": [
    "data_test.head(5)"
   ]
  },
  {
   "cell_type": "code",
   "execution_count": 8,
   "metadata": {},
   "outputs": [
    {
     "name": "stdout",
     "output_type": "stream",
     "text": [
      "Cantidad de filas y columnas del data:  (5000, 8)\n",
      "Cantidad de filas y columnas del data test:  (5000, 8)\n",
      "Cantidad de filas y columnas del data train:  (200000, 8)\n"
     ]
    }
   ],
   "source": [
    "print('Cantidad de filas y columnas del data: ',data.shape)\n",
    "print('Cantidad de filas y columnas del data test: ',data_test.shape)\n",
    "print('Cantidad de filas y columnas del data train: ',data_train.shape)"
   ]
  },
  {
   "cell_type": "code",
   "execution_count": 9,
   "metadata": {},
   "outputs": [
    {
     "data": {
      "text/html": [
       "<div>\n",
       "<style scoped>\n",
       "    .dataframe tbody tr th:only-of-type {\n",
       "        vertical-align: middle;\n",
       "    }\n",
       "\n",
       "    .dataframe tbody tr th {\n",
       "        vertical-align: top;\n",
       "    }\n",
       "\n",
       "    .dataframe thead th {\n",
       "        text-align: right;\n",
       "    }\n",
       "</style>\n",
       "<table border=\"1\" class=\"dataframe\">\n",
       "  <thead>\n",
       "    <tr style=\"text-align: right;\">\n",
       "      <th></th>\n",
       "      <th>stars</th>\n",
       "    </tr>\n",
       "  </thead>\n",
       "  <tbody>\n",
       "    <tr>\n",
       "      <th>count</th>\n",
       "      <td>5000.000000</td>\n",
       "    </tr>\n",
       "    <tr>\n",
       "      <th>mean</th>\n",
       "      <td>3.000000</td>\n",
       "    </tr>\n",
       "    <tr>\n",
       "      <th>std</th>\n",
       "      <td>1.414355</td>\n",
       "    </tr>\n",
       "    <tr>\n",
       "      <th>min</th>\n",
       "      <td>1.000000</td>\n",
       "    </tr>\n",
       "    <tr>\n",
       "      <th>25%</th>\n",
       "      <td>2.000000</td>\n",
       "    </tr>\n",
       "    <tr>\n",
       "      <th>50%</th>\n",
       "      <td>3.000000</td>\n",
       "    </tr>\n",
       "    <tr>\n",
       "      <th>75%</th>\n",
       "      <td>4.000000</td>\n",
       "    </tr>\n",
       "    <tr>\n",
       "      <th>max</th>\n",
       "      <td>5.000000</td>\n",
       "    </tr>\n",
       "  </tbody>\n",
       "</table>\n",
       "</div>"
      ],
      "text/plain": [
       "             stars\n",
       "count  5000.000000\n",
       "mean      3.000000\n",
       "std       1.414355\n",
       "min       1.000000\n",
       "25%       2.000000\n",
       "50%       3.000000\n",
       "75%       4.000000\n",
       "max       5.000000"
      ]
     },
     "execution_count": 9,
     "metadata": {},
     "output_type": "execute_result"
    }
   ],
   "source": [
    "data.describe()"
   ]
  },
  {
   "cell_type": "markdown",
   "metadata": {},
   "source": [
    "### Are there missing values?"
   ]
  },
  {
   "cell_type": "code",
   "execution_count": 10,
   "metadata": {},
   "outputs": [
    {
     "name": "stdout",
     "output_type": "stream",
     "text": [
      "##--->  Datos faltantes de DATA:  <---##\n",
      " review_id           0\n",
      "product_id          0\n",
      "reviewer_id         0\n",
      "stars               0\n",
      "review_body         0\n",
      "review_title        0\n",
      "language            0\n",
      "product_category    0\n",
      "dtype: int64\n",
      "##--->  Datos faltantes de DATA_TRAIN  <---##:\n",
      " review_id           0\n",
      "product_id          0\n",
      "reviewer_id         0\n",
      "stars               0\n",
      "review_body         0\n",
      "review_title        0\n",
      "language            0\n",
      "product_category    0\n",
      "dtype: int64\n",
      "##--->  Datos faltantes de DATA_TEST  <---##:\n",
      " review_id           0\n",
      "product_id          0\n",
      "reviewer_id         0\n",
      "stars               0\n",
      "review_body         0\n",
      "review_title        0\n",
      "language            0\n",
      "product_category    0\n",
      "dtype: int64\n"
     ]
    }
   ],
   "source": [
    "print(\"##--->  Datos faltantes de DATA:  <---##\\n\",data.isna().sum())\n",
    "print(\"##--->  Datos faltantes de DATA_TRAIN  <---##:\\n\",data_train.isna().sum())\n",
    "print(\"##--->  Datos faltantes de DATA_TEST  <---##:\\n\",data_test.isna().sum())"
   ]
  },
  {
   "cell_type": "code",
   "execution_count": 11,
   "metadata": {},
   "outputs": [
    {
     "name": "stdout",
     "output_type": "stream",
     "text": [
      "##--->  INFO de DATA:  <---##\n",
      "\n",
      "<class 'pandas.core.frame.DataFrame'>\n",
      "RangeIndex: 5000 entries, 0 to 4999\n",
      "Data columns (total 8 columns):\n",
      " #   Column            Non-Null Count  Dtype \n",
      "---  ------            --------------  ----- \n",
      " 0   review_id         5000 non-null   object\n",
      " 1   product_id        5000 non-null   object\n",
      " 2   reviewer_id       5000 non-null   object\n",
      " 3   stars             5000 non-null   int64 \n",
      " 4   review_body       5000 non-null   object\n",
      " 5   review_title      5000 non-null   object\n",
      " 6   language          5000 non-null   object\n",
      " 7   product_category  5000 non-null   object\n",
      "dtypes: int64(1), object(7)\n",
      "memory usage: 312.6+ KB\n",
      "\n",
      "##--->  INFO de DATA_TRAIN  <---##:\n",
      "\n",
      "<class 'pandas.core.frame.DataFrame'>\n",
      "RangeIndex: 200000 entries, 0 to 199999\n",
      "Data columns (total 8 columns):\n",
      " #   Column            Non-Null Count   Dtype \n",
      "---  ------            --------------   ----- \n",
      " 0   review_id         200000 non-null  object\n",
      " 1   product_id        200000 non-null  object\n",
      " 2   reviewer_id       200000 non-null  object\n",
      " 3   stars             200000 non-null  int64 \n",
      " 4   review_body       200000 non-null  object\n",
      " 5   review_title      200000 non-null  object\n",
      " 6   language          200000 non-null  object\n",
      " 7   product_category  200000 non-null  object\n",
      "dtypes: int64(1), object(7)\n",
      "memory usage: 12.2+ MB\n",
      "\n",
      "##--->  INFO de DATA_TEST  <---##:\n",
      "\n",
      "<class 'pandas.core.frame.DataFrame'>\n",
      "RangeIndex: 5000 entries, 0 to 4999\n",
      "Data columns (total 8 columns):\n",
      " #   Column            Non-Null Count  Dtype \n",
      "---  ------            --------------  ----- \n",
      " 0   review_id         5000 non-null   object\n",
      " 1   product_id        5000 non-null   object\n",
      " 2   reviewer_id       5000 non-null   object\n",
      " 3   stars             5000 non-null   int64 \n",
      " 4   review_body       5000 non-null   object\n",
      " 5   review_title      5000 non-null   object\n",
      " 6   language          5000 non-null   object\n",
      " 7   product_category  5000 non-null   object\n",
      "dtypes: int64(1), object(7)\n",
      "memory usage: 312.6+ KB\n"
     ]
    }
   ],
   "source": [
    "print(\"##--->  INFO de DATA:  <---##\\n\")\n",
    "data.info()\n",
    "print(\"\\n##--->  INFO de DATA_TRAIN  <---##:\\n\")\n",
    "data_train.info()\n",
    "print(\"\\n##--->  INFO de DATA_TEST  <---##:\\n\")\n",
    "data_test.info()"
   ]
  },
  {
   "cell_type": "markdown",
   "metadata": {},
   "source": [
    "## Concatenating all data frames\n",
    "<img src=https://www.analyticslane.com/wp-content/uploads/2018/08/t-1723941_1920-1536x974.jpg>\n"
   ]
  },
  {
   "cell_type": "code",
   "execution_count": 12,
   "metadata": {},
   "outputs": [
    {
     "data": {
      "text/html": [
       "<div>\n",
       "<style scoped>\n",
       "    .dataframe tbody tr th:only-of-type {\n",
       "        vertical-align: middle;\n",
       "    }\n",
       "\n",
       "    .dataframe tbody tr th {\n",
       "        vertical-align: top;\n",
       "    }\n",
       "\n",
       "    .dataframe thead th {\n",
       "        text-align: right;\n",
       "    }\n",
       "</style>\n",
       "<table border=\"1\" class=\"dataframe\">\n",
       "  <thead>\n",
       "    <tr style=\"text-align: right;\">\n",
       "      <th></th>\n",
       "      <th>review_id</th>\n",
       "      <th>product_id</th>\n",
       "      <th>reviewer_id</th>\n",
       "      <th>stars</th>\n",
       "      <th>review_body</th>\n",
       "      <th>review_title</th>\n",
       "      <th>language</th>\n",
       "      <th>product_category</th>\n",
       "    </tr>\n",
       "  </thead>\n",
       "  <tbody>\n",
       "    <tr>\n",
       "      <th>0</th>\n",
       "      <td>es_0417480</td>\n",
       "      <td>product_es_0873923</td>\n",
       "      <td>reviewer_es_0672978</td>\n",
       "      <td>1</td>\n",
       "      <td>Malisimo, muy grande demasiado aparatoso y mal...</td>\n",
       "      <td>Mala compra</td>\n",
       "      <td>es</td>\n",
       "      <td>wireless</td>\n",
       "    </tr>\n",
       "    <tr>\n",
       "      <th>1</th>\n",
       "      <td>es_0180432</td>\n",
       "      <td>product_es_0713146</td>\n",
       "      <td>reviewer_es_0100858</td>\n",
       "      <td>1</td>\n",
       "      <td>No he recibido el pedido no la devolución</td>\n",
       "      <td>No lo he recibido</td>\n",
       "      <td>es</td>\n",
       "      <td>apparel</td>\n",
       "    </tr>\n",
       "    <tr>\n",
       "      <th>2</th>\n",
       "      <td>es_0144850</td>\n",
       "      <td>product_es_0356874</td>\n",
       "      <td>reviewer_es_0486447</td>\n",
       "      <td>1</td>\n",
       "      <td>Tengo que buscar otro sistema, este no funcion...</td>\n",
       "      <td>Que no aprieta bien en el manillar</td>\n",
       "      <td>es</td>\n",
       "      <td>sports</td>\n",
       "    </tr>\n",
       "    <tr>\n",
       "      <th>3</th>\n",
       "      <td>es_0339629</td>\n",
       "      <td>product_es_0939832</td>\n",
       "      <td>reviewer_es_0894703</td>\n",
       "      <td>1</td>\n",
       "      <td>Utilicé las brocas de menor diámetro y se me d...</td>\n",
       "      <td>Brocas de mantequilla</td>\n",
       "      <td>es</td>\n",
       "      <td>home_improvement</td>\n",
       "    </tr>\n",
       "    <tr>\n",
       "      <th>4</th>\n",
       "      <td>es_0858362</td>\n",
       "      <td>product_es_0489066</td>\n",
       "      <td>reviewer_es_0887663</td>\n",
       "      <td>1</td>\n",
       "      <td>No me gusta su olor a viejo y aspecto malo</td>\n",
       "      <td>No me gusta</td>\n",
       "      <td>es</td>\n",
       "      <td>beauty</td>\n",
       "    </tr>\n",
       "  </tbody>\n",
       "</table>\n",
       "</div>"
      ],
      "text/plain": [
       "    review_id          product_id          reviewer_id  stars  \\\n",
       "0  es_0417480  product_es_0873923  reviewer_es_0672978      1   \n",
       "1  es_0180432  product_es_0713146  reviewer_es_0100858      1   \n",
       "2  es_0144850  product_es_0356874  reviewer_es_0486447      1   \n",
       "3  es_0339629  product_es_0939832  reviewer_es_0894703      1   \n",
       "4  es_0858362  product_es_0489066  reviewer_es_0887663      1   \n",
       "\n",
       "                                         review_body  \\\n",
       "0  Malisimo, muy grande demasiado aparatoso y mal...   \n",
       "1          No he recibido el pedido no la devolución   \n",
       "2  Tengo que buscar otro sistema, este no funcion...   \n",
       "3  Utilicé las brocas de menor diámetro y se me d...   \n",
       "4         No me gusta su olor a viejo y aspecto malo   \n",
       "\n",
       "                         review_title language  product_category  \n",
       "0                         Mala compra       es          wireless  \n",
       "1                   No lo he recibido       es           apparel  \n",
       "2  Que no aprieta bien en el manillar       es            sports  \n",
       "3               Brocas de mantequilla       es  home_improvement  \n",
       "4                         No me gusta       es            beauty  "
      ]
     },
     "execution_count": 12,
     "metadata": {},
     "output_type": "execute_result"
    }
   ],
   "source": [
    "frames = [data, data_test, data_train]\n",
    "result = pd.concat(frames)\n",
    "result.head(5)"
   ]
  },
  {
   "cell_type": "code",
   "execution_count": 13,
   "metadata": {},
   "outputs": [
    {
     "name": "stdout",
     "output_type": "stream",
     "text": [
      "home                        28328\n",
      "wireless                    27208\n",
      "toy                         14328\n",
      "sports                      13856\n",
      "pc                          11720\n",
      "home_improvement            11468\n",
      "electronics                 10899\n",
      "beauty                       7707\n",
      "automotive                   7495\n",
      "kitchen                      7028\n",
      "apparel                      6014\n",
      "drugstore                    5778\n",
      "book                         5528\n",
      "furniture                    5481\n",
      "baby_product                 5098\n",
      "office_product               5010\n",
      "lawn_and_garden              4449\n",
      "other                        4131\n",
      "pet_products                 3899\n",
      "personal_care_appliances     3735\n",
      "luggage                      3509\n",
      "camera                       3180\n",
      "shoes                        2886\n",
      "digital_ebook_purchase       1936\n",
      "video_games                  1818\n",
      "jewelry                      1677\n",
      "musical_instruments          1608\n",
      "watch                        1567\n",
      "industrial_supplies          1552\n",
      "grocery                      1107\n",
      "Name: product_category, dtype: int64\n"
     ]
    },
    {
     "data": {
      "image/png": "[encoded data removed]",
      "text/plain": [
       "<Figure size 720x432 with 1 Axes>"
      ]
     },
     "metadata": {
      "needs_background": "light"
     },
     "output_type": "display_data"
    }
   ],
   "source": [
    "categoria_productos=result['product_category'].value_counts()\n",
    "print(categoria_productos)\n",
    "plt.figure(figsize=(10,6))\n",
    "#tipologia.hist()\n",
    "plt.xticks(rotation=90)\n",
    "categoria_productos=result['product_category'].value_counts()\n",
    "categoria_productos\n",
    "#sns.set_theme(style=\"darkgrid\")\n",
    "ax = sns.countplot(x='product_category', data=result,order=result['product_category'].value_counts().index)#,ascending=True)\n",
    "plt.grid()"
   ]
  },
  {
   "cell_type": "code",
   "execution_count": 14,
   "metadata": {},
   "outputs": [
    {
     "data": {
      "text/html": [
       "<div>\n",
       "<style scoped>\n",
       "    .dataframe tbody tr th:only-of-type {\n",
       "        vertical-align: middle;\n",
       "    }\n",
       "\n",
       "    .dataframe tbody tr th {\n",
       "        vertical-align: top;\n",
       "    }\n",
       "\n",
       "    .dataframe thead th {\n",
       "        text-align: right;\n",
       "    }\n",
       "</style>\n",
       "<table border=\"1\" class=\"dataframe\">\n",
       "  <thead>\n",
       "    <tr style=\"text-align: right;\">\n",
       "      <th></th>\n",
       "      <th>product_category</th>\n",
       "    </tr>\n",
       "  </thead>\n",
       "  <tbody>\n",
       "    <tr>\n",
       "      <th>home</th>\n",
       "      <td>28328</td>\n",
       "    </tr>\n",
       "    <tr>\n",
       "      <th>wireless</th>\n",
       "      <td>27208</td>\n",
       "    </tr>\n",
       "    <tr>\n",
       "      <th>toy</th>\n",
       "      <td>14328</td>\n",
       "    </tr>\n",
       "    <tr>\n",
       "      <th>sports</th>\n",
       "      <td>13856</td>\n",
       "    </tr>\n",
       "    <tr>\n",
       "      <th>pc</th>\n",
       "      <td>11720</td>\n",
       "    </tr>\n",
       "    <tr>\n",
       "      <th>home_improvement</th>\n",
       "      <td>11468</td>\n",
       "    </tr>\n",
       "    <tr>\n",
       "      <th>electronics</th>\n",
       "      <td>10899</td>\n",
       "    </tr>\n",
       "    <tr>\n",
       "      <th>beauty</th>\n",
       "      <td>7707</td>\n",
       "    </tr>\n",
       "    <tr>\n",
       "      <th>automotive</th>\n",
       "      <td>7495</td>\n",
       "    </tr>\n",
       "    <tr>\n",
       "      <th>kitchen</th>\n",
       "      <td>7028</td>\n",
       "    </tr>\n",
       "    <tr>\n",
       "      <th>apparel</th>\n",
       "      <td>6014</td>\n",
       "    </tr>\n",
       "    <tr>\n",
       "      <th>drugstore</th>\n",
       "      <td>5778</td>\n",
       "    </tr>\n",
       "    <tr>\n",
       "      <th>book</th>\n",
       "      <td>5528</td>\n",
       "    </tr>\n",
       "    <tr>\n",
       "      <th>furniture</th>\n",
       "      <td>5481</td>\n",
       "    </tr>\n",
       "    <tr>\n",
       "      <th>baby_product</th>\n",
       "      <td>5098</td>\n",
       "    </tr>\n",
       "    <tr>\n",
       "      <th>office_product</th>\n",
       "      <td>5010</td>\n",
       "    </tr>\n",
       "    <tr>\n",
       "      <th>lawn_and_garden</th>\n",
       "      <td>4449</td>\n",
       "    </tr>\n",
       "    <tr>\n",
       "      <th>other</th>\n",
       "      <td>4131</td>\n",
       "    </tr>\n",
       "    <tr>\n",
       "      <th>pet_products</th>\n",
       "      <td>3899</td>\n",
       "    </tr>\n",
       "    <tr>\n",
       "      <th>personal_care_appliances</th>\n",
       "      <td>3735</td>\n",
       "    </tr>\n",
       "    <tr>\n",
       "      <th>luggage</th>\n",
       "      <td>3509</td>\n",
       "    </tr>\n",
       "    <tr>\n",
       "      <th>camera</th>\n",
       "      <td>3180</td>\n",
       "    </tr>\n",
       "    <tr>\n",
       "      <th>shoes</th>\n",
       "      <td>2886</td>\n",
       "    </tr>\n",
       "    <tr>\n",
       "      <th>digital_ebook_purchase</th>\n",
       "      <td>1936</td>\n",
       "    </tr>\n",
       "    <tr>\n",
       "      <th>video_games</th>\n",
       "      <td>1818</td>\n",
       "    </tr>\n",
       "    <tr>\n",
       "      <th>jewelry</th>\n",
       "      <td>1677</td>\n",
       "    </tr>\n",
       "    <tr>\n",
       "      <th>musical_instruments</th>\n",
       "      <td>1608</td>\n",
       "    </tr>\n",
       "    <tr>\n",
       "      <th>watch</th>\n",
       "      <td>1567</td>\n",
       "    </tr>\n",
       "    <tr>\n",
       "      <th>industrial_supplies</th>\n",
       "      <td>1552</td>\n",
       "    </tr>\n",
       "    <tr>\n",
       "      <th>grocery</th>\n",
       "      <td>1107</td>\n",
       "    </tr>\n",
       "  </tbody>\n",
       "</table>\n",
       "</div>"
      ],
      "text/plain": [
       "                          product_category\n",
       "home                                 28328\n",
       "wireless                             27208\n",
       "toy                                  14328\n",
       "sports                               13856\n",
       "pc                                   11720\n",
       "home_improvement                     11468\n",
       "electronics                          10899\n",
       "beauty                                7707\n",
       "automotive                            7495\n",
       "kitchen                               7028\n",
       "apparel                               6014\n",
       "drugstore                             5778\n",
       "book                                  5528\n",
       "furniture                             5481\n",
       "baby_product                          5098\n",
       "office_product                        5010\n",
       "lawn_and_garden                       4449\n",
       "other                                 4131\n",
       "pet_products                          3899\n",
       "personal_care_appliances              3735\n",
       "luggage                               3509\n",
       "camera                                3180\n",
       "shoes                                 2886\n",
       "digital_ebook_purchase                1936\n",
       "video_games                           1818\n",
       "jewelry                               1677\n",
       "musical_instruments                   1608\n",
       "watch                                 1567\n",
       "industrial_supplies                   1552\n",
       "grocery                               1107"
      ]
     },
     "execution_count": 14,
     "metadata": {},
     "output_type": "execute_result"
    }
   ],
   "source": [
    "lista_productos=categoria_productos.to_list()\n",
    "categoria_productos.to_frame()"
   ]
  },
  {
   "cell_type": "code",
   "execution_count": 15,
   "metadata": {},
   "outputs": [
    {
     "data": {
      "text/plain": [
       "30"
      ]
     },
     "execution_count": 15,
     "metadata": {},
     "output_type": "execute_result"
    }
   ],
   "source": [
    "lista_de_productos=result.product_category\n",
    "lista_de_productos.to_list()\n",
    "lista_de_productos=lista_de_productos.unique()\n",
    "lista_de_productos=['wireless', 'apparel', 'sports', 'home_improvement', 'beauty',\n",
    "       'home', 'baby_product', 'pc', 'toy', 'book',\n",
    "       'personal_care_appliances', 'kitchen', 'lawn_and_garden',\n",
    "       'pet_products', 'drugstore', 'office_product', 'furniture',\n",
    "       'electronics', 'automotive', 'shoes', 'jewelry', 'luggage',\n",
    "       'camera', 'industrial_supplies', 'other', 'musical_instruments',\n",
    "       'grocery', 'digital_ebook_purchase', 'video_games', 'watch']\n",
    "len(lista_de_productos)"
   ]
  },
  {
   "cell_type": "markdown",
   "metadata": {},
   "source": [
    "### In the following cell, we create a graphic with the stars distributions.\n",
    "#### It makes me feel a little bit unconfortable, because, how it could be the same ditribution for all of them?"
   ]
  },
  {
   "cell_type": "code",
   "execution_count": 16,
   "metadata": {
    "scrolled": true
   },
   "outputs": [
    {
     "name": "stdout",
     "output_type": "stream",
     "text": [
      "Cantidad de estrellas: 5\n",
      "[1 2 3 4 5]\n"
     ]
    },
    {
     "data": {
      "image/png": "[encoded data removed]",
      "text/plain": [
       "<Figure size 720x432 with 1 Axes>"
      ]
     },
     "metadata": {
      "needs_background": "light"
     },
     "output_type": "display_data"
    }
   ],
   "source": [
    "#Cuantos estrellas hay en este dataset?\n",
    "estrellas=result['stars']\n",
    "\n",
    "print(\"Cantidad de estrellas:\", len(result['stars'].unique()))\n",
    "print(result['stars'].unique())\n",
    "plt.figure(figsize=(10,6))\n",
    "#tipologia.hist()\n",
    "plt.xticks(rotation=0)\n",
    "cuento_estrellas=result['stars'].value_counts()\n",
    "cuento_estrellas\n",
    "#sns.set_theme(style=\"darkgrid\")\n",
    "ax = sns.countplot(x='stars', data=result)\n",
    "plt.grid()"
   ]
  },
  {
   "cell_type": "markdown",
   "metadata": {},
   "source": [
    "### In the next cell we are creating a identify number for each product category"
   ]
  },
  {
   "cell_type": "code",
   "execution_count": 17,
   "metadata": {},
   "outputs": [
    {
     "data": {
      "text/html": [
       "<div>\n",
       "<style scoped>\n",
       "    .dataframe tbody tr th:only-of-type {\n",
       "        vertical-align: middle;\n",
       "    }\n",
       "\n",
       "    .dataframe tbody tr th {\n",
       "        vertical-align: top;\n",
       "    }\n",
       "\n",
       "    .dataframe thead th {\n",
       "        text-align: right;\n",
       "    }\n",
       "</style>\n",
       "<table border=\"1\" class=\"dataframe\">\n",
       "  <thead>\n",
       "    <tr style=\"text-align: right;\">\n",
       "      <th></th>\n",
       "      <th>review_id</th>\n",
       "      <th>product_id</th>\n",
       "      <th>reviewer_id</th>\n",
       "      <th>stars</th>\n",
       "      <th>review_body</th>\n",
       "      <th>review_title</th>\n",
       "      <th>language</th>\n",
       "      <th>product_category</th>\n",
       "      <th>Cat_product_category</th>\n",
       "    </tr>\n",
       "  </thead>\n",
       "  <tbody>\n",
       "    <tr>\n",
       "      <th>0</th>\n",
       "      <td>es_0417480</td>\n",
       "      <td>product_es_0873923</td>\n",
       "      <td>reviewer_es_0672978</td>\n",
       "      <td>1</td>\n",
       "      <td>Malisimo, muy grande demasiado aparatoso y mal...</td>\n",
       "      <td>Mala compra</td>\n",
       "      <td>es</td>\n",
       "      <td>wireless</td>\n",
       "      <td>29</td>\n",
       "    </tr>\n",
       "    <tr>\n",
       "      <th>1</th>\n",
       "      <td>es_0180432</td>\n",
       "      <td>product_es_0713146</td>\n",
       "      <td>reviewer_es_0100858</td>\n",
       "      <td>1</td>\n",
       "      <td>No he recibido el pedido no la devolución</td>\n",
       "      <td>No lo he recibido</td>\n",
       "      <td>es</td>\n",
       "      <td>apparel</td>\n",
       "      <td>0</td>\n",
       "    </tr>\n",
       "  </tbody>\n",
       "</table>\n",
       "</div>"
      ],
      "text/plain": [
       "    review_id          product_id          reviewer_id  stars  \\\n",
       "0  es_0417480  product_es_0873923  reviewer_es_0672978      1   \n",
       "1  es_0180432  product_es_0713146  reviewer_es_0100858      1   \n",
       "\n",
       "                                         review_body       review_title  \\\n",
       "0  Malisimo, muy grande demasiado aparatoso y mal...        Mala compra   \n",
       "1          No he recibido el pedido no la devolución  No lo he recibido   \n",
       "\n",
       "  language product_category  Cat_product_category  \n",
       "0       es         wireless                    29  \n",
       "1       es          apparel                     0  "
      ]
     },
     "execution_count": 17,
     "metadata": {},
     "output_type": "execute_result"
    }
   ],
   "source": [
    "# converting type of columns to 'category'\n",
    "result['product_category']=result['product_category'].astype('category')\n",
    "# Assigning numerical values and storing in another column\n",
    "result['Cat_product_category'] = result['product_category'].cat.codes\n",
    "result.sort_values(by=['Cat_product_category'])\n",
    "result.head(2)"
   ]
  },
  {
   "cell_type": "markdown",
   "metadata": {},
   "source": [
    "### Filtering by product type\n",
    "> In this loop, we first create an empty list, and then add each filter, and in the same loop, we give the dataset format to each mask."
   ]
  },
  {
   "cell_type": "code",
   "execution_count": 18,
   "metadata": {
    "scrolled": true
   },
   "outputs": [],
   "source": [
    "probando=[]\n",
    "lista_de_productos \n",
    "for i in lista_de_productos:\n",
    "    j=((result.product_category==i)&result.stars==1)|((result.product_category==i)&(result.stars==2))|((result.product_category==i)&(result.stars==3))|((result.product_category==i)&(result.stars==4))|((result.product_category==i)&(result.stars==5)).copy()     \n",
    "    k=result[j].copy()\n",
    "    probando.append(k)"
   ]
  },
  {
   "cell_type": "markdown",
   "metadata": {},
   "source": [
    "#### We check that the list has all 30 elements"
   ]
  },
  {
   "cell_type": "code",
   "execution_count": 19,
   "metadata": {},
   "outputs": [
    {
     "data": {
      "text/plain": [
       "30"
      ]
     },
     "execution_count": 19,
     "metadata": {},
     "output_type": "execute_result"
    }
   ],
   "source": [
    "len(probando)"
   ]
  },
  {
   "cell_type": "markdown",
   "metadata": {},
   "source": [
    "### Graphics of all categories\n",
    "> In this lists of graphics, i im explaining the distribution of de category scores. This can be useful for analize why diferents categories has more or less satisfactied with the product.\n",
    "\n",
    "> After seeing that, i am going to do a chart with the most frecuent words in the reviews of ONE star"
   ]
  },
  {
   "cell_type": "code",
   "execution_count": 20,
   "metadata": {},
   "outputs": [
    {
     "name": "stderr",
     "output_type": "stream",
     "text": [
      "C:\\Users\\Alfredo\\anaconda3\\lib\\site-packages\\ipykernel_launcher.py:12: RuntimeWarning: More than 20 figures have been opened. Figures created through the pyplot interface (`matplotlib.pyplot.figure`) are retained until explicitly closed and may consume too much memory. (To control this warning, see the rcParam `figure.max_open_warning`).\n",
      "  if sys.path[0] == '':\n"
     ]
    },
    {
     "data": {
      "image/png": "[encoded data removed]",
      "text/plain": [
       "<Figure size 576x288 with 1 Axes>"
      ]
     },
     "metadata": {
      "needs_background": "light"
     },
     "output_type": "display_data"
    },
    {
     "data": {
      "image/png": "[encoded data removed]",
      "text/plain": [
       "<Figure size 576x288 with 1 Axes>"
      ]
     },
     "metadata": {
      "needs_background": "light"
     },
     "output_type": "display_data"
    },
    {
     "data": {
      "image/png": "[encoded data removed]",
      "text/plain": [
       "<Figure size 576x288 with 1 Axes>"
      ]
     },
     "metadata": {
      "needs_background": "light"
     },
     "output_type": "display_data"
    },
    {
     "data": {
      "image/png": "[encoded data removed]",
      "text/plain": [
       "<Figure size 576x288 with 1 Axes>"
      ]
     },
     "metadata": {
      "needs_background": "light"
     },
     "output_type": "display_data"
    },
    {
     "data": {
      "image/png": "[encoded data removed]",
      "text/plain": [
       "<Figure size 576x288 with 1 Axes>"
      ]
     },
     "metadata": {
      "needs_background": "light"
     },
     "output_type": "display_data"
    },
    {
     "data": {
      "image/png": "[encoded data removed]",
      "text/plain": [
       "<Figure size 576x288 with 1 Axes>"
      ]
     },
     "metadata": {
      "needs_background": "light"
     },
     "output_type": "display_data"
    },
    {
     "data": {
      "image/png": "[encoded data removed]",
      "text/plain": [
       "<Figure size 576x288 with 1 Axes>"
      ]
     },
     "metadata": {
      "needs_background": "light"
     },
     "output_type": "display_data"
    },
    {
     "data": {
      "image/png": "[encoded data removed]",
      "text/plain": [
       "<Figure size 576x288 with 1 Axes>"
      ]
     },
     "metadata": {
      "needs_background": "light"
     },
     "output_type": "display_data"
    },
    {
     "data": {
      "image/png": "[encoded data removed]",
      "text/plain": [
       "<Figure size 576x288 with 1 Axes>"
      ]
     },
     "metadata": {
      "needs_background": "light"
     },
     "output_type": "display_data"
    },
    {
     "data": {
      "image/png": "[encoded data removed]",
      "text/plain": [
       "<Figure size 576x288 with 1 Axes>"
      ]
     },
     "metadata": {
      "needs_background": "light"
     },
     "output_type": "display_data"
    },
    {
     "data": {
      "image/png": "[encoded data removed]",
      "text/plain": [
       "<Figure size 576x288 with 1 Axes>"
      ]
     },
     "metadata": {
      "needs_background": "light"
     },
     "output_type": "display_data"
    },
    {
     "data": {
      "image/png": "[encoded data removed]",
      "text/plain": [
       "<Figure size 576x288 with 1 Axes>"
      ]
     },
     "metadata": {
      "needs_background": "light"
     },
     "output_type": "display_data"
    },
    {
     "data": {
      "image/png": "[encoded data removed]",
      "text/plain": [
       "<Figure size 576x288 with 1 Axes>"
      ]
     },
     "metadata": {
      "needs_background": "light"
     },
     "output_type": "display_data"
    },
    {
     "data": {
      "image/png": "[encoded data removed]",
      "text/plain": [
       "<Figure size 576x288 with 1 Axes>"
      ]
     },
     "metadata": {
      "needs_background": "light"
     },
     "output_type": "display_data"
    },
    {
     "data": {
      "image/png": "[encoded data removed]",
      "text/plain": [
       "<Figure size 576x288 with 1 Axes>"
      ]
     },
     "metadata": {
      "needs_background": "light"
     },
     "output_type": "display_data"
    },
    {
     "data": {
      "image/png": "[encoded data removed]",
      "text/plain": [
       "<Figure size 576x288 with 1 Axes>"
      ]
     },
     "metadata": {
      "needs_background": "light"
     },
     "output_type": "display_data"
    },
    {
     "data": {
      "image/png": "[encoded data removed]",
      "text/plain": [
       "<Figure size 576x288 with 1 Axes>"
      ]
     },
     "metadata": {
      "needs_background": "light"
     },
     "output_type": "display_data"
    },
    {
     "data": {
      "image/png": "[encoded data removed]",
      "text/plain": [
       "<Figure size 576x288 with 1 Axes>"
      ]
     },
     "metadata": {
      "needs_background": "light"
     },
     "output_type": "display_data"
    },
    {
     "data": {
      "image/png": "[encoded data removed]",
      "text/plain": [
       "<Figure size 576x288 with 1 Axes>"
      ]
     },
     "metadata": {
      "needs_background": "light"
     },
     "output_type": "display_data"
    },
    {
     "data": {
      "image/png": "[encoded data removed]",
      "text/plain": [
       "<Figure size 576x288 with 1 Axes>"
      ]
     },
     "metadata": {
      "needs_background": "light"
     },
     "output_type": "display_data"
    },
    {
     "data": {
      "image/png": "[encoded data removed]",
      "text/plain": [
       "<Figure size 576x288 with 1 Axes>"
      ]
     },
     "metadata": {
      "needs_background": "light"
     },
     "output_type": "display_data"
    },
    {
     "data": {
      "image/png": "[encoded data removed]",
      "text/plain": [
       "<Figure size 576x288 with 1 Axes>"
      ]
     },
     "metadata": {
      "needs_background": "light"
     },
     "output_type": "display_data"
    },
    {
     "data": {
      "image/png": "[encoded data removed]",
      "text/plain": [
       "<Figure size 576x288 with 1 Axes>"
      ]
     },
     "metadata": {
      "needs_background": "light"
     },
     "output_type": "display_data"
    },
    {
     "data": {
      "image/png": "[encoded data removed]",
      "text/plain": [
       "<Figure size 576x288 with 1 Axes>"
      ]
     },
     "metadata": {
      "needs_background": "light"
     },
     "output_type": "display_data"
    },
    {
     "data": {
      "image/png": "[encoded data removed]",
      "text/plain": [
       "<Figure size 576x288 with 1 Axes>"
      ]
     },
     "metadata": {
      "needs_background": "light"
     },
     "output_type": "display_data"
    },
    {
     "data": {
      "image/png": "[encoded data removed]",
      "text/plain": [
       "<Figure size 576x288 with 1 Axes>"
      ]
     },
     "metadata": {
      "needs_background": "light"
     },
     "output_type": "display_data"
    },
    {
     "data": {
      "image/png": "[encoded data removed]",
      "text/plain": [
       "<Figure size 576x288 with 1 Axes>"
      ]
     },
     "metadata": {
      "needs_background": "light"
     },
     "output_type": "display_data"
    },
    {
     "data": {
      "image/png": "[encoded data removed]",
      "text/plain": [
       "<Figure size 576x288 with 1 Axes>"
      ]
     },
     "metadata": {
      "needs_background": "light"
     },
     "output_type": "display_data"
    },
    {
     "data": {
      "image/png": "[encoded data removed]",
      "text/plain": [
       "<Figure size 576x288 with 1 Axes>"
      ]
     },
     "metadata": {
      "needs_background": "light"
     },
     "output_type": "display_data"
    },
    {
     "data": {
      "image/png": "[encoded data removed]",
      "text/plain": [
       "<Figure size 576x288 with 1 Axes>"
      ]
     },
     "metadata": {
      "needs_background": "light"
     },
     "output_type": "display_data"
    }
   ],
   "source": [
    "class Contador(object):\n",
    "  def __init__(self, inicial=-1):\n",
    "    self.numero = inicial\n",
    "  def siguiente(self):\n",
    "    self.numero += 1\n",
    "    return self.numero\n",
    "cuenta = Contador()\n",
    "for t in probando:\n",
    "    estrellas= t[\"stars\"]\n",
    "    len(t['stars'].unique())\n",
    "    t['stars'].unique()\n",
    "    plt.figure(figsize=(8,4))\n",
    "    plt.xticks(rotation=0)\n",
    "    cuento_estrellas=t['stars'].value_counts()\n",
    "    cuento_estrellas\n",
    "    ax = sns.countplot(x='stars', data=t)\n",
    "    plt.grid()\n",
    "    plt.title(lista_de_productos[cuenta.siguiente()],fontsize=20)"
   ]
  },
  {
   "cell_type": "code",
   "execution_count": 21,
   "metadata": {},
   "outputs": [],
   "source": [
    "#data.to_excel(r'C:\\Users\\Alfredo\\Bitácoras\\example.xlsx', sheet_name='example')"
   ]
  },
  {
   "cell_type": "code",
   "execution_count": 22,
   "metadata": {},
   "outputs": [],
   "source": [
    "# lista_de_productos (es la lista que contiene a las categorias)\n",
    "# probando (es la lista que contiene a los dataframes)"
   ]
  },
  {
   "cell_type": "markdown",
   "metadata": {},
   "source": [
    "### Tokenizing the dataset according to One star\n",
    "> I want to see, what words were the most used in the reviews of a star. \n",
    "> We are a going to use, the dataset \"Data\". Because, the \"result\" dataset is very large"
   ]
  },
  {
   "cell_type": "code",
   "execution_count": 23,
   "metadata": {},
   "outputs": [],
   "source": [
    "malisimo_home=((result.product_category=='home')&(result.stars==1))\n",
    "malisimo_home=result[malisimo_home].copy()\n",
    "#malo=((result.product_category==i)&(result.stars==1))\n",
    "malo=[]\n",
    "for i in lista_de_productos:\n",
    "    j=((data.product_category==i)&(data.stars==1)).copy()\n",
    "    k=data[j].copy()\n",
    "    malo.append(k)"
   ]
  },
  {
   "cell_type": "code",
   "execution_count": 24,
   "metadata": {},
   "outputs": [
    {
     "data": {
      "text/html": [
       "<div>\n",
       "<style scoped>\n",
       "    .dataframe tbody tr th:only-of-type {\n",
       "        vertical-align: middle;\n",
       "    }\n",
       "\n",
       "    .dataframe tbody tr th {\n",
       "        vertical-align: top;\n",
       "    }\n",
       "\n",
       "    .dataframe thead th {\n",
       "        text-align: right;\n",
       "    }\n",
       "</style>\n",
       "<table border=\"1\" class=\"dataframe\">\n",
       "  <thead>\n",
       "    <tr style=\"text-align: right;\">\n",
       "      <th></th>\n",
       "      <th>review_id</th>\n",
       "      <th>product_id</th>\n",
       "      <th>reviewer_id</th>\n",
       "      <th>stars</th>\n",
       "      <th>review_body</th>\n",
       "      <th>review_title</th>\n",
       "      <th>language</th>\n",
       "      <th>product_category</th>\n",
       "      <th>Cat_product_category</th>\n",
       "    </tr>\n",
       "  </thead>\n",
       "  <tbody>\n",
       "    <tr>\n",
       "      <th>5</th>\n",
       "      <td>es_0729140</td>\n",
       "      <td>product_es_0286879</td>\n",
       "      <td>reviewer_es_0041024</td>\n",
       "      <td>1</td>\n",
       "      <td>Hola, después de recoger el paquete me ha lleg...</td>\n",
       "      <td>Bolas rotas</td>\n",
       "      <td>es</td>\n",
       "      <td>home</td>\n",
       "      <td>11</td>\n",
       "    </tr>\n",
       "    <tr>\n",
       "      <th>6</th>\n",
       "      <td>es_0475220</td>\n",
       "      <td>product_es_0313511</td>\n",
       "      <td>reviewer_es_0821388</td>\n",
       "      <td>1</td>\n",
       "      <td>A parte de no poder elegir color, te envian el...</td>\n",
       "      <td>A parte de no poder elegir color...</td>\n",
       "      <td>es</td>\n",
       "      <td>home</td>\n",
       "      <td>11</td>\n",
       "    </tr>\n",
       "  </tbody>\n",
       "</table>\n",
       "</div>"
      ],
      "text/plain": [
       "    review_id          product_id          reviewer_id  stars  \\\n",
       "5  es_0729140  product_es_0286879  reviewer_es_0041024      1   \n",
       "6  es_0475220  product_es_0313511  reviewer_es_0821388      1   \n",
       "\n",
       "                                         review_body  \\\n",
       "5  Hola, después de recoger el paquete me ha lleg...   \n",
       "6  A parte de no poder elegir color, te envian el...   \n",
       "\n",
       "                          review_title language product_category  \\\n",
       "5                          Bolas rotas       es             home   \n",
       "6  A parte de no poder elegir color...       es             home   \n",
       "\n",
       "   Cat_product_category  \n",
       "5                    11  \n",
       "6                    11  "
      ]
     },
     "execution_count": 24,
     "metadata": {},
     "output_type": "execute_result"
    }
   ],
   "source": [
    "malisimo_home.head(2)"
   ]
  },
  {
   "cell_type": "code",
   "execution_count": 25,
   "metadata": {},
   "outputs": [
    {
     "data": {
      "text/plain": [
       "(164, 8)"
      ]
     },
     "execution_count": 25,
     "metadata": {},
     "output_type": "execute_result"
    }
   ],
   "source": [
    "len(malo)\n",
    "malo[0].shape"
   ]
  },
  {
   "cell_type": "markdown",
   "metadata": {},
   "source": [
    "### Want to be sure about the dataset has the correctly stars filter"
   ]
  },
  {
   "cell_type": "code",
   "execution_count": 26,
   "metadata": {},
   "outputs": [
    {
     "name": "stdout",
     "output_type": "stream",
     "text": [
      "Cantidad de estrellas: 1\n",
      "[1]\n"
     ]
    },
    {
     "data": {
      "image/png": "[encoded data removed]",
      "text/plain": [
       "<Figure size 576x288 with 1 Axes>"
      ]
     },
     "metadata": {
      "needs_background": "light"
     },
     "output_type": "display_data"
    }
   ],
   "source": [
    "estrellas=malisimo_home['stars']\n",
    "print(\"Cantidad de estrellas:\", len(malisimo_home['stars'].unique()))\n",
    "print(malisimo_home['stars'].unique())\n",
    "plt.figure(figsize=(8,4))\n",
    "#tipologia.hist()\n",
    "plt.xticks(rotation=0)\n",
    "cuento_estrellas=malisimo_home['stars'].value_counts()\n",
    "cuento_estrellas\n",
    "#sns.set_theme(style=\"darkgrid\")\n",
    "ax = sns.countplot(x='stars', data=malisimo_home)\n",
    "plt.grid()"
   ]
  },
  {
   "cell_type": "code",
   "execution_count": 27,
   "metadata": {},
   "outputs": [
    {
     "data": {
      "text/html": [
       "<div>\n",
       "<style scoped>\n",
       "    .dataframe tbody tr th:only-of-type {\n",
       "        vertical-align: middle;\n",
       "    }\n",
       "\n",
       "    .dataframe tbody tr th {\n",
       "        vertical-align: top;\n",
       "    }\n",
       "\n",
       "    .dataframe thead th {\n",
       "        text-align: right;\n",
       "    }\n",
       "</style>\n",
       "<table border=\"1\" class=\"dataframe\">\n",
       "  <thead>\n",
       "    <tr style=\"text-align: right;\">\n",
       "      <th></th>\n",
       "      <th>lista_de_productos</th>\n",
       "    </tr>\n",
       "  </thead>\n",
       "  <tbody>\n",
       "    <tr>\n",
       "      <th>0</th>\n",
       "      <td>wireless</td>\n",
       "    </tr>\n",
       "    <tr>\n",
       "      <th>1</th>\n",
       "      <td>apparel</td>\n",
       "    </tr>\n",
       "    <tr>\n",
       "      <th>2</th>\n",
       "      <td>sports</td>\n",
       "    </tr>\n",
       "    <tr>\n",
       "      <th>3</th>\n",
       "      <td>home_improvement</td>\n",
       "    </tr>\n",
       "    <tr>\n",
       "      <th>4</th>\n",
       "      <td>beauty</td>\n",
       "    </tr>\n",
       "    <tr>\n",
       "      <th>5</th>\n",
       "      <td>home</td>\n",
       "    </tr>\n",
       "    <tr>\n",
       "      <th>6</th>\n",
       "      <td>baby_product</td>\n",
       "    </tr>\n",
       "    <tr>\n",
       "      <th>7</th>\n",
       "      <td>pc</td>\n",
       "    </tr>\n",
       "    <tr>\n",
       "      <th>8</th>\n",
       "      <td>toy</td>\n",
       "    </tr>\n",
       "    <tr>\n",
       "      <th>9</th>\n",
       "      <td>book</td>\n",
       "    </tr>\n",
       "    <tr>\n",
       "      <th>10</th>\n",
       "      <td>personal_care_appliances</td>\n",
       "    </tr>\n",
       "    <tr>\n",
       "      <th>11</th>\n",
       "      <td>kitchen</td>\n",
       "    </tr>\n",
       "    <tr>\n",
       "      <th>12</th>\n",
       "      <td>lawn_and_garden</td>\n",
       "    </tr>\n",
       "    <tr>\n",
       "      <th>13</th>\n",
       "      <td>pet_products</td>\n",
       "    </tr>\n",
       "    <tr>\n",
       "      <th>14</th>\n",
       "      <td>drugstore</td>\n",
       "    </tr>\n",
       "    <tr>\n",
       "      <th>15</th>\n",
       "      <td>office_product</td>\n",
       "    </tr>\n",
       "    <tr>\n",
       "      <th>16</th>\n",
       "      <td>furniture</td>\n",
       "    </tr>\n",
       "    <tr>\n",
       "      <th>17</th>\n",
       "      <td>electronics</td>\n",
       "    </tr>\n",
       "    <tr>\n",
       "      <th>18</th>\n",
       "      <td>automotive</td>\n",
       "    </tr>\n",
       "    <tr>\n",
       "      <th>19</th>\n",
       "      <td>shoes</td>\n",
       "    </tr>\n",
       "    <tr>\n",
       "      <th>20</th>\n",
       "      <td>jewelry</td>\n",
       "    </tr>\n",
       "    <tr>\n",
       "      <th>21</th>\n",
       "      <td>luggage</td>\n",
       "    </tr>\n",
       "    <tr>\n",
       "      <th>22</th>\n",
       "      <td>camera</td>\n",
       "    </tr>\n",
       "    <tr>\n",
       "      <th>23</th>\n",
       "      <td>industrial_supplies</td>\n",
       "    </tr>\n",
       "    <tr>\n",
       "      <th>24</th>\n",
       "      <td>other</td>\n",
       "    </tr>\n",
       "    <tr>\n",
       "      <th>25</th>\n",
       "      <td>musical_instruments</td>\n",
       "    </tr>\n",
       "    <tr>\n",
       "      <th>26</th>\n",
       "      <td>grocery</td>\n",
       "    </tr>\n",
       "    <tr>\n",
       "      <th>27</th>\n",
       "      <td>digital_ebook_purchase</td>\n",
       "    </tr>\n",
       "    <tr>\n",
       "      <th>28</th>\n",
       "      <td>video_games</td>\n",
       "    </tr>\n",
       "    <tr>\n",
       "      <th>29</th>\n",
       "      <td>watch</td>\n",
       "    </tr>\n",
       "  </tbody>\n",
       "</table>\n",
       "</div>"
      ],
      "text/plain": [
       "          lista_de_productos\n",
       "0                   wireless\n",
       "1                    apparel\n",
       "2                     sports\n",
       "3           home_improvement\n",
       "4                     beauty\n",
       "5                       home\n",
       "6               baby_product\n",
       "7                         pc\n",
       "8                        toy\n",
       "9                       book\n",
       "10  personal_care_appliances\n",
       "11                   kitchen\n",
       "12           lawn_and_garden\n",
       "13              pet_products\n",
       "14                 drugstore\n",
       "15            office_product\n",
       "16                 furniture\n",
       "17               electronics\n",
       "18                automotive\n",
       "19                     shoes\n",
       "20                   jewelry\n",
       "21                   luggage\n",
       "22                    camera\n",
       "23       industrial_supplies\n",
       "24                     other\n",
       "25       musical_instruments\n",
       "26                   grocery\n",
       "27    digital_ebook_purchase\n",
       "28               video_games\n",
       "29                     watch"
      ]
     },
     "execution_count": 27,
     "metadata": {},
     "output_type": "execute_result"
    }
   ],
   "source": [
    "## QUEDA CLARO QUE EL NUMERO DEL INDICE, SERÍA EL NÚMERO DE EL ELEMENTO EN LA LISTA\n",
    "frame_productos = DataFrame(lista_de_productos,columns=['lista_de_productos'])\n",
    "frame_productos"
   ]
  },
  {
   "cell_type": "markdown",
   "metadata": {},
   "source": [
    "### We create a list of lists from home category with reviews of one star "
   ]
  },
  {
   "cell_type": "code",
   "execution_count": 28,
   "metadata": {},
   "outputs": [],
   "source": [
    "criticasmalas=[]\n",
    "for i in malisimo_home.review_body:\n",
    "    criticas=i\n",
    "    criticasmalas.append(criticas)"
   ]
  },
  {
   "cell_type": "code",
   "execution_count": 29,
   "metadata": {},
   "outputs": [
    {
     "name": "stdout",
     "output_type": "stream",
     "text": [
      "La longitud de la lista criticasmalas es:  5651\n"
     ]
    }
   ],
   "source": [
    "print(\"La longitud de la lista criticasmalas es: \",len(criticasmalas))\n",
    "## Es decir que hay 30 listas adentro de esa lista, si nosotros llamamos al df criticasmalas[0]\n",
    "## se imprime el primer dataframe\n",
    "#len(criticasmalas[0])\n",
    "#lista_criticas_malas=[]\n",
    "#for i in criticasmalas:\n",
    "#    lista=i.tolist()    \n",
    "#    lista_criticas_malas.append(lista)"
   ]
  },
  {
   "cell_type": "markdown",
   "metadata": {},
   "source": [
    "### The list \"criticasmalas\" has in lists the reviews"
   ]
  },
  {
   "cell_type": "code",
   "execution_count": 30,
   "metadata": {},
   "outputs": [],
   "source": [
    "## Osea que esta lista de criticas malas, son las criticas malas de Wireless.\n",
    "## Porque recordar que la posicion uno es del articulo wireless.\n",
    "## Cada elemento de la lista, es un comentario\n",
    "#print(\"La longitud de la lista wireless es: \",len(lista_criticas_malas[0]),\"\\n\",lista_criticas_malas[0])\n",
    "#criticasmalas"
   ]
  },
  {
   "cell_type": "markdown",
   "metadata": {},
   "source": [
    "### In the following cell, is the list of bad reviews. What is going to be commented."
   ]
  },
  {
   "cell_type": "code",
   "execution_count": 31,
   "metadata": {},
   "outputs": [],
   "source": [
    "#lista_criticas_malas_cadena"
   ]
  },
  {
   "cell_type": "markdown",
   "metadata": {},
   "source": [
    "### Tokenizing of list"
   ]
  },
  {
   "cell_type": "code",
   "execution_count": 32,
   "metadata": {},
   "outputs": [],
   "source": [
    "criticas_malas_tokenizadas=[]\n",
    "for i in criticasmalas:## Osea la lista entera de criticas\n",
    "    j=nltk.tokenize.word_tokenize(i)\n",
    "    criticas_malas_tokenizadas.append(j)"
   ]
  },
  {
   "cell_type": "code",
   "execution_count": 58,
   "metadata": {},
   "outputs": [
    {
     "data": {
      "text/plain": [
       "5651"
      ]
     },
     "execution_count": 58,
     "metadata": {},
     "output_type": "execute_result"
    }
   ],
   "source": [
    "len(criticas_malas_tokenizadas)\n",
    "#criticas_malas_tokenizadas"
   ]
  },
  {
   "cell_type": "markdown",
   "metadata": {},
   "source": [
    "### We convert the lists inside the list to a string"
   ]
  },
  {
   "cell_type": "code",
   "execution_count": 34,
   "metadata": {},
   "outputs": [],
   "source": [
    "palabras_criticas_malas_tokenizadas = list(itertools.chain(*criticas_malas_tokenizadas))"
   ]
  },
  {
   "cell_type": "code",
   "execution_count": 35,
   "metadata": {},
   "outputs": [],
   "source": [
    "#lista_criticas_malas_cadena ## En formato de lista"
   ]
  },
  {
   "cell_type": "markdown",
   "metadata": {},
   "source": [
    "### If we want to see the first reviews of the list, i mean the reviews of Wireless. The only thing we have to do is, put [0] next to the list. \n",
    "### The cell is left commented"
   ]
  },
  {
   "cell_type": "code",
   "execution_count": 36,
   "metadata": {},
   "outputs": [
    {
     "name": "stdout",
     "output_type": "stream",
     "text": [
      "Hola\n"
     ]
    }
   ],
   "source": [
    "## Recordar que la lista de wireless tiene 5651 comentarios, entonces:\n",
    "print(palabras_criticas_malas_tokenizadas[0]) ## Este sería el primer comentario de la lista de comentarios"
   ]
  },
  {
   "cell_type": "markdown",
   "metadata": {},
   "source": [
    "### We see stop words of Spanish"
   ]
  },
  {
   "cell_type": "code",
   "execution_count": 37,
   "metadata": {},
   "outputs": [],
   "source": [
    "stop_words=set(stopwords.words(\"spanish\"))\n",
    "#stop_words"
   ]
  },
  {
   "cell_type": "code",
   "execution_count": 38,
   "metadata": {},
   "outputs": [],
   "source": [
    "#palabras_criticas_malas_tokenizadas"
   ]
  },
  {
   "cell_type": "code",
   "execution_count": 39,
   "metadata": {},
   "outputs": [
    {
     "name": "stdout",
     "output_type": "stream",
     "text": [
      "Cantidad de elementos dentro de la lista:  168183\n"
     ]
    }
   ],
   "source": [
    "print(\"Cantidad de elementos dentro de la lista: \",len(palabras_criticas_malas_tokenizadas))\n",
    "#criticas_malas_tokenizadas"
   ]
  },
  {
   "cell_type": "code",
   "execution_count": 40,
   "metadata": {},
   "outputs": [],
   "source": [
    "filtered_sentence_malisimo=[]\n",
    "for w in palabras_criticas_malas_tokenizadas:\n",
    "    if w not in stop_words:\n",
    "        filtered_sentence_malisimo.append(w)\n",
    "#filtered_sentence_malisimo"
   ]
  },
  {
   "cell_type": "markdown",
   "metadata": {},
   "source": [
    "### After filtering by \"stop words\", the length of the list is 98752, much more shorter than before."
   ]
  },
  {
   "cell_type": "code",
   "execution_count": 41,
   "metadata": {},
   "outputs": [
    {
     "data": {
      "text/plain": [
       "98752"
      ]
     },
     "execution_count": 41,
     "metadata": {},
     "output_type": "execute_result"
    }
   ],
   "source": [
    "len(filtered_sentence_malisimo)"
   ]
  },
  {
   "cell_type": "code",
   "execution_count": 42,
   "metadata": {},
   "outputs": [
    {
     "data": {
      "text/html": [
       "<div>\n",
       "<style scoped>\n",
       "    .dataframe tbody tr th:only-of-type {\n",
       "        vertical-align: middle;\n",
       "    }\n",
       "\n",
       "    .dataframe tbody tr th {\n",
       "        vertical-align: top;\n",
       "    }\n",
       "\n",
       "    .dataframe thead th {\n",
       "        text-align: right;\n",
       "    }\n",
       "</style>\n",
       "<table border=\"1\" class=\"dataframe\">\n",
       "  <thead>\n",
       "    <tr style=\"text-align: right;\">\n",
       "      <th></th>\n",
       "      <th>Palabras</th>\n",
       "    </tr>\n",
       "  </thead>\n",
       "  <tbody>\n",
       "    <tr>\n",
       "      <th>0</th>\n",
       "      <td>Hola</td>\n",
       "    </tr>\n",
       "    <tr>\n",
       "      <th>1</th>\n",
       "      <td>,</td>\n",
       "    </tr>\n",
       "    <tr>\n",
       "      <th>2</th>\n",
       "      <td>después</td>\n",
       "    </tr>\n",
       "    <tr>\n",
       "      <th>3</th>\n",
       "      <td>recoger</td>\n",
       "    </tr>\n",
       "    <tr>\n",
       "      <th>4</th>\n",
       "      <td>paquete</td>\n",
       "    </tr>\n",
       "    <tr>\n",
       "      <th>...</th>\n",
       "      <td>...</td>\n",
       "    </tr>\n",
       "    <tr>\n",
       "      <th>98747</th>\n",
       "      <td>blancos</td>\n",
       "    </tr>\n",
       "    <tr>\n",
       "      <th>98748</th>\n",
       "      <td>llegado</td>\n",
       "    </tr>\n",
       "    <tr>\n",
       "      <th>98749</th>\n",
       "      <td>metálicos</td>\n",
       "    </tr>\n",
       "    <tr>\n",
       "      <th>98750</th>\n",
       "      <td>...</td>\n",
       "    </tr>\n",
       "    <tr>\n",
       "      <th>98751</th>\n",
       "      <td>.</td>\n",
       "    </tr>\n",
       "  </tbody>\n",
       "</table>\n",
       "<p>98752 rows × 1 columns</p>\n",
       "</div>"
      ],
      "text/plain": [
       "        Palabras\n",
       "0           Hola\n",
       "1              ,\n",
       "2        después\n",
       "3        recoger\n",
       "4        paquete\n",
       "...          ...\n",
       "98747    blancos\n",
       "98748    llegado\n",
       "98749  metálicos\n",
       "98750        ...\n",
       "98751          .\n",
       "\n",
       "[98752 rows x 1 columns]"
      ]
     },
     "execution_count": 42,
     "metadata": {},
     "output_type": "execute_result"
    }
   ],
   "source": [
    "df_de_palabras_una_estrella = DataFrame(filtered_sentence_malisimo,columns=['Palabras'])\n",
    "df_de_palabras_una_estrella"
   ]
  },
  {
   "cell_type": "code",
   "execution_count": 43,
   "metadata": {},
   "outputs": [],
   "source": [
    "df_de_palabras_una_estrella=df_de_palabras_una_estrella.groupby([\"Palabras\"]).size().reset_index(name=\"Frecuencia\")"
   ]
  },
  {
   "cell_type": "code",
   "execution_count": 44,
   "metadata": {},
   "outputs": [
    {
     "data": {
      "text/html": [
       "<div>\n",
       "<style scoped>\n",
       "    .dataframe tbody tr th:only-of-type {\n",
       "        vertical-align: middle;\n",
       "    }\n",
       "\n",
       "    .dataframe tbody tr th {\n",
       "        vertical-align: top;\n",
       "    }\n",
       "\n",
       "    .dataframe thead th {\n",
       "        text-align: right;\n",
       "    }\n",
       "</style>\n",
       "<table border=\"1\" class=\"dataframe\">\n",
       "  <thead>\n",
       "    <tr style=\"text-align: right;\">\n",
       "      <th></th>\n",
       "      <th>Palabras</th>\n",
       "      <th>Frecuencia</th>\n",
       "    </tr>\n",
       "  </thead>\n",
       "  <tbody>\n",
       "    <tr>\n",
       "      <th>24</th>\n",
       "      <td>.</td>\n",
       "      <td>8107</td>\n",
       "    </tr>\n",
       "    <tr>\n",
       "      <th>10</th>\n",
       "      <td>,</td>\n",
       "      <td>6302</td>\n",
       "    </tr>\n",
       "    <tr>\n",
       "      <th>1607</th>\n",
       "      <td>No</td>\n",
       "      <td>1903</td>\n",
       "    </tr>\n",
       "    <tr>\n",
       "      <th>9782</th>\n",
       "      <td>producto</td>\n",
       "      <td>897</td>\n",
       "    </tr>\n",
       "    <tr>\n",
       "      <th>0</th>\n",
       "      <td>!</td>\n",
       "      <td>845</td>\n",
       "    </tr>\n",
       "    <tr>\n",
       "      <th>26</th>\n",
       "      <td>...</td>\n",
       "      <td>753</td>\n",
       "    </tr>\n",
       "    <tr>\n",
       "      <th>975</th>\n",
       "      <td>El</td>\n",
       "      <td>636</td>\n",
       "    </tr>\n",
       "    <tr>\n",
       "      <th>3676</th>\n",
       "      <td>calidad</td>\n",
       "      <td>590</td>\n",
       "    </tr>\n",
       "    <tr>\n",
       "      <th>7840</th>\n",
       "      <td>llegado</td>\n",
       "      <td>561</td>\n",
       "    </tr>\n",
       "    <tr>\n",
       "      <th>3422</th>\n",
       "      <td>bien</td>\n",
       "      <td>523</td>\n",
       "    </tr>\n",
       "    <tr>\n",
       "      <th>1378</th>\n",
       "      <td>La</td>\n",
       "      <td>520</td>\n",
       "    </tr>\n",
       "    <tr>\n",
       "      <th>10985</th>\n",
       "      <td>si</td>\n",
       "      <td>512</td>\n",
       "    </tr>\n",
       "    <tr>\n",
       "      <th>5570</th>\n",
       "      <td>dos</td>\n",
       "      <td>444</td>\n",
       "    </tr>\n",
       "    <tr>\n",
       "      <th>10304</th>\n",
       "      <td>recomiendo</td>\n",
       "      <td>375</td>\n",
       "    </tr>\n",
       "    <tr>\n",
       "      <th>1011</th>\n",
       "      <td>Es</td>\n",
       "      <td>363</td>\n",
       "    </tr>\n",
       "    <tr>\n",
       "      <th>5440</th>\n",
       "      <td>dinero</td>\n",
       "      <td>361</td>\n",
       "    </tr>\n",
       "    <tr>\n",
       "      <th>1418</th>\n",
       "      <td>Lo</td>\n",
       "      <td>360</td>\n",
       "    </tr>\n",
       "    <tr>\n",
       "      <th>1530</th>\n",
       "      <td>Me</td>\n",
       "      <td>359</td>\n",
       "    </tr>\n",
       "    <tr>\n",
       "      <th>8024</th>\n",
       "      <td>mal</td>\n",
       "      <td>346</td>\n",
       "    </tr>\n",
       "    <tr>\n",
       "      <th>1564</th>\n",
       "      <td>Muy</td>\n",
       "      <td>310</td>\n",
       "    </tr>\n",
       "  </tbody>\n",
       "</table>\n",
       "</div>"
      ],
      "text/plain": [
       "         Palabras  Frecuencia\n",
       "24              .        8107\n",
       "10              ,        6302\n",
       "1607           No        1903\n",
       "9782     producto         897\n",
       "0               !         845\n",
       "26            ...         753\n",
       "975            El         636\n",
       "3676      calidad         590\n",
       "7840      llegado         561\n",
       "3422         bien         523\n",
       "1378           La         520\n",
       "10985          si         512\n",
       "5570          dos         444\n",
       "10304  recomiendo         375\n",
       "1011           Es         363\n",
       "5440       dinero         361\n",
       "1418           Lo         360\n",
       "1530           Me         359\n",
       "8024          mal         346\n",
       "1564          Muy         310"
      ]
     },
     "execution_count": 44,
     "metadata": {},
     "output_type": "execute_result"
    }
   ],
   "source": [
    "df_de_palabras_una_estrella.sort_values(by=\"Frecuencia\",ascending=False).head(20)"
   ]
  },
  {
   "cell_type": "markdown",
   "metadata": {},
   "source": [
    "## Stemming"
   ]
  },
  {
   "cell_type": "code",
   "execution_count": 45,
   "metadata": {},
   "outputs": [],
   "source": [
    "ps=PorterStemmer()\n",
    "# la lista es: filtered_sentence_malisimo\n",
    "filtered_sentence_malisimo_stemmizado=[]\n",
    "for w in filtered_sentence_malisimo:\n",
    "    j=ps.stem(w)\n",
    "    filtered_sentence_malisimo_stemmizado.append(j)"
   ]
  },
  {
   "cell_type": "code",
   "execution_count": 46,
   "metadata": {},
   "outputs": [],
   "source": [
    "#filtered_sentence_malisimo_stemmizado"
   ]
  },
  {
   "cell_type": "code",
   "execution_count": 47,
   "metadata": {},
   "outputs": [
    {
     "data": {
      "text/html": [
       "<div>\n",
       "<style scoped>\n",
       "    .dataframe tbody tr th:only-of-type {\n",
       "        vertical-align: middle;\n",
       "    }\n",
       "\n",
       "    .dataframe tbody tr th {\n",
       "        vertical-align: top;\n",
       "    }\n",
       "\n",
       "    .dataframe thead th {\n",
       "        text-align: right;\n",
       "    }\n",
       "</style>\n",
       "<table border=\"1\" class=\"dataframe\">\n",
       "  <thead>\n",
       "    <tr style=\"text-align: right;\">\n",
       "      <th></th>\n",
       "      <th>Palabras</th>\n",
       "    </tr>\n",
       "  </thead>\n",
       "  <tbody>\n",
       "    <tr>\n",
       "      <th>0</th>\n",
       "      <td>hola</td>\n",
       "    </tr>\n",
       "    <tr>\n",
       "      <th>1</th>\n",
       "      <td>,</td>\n",
       "    </tr>\n",
       "    <tr>\n",
       "      <th>2</th>\n",
       "      <td>despué</td>\n",
       "    </tr>\n",
       "    <tr>\n",
       "      <th>3</th>\n",
       "      <td>recog</td>\n",
       "    </tr>\n",
       "    <tr>\n",
       "      <th>4</th>\n",
       "      <td>paquet</td>\n",
       "    </tr>\n",
       "    <tr>\n",
       "      <th>...</th>\n",
       "      <td>...</td>\n",
       "    </tr>\n",
       "    <tr>\n",
       "      <th>98747</th>\n",
       "      <td>blanco</td>\n",
       "    </tr>\n",
       "    <tr>\n",
       "      <th>98748</th>\n",
       "      <td>llegado</td>\n",
       "    </tr>\n",
       "    <tr>\n",
       "      <th>98749</th>\n",
       "      <td>metálico</td>\n",
       "    </tr>\n",
       "    <tr>\n",
       "      <th>98750</th>\n",
       "      <td>...</td>\n",
       "    </tr>\n",
       "    <tr>\n",
       "      <th>98751</th>\n",
       "      <td>.</td>\n",
       "    </tr>\n",
       "  </tbody>\n",
       "</table>\n",
       "<p>98752 rows × 1 columns</p>\n",
       "</div>"
      ],
      "text/plain": [
       "       Palabras\n",
       "0          hola\n",
       "1             ,\n",
       "2        despué\n",
       "3         recog\n",
       "4        paquet\n",
       "...         ...\n",
       "98747    blanco\n",
       "98748   llegado\n",
       "98749  metálico\n",
       "98750       ...\n",
       "98751         .\n",
       "\n",
       "[98752 rows x 1 columns]"
      ]
     },
     "execution_count": 47,
     "metadata": {},
     "output_type": "execute_result"
    }
   ],
   "source": [
    "filtered_sentence_malisimo_stemmizado = DataFrame(filtered_sentence_malisimo_stemmizado,columns=['Palabras'])\n",
    "filtered_sentence_malisimo_stemmizado"
   ]
  },
  {
   "cell_type": "code",
   "execution_count": 48,
   "metadata": {},
   "outputs": [],
   "source": [
    "df_filtered_sentence_malisimo_stemmizado=filtered_sentence_malisimo_stemmizado.groupby([\"Palabras\"]).size().reset_index(name=\"Frecuencia\")"
   ]
  },
  {
   "cell_type": "code",
   "execution_count": 49,
   "metadata": {},
   "outputs": [],
   "source": [
    "df_filtered_sentence_malisimo_stemmizado=df_filtered_sentence_malisimo_stemmizado.sort_values(by=\"Frecuencia\",ascending=False)"
   ]
  },
  {
   "cell_type": "code",
   "execution_count": 50,
   "metadata": {},
   "outputs": [
    {
     "data": {
      "text/html": [
       "<div>\n",
       "<style scoped>\n",
       "    .dataframe tbody tr th:only-of-type {\n",
       "        vertical-align: middle;\n",
       "    }\n",
       "\n",
       "    .dataframe tbody tr th {\n",
       "        vertical-align: top;\n",
       "    }\n",
       "\n",
       "    .dataframe thead th {\n",
       "        text-align: right;\n",
       "    }\n",
       "</style>\n",
       "<table border=\"1\" class=\"dataframe\">\n",
       "  <thead>\n",
       "    <tr style=\"text-align: right;\">\n",
       "      <th></th>\n",
       "      <th>Palabras</th>\n",
       "      <th>Frecuencia</th>\n",
       "    </tr>\n",
       "  </thead>\n",
       "  <tbody>\n",
       "    <tr>\n",
       "      <th>24</th>\n",
       "      <td>.</td>\n",
       "      <td>8107</td>\n",
       "    </tr>\n",
       "    <tr>\n",
       "      <th>10</th>\n",
       "      <td>,</td>\n",
       "      <td>6302</td>\n",
       "    </tr>\n",
       "    <tr>\n",
       "      <th>356</th>\n",
       "      <td>No</td>\n",
       "      <td>1903</td>\n",
       "    </tr>\n",
       "    <tr>\n",
       "      <th>7149</th>\n",
       "      <td>producto</td>\n",
       "      <td>1030</td>\n",
       "    </tr>\n",
       "    <tr>\n",
       "      <th>0</th>\n",
       "      <td>!</td>\n",
       "      <td>845</td>\n",
       "    </tr>\n",
       "    <tr>\n",
       "      <th>26</th>\n",
       "      <td>...</td>\n",
       "      <td>753</td>\n",
       "    </tr>\n",
       "    <tr>\n",
       "      <th>320</th>\n",
       "      <td>El</td>\n",
       "      <td>636</td>\n",
       "    </tr>\n",
       "    <tr>\n",
       "      <th>1573</th>\n",
       "      <td>calidad</td>\n",
       "      <td>626</td>\n",
       "    </tr>\n",
       "    <tr>\n",
       "      <th>5412</th>\n",
       "      <td>llegado</td>\n",
       "      <td>570</td>\n",
       "    </tr>\n",
       "    <tr>\n",
       "      <th>1345</th>\n",
       "      <td>bien</td>\n",
       "      <td>536</td>\n",
       "    </tr>\n",
       "    <tr>\n",
       "      <th>343</th>\n",
       "      <td>La</td>\n",
       "      <td>520</td>\n",
       "    </tr>\n",
       "    <tr>\n",
       "      <th>8243</th>\n",
       "      <td>si</td>\n",
       "      <td>512</td>\n",
       "    </tr>\n",
       "    <tr>\n",
       "      <th>3247</th>\n",
       "      <td>do</td>\n",
       "      <td>466</td>\n",
       "    </tr>\n",
       "    <tr>\n",
       "      <th>3341</th>\n",
       "      <td>día</td>\n",
       "      <td>433</td>\n",
       "    </tr>\n",
       "    <tr>\n",
       "      <th>7616</th>\n",
       "      <td>recomiendo</td>\n",
       "      <td>404</td>\n",
       "    </tr>\n",
       "    <tr>\n",
       "      <th>3170</th>\n",
       "      <td>dinero</td>\n",
       "      <td>400</td>\n",
       "    </tr>\n",
       "    <tr>\n",
       "      <th>5587</th>\n",
       "      <td>mala</td>\n",
       "      <td>395</td>\n",
       "    </tr>\n",
       "    <tr>\n",
       "      <th>5584</th>\n",
       "      <td>mal</td>\n",
       "      <td>386</td>\n",
       "    </tr>\n",
       "    <tr>\n",
       "      <th>322</th>\n",
       "      <td>Es</td>\n",
       "      <td>363</td>\n",
       "    </tr>\n",
       "    <tr>\n",
       "      <th>345</th>\n",
       "      <td>Lo</td>\n",
       "      <td>360</td>\n",
       "    </tr>\n",
       "    <tr>\n",
       "      <th>349</th>\n",
       "      <td>Me</td>\n",
       "      <td>359</td>\n",
       "    </tr>\n",
       "    <tr>\n",
       "      <th>9126</th>\n",
       "      <td>vendedor</td>\n",
       "      <td>339</td>\n",
       "    </tr>\n",
       "    <tr>\n",
       "      <th>5441</th>\n",
       "      <td>llegó</td>\n",
       "      <td>337</td>\n",
       "    </tr>\n",
       "    <tr>\n",
       "      <th>6055</th>\n",
       "      <td>muy</td>\n",
       "      <td>336</td>\n",
       "    </tr>\n",
       "    <tr>\n",
       "      <th>8370</th>\n",
       "      <td>solo</td>\n",
       "      <td>327</td>\n",
       "    </tr>\n",
       "    <tr>\n",
       "      <th>6567</th>\n",
       "      <td>pedido</td>\n",
       "      <td>324</td>\n",
       "    </tr>\n",
       "    <tr>\n",
       "      <th>832</th>\n",
       "      <td>amazon</td>\n",
       "      <td>321</td>\n",
       "    </tr>\n",
       "    <tr>\n",
       "      <th>5827</th>\n",
       "      <td>mese</td>\n",
       "      <td>310</td>\n",
       "    </tr>\n",
       "    <tr>\n",
       "      <th>4649</th>\n",
       "      <td>hace</td>\n",
       "      <td>301</td>\n",
       "    </tr>\n",
       "    <tr>\n",
       "      <th>7988</th>\n",
       "      <td>roto</td>\n",
       "      <td>297</td>\n",
       "    </tr>\n",
       "    <tr>\n",
       "      <th>6229</th>\n",
       "      <td>nunca</td>\n",
       "      <td>294</td>\n",
       "    </tr>\n",
       "    <tr>\n",
       "      <th>3017</th>\n",
       "      <td>despué</td>\n",
       "      <td>292</td>\n",
       "    </tr>\n",
       "    <tr>\n",
       "      <th>4392</th>\n",
       "      <td>funciona</td>\n",
       "      <td>289</td>\n",
       "    </tr>\n",
       "    <tr>\n",
       "      <th>4315</th>\n",
       "      <td>foto</td>\n",
       "      <td>285</td>\n",
       "    </tr>\n",
       "    <tr>\n",
       "      <th>373</th>\n",
       "      <td>Se</td>\n",
       "      <td>263</td>\n",
       "    </tr>\n",
       "    <tr>\n",
       "      <th>5752</th>\n",
       "      <td>me</td>\n",
       "      <td>262</td>\n",
       "    </tr>\n",
       "    <tr>\n",
       "      <th>8958</th>\n",
       "      <td>una</td>\n",
       "      <td>255</td>\n",
       "    </tr>\n",
       "    <tr>\n",
       "      <th>2088</th>\n",
       "      <td>comprar</td>\n",
       "      <td>254</td>\n",
       "    </tr>\n",
       "    <tr>\n",
       "      <th>9005</th>\n",
       "      <td>uso</td>\n",
       "      <td>252</td>\n",
       "    </tr>\n",
       "    <tr>\n",
       "      <th>7547</th>\n",
       "      <td>recibido</td>\n",
       "      <td>252</td>\n",
       "    </tr>\n",
       "    <tr>\n",
       "      <th>6474</th>\n",
       "      <td>parec</td>\n",
       "      <td>247</td>\n",
       "    </tr>\n",
       "    <tr>\n",
       "      <th>5556</th>\n",
       "      <td>ma</td>\n",
       "      <td>246</td>\n",
       "    </tr>\n",
       "    <tr>\n",
       "      <th>9202</th>\n",
       "      <td>vez</td>\n",
       "      <td>236</td>\n",
       "    </tr>\n",
       "    <tr>\n",
       "      <th>162</th>\n",
       "      <td>2</td>\n",
       "      <td>226</td>\n",
       "    </tr>\n",
       "    <tr>\n",
       "      <th>2074</th>\n",
       "      <td>compra</td>\n",
       "      <td>225</td>\n",
       "    </tr>\n",
       "  </tbody>\n",
       "</table>\n",
       "</div>"
      ],
      "text/plain": [
       "        Palabras  Frecuencia\n",
       "24             .        8107\n",
       "10             ,        6302\n",
       "356           No        1903\n",
       "7149    producto        1030\n",
       "0              !         845\n",
       "26           ...         753\n",
       "320           El         636\n",
       "1573     calidad         626\n",
       "5412     llegado         570\n",
       "1345        bien         536\n",
       "343           La         520\n",
       "8243          si         512\n",
       "3247          do         466\n",
       "3341         día         433\n",
       "7616  recomiendo         404\n",
       "3170      dinero         400\n",
       "5587        mala         395\n",
       "5584         mal         386\n",
       "322           Es         363\n",
       "345           Lo         360\n",
       "349           Me         359\n",
       "9126    vendedor         339\n",
       "5441       llegó         337\n",
       "6055         muy         336\n",
       "8370        solo         327\n",
       "6567      pedido         324\n",
       "832       amazon         321\n",
       "5827        mese         310\n",
       "4649        hace         301\n",
       "7988        roto         297\n",
       "6229       nunca         294\n",
       "3017      despué         292\n",
       "4392    funciona         289\n",
       "4315        foto         285\n",
       "373           Se         263\n",
       "5752          me         262\n",
       "8958         una         255\n",
       "2088     comprar         254\n",
       "9005         uso         252\n",
       "7547    recibido         252\n",
       "6474       parec         247\n",
       "5556          ma         246\n",
       "9202         vez         236\n",
       "162            2         226\n",
       "2074      compra         225"
      ]
     },
     "execution_count": 50,
     "metadata": {},
     "output_type": "execute_result"
    }
   ],
   "source": [
    "df_filtered_sentence_malisimo_stemmizado.head(45)"
   ]
  },
  {
   "cell_type": "markdown",
   "metadata": {},
   "source": [
    "### Purging the words the stop words did not identify"
   ]
  },
  {
   "cell_type": "code",
   "execution_count": 51,
   "metadata": {},
   "outputs": [],
   "source": [
    "df_filtered_sentence_malisimo_stemmizado=df_filtered_sentence_malisimo_stemmizado.drop([24,10,320,343,3247,322,345,349,373,5752,5556,162],axis=0)"
   ]
  },
  {
   "cell_type": "code",
   "execution_count": 52,
   "metadata": {},
   "outputs": [
    {
     "data": {
      "text/html": [
       "<div>\n",
       "<style scoped>\n",
       "    .dataframe tbody tr th:only-of-type {\n",
       "        vertical-align: middle;\n",
       "    }\n",
       "\n",
       "    .dataframe tbody tr th {\n",
       "        vertical-align: top;\n",
       "    }\n",
       "\n",
       "    .dataframe thead th {\n",
       "        text-align: right;\n",
       "    }\n",
       "</style>\n",
       "<table border=\"1\" class=\"dataframe\">\n",
       "  <thead>\n",
       "    <tr style=\"text-align: right;\">\n",
       "      <th></th>\n",
       "      <th>Palabras</th>\n",
       "      <th>Frecuencia</th>\n",
       "    </tr>\n",
       "  </thead>\n",
       "  <tbody>\n",
       "    <tr>\n",
       "      <th>356</th>\n",
       "      <td>No</td>\n",
       "      <td>1903</td>\n",
       "    </tr>\n",
       "    <tr>\n",
       "      <th>7149</th>\n",
       "      <td>producto</td>\n",
       "      <td>1030</td>\n",
       "    </tr>\n",
       "    <tr>\n",
       "      <th>0</th>\n",
       "      <td>!</td>\n",
       "      <td>845</td>\n",
       "    </tr>\n",
       "    <tr>\n",
       "      <th>26</th>\n",
       "      <td>...</td>\n",
       "      <td>753</td>\n",
       "    </tr>\n",
       "    <tr>\n",
       "      <th>1573</th>\n",
       "      <td>calidad</td>\n",
       "      <td>626</td>\n",
       "    </tr>\n",
       "    <tr>\n",
       "      <th>5412</th>\n",
       "      <td>llegado</td>\n",
       "      <td>570</td>\n",
       "    </tr>\n",
       "    <tr>\n",
       "      <th>1345</th>\n",
       "      <td>bien</td>\n",
       "      <td>536</td>\n",
       "    </tr>\n",
       "    <tr>\n",
       "      <th>8243</th>\n",
       "      <td>si</td>\n",
       "      <td>512</td>\n",
       "    </tr>\n",
       "    <tr>\n",
       "      <th>3341</th>\n",
       "      <td>día</td>\n",
       "      <td>433</td>\n",
       "    </tr>\n",
       "    <tr>\n",
       "      <th>7616</th>\n",
       "      <td>recomiendo</td>\n",
       "      <td>404</td>\n",
       "    </tr>\n",
       "    <tr>\n",
       "      <th>3170</th>\n",
       "      <td>dinero</td>\n",
       "      <td>400</td>\n",
       "    </tr>\n",
       "    <tr>\n",
       "      <th>5587</th>\n",
       "      <td>mala</td>\n",
       "      <td>395</td>\n",
       "    </tr>\n",
       "    <tr>\n",
       "      <th>5584</th>\n",
       "      <td>mal</td>\n",
       "      <td>386</td>\n",
       "    </tr>\n",
       "    <tr>\n",
       "      <th>9126</th>\n",
       "      <td>vendedor</td>\n",
       "      <td>339</td>\n",
       "    </tr>\n",
       "    <tr>\n",
       "      <th>5441</th>\n",
       "      <td>llegó</td>\n",
       "      <td>337</td>\n",
       "    </tr>\n",
       "    <tr>\n",
       "      <th>6055</th>\n",
       "      <td>muy</td>\n",
       "      <td>336</td>\n",
       "    </tr>\n",
       "    <tr>\n",
       "      <th>8370</th>\n",
       "      <td>solo</td>\n",
       "      <td>327</td>\n",
       "    </tr>\n",
       "    <tr>\n",
       "      <th>6567</th>\n",
       "      <td>pedido</td>\n",
       "      <td>324</td>\n",
       "    </tr>\n",
       "    <tr>\n",
       "      <th>832</th>\n",
       "      <td>amazon</td>\n",
       "      <td>321</td>\n",
       "    </tr>\n",
       "    <tr>\n",
       "      <th>5827</th>\n",
       "      <td>mese</td>\n",
       "      <td>310</td>\n",
       "    </tr>\n",
       "    <tr>\n",
       "      <th>4649</th>\n",
       "      <td>hace</td>\n",
       "      <td>301</td>\n",
       "    </tr>\n",
       "    <tr>\n",
       "      <th>7988</th>\n",
       "      <td>roto</td>\n",
       "      <td>297</td>\n",
       "    </tr>\n",
       "    <tr>\n",
       "      <th>6229</th>\n",
       "      <td>nunca</td>\n",
       "      <td>294</td>\n",
       "    </tr>\n",
       "    <tr>\n",
       "      <th>3017</th>\n",
       "      <td>despué</td>\n",
       "      <td>292</td>\n",
       "    </tr>\n",
       "    <tr>\n",
       "      <th>4392</th>\n",
       "      <td>funciona</td>\n",
       "      <td>289</td>\n",
       "    </tr>\n",
       "    <tr>\n",
       "      <th>4315</th>\n",
       "      <td>foto</td>\n",
       "      <td>285</td>\n",
       "    </tr>\n",
       "    <tr>\n",
       "      <th>8958</th>\n",
       "      <td>una</td>\n",
       "      <td>255</td>\n",
       "    </tr>\n",
       "    <tr>\n",
       "      <th>2088</th>\n",
       "      <td>comprar</td>\n",
       "      <td>254</td>\n",
       "    </tr>\n",
       "    <tr>\n",
       "      <th>9005</th>\n",
       "      <td>uso</td>\n",
       "      <td>252</td>\n",
       "    </tr>\n",
       "    <tr>\n",
       "      <th>7547</th>\n",
       "      <td>recibido</td>\n",
       "      <td>252</td>\n",
       "    </tr>\n",
       "  </tbody>\n",
       "</table>\n",
       "</div>"
      ],
      "text/plain": [
       "        Palabras  Frecuencia\n",
       "356           No        1903\n",
       "7149    producto        1030\n",
       "0              !         845\n",
       "26           ...         753\n",
       "1573     calidad         626\n",
       "5412     llegado         570\n",
       "1345        bien         536\n",
       "8243          si         512\n",
       "3341         día         433\n",
       "7616  recomiendo         404\n",
       "3170      dinero         400\n",
       "5587        mala         395\n",
       "5584         mal         386\n",
       "9126    vendedor         339\n",
       "5441       llegó         337\n",
       "6055         muy         336\n",
       "8370        solo         327\n",
       "6567      pedido         324\n",
       "832       amazon         321\n",
       "5827        mese         310\n",
       "4649        hace         301\n",
       "7988        roto         297\n",
       "6229       nunca         294\n",
       "3017      despué         292\n",
       "4392    funciona         289\n",
       "4315        foto         285\n",
       "8958         una         255\n",
       "2088     comprar         254\n",
       "9005         uso         252\n",
       "7547    recibido         252"
      ]
     },
     "execution_count": 52,
     "metadata": {},
     "output_type": "execute_result"
    }
   ],
   "source": [
    "df_filtered_sentence_malisimo_stemmizado.head(30)"
   ]
  },
  {
   "cell_type": "markdown",
   "metadata": {},
   "source": [
    "## Que palabras fueron las más usadas para las críticas de una estrella?"
   ]
  },
  {
   "cell_type": "code",
   "execution_count": 53,
   "metadata": {},
   "outputs": [
    {
     "data": {
      "image/png": "[encoded data removed]",
      "text/plain": [
       "<Figure size 1080x576 with 1 Axes>"
      ]
     },
     "metadata": {
      "needs_background": "light"
     },
     "output_type": "display_data"
    }
   ],
   "source": [
    "plt.figure(figsize = (15,8))\n",
    "plot = sns.barplot(x  = df_filtered_sentence_malisimo_stemmizado.iloc[:30].Palabras, y = df_filtered_sentence_malisimo_stemmizado.iloc[:30].Frecuencia)\n",
    "for item in plot.get_xticklabels():\n",
    "    item.set_rotation(90)\n",
    "plt.grid()\n",
    "plt.title('Palabras más usadas para reviews de 1 estrella',fontsize=20)\n",
    "plt.show()"
   ]
  },
  {
   "cell_type": "markdown",
   "metadata": {},
   "source": [
    "## Conclusiones:\n",
    "### After the exploratory analysis, we can see the most frecuent  words in the chart. \n",
    "> Obviusly the expression \"No\", is the first word in the graph. \n",
    " \n",
    "> Then, another thing interesting is the exclamation simbol \"!\", surely the people use it to enphasize angry.\n",
    "\n",
    "> One thing that i did not expect, are the \"...\" suspension points. I think people use it to explain disappointment.\n",
    "\n",
    "> En el grafico aparece la palabra \"si\", pero si uno la mira fuera de contexto puede parecer positivo. \n",
    "> Pero analizando el contexto del análisis, que son las reseñas negativas. La palabra si, funciona como condicionante.\"\n",
    "\n",
    "> Ejemplo: \"Si me hubieran avisado que era así, no lo compraba\",\"Si tenía más fotos no lo compraba\"\n",
    "\n",
    "> Otra cosa, es que el adjetivo bien es positivo, sin embargo está precedido por palabras negativas, por lo que hacen mutar su significado."
   ]
  },
  {
   "cell_type": "code",
   "execution_count": 57,
   "metadata": {},
   "outputs": [
    {
     "name": "stdout",
     "output_type": "stream",
     "text": [
      "En el grafico aparece la palabra si ; pero si uno la mira fuera de contexto puede parecer\n",
      "positivo. Pero analizando el contexto del análisis, que son las reseñas negativas. La palabra si, \n",
      "funciona comocondicionante.\n",
      "Ejemplo: Si me hubieran avisado que era así, no lo compraba Si tenía más fotos no lo compraba\n",
      "El adjetivo bien es positivo, sin embargo está precedido por palabras negativas, por lo que hacen\n",
      "mutar su significado\n"
     ]
    }
   ],
   "source": [
    "print(\"En el grafico aparece la palabra\", \"si\",\"; pero si uno la mira fuera de contexto puede parecer\\npositivo.\",   \n",
    "\"Pero analizando el contexto del análisis, que son las reseñas negativas. La palabra si, \\nfunciona como\"\n",
    "\"condicionante.\") \n"
   ]
  },
  {
   "cell_type": "markdown",
   "metadata": {},
   "source": [
    "### Ahora queremos ver la distribución de palabras para las criticas de 5 estrellas, para la categoría \"home\""
   ]
  },
  {
   "cell_type": "code",
   "execution_count": 59,
   "metadata": {},
   "outputs": [],
   "source": [
    "perfecto_home=((result.product_category=='home')&(result.stars==5))\n",
    "perfecto_home=result[perfecto_home].copy()"
   ]
  },
  {
   "cell_type": "code",
   "execution_count": 67,
   "metadata": {},
   "outputs": [
    {
     "name": "stdout",
     "output_type": "stream",
     "text": [
      "Cantidad de estrellas: 1\n",
      "[5]\n"
     ]
    },
    {
     "data": {
      "image/png": "[encoded data removed]",
      "text/plain": [
       "<Figure size 576x288 with 1 Axes>"
      ]
     },
     "metadata": {
      "needs_background": "light"
     },
     "output_type": "display_data"
    }
   ],
   "source": [
    "estrellas=perfecto_home['stars']\n",
    "print(\"Cantidad de estrellas:\", len(perfecto_home['stars'].unique()))\n",
    "print(perfecto_home['stars'].unique())\n",
    "plt.figure(figsize=(8,4))\n",
    "#tipologia.hist()\n",
    "plt.xticks(rotation=0)\n",
    "cuento_estrellas=perfecto_home['stars'].value_counts()\n",
    "cuento_estrellas\n",
    "#sns.set_theme(style=\"darkgrid\")\n",
    "ax = sns.countplot(x='stars', data=perfecto_home,palette=[\"orange\"])\n",
    "plt.grid()"
   ]
  },
  {
   "cell_type": "code",
   "execution_count": 68,
   "metadata": {},
   "outputs": [],
   "source": [
    "criticasperfectas=[]\n",
    "for i in perfecto_home.review_body:\n",
    "    criticas=i\n",
    "    criticasperfectas.append(criticas)"
   ]
  },
  {
   "cell_type": "markdown",
   "metadata": {},
   "source": [
    "### Esta lista se deja comentada, es la lista de criticas perfectas."
   ]
  },
  {
   "cell_type": "code",
   "execution_count": 103,
   "metadata": {},
   "outputs": [],
   "source": [
    "#criticasperfectas"
   ]
  },
  {
   "cell_type": "code",
   "execution_count": 70,
   "metadata": {},
   "outputs": [
    {
     "data": {
      "text/plain": [
       "5510"
      ]
     },
     "execution_count": 70,
     "metadata": {},
     "output_type": "execute_result"
    }
   ],
   "source": [
    "len(criticasperfectas)"
   ]
  },
  {
   "cell_type": "code",
   "execution_count": 71,
   "metadata": {},
   "outputs": [],
   "source": [
    "criticas_perfectas_tokenizadas=[]\n",
    "for i in criticasperfectas:## Osea la lista entera de criticas\n",
    "    j=nltk.tokenize.word_tokenize(i)\n",
    "    criticas_perfectas_tokenizadas.append(j)"
   ]
  },
  {
   "cell_type": "code",
   "execution_count": 102,
   "metadata": {},
   "outputs": [],
   "source": [
    "#criticas_perfectas_tokenizadas"
   ]
  },
  {
   "cell_type": "code",
   "execution_count": 73,
   "metadata": {},
   "outputs": [],
   "source": [
    "palabras_criticas_perfectas_tokenizadas = list(itertools.chain(*criticas_perfectas_tokenizadas))"
   ]
  },
  {
   "cell_type": "code",
   "execution_count": 77,
   "metadata": {},
   "outputs": [
    {
     "data": {
      "text/plain": [
       "149059"
      ]
     },
     "execution_count": 77,
     "metadata": {},
     "output_type": "execute_result"
    }
   ],
   "source": [
    "len(palabras_criticas_perfectas_tokenizadas)"
   ]
  },
  {
   "cell_type": "code",
   "execution_count": 75,
   "metadata": {},
   "outputs": [],
   "source": [
    "filtered_sentence_perfecto=[]\n",
    "for w in palabras_criticas_perfectas_tokenizadas:\n",
    "    if w not in stop_words:\n",
    "        filtered_sentence_perfecto.append(w)"
   ]
  },
  {
   "cell_type": "code",
   "execution_count": 78,
   "metadata": {},
   "outputs": [
    {
     "data": {
      "text/plain": [
       "90577"
      ]
     },
     "execution_count": 78,
     "metadata": {},
     "output_type": "execute_result"
    }
   ],
   "source": [
    "len(filtered_sentence_perfecto)"
   ]
  },
  {
   "cell_type": "code",
   "execution_count": 101,
   "metadata": {},
   "outputs": [],
   "source": [
    "df_de_palabras_cinco_estrellas = DataFrame(filtered_sentence_perfecto,columns=['Palabras'])\n",
    "#df_de_palabras_cinco_estrellas"
   ]
  },
  {
   "cell_type": "code",
   "execution_count": 80,
   "metadata": {},
   "outputs": [],
   "source": [
    "df_de_palabras_cinco_estrellas=df_de_palabras_cinco_estrellas.groupby([\"Palabras\"]).size().reset_index(name=\"Frecuencia\")"
   ]
  },
  {
   "cell_type": "code",
   "execution_count": 100,
   "metadata": {},
   "outputs": [],
   "source": [
    "#df_de_palabras_cinco_estrellas.head(5)"
   ]
  },
  {
   "cell_type": "code",
   "execution_count": 83,
   "metadata": {},
   "outputs": [],
   "source": [
    "df_de_palabras_cinco_estrellas=df_de_palabras_cinco_estrellas.sort_values(by=\"Frecuencia\",ascending=False)"
   ]
  },
  {
   "cell_type": "code",
   "execution_count": 99,
   "metadata": {},
   "outputs": [],
   "source": [
    "#df_de_palabras_cinco_estrellas.head(30)"
   ]
  },
  {
   "cell_type": "code",
   "execution_count": 86,
   "metadata": {},
   "outputs": [],
   "source": [
    "ps=PorterStemmer()\n",
    "# la lista es: filtered_sentence_malisimo\n",
    "filtered_sentence_perfecto_stemmizado=[]\n",
    "for w in filtered_sentence_perfecto:\n",
    "    j=ps.stem(w)\n",
    "    filtered_sentence_perfecto_stemmizado.append(j)"
   ]
  },
  {
   "cell_type": "code",
   "execution_count": 98,
   "metadata": {},
   "outputs": [],
   "source": [
    "df_de_palabras_cinco_estrellas_stemmizado = DataFrame(filtered_sentence_perfecto_stemmizado,columns=['Palabras'])\n",
    "#df_de_palabras_cinco_estrellas_stemmizado"
   ]
  },
  {
   "cell_type": "code",
   "execution_count": 88,
   "metadata": {},
   "outputs": [],
   "source": [
    "df_de_palabras_cinco_estrellas_stemmizado=df_de_palabras_cinco_estrellas_stemmizado.groupby([\"Palabras\"]).size().reset_index(name=\"Frecuencia\")"
   ]
  },
  {
   "cell_type": "code",
   "execution_count": 90,
   "metadata": {},
   "outputs": [],
   "source": [
    "df_de_palabras_cinco_estrellas_stemmizado=df_de_palabras_cinco_estrellas_stemmizado.sort_values(by=\"Frecuencia\",ascending=False)"
   ]
  },
  {
   "cell_type": "code",
   "execution_count": 93,
   "metadata": {},
   "outputs": [
    {
     "data": {
      "text/html": [
       "<div>\n",
       "<style scoped>\n",
       "    .dataframe tbody tr th:only-of-type {\n",
       "        vertical-align: middle;\n",
       "    }\n",
       "\n",
       "    .dataframe tbody tr th {\n",
       "        vertical-align: top;\n",
       "    }\n",
       "\n",
       "    .dataframe thead th {\n",
       "        text-align: right;\n",
       "    }\n",
       "</style>\n",
       "<table border=\"1\" class=\"dataframe\">\n",
       "  <thead>\n",
       "    <tr style=\"text-align: right;\">\n",
       "      <th></th>\n",
       "      <th>Palabras</th>\n",
       "      <th>Frecuencia</th>\n",
       "    </tr>\n",
       "  </thead>\n",
       "  <tbody>\n",
       "    <tr>\n",
       "      <th>21</th>\n",
       "      <td>.</td>\n",
       "      <td>8596</td>\n",
       "    </tr>\n",
       "    <tr>\n",
       "      <th>7</th>\n",
       "      <td>,</td>\n",
       "      <td>5957</td>\n",
       "    </tr>\n",
       "    <tr>\n",
       "      <th>1194</th>\n",
       "      <td>bien</td>\n",
       "      <td>1321</td>\n",
       "    </tr>\n",
       "    <tr>\n",
       "      <th>1315</th>\n",
       "      <td>buena</td>\n",
       "      <td>1032</td>\n",
       "    </tr>\n",
       "    <tr>\n",
       "      <th>1433</th>\n",
       "      <td>calidad</td>\n",
       "      <td>1016</td>\n",
       "    </tr>\n",
       "    <tr>\n",
       "      <th>5397</th>\n",
       "      <td>muy</td>\n",
       "      <td>811</td>\n",
       "    </tr>\n",
       "    <tr>\n",
       "      <th>0</th>\n",
       "      <td>!</td>\n",
       "      <td>746</td>\n",
       "    </tr>\n",
       "    <tr>\n",
       "      <th>254</th>\n",
       "      <td>Es</td>\n",
       "      <td>742</td>\n",
       "    </tr>\n",
       "    <tr>\n",
       "      <th>5938</th>\n",
       "      <td>perfecto</td>\n",
       "      <td>663</td>\n",
       "    </tr>\n",
       "    <tr>\n",
       "      <th>6245</th>\n",
       "      <td>precio</td>\n",
       "      <td>619</td>\n",
       "    </tr>\n",
       "    <tr>\n",
       "      <th>266</th>\n",
       "      <td>La</td>\n",
       "      <td>551</td>\n",
       "    </tr>\n",
       "    <tr>\n",
       "      <th>4923</th>\n",
       "      <td>luz</td>\n",
       "      <td>539</td>\n",
       "    </tr>\n",
       "    <tr>\n",
       "      <th>6367</th>\n",
       "      <td>producto</td>\n",
       "      <td>531</td>\n",
       "    </tr>\n",
       "    <tr>\n",
       "      <th>272</th>\n",
       "      <td>Me</td>\n",
       "      <td>527</td>\n",
       "    </tr>\n",
       "    <tr>\n",
       "      <th>1314</th>\n",
       "      <td>buen</td>\n",
       "      <td>516</td>\n",
       "    </tr>\n",
       "    <tr>\n",
       "      <th>252</th>\n",
       "      <td>El</td>\n",
       "      <td>482</td>\n",
       "    </tr>\n",
       "    <tr>\n",
       "      <th>1929</th>\n",
       "      <td>compra</td>\n",
       "      <td>437</td>\n",
       "    </tr>\n",
       "    <tr>\n",
       "      <th>268</th>\n",
       "      <td>Lo</td>\n",
       "      <td>400</td>\n",
       "    </tr>\n",
       "    <tr>\n",
       "      <th>6740</th>\n",
       "      <td>recomiendo</td>\n",
       "      <td>392</td>\n",
       "    </tr>\n",
       "    <tr>\n",
       "      <th>3983</th>\n",
       "      <td>genial</td>\n",
       "      <td>376</td>\n",
       "    </tr>\n",
       "    <tr>\n",
       "      <th>7602</th>\n",
       "      <td>tamaño</td>\n",
       "      <td>373</td>\n",
       "    </tr>\n",
       "    <tr>\n",
       "      <th>3922</th>\n",
       "      <td>fácil</td>\n",
       "      <td>373</td>\n",
       "    </tr>\n",
       "    <tr>\n",
       "      <th>1143</th>\n",
       "      <td>bastant</td>\n",
       "      <td>372</td>\n",
       "    </tr>\n",
       "    <tr>\n",
       "      <th>1262</th>\n",
       "      <td>bonito</td>\n",
       "      <td>365</td>\n",
       "    </tr>\n",
       "    <tr>\n",
       "      <th>5935</th>\n",
       "      <td>perfectament</td>\n",
       "      <td>317</td>\n",
       "    </tr>\n",
       "    <tr>\n",
       "      <th>6461</th>\n",
       "      <td>pued</td>\n",
       "      <td>316</td>\n",
       "    </tr>\n",
       "    <tr>\n",
       "      <th>5934</th>\n",
       "      <td>perfecta</td>\n",
       "      <td>309</td>\n",
       "    </tr>\n",
       "    <tr>\n",
       "      <th>1837</th>\n",
       "      <td>color</td>\n",
       "      <td>304</td>\n",
       "    </tr>\n",
       "    <tr>\n",
       "      <th>6526</th>\n",
       "      <td>queda</td>\n",
       "      <td>279</td>\n",
       "    </tr>\n",
       "    <tr>\n",
       "      <th>3823</th>\n",
       "      <td>foto</td>\n",
       "      <td>271</td>\n",
       "    </tr>\n",
       "    <tr>\n",
       "      <th>7293</th>\n",
       "      <td>si</td>\n",
       "      <td>267</td>\n",
       "    </tr>\n",
       "    <tr>\n",
       "      <th>7744</th>\n",
       "      <td>tiempo</td>\n",
       "      <td>264</td>\n",
       "    </tr>\n",
       "    <tr>\n",
       "      <th>1258</th>\n",
       "      <td>bonita</td>\n",
       "      <td>244</td>\n",
       "    </tr>\n",
       "    <tr>\n",
       "      <th>5120</th>\n",
       "      <td>mejor</td>\n",
       "      <td>238</td>\n",
       "    </tr>\n",
       "    <tr>\n",
       "      <th>4049</th>\n",
       "      <td>grand</td>\n",
       "      <td>233</td>\n",
       "    </tr>\n",
       "    <tr>\n",
       "      <th>7590</th>\n",
       "      <td>tal</td>\n",
       "      <td>233</td>\n",
       "    </tr>\n",
       "    <tr>\n",
       "      <th>7430</th>\n",
       "      <td>son</td>\n",
       "      <td>232</td>\n",
       "    </tr>\n",
       "    <tr>\n",
       "      <th>1320</th>\n",
       "      <td>bueno</td>\n",
       "      <td>230</td>\n",
       "    </tr>\n",
       "    <tr>\n",
       "      <th>2337</th>\n",
       "      <td>cumpl</td>\n",
       "      <td>230</td>\n",
       "    </tr>\n",
       "    <tr>\n",
       "      <th>290</th>\n",
       "      <td>Se</td>\n",
       "      <td>229</td>\n",
       "    </tr>\n",
       "    <tr>\n",
       "      <th>4146</th>\n",
       "      <td>hace</td>\n",
       "      <td>229</td>\n",
       "    </tr>\n",
       "    <tr>\n",
       "      <th>477</th>\n",
       "      <td>ademá</td>\n",
       "      <td>227</td>\n",
       "    </tr>\n",
       "    <tr>\n",
       "      <th>3893</th>\n",
       "      <td>funciona</td>\n",
       "      <td>221</td>\n",
       "    </tr>\n",
       "    <tr>\n",
       "      <th>7997</th>\n",
       "      <td>uso</td>\n",
       "      <td>220</td>\n",
       "    </tr>\n",
       "    <tr>\n",
       "      <th>277</th>\n",
       "      <td>No</td>\n",
       "      <td>219</td>\n",
       "    </tr>\n",
       "  </tbody>\n",
       "</table>\n",
       "</div>"
      ],
      "text/plain": [
       "          Palabras  Frecuencia\n",
       "21               .        8596\n",
       "7                ,        5957\n",
       "1194          bien        1321\n",
       "1315         buena        1032\n",
       "1433       calidad        1016\n",
       "5397           muy         811\n",
       "0                !         746\n",
       "254             Es         742\n",
       "5938      perfecto         663\n",
       "6245        precio         619\n",
       "266             La         551\n",
       "4923           luz         539\n",
       "6367      producto         531\n",
       "272             Me         527\n",
       "1314          buen         516\n",
       "252             El         482\n",
       "1929        compra         437\n",
       "268             Lo         400\n",
       "6740    recomiendo         392\n",
       "3983        genial         376\n",
       "7602        tamaño         373\n",
       "3922         fácil         373\n",
       "1143       bastant         372\n",
       "1262        bonito         365\n",
       "5935  perfectament         317\n",
       "6461          pued         316\n",
       "5934      perfecta         309\n",
       "1837         color         304\n",
       "6526         queda         279\n",
       "3823          foto         271\n",
       "7293            si         267\n",
       "7744        tiempo         264\n",
       "1258        bonita         244\n",
       "5120         mejor         238\n",
       "4049         grand         233\n",
       "7590           tal         233\n",
       "7430           son         232\n",
       "1320         bueno         230\n",
       "2337         cumpl         230\n",
       "290             Se         229\n",
       "4146          hace         229\n",
       "477          ademá         227\n",
       "3893      funciona         221\n",
       "7997           uso         220\n",
       "277             No         219"
      ]
     },
     "execution_count": 93,
     "metadata": {},
     "output_type": "execute_result"
    }
   ],
   "source": [
    "df_de_palabras_cinco_estrellas_stemmizado.head(45)"
   ]
  },
  {
   "cell_type": "markdown",
   "metadata": {},
   "source": [
    "### Quitamos palabras que no han sido eliminadas por el stop words"
   ]
  },
  {
   "cell_type": "code",
   "execution_count": 94,
   "metadata": {},
   "outputs": [],
   "source": [
    "df_de_palabras_cinco_estrellas_stemmizado=df_de_palabras_cinco_estrellas_stemmizado.drop([21,7,254,266,272,252,268],axis=0)"
   ]
  },
  {
   "cell_type": "code",
   "execution_count": 96,
   "metadata": {},
   "outputs": [
    {
     "data": {
      "text/html": [
       "<div>\n",
       "<style scoped>\n",
       "    .dataframe tbody tr th:only-of-type {\n",
       "        vertical-align: middle;\n",
       "    }\n",
       "\n",
       "    .dataframe tbody tr th {\n",
       "        vertical-align: top;\n",
       "    }\n",
       "\n",
       "    .dataframe thead th {\n",
       "        text-align: right;\n",
       "    }\n",
       "</style>\n",
       "<table border=\"1\" class=\"dataframe\">\n",
       "  <thead>\n",
       "    <tr style=\"text-align: right;\">\n",
       "      <th></th>\n",
       "      <th>Palabras</th>\n",
       "      <th>Frecuencia</th>\n",
       "    </tr>\n",
       "  </thead>\n",
       "  <tbody>\n",
       "    <tr>\n",
       "      <th>1194</th>\n",
       "      <td>bien</td>\n",
       "      <td>1321</td>\n",
       "    </tr>\n",
       "    <tr>\n",
       "      <th>1315</th>\n",
       "      <td>buena</td>\n",
       "      <td>1032</td>\n",
       "    </tr>\n",
       "    <tr>\n",
       "      <th>1433</th>\n",
       "      <td>calidad</td>\n",
       "      <td>1016</td>\n",
       "    </tr>\n",
       "    <tr>\n",
       "      <th>5397</th>\n",
       "      <td>muy</td>\n",
       "      <td>811</td>\n",
       "    </tr>\n",
       "    <tr>\n",
       "      <th>0</th>\n",
       "      <td>!</td>\n",
       "      <td>746</td>\n",
       "    </tr>\n",
       "    <tr>\n",
       "      <th>5938</th>\n",
       "      <td>perfecto</td>\n",
       "      <td>663</td>\n",
       "    </tr>\n",
       "    <tr>\n",
       "      <th>6245</th>\n",
       "      <td>precio</td>\n",
       "      <td>619</td>\n",
       "    </tr>\n",
       "    <tr>\n",
       "      <th>4923</th>\n",
       "      <td>luz</td>\n",
       "      <td>539</td>\n",
       "    </tr>\n",
       "    <tr>\n",
       "      <th>6367</th>\n",
       "      <td>producto</td>\n",
       "      <td>531</td>\n",
       "    </tr>\n",
       "    <tr>\n",
       "      <th>1314</th>\n",
       "      <td>buen</td>\n",
       "      <td>516</td>\n",
       "    </tr>\n",
       "    <tr>\n",
       "      <th>1929</th>\n",
       "      <td>compra</td>\n",
       "      <td>437</td>\n",
       "    </tr>\n",
       "    <tr>\n",
       "      <th>6740</th>\n",
       "      <td>recomiendo</td>\n",
       "      <td>392</td>\n",
       "    </tr>\n",
       "    <tr>\n",
       "      <th>3983</th>\n",
       "      <td>genial</td>\n",
       "      <td>376</td>\n",
       "    </tr>\n",
       "    <tr>\n",
       "      <th>7602</th>\n",
       "      <td>tamaño</td>\n",
       "      <td>373</td>\n",
       "    </tr>\n",
       "    <tr>\n",
       "      <th>3922</th>\n",
       "      <td>fácil</td>\n",
       "      <td>373</td>\n",
       "    </tr>\n",
       "    <tr>\n",
       "      <th>1143</th>\n",
       "      <td>bastant</td>\n",
       "      <td>372</td>\n",
       "    </tr>\n",
       "    <tr>\n",
       "      <th>1262</th>\n",
       "      <td>bonito</td>\n",
       "      <td>365</td>\n",
       "    </tr>\n",
       "    <tr>\n",
       "      <th>5935</th>\n",
       "      <td>perfectament</td>\n",
       "      <td>317</td>\n",
       "    </tr>\n",
       "    <tr>\n",
       "      <th>6461</th>\n",
       "      <td>pued</td>\n",
       "      <td>316</td>\n",
       "    </tr>\n",
       "    <tr>\n",
       "      <th>5934</th>\n",
       "      <td>perfecta</td>\n",
       "      <td>309</td>\n",
       "    </tr>\n",
       "    <tr>\n",
       "      <th>1837</th>\n",
       "      <td>color</td>\n",
       "      <td>304</td>\n",
       "    </tr>\n",
       "    <tr>\n",
       "      <th>6526</th>\n",
       "      <td>queda</td>\n",
       "      <td>279</td>\n",
       "    </tr>\n",
       "    <tr>\n",
       "      <th>3823</th>\n",
       "      <td>foto</td>\n",
       "      <td>271</td>\n",
       "    </tr>\n",
       "    <tr>\n",
       "      <th>7293</th>\n",
       "      <td>si</td>\n",
       "      <td>267</td>\n",
       "    </tr>\n",
       "    <tr>\n",
       "      <th>7744</th>\n",
       "      <td>tiempo</td>\n",
       "      <td>264</td>\n",
       "    </tr>\n",
       "    <tr>\n",
       "      <th>1258</th>\n",
       "      <td>bonita</td>\n",
       "      <td>244</td>\n",
       "    </tr>\n",
       "    <tr>\n",
       "      <th>5120</th>\n",
       "      <td>mejor</td>\n",
       "      <td>238</td>\n",
       "    </tr>\n",
       "    <tr>\n",
       "      <th>4049</th>\n",
       "      <td>grand</td>\n",
       "      <td>233</td>\n",
       "    </tr>\n",
       "    <tr>\n",
       "      <th>7590</th>\n",
       "      <td>tal</td>\n",
       "      <td>233</td>\n",
       "    </tr>\n",
       "    <tr>\n",
       "      <th>7430</th>\n",
       "      <td>son</td>\n",
       "      <td>232</td>\n",
       "    </tr>\n",
       "  </tbody>\n",
       "</table>\n",
       "</div>"
      ],
      "text/plain": [
       "          Palabras  Frecuencia\n",
       "1194          bien        1321\n",
       "1315         buena        1032\n",
       "1433       calidad        1016\n",
       "5397           muy         811\n",
       "0                !         746\n",
       "5938      perfecto         663\n",
       "6245        precio         619\n",
       "4923           luz         539\n",
       "6367      producto         531\n",
       "1314          buen         516\n",
       "1929        compra         437\n",
       "6740    recomiendo         392\n",
       "3983        genial         376\n",
       "7602        tamaño         373\n",
       "3922         fácil         373\n",
       "1143       bastant         372\n",
       "1262        bonito         365\n",
       "5935  perfectament         317\n",
       "6461          pued         316\n",
       "5934      perfecta         309\n",
       "1837         color         304\n",
       "6526         queda         279\n",
       "3823          foto         271\n",
       "7293            si         267\n",
       "7744        tiempo         264\n",
       "1258        bonita         244\n",
       "5120         mejor         238\n",
       "4049         grand         233\n",
       "7590           tal         233\n",
       "7430           son         232"
      ]
     },
     "execution_count": 96,
     "metadata": {},
     "output_type": "execute_result"
    }
   ],
   "source": [
    "df_de_palabras_cinco_estrellas_stemmizado.head(30)"
   ]
  },
  {
   "cell_type": "markdown",
   "metadata": {},
   "source": [
    "## Que palabras fueron las más usadas para las críticas de 5 estrellas?"
   ]
  },
  {
   "cell_type": "code",
   "execution_count": 97,
   "metadata": {},
   "outputs": [
    {
     "data": {
      "image/png": "[encoded data removed]",
      "text/plain": [
       "<Figure size 1080x576 with 1 Axes>"
      ]
     },
     "metadata": {
      "needs_background": "light"
     },
     "output_type": "display_data"
    }
   ],
   "source": [
    "plt.figure(figsize = (15,8))\n",
    "plot = sns.barplot(x  = df_de_palabras_cinco_estrellas_stemmizado.iloc[:30].Palabras, y = df_de_palabras_cinco_estrellas_stemmizado.iloc[:30].Frecuencia)\n",
    "for item in plot.get_xticklabels():\n",
    "    item.set_rotation(90)\n",
    "plt.grid()\n",
    "plt.title('Palabras más usadas para reviews de 5 estrellas',fontsize=20)\n",
    "plt.show()"
   ]
  },
  {
   "cell_type": "markdown",
   "metadata": {},
   "source": [
    "## Conclusiones:\n",
    "### Análisis del gráfico anterior:\n",
    "> Vemos que la palabras más usadas son: \"bien\", \"buena\", \"calidad\", \"perfecto\", \"precio\". lo que es lógico para describir una buena crítica.\n",
    "\n",
    "> También vemos que está presente el signo de exclamación \"!\". Que evidentemente se usa para describir algo fuerte, para darle énfasis a las emociones. En este caso, felicidad, gratitud, conformidad."
   ]
  },
  {
   "cell_type": "code",
   "execution_count": null,
   "metadata": {},
   "outputs": [],
   "source": []
  }
 ],
 "metadata": {
  "kernelspec": {
   "display_name": "Python 3",
   "language": "python",
   "name": "python3"
  },
  "language_info": {
   "codemirror_mode": {
    "name": "ipython",
    "version": 3
   },
   "file_extension": ".py",
   "mimetype": "text/x-python",
   "name": "python",
   "nbconvert_exporter": "python",
   "pygments_lexer": "ipython3",
   "version": "3.7.6"
  }
 },
 "nbformat": 4,
 "nbformat_minor": 4
}
